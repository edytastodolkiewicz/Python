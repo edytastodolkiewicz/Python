{
 "cells": [
  {
   "cell_type": "markdown",
   "metadata": {},
   "source": [
    "# Zadanie Domowe"
   ]
  },
  {
   "cell_type": "markdown",
   "metadata": {},
   "source": [
    "2. Klasyfikacja grzybów (https://archive.ics.uci.edu/ml/datasets/Mushroom)\n",
    "Przy użyciu danych mushrooms.csv zbuduj następujące modele: AdaBoost, XGBoost, LightGBM oraz CatBoost. Porównaj ich wyniki. Spróbuj ulepszyć wyniki każdego z wariantów poprzed dostrojenie parametrów - skorzystaj z dokumentacji wymienionych metod. "
   ]
  },
  {
   "cell_type": "code",
   "execution_count": 81,
   "metadata": {},
   "outputs": [],
   "source": [
    "import pandas as pd\n",
    "import numpy as np\n",
    "import matplotlib.pyplot as plt\n",
    "%matplotlib inline"
   ]
  },
  {
   "cell_type": "code",
   "execution_count": 119,
   "metadata": {},
   "outputs": [],
   "source": [
    "df = pd.read_csv(\"mushrooms.csv\")"
   ]
  },
  {
   "cell_type": "code",
   "execution_count": 83,
   "metadata": {},
   "outputs": [
    {
     "data": {
      "text/plain": [
       "(8124, 23)"
      ]
     },
     "execution_count": 83,
     "metadata": {},
     "output_type": "execute_result"
    }
   ],
   "source": [
    "df.shape"
   ]
  },
  {
   "cell_type": "code",
   "execution_count": 84,
   "metadata": {},
   "outputs": [
    {
     "data": {
      "text/plain": [
       "class                       0\n",
       "cap-shape                   0\n",
       "cap-surface                 0\n",
       "cap-color                   0\n",
       "bruises                     0\n",
       "odor                        0\n",
       "gill-attachment             0\n",
       "gill-spacing                0\n",
       "gill-size                   0\n",
       "gill-color                  0\n",
       "stalk-shape                 0\n",
       "stalk-root                  0\n",
       "stalk-surface-above-ring    0\n",
       "stalk-surface-below-ring    0\n",
       "stalk-color-above-ring      0\n",
       "stalk-color-below-ring      0\n",
       "veil-type                   0\n",
       "veil-color                  0\n",
       "ring-number                 0\n",
       "ring-type                   0\n",
       "spore-print-color           0\n",
       "population                  0\n",
       "habitat                     0\n",
       "dtype: int64"
      ]
     },
     "execution_count": 84,
     "metadata": {},
     "output_type": "execute_result"
    }
   ],
   "source": [
    "df.isna().sum()"
   ]
  },
  {
   "cell_type": "code",
   "execution_count": 85,
   "metadata": {},
   "outputs": [
    {
     "name": "stdout",
     "output_type": "stream",
     "text": [
      "<class 'pandas.core.frame.DataFrame'>\n",
      "RangeIndex: 8124 entries, 0 to 8123\n",
      "Data columns (total 23 columns):\n",
      " #   Column                    Non-Null Count  Dtype \n",
      "---  ------                    --------------  ----- \n",
      " 0   class                     8124 non-null   object\n",
      " 1   cap-shape                 8124 non-null   object\n",
      " 2   cap-surface               8124 non-null   object\n",
      " 3   cap-color                 8124 non-null   object\n",
      " 4   bruises                   8124 non-null   object\n",
      " 5   odor                      8124 non-null   object\n",
      " 6   gill-attachment           8124 non-null   object\n",
      " 7   gill-spacing              8124 non-null   object\n",
      " 8   gill-size                 8124 non-null   object\n",
      " 9   gill-color                8124 non-null   object\n",
      " 10  stalk-shape               8124 non-null   object\n",
      " 11  stalk-root                8124 non-null   object\n",
      " 12  stalk-surface-above-ring  8124 non-null   object\n",
      " 13  stalk-surface-below-ring  8124 non-null   object\n",
      " 14  stalk-color-above-ring    8124 non-null   object\n",
      " 15  stalk-color-below-ring    8124 non-null   object\n",
      " 16  veil-type                 8124 non-null   object\n",
      " 17  veil-color                8124 non-null   object\n",
      " 18  ring-number               8124 non-null   object\n",
      " 19  ring-type                 8124 non-null   object\n",
      " 20  spore-print-color         8124 non-null   object\n",
      " 21  population                8124 non-null   object\n",
      " 22  habitat                   8124 non-null   object\n",
      "dtypes: object(23)\n",
      "memory usage: 1.4+ MB\n"
     ]
    }
   ],
   "source": [
    "df.info()"
   ]
  },
  {
   "cell_type": "code",
   "execution_count": 86,
   "metadata": {},
   "outputs": [
    {
     "data": {
      "text/html": [
       "<div>\n",
       "<style scoped>\n",
       "    .dataframe tbody tr th:only-of-type {\n",
       "        vertical-align: middle;\n",
       "    }\n",
       "\n",
       "    .dataframe tbody tr th {\n",
       "        vertical-align: top;\n",
       "    }\n",
       "\n",
       "    .dataframe thead th {\n",
       "        text-align: right;\n",
       "    }\n",
       "</style>\n",
       "<table border=\"1\" class=\"dataframe\">\n",
       "  <thead>\n",
       "    <tr style=\"text-align: right;\">\n",
       "      <th></th>\n",
       "      <th>class</th>\n",
       "      <th>cap-shape</th>\n",
       "      <th>cap-surface</th>\n",
       "      <th>cap-color</th>\n",
       "      <th>bruises</th>\n",
       "      <th>odor</th>\n",
       "      <th>gill-attachment</th>\n",
       "      <th>gill-spacing</th>\n",
       "      <th>gill-size</th>\n",
       "      <th>gill-color</th>\n",
       "      <th>...</th>\n",
       "      <th>stalk-surface-below-ring</th>\n",
       "      <th>stalk-color-above-ring</th>\n",
       "      <th>stalk-color-below-ring</th>\n",
       "      <th>veil-type</th>\n",
       "      <th>veil-color</th>\n",
       "      <th>ring-number</th>\n",
       "      <th>ring-type</th>\n",
       "      <th>spore-print-color</th>\n",
       "      <th>population</th>\n",
       "      <th>habitat</th>\n",
       "    </tr>\n",
       "  </thead>\n",
       "  <tbody>\n",
       "    <tr>\n",
       "      <th>0</th>\n",
       "      <td>p</td>\n",
       "      <td>x</td>\n",
       "      <td>s</td>\n",
       "      <td>n</td>\n",
       "      <td>t</td>\n",
       "      <td>p</td>\n",
       "      <td>f</td>\n",
       "      <td>c</td>\n",
       "      <td>n</td>\n",
       "      <td>k</td>\n",
       "      <td>...</td>\n",
       "      <td>s</td>\n",
       "      <td>w</td>\n",
       "      <td>w</td>\n",
       "      <td>p</td>\n",
       "      <td>w</td>\n",
       "      <td>o</td>\n",
       "      <td>p</td>\n",
       "      <td>k</td>\n",
       "      <td>s</td>\n",
       "      <td>u</td>\n",
       "    </tr>\n",
       "    <tr>\n",
       "      <th>1</th>\n",
       "      <td>e</td>\n",
       "      <td>x</td>\n",
       "      <td>s</td>\n",
       "      <td>y</td>\n",
       "      <td>t</td>\n",
       "      <td>a</td>\n",
       "      <td>f</td>\n",
       "      <td>c</td>\n",
       "      <td>b</td>\n",
       "      <td>k</td>\n",
       "      <td>...</td>\n",
       "      <td>s</td>\n",
       "      <td>w</td>\n",
       "      <td>w</td>\n",
       "      <td>p</td>\n",
       "      <td>w</td>\n",
       "      <td>o</td>\n",
       "      <td>p</td>\n",
       "      <td>n</td>\n",
       "      <td>n</td>\n",
       "      <td>g</td>\n",
       "    </tr>\n",
       "    <tr>\n",
       "      <th>2</th>\n",
       "      <td>e</td>\n",
       "      <td>b</td>\n",
       "      <td>s</td>\n",
       "      <td>w</td>\n",
       "      <td>t</td>\n",
       "      <td>l</td>\n",
       "      <td>f</td>\n",
       "      <td>c</td>\n",
       "      <td>b</td>\n",
       "      <td>n</td>\n",
       "      <td>...</td>\n",
       "      <td>s</td>\n",
       "      <td>w</td>\n",
       "      <td>w</td>\n",
       "      <td>p</td>\n",
       "      <td>w</td>\n",
       "      <td>o</td>\n",
       "      <td>p</td>\n",
       "      <td>n</td>\n",
       "      <td>n</td>\n",
       "      <td>m</td>\n",
       "    </tr>\n",
       "    <tr>\n",
       "      <th>3</th>\n",
       "      <td>p</td>\n",
       "      <td>x</td>\n",
       "      <td>y</td>\n",
       "      <td>w</td>\n",
       "      <td>t</td>\n",
       "      <td>p</td>\n",
       "      <td>f</td>\n",
       "      <td>c</td>\n",
       "      <td>n</td>\n",
       "      <td>n</td>\n",
       "      <td>...</td>\n",
       "      <td>s</td>\n",
       "      <td>w</td>\n",
       "      <td>w</td>\n",
       "      <td>p</td>\n",
       "      <td>w</td>\n",
       "      <td>o</td>\n",
       "      <td>p</td>\n",
       "      <td>k</td>\n",
       "      <td>s</td>\n",
       "      <td>u</td>\n",
       "    </tr>\n",
       "    <tr>\n",
       "      <th>4</th>\n",
       "      <td>e</td>\n",
       "      <td>x</td>\n",
       "      <td>s</td>\n",
       "      <td>g</td>\n",
       "      <td>f</td>\n",
       "      <td>n</td>\n",
       "      <td>f</td>\n",
       "      <td>w</td>\n",
       "      <td>b</td>\n",
       "      <td>k</td>\n",
       "      <td>...</td>\n",
       "      <td>s</td>\n",
       "      <td>w</td>\n",
       "      <td>w</td>\n",
       "      <td>p</td>\n",
       "      <td>w</td>\n",
       "      <td>o</td>\n",
       "      <td>e</td>\n",
       "      <td>n</td>\n",
       "      <td>a</td>\n",
       "      <td>g</td>\n",
       "    </tr>\n",
       "  </tbody>\n",
       "</table>\n",
       "<p>5 rows × 23 columns</p>\n",
       "</div>"
      ],
      "text/plain": [
       "  class cap-shape cap-surface cap-color bruises odor gill-attachment  \\\n",
       "0     p         x           s         n       t    p               f   \n",
       "1     e         x           s         y       t    a               f   \n",
       "2     e         b           s         w       t    l               f   \n",
       "3     p         x           y         w       t    p               f   \n",
       "4     e         x           s         g       f    n               f   \n",
       "\n",
       "  gill-spacing gill-size gill-color  ... stalk-surface-below-ring  \\\n",
       "0            c         n          k  ...                        s   \n",
       "1            c         b          k  ...                        s   \n",
       "2            c         b          n  ...                        s   \n",
       "3            c         n          n  ...                        s   \n",
       "4            w         b          k  ...                        s   \n",
       "\n",
       "  stalk-color-above-ring stalk-color-below-ring veil-type veil-color  \\\n",
       "0                      w                      w         p          w   \n",
       "1                      w                      w         p          w   \n",
       "2                      w                      w         p          w   \n",
       "3                      w                      w         p          w   \n",
       "4                      w                      w         p          w   \n",
       "\n",
       "  ring-number ring-type spore-print-color population habitat  \n",
       "0           o         p                 k          s       u  \n",
       "1           o         p                 n          n       g  \n",
       "2           o         p                 n          n       m  \n",
       "3           o         p                 k          s       u  \n",
       "4           o         e                 n          a       g  \n",
       "\n",
       "[5 rows x 23 columns]"
      ]
     },
     "execution_count": 86,
     "metadata": {},
     "output_type": "execute_result"
    }
   ],
   "source": [
    "df.head()"
   ]
  },
  {
   "cell_type": "code",
   "execution_count": 87,
   "metadata": {},
   "outputs": [
    {
     "data": {
      "text/html": [
       "<div>\n",
       "<style scoped>\n",
       "    .dataframe tbody tr th:only-of-type {\n",
       "        vertical-align: middle;\n",
       "    }\n",
       "\n",
       "    .dataframe tbody tr th {\n",
       "        vertical-align: top;\n",
       "    }\n",
       "\n",
       "    .dataframe thead th {\n",
       "        text-align: right;\n",
       "    }\n",
       "</style>\n",
       "<table border=\"1\" class=\"dataframe\">\n",
       "  <thead>\n",
       "    <tr style=\"text-align: right;\">\n",
       "      <th></th>\n",
       "      <th>class</th>\n",
       "      <th>cap-shape</th>\n",
       "      <th>cap-surface</th>\n",
       "      <th>cap-color</th>\n",
       "      <th>bruises</th>\n",
       "      <th>odor</th>\n",
       "      <th>gill-attachment</th>\n",
       "      <th>gill-spacing</th>\n",
       "      <th>gill-size</th>\n",
       "      <th>gill-color</th>\n",
       "      <th>...</th>\n",
       "      <th>stalk-surface-below-ring</th>\n",
       "      <th>stalk-color-above-ring</th>\n",
       "      <th>stalk-color-below-ring</th>\n",
       "      <th>veil-type</th>\n",
       "      <th>veil-color</th>\n",
       "      <th>ring-number</th>\n",
       "      <th>ring-type</th>\n",
       "      <th>spore-print-color</th>\n",
       "      <th>population</th>\n",
       "      <th>habitat</th>\n",
       "    </tr>\n",
       "  </thead>\n",
       "  <tbody>\n",
       "    <tr>\n",
       "      <th>count</th>\n",
       "      <td>8124</td>\n",
       "      <td>8124</td>\n",
       "      <td>8124</td>\n",
       "      <td>8124</td>\n",
       "      <td>8124</td>\n",
       "      <td>8124</td>\n",
       "      <td>8124</td>\n",
       "      <td>8124</td>\n",
       "      <td>8124</td>\n",
       "      <td>8124</td>\n",
       "      <td>...</td>\n",
       "      <td>8124</td>\n",
       "      <td>8124</td>\n",
       "      <td>8124</td>\n",
       "      <td>8124</td>\n",
       "      <td>8124</td>\n",
       "      <td>8124</td>\n",
       "      <td>8124</td>\n",
       "      <td>8124</td>\n",
       "      <td>8124</td>\n",
       "      <td>8124</td>\n",
       "    </tr>\n",
       "    <tr>\n",
       "      <th>unique</th>\n",
       "      <td>2</td>\n",
       "      <td>6</td>\n",
       "      <td>4</td>\n",
       "      <td>10</td>\n",
       "      <td>2</td>\n",
       "      <td>9</td>\n",
       "      <td>2</td>\n",
       "      <td>2</td>\n",
       "      <td>2</td>\n",
       "      <td>12</td>\n",
       "      <td>...</td>\n",
       "      <td>4</td>\n",
       "      <td>9</td>\n",
       "      <td>9</td>\n",
       "      <td>1</td>\n",
       "      <td>4</td>\n",
       "      <td>3</td>\n",
       "      <td>5</td>\n",
       "      <td>9</td>\n",
       "      <td>6</td>\n",
       "      <td>7</td>\n",
       "    </tr>\n",
       "    <tr>\n",
       "      <th>top</th>\n",
       "      <td>e</td>\n",
       "      <td>x</td>\n",
       "      <td>y</td>\n",
       "      <td>n</td>\n",
       "      <td>f</td>\n",
       "      <td>n</td>\n",
       "      <td>f</td>\n",
       "      <td>c</td>\n",
       "      <td>b</td>\n",
       "      <td>b</td>\n",
       "      <td>...</td>\n",
       "      <td>s</td>\n",
       "      <td>w</td>\n",
       "      <td>w</td>\n",
       "      <td>p</td>\n",
       "      <td>w</td>\n",
       "      <td>o</td>\n",
       "      <td>p</td>\n",
       "      <td>w</td>\n",
       "      <td>v</td>\n",
       "      <td>d</td>\n",
       "    </tr>\n",
       "    <tr>\n",
       "      <th>freq</th>\n",
       "      <td>4208</td>\n",
       "      <td>3656</td>\n",
       "      <td>3244</td>\n",
       "      <td>2284</td>\n",
       "      <td>4748</td>\n",
       "      <td>3528</td>\n",
       "      <td>7914</td>\n",
       "      <td>6812</td>\n",
       "      <td>5612</td>\n",
       "      <td>1728</td>\n",
       "      <td>...</td>\n",
       "      <td>4936</td>\n",
       "      <td>4464</td>\n",
       "      <td>4384</td>\n",
       "      <td>8124</td>\n",
       "      <td>7924</td>\n",
       "      <td>7488</td>\n",
       "      <td>3968</td>\n",
       "      <td>2388</td>\n",
       "      <td>4040</td>\n",
       "      <td>3148</td>\n",
       "    </tr>\n",
       "  </tbody>\n",
       "</table>\n",
       "<p>4 rows × 23 columns</p>\n",
       "</div>"
      ],
      "text/plain": [
       "       class cap-shape cap-surface cap-color bruises  odor gill-attachment  \\\n",
       "count   8124      8124        8124      8124    8124  8124            8124   \n",
       "unique     2         6           4        10       2     9               2   \n",
       "top        e         x           y         n       f     n               f   \n",
       "freq    4208      3656        3244      2284    4748  3528            7914   \n",
       "\n",
       "       gill-spacing gill-size gill-color  ... stalk-surface-below-ring  \\\n",
       "count          8124      8124       8124  ...                     8124   \n",
       "unique            2         2         12  ...                        4   \n",
       "top               c         b          b  ...                        s   \n",
       "freq           6812      5612       1728  ...                     4936   \n",
       "\n",
       "       stalk-color-above-ring stalk-color-below-ring veil-type veil-color  \\\n",
       "count                    8124                   8124      8124       8124   \n",
       "unique                      9                      9         1          4   \n",
       "top                         w                      w         p          w   \n",
       "freq                     4464                   4384      8124       7924   \n",
       "\n",
       "       ring-number ring-type spore-print-color population habitat  \n",
       "count         8124      8124              8124       8124    8124  \n",
       "unique           3         5                 9          6       7  \n",
       "top              o         p                 w          v       d  \n",
       "freq          7488      3968              2388       4040    3148  \n",
       "\n",
       "[4 rows x 23 columns]"
      ]
     },
     "execution_count": 87,
     "metadata": {},
     "output_type": "execute_result"
    }
   ],
   "source": [
    "df.describe()"
   ]
  },
  {
   "cell_type": "code",
   "execution_count": 120,
   "metadata": {},
   "outputs": [],
   "source": [
    "features = df.drop(\"class\", axis = 1)\n",
    "features_dummies = pd.get_dummies(df.drop(\"class\", axis = 1))\n",
    "target = df[\"class\"]"
   ]
  },
  {
   "cell_type": "code",
   "execution_count": 121,
   "metadata": {},
   "outputs": [],
   "source": [
    "target = target.replace(('e', 'p'), (1, 0))"
   ]
  },
  {
   "cell_type": "code",
   "execution_count": 122,
   "metadata": {},
   "outputs": [
    {
     "data": {
      "text/plain": [
       "0       0\n",
       "1       1\n",
       "2       1\n",
       "3       0\n",
       "4       1\n",
       "       ..\n",
       "8119    1\n",
       "8120    1\n",
       "8121    1\n",
       "8122    0\n",
       "8123    1\n",
       "Name: class, Length: 8124, dtype: int64"
      ]
     },
     "execution_count": 122,
     "metadata": {},
     "output_type": "execute_result"
    }
   ],
   "source": [
    "target"
   ]
  },
  {
   "cell_type": "code",
   "execution_count": 136,
   "metadata": {},
   "outputs": [],
   "source": [
    "from sklearn.model_selection import train_test_split\n",
    "X_train, X_test, y_train, y_test = train_test_split(features_dummies, target, test_size = 0.8, random_state = 1, stratify = target)"
   ]
  },
  {
   "cell_type": "code",
   "execution_count": 131,
   "metadata": {},
   "outputs": [],
   "source": [
    "from sklearn import metrics\n",
    "from sklearn.metrics import classification_report"
   ]
  },
  {
   "cell_type": "code",
   "execution_count": 132,
   "metadata": {},
   "outputs": [],
   "source": [
    "def evaluate(prediction, y_test): \n",
    "    result = classification_report(y_test, prediction, output_dict = True)\n",
    "    f1 = result['1']['f1-score']\n",
    "    accuracy = result['accuracy']\n",
    "    performance_data= {'f1-score':round(f1, 4),\n",
    "                      'accuracy':round(accuracy, 4)}\n",
    "    return performance_data"
   ]
  },
  {
   "cell_type": "markdown",
   "metadata": {},
   "source": [
    "## Logistic Regression"
   ]
  },
  {
   "cell_type": "code",
   "execution_count": 162,
   "metadata": {},
   "outputs": [
    {
     "data": {
      "text/plain": [
       "{'f1-score': 0.9991, 'accuracy': 0.9991}"
      ]
     },
     "execution_count": 162,
     "metadata": {},
     "output_type": "execute_result"
    }
   ],
   "source": [
    "from sklearn.linear_model import LogisticRegression\n",
    "lr = LogisticRegression(random_state = 1)\n",
    "lr.fit(X_train, y_train)\n",
    "lr_pred = lr.predict(X_test)\n",
    "lr_pr = evaluate(lr_pred, y_test)\n",
    "lr_pr"
   ]
  },
  {
   "cell_type": "code",
   "execution_count": 163,
   "metadata": {},
   "outputs": [],
   "source": [
    "from sklearn.model_selection import KFold\n",
    "kf = KFold(n_splits = 5, shuffle = True, random_state = 1)"
   ]
  },
  {
   "cell_type": "code",
   "execution_count": 164,
   "metadata": {},
   "outputs": [
    {
     "name": "stdout",
     "output_type": "stream",
     "text": [
      "{'C': 100}\n"
     ]
    },
    {
     "data": {
      "text/plain": [
       "{'f1-score': 1.0, 'accuracy': 1.0}"
      ]
     },
     "execution_count": 164,
     "metadata": {},
     "output_type": "execute_result"
    }
   ],
   "source": [
    "# l2 regularization + CV\n",
    "from sklearn.model_selection import GridSearchCV\n",
    "lr2 = LogisticRegression(random_state = 1)\n",
    "lr2_cv = GridSearchCV(lr2, {'C':[0.001, 0.01, 0.1, 1, 10, 100, 1000]}, cv = kf)\n",
    "lr2_cv.fit(X_train, y_train)\n",
    "print(lr2_cv.best_params_)\n",
    "lr2_cv_pred = lr2_cv.predict(X_test)\n",
    "lr2_cv_pr = evaluate(lr2_cv_pred, y_test)\n",
    "lr2_cv_pr"
   ]
  },
  {
   "cell_type": "code",
   "execution_count": 165,
   "metadata": {},
   "outputs": [
    {
     "name": "stdout",
     "output_type": "stream",
     "text": [
      "{'C': 100}\n"
     ]
    },
    {
     "data": {
      "text/plain": [
       "{'f1-score': 1.0, 'accuracy': 1.0}"
      ]
     },
     "execution_count": 165,
     "metadata": {},
     "output_type": "execute_result"
    }
   ],
   "source": [
    "# l1 regularization + CV\n",
    "lr3 = LogisticRegression(solver = 'liblinear', penalty = 'l1', random_state = 1)\n",
    "lr3_cv = GridSearchCV(lr3, {'C':[0.001, 0.01, 0.1, 1, 10, 100, 1000]}, cv = kf)\n",
    "lr3_cv.fit(X_train, y_train)\n",
    "print(lr3_cv.best_params_)\n",
    "lr3_cv_pred = lr3_cv.predict(X_test)\n",
    "lr3_cv_pr = evaluate(lr3_cv_pred, y_test)\n",
    "lr3_cv_pr"
   ]
  },
  {
   "cell_type": "markdown",
   "metadata": {},
   "source": [
    "## Decision Tree"
   ]
  },
  {
   "cell_type": "code",
   "execution_count": 141,
   "metadata": {},
   "outputs": [
    {
     "data": {
      "text/plain": [
       "{'f1-score': 0.9996, 'accuracy': 0.9995}"
      ]
     },
     "execution_count": 141,
     "metadata": {},
     "output_type": "execute_result"
    }
   ],
   "source": [
    "from sklearn.tree import DecisionTreeClassifier\n",
    "dtree = DecisionTreeClassifier(random_state = 1)\n",
    "dtree.fit(X_train, y_train)\n",
    "dtree_pred = dtree.predict(X_test)\n",
    "dtree_pr = evaluate(dtree_pred, y_test)\n",
    "dtree_pr"
   ]
  },
  {
   "cell_type": "code",
   "execution_count": 142,
   "metadata": {},
   "outputs": [
    {
     "data": {
      "text/plain": [
       "{'f1-score': 1.0, 'accuracy': 1.0}"
      ]
     },
     "execution_count": 142,
     "metadata": {},
     "output_type": "execute_result"
    }
   ],
   "source": [
    "# Decision Tree + RandomizedSearchCV\n",
    "from sklearn.model_selection import RandomizedSearchCV\n",
    "param_rand = {'max_features' : ['auto', 'sqrt'],\n",
    "              'min_samples_leaf': [1, 2, 4],\n",
    "              'min_samples_split': [2, 5, 10],\n",
    "              'max_depth' : np.arange(10, 100, 10)}\n",
    "dt_random = RandomizedSearchCV(estimator = DecisionTreeClassifier(random_state = 1), param_distributions = param_rand, n_iter = 100,\n",
    "                               cv = kf, random_state = 1, n_jobs = -1)\n",
    "dt_random.fit(X_train, y_train)\n",
    "dt_random_pred = dt_random.predict(X_test)\n",
    "dt_random_pr = evaluate(dt_random_pred, y_test)\n",
    "dt_random_pr"
   ]
  },
  {
   "cell_type": "code",
   "execution_count": 143,
   "metadata": {},
   "outputs": [
    {
     "data": {
      "text/plain": [
       "{'max_depth': 20,\n",
       " 'max_features': 'auto',\n",
       " 'min_samples_leaf': 1,\n",
       " 'min_samples_split': 2}"
      ]
     },
     "execution_count": 143,
     "metadata": {},
     "output_type": "execute_result"
    }
   ],
   "source": [
    "dt_cv.best_params_"
   ]
  },
  {
   "cell_type": "code",
   "execution_count": 144,
   "metadata": {},
   "outputs": [
    {
     "data": {
      "text/plain": [
       "{'f1-score': 1.0, 'accuracy': 1.0}"
      ]
     },
     "execution_count": 144,
     "metadata": {},
     "output_type": "execute_result"
    }
   ],
   "source": [
    "# Decision Tree + GridSearchCV\n",
    "param_grid = {'max_features' : ['auto', 'sqrt'],\n",
    "              'min_samples_leaf': [1, 2, 4],\n",
    "              'min_samples_split': [2, 5, 10],\n",
    "              'max_depth' : np.arange(10, 100, 10)}\n",
    "dt_cv = GridSearchCV(estimator = DecisionTreeClassifier(random_state=1), param_grid = param_grid, cv = kf, n_jobs = -1)\n",
    "dt_cv.fit(X_train, y_train)\n",
    "dt_cv_pred = dt_cv.predict(X_test)\n",
    "dt_cv_pr = evaluate(dt_cv_pred, y_test)\n",
    "dt_cv_pr"
   ]
  },
  {
   "cell_type": "code",
   "execution_count": 145,
   "metadata": {},
   "outputs": [
    {
     "data": {
      "text/plain": [
       "{'min_samples_split': 2,\n",
       " 'min_samples_leaf': 1,\n",
       " 'max_features': 'sqrt',\n",
       " 'max_depth': 60}"
      ]
     },
     "execution_count": 145,
     "metadata": {},
     "output_type": "execute_result"
    }
   ],
   "source": [
    "dt_random.best_params_"
   ]
  },
  {
   "cell_type": "code",
   "execution_count": 146,
   "metadata": {},
   "outputs": [
    {
     "data": {
      "text/plain": [
       "{'f1-score': 0.9996, 'accuracy': 0.9995}"
      ]
     },
     "execution_count": 146,
     "metadata": {},
     "output_type": "execute_result"
    }
   ],
   "source": [
    "# Decision Tree + BC\n",
    "from sklearn.ensemble import BaggingClassifier\n",
    "dtree_bc = BaggingClassifier(DecisionTreeClassifier(random_state = 1), random_state = 1)\n",
    "dtree_bc.fit(X_train, y_train)\n",
    "dtree_bc_pred = dtree_bc.predict(X_test)\n",
    "dtree_bc_pr = evaluate(dtree_bc_pred, y_test)\n",
    "dtree_bc_pr"
   ]
  },
  {
   "cell_type": "markdown",
   "metadata": {},
   "source": [
    "## Random Forest"
   ]
  },
  {
   "cell_type": "code",
   "execution_count": 147,
   "metadata": {},
   "outputs": [
    {
     "data": {
      "text/plain": [
       "{'f1-score': 1.0, 'accuracy': 1.0}"
      ]
     },
     "execution_count": 147,
     "metadata": {},
     "output_type": "execute_result"
    }
   ],
   "source": [
    "from sklearn.ensemble import RandomForestClassifier\n",
    "rf = RandomForestClassifier(n_estimators = 100, random_state = 1)\n",
    "rf.fit(X_train, y_train)\n",
    "rf_pred = rf.predict(X_test)\n",
    "rf_pr = evaluate(rf_pred, y_test)\n",
    "rf_pr"
   ]
  },
  {
   "cell_type": "code",
   "execution_count": 148,
   "metadata": {},
   "outputs": [
    {
     "data": {
      "text/plain": [
       "{'f1-score': 1.0, 'accuracy': 1.0}"
      ]
     },
     "execution_count": 148,
     "metadata": {},
     "output_type": "execute_result"
    }
   ],
   "source": [
    "# Random Forest + RandomizedSearchCV\n",
    "param_rand = {'n_estimators': np.arange(100,800,100),\n",
    "              'max_features' : ['auto', 'sqrt'],\n",
    "              'min_samples_leaf': [1,2,4],\n",
    "              'min_samples_split': [2, 5, 10],\n",
    "              'max_depth' : np.arange(10,100,10)}\n",
    "rf_random = RandomizedSearchCV(estimator = RandomForestClassifier(random_state = 1), param_distributions = param_rand, n_iter = 100,\n",
    "                               cv = kf, random_state = 1, n_jobs = -1)\n",
    "rf_random.fit(X_train, y_train)\n",
    "rf_random_pred = rf_random.predict(X_test)\n",
    "rf_random_pr = evaluate(rf_random_pred, y_test)\n",
    "rf_random_pr"
   ]
  },
  {
   "cell_type": "code",
   "execution_count": 149,
   "metadata": {},
   "outputs": [
    {
     "data": {
      "text/plain": [
       "{'n_estimators': 100,\n",
       " 'min_samples_split': 5,\n",
       " 'min_samples_leaf': 1,\n",
       " 'max_features': 'auto',\n",
       " 'max_depth': 40}"
      ]
     },
     "execution_count": 149,
     "metadata": {},
     "output_type": "execute_result"
    }
   ],
   "source": [
    "rf_random.best_params_"
   ]
  },
  {
   "cell_type": "code",
   "execution_count": 150,
   "metadata": {},
   "outputs": [],
   "source": [
    "# Random Forest + GridSearchCV - zajmuje duuużo czasu\n",
    "# param_grid = {'n_estimators': np.arange(100,800,100),\n",
    "#              'max_features' : ['auto', 'sqrt'],\n",
    "#              'min_samples_leaf': [1,2,4],\n",
    "#              'min_samples_split': [2, 5, 10],\n",
    "#              'max_depth' : np.arange(10,100,10)}\n",
    "# rf_cv = GridSearchCV(estimator = RandomForestClassifier(random_state = 1), param_grid = param_grid,\n",
    "#                               cv = kf, n_jobs = -1)\n",
    "# rf_cv.fit(X_train, y_train)\n",
    "# rf_cv_pred = rf_cv.predict(X_test)\n",
    "# rf_cv_pr = evaluate(rf_cv_pred, y_test)\n",
    "# rf_cv_pr"
   ]
  },
  {
   "cell_type": "code",
   "execution_count": 151,
   "metadata": {},
   "outputs": [],
   "source": [
    "# rf_cv.best_params_"
   ]
  },
  {
   "cell_type": "markdown",
   "metadata": {},
   "source": [
    "## SVM"
   ]
  },
  {
   "cell_type": "code",
   "execution_count": 152,
   "metadata": {},
   "outputs": [
    {
     "data": {
      "text/plain": [
       "{'f1-score': 0.9991, 'accuracy': 0.9991}"
      ]
     },
     "execution_count": 152,
     "metadata": {},
     "output_type": "execute_result"
    }
   ],
   "source": [
    "from sklearn.svm import SVC\n",
    "svc = SVC(random_state = 1)\n",
    "svc.fit(X_train, y_train)\n",
    "svc_pred = svc.predict(X_test)\n",
    "svc_pr = evaluate(svc_pred, y_test)\n",
    "svc_pr"
   ]
  },
  {
   "cell_type": "code",
   "execution_count": 153,
   "metadata": {},
   "outputs": [
    {
     "name": "stdout",
     "output_type": "stream",
     "text": [
      "{'C': 1, 'gamma': 0.1}\n"
     ]
    },
    {
     "data": {
      "text/plain": [
       "{'f1-score': 1.0, 'accuracy': 1.0}"
      ]
     },
     "execution_count": 153,
     "metadata": {},
     "output_type": "execute_result"
    }
   ],
   "source": [
    "# 'rbf' + CV\n",
    "param_grid = {'gamma': [0.00001, 0.0001, 0.001, 0.01, 0.1, 1], 'C':[0.001, 0.01, 0.1, 1, 10, 100, 1000]}\n",
    "svc2 = SVC(random_state = 1)\n",
    "svc2_cv = GridSearchCV(svc2, param_grid)\n",
    "svc2_cv.fit(X_train, y_train)\n",
    "print(svc2_cv.best_params_)\n",
    "svc2_cv_pred = svc2_cv.predict(X_test)\n",
    "svc2_cv_pr = evaluate(svc2_cv_pred, y_test)\n",
    "svc2_cv_pr"
   ]
  },
  {
   "cell_type": "code",
   "execution_count": 154,
   "metadata": {},
   "outputs": [
    {
     "name": "stdout",
     "output_type": "stream",
     "text": [
      "{'C': 1}\n"
     ]
    },
    {
     "data": {
      "text/plain": [
       "{'f1-score': 1.0, 'accuracy': 1.0}"
      ]
     },
     "execution_count": 154,
     "metadata": {},
     "output_type": "execute_result"
    }
   ],
   "source": [
    "# 'linear' + CV\n",
    "svc3 = SVC(kernel = 'linear', random_state = 1)\n",
    "svc3_cv = GridSearchCV(svc3, {'C' : [0.001, 0.01, 0.1, 1, 10, 100, 1000]})\n",
    "svc3_cv.fit(X_train, y_train)\n",
    "print(svc3_cv.best_params_)\n",
    "svc3_cv_pred = svc3_cv.predict(X_test)\n",
    "svc3_cv_pr = evaluate(svc3_cv_pred, y_test)\n",
    "svc3_cv_pr"
   ]
  },
  {
   "cell_type": "code",
   "execution_count": 155,
   "metadata": {},
   "outputs": [
    {
     "name": "stdout",
     "output_type": "stream",
     "text": [
      "{'C': 0.001, 'gamma': 1}\n"
     ]
    },
    {
     "data": {
      "text/plain": [
       "{'f1-score': 1.0, 'accuracy': 1.0}"
      ]
     },
     "execution_count": 155,
     "metadata": {},
     "output_type": "execute_result"
    }
   ],
   "source": [
    "# 'poly' + CV\n",
    "param_grid = {'gamma': [0.00001, 0.0001, 0.001, 0.01, 0.1, 1], 'C':[0.001, 0.01, 0.1, 1, 10, 100, 1000]}\n",
    "svc4 = SVC(kernel = 'poly', random_state = 1)\n",
    "svc4_cv = GridSearchCV(svc4, param_grid)\n",
    "svc4_cv.fit(X_train, y_train)\n",
    "print(svc4_cv.best_params_)\n",
    "svc4_cv_pred = svc4_cv.predict(X_test)\n",
    "svc4_cv_pr = evaluate(svc4_cv_pred, y_test)\n",
    "svc4_cv_pr"
   ]
  },
  {
   "cell_type": "code",
   "execution_count": 156,
   "metadata": {},
   "outputs": [
    {
     "name": "stdout",
     "output_type": "stream",
     "text": [
      "{'C': 100, 'gamma': 0.01}\n"
     ]
    },
    {
     "data": {
      "text/plain": [
       "{'f1-score': 1.0, 'accuracy': 1.0}"
      ]
     },
     "execution_count": 156,
     "metadata": {},
     "output_type": "execute_result"
    }
   ],
   "source": [
    "# 'sigmoid' + CV\n",
    "param_grid = {'gamma': [0.00001, 0.0001, 0.001, 0.01, 0.1, 1], 'C':[0.001, 0.01, 0.1, 1, 10, 100, 1000]}\n",
    "svc5 = SVC(kernel = 'sigmoid', random_state = 1)\n",
    "svc5_cv = GridSearchCV(svc5, param_grid)\n",
    "svc5_cv.fit(X_train, y_train)\n",
    "print(svc5_cv.best_params_)\n",
    "svc5_cv_pred = svc5_cv.predict(X_test)\n",
    "svc5_cv_pr = evaluate(svc5_cv_pred, y_test)\n",
    "svc5_cv_pr"
   ]
  },
  {
   "cell_type": "code",
   "execution_count": 157,
   "metadata": {},
   "outputs": [
    {
     "name": "stdout",
     "output_type": "stream",
     "text": [
      "{'C': 0.001, 'gamma': 1, 'kernel': 'poly'}\n"
     ]
    },
    {
     "data": {
      "text/plain": [
       "{'f1-score': 1.0, 'accuracy': 1.0}"
      ]
     },
     "execution_count": 157,
     "metadata": {},
     "output_type": "execute_result"
    }
   ],
   "source": [
    "# all\n",
    "param_grid = {'gamma': [0.00001, 0.0001, 0.001, 0.01, 0.1, 1], 'C':[0.001, 0.01, 0.1, 1, 10, 100, 1000], 'kernel':['rbf','linear','poly','sigmoid']}\n",
    "svc_all_params = SVC(random_state = 1)\n",
    "svc_all_params_cv = GridSearchCV(svc_all_params, param_grid)\n",
    "clf = svc_all_params_cv.fit(X_train, y_train)\n",
    "print(svc_all_params_cv.best_params_)\n",
    "svc_all_params_cv_pred = svc_all_params_cv.predict(X_test)\n",
    "svc_all_params_cv_pr = evaluate(svc_all_params_cv_pred, y_test)\n",
    "svc_all_params_cv_pr"
   ]
  },
  {
   "cell_type": "markdown",
   "metadata": {},
   "source": [
    "## KNN"
   ]
  },
  {
   "cell_type": "code",
   "execution_count": 158,
   "metadata": {},
   "outputs": [
    {
     "data": {
      "text/plain": [
       "{'f1-score': 0.9997, 'accuracy': 0.9997}"
      ]
     },
     "execution_count": 158,
     "metadata": {},
     "output_type": "execute_result"
    }
   ],
   "source": [
    "from sklearn.neighbors import KNeighborsClassifier\n",
    "knn = KNeighborsClassifier(n_neighbors = 3)\n",
    "knn.fit(X_train, y_train)\n",
    "knn_pred = knn.predict(X_test)\n",
    "knn_pr = evaluate(knn_pred, y_test)\n",
    "knn_pr"
   ]
  },
  {
   "cell_type": "code",
   "execution_count": 159,
   "metadata": {},
   "outputs": [
    {
     "data": {
      "text/plain": [
       "{1: 1.0,\n",
       " 2: 1.0,\n",
       " 3: 0.9996923076923077,\n",
       " 4: 1.0,\n",
       " 5: 0.9986153846153846,\n",
       " 6: 0.9986153846153846,\n",
       " 7: 0.9981538461538462,\n",
       " 8: 0.9983076923076923,\n",
       " 9: 0.9981538461538462}"
      ]
     },
     "execution_count": 159,
     "metadata": {},
     "output_type": "execute_result"
    }
   ],
   "source": [
    "accuracies = {}\n",
    "for neighbor in np.arange(1, 10):\n",
    "    knn = KNeighborsClassifier(n_neighbors = neighbor)\n",
    "    knn.fit(X_train, y_train)\n",
    "    accuracies[neighbor] = knn.score(X_test, y_test)\n",
    "accuracies"
   ]
  },
  {
   "cell_type": "code",
   "execution_count": 160,
   "metadata": {},
   "outputs": [
    {
     "name": "stdout",
     "output_type": "stream",
     "text": [
      "{'n_neighbors': 2}\n"
     ]
    },
    {
     "data": {
      "text/plain": [
       "{'f1-score': 1.0, 'accuracy': 1.0}"
      ]
     },
     "execution_count": 160,
     "metadata": {},
     "output_type": "execute_result"
    }
   ],
   "source": [
    "# KNN + CV\n",
    "knn2 = KNeighborsClassifier()\n",
    "knn_cv = GridSearchCV(knn2, {'n_neighbors': np.arange(1,10)}, cv = kf)\n",
    "knn_cv.fit(X_train, y_train)\n",
    "print(knn_cv.best_params_)\n",
    "knn_cv_pred = knn_cv.predict(X_test)\n",
    "knn_cv_pr = evaluate(knn_cv_pred, y_test)\n",
    "knn_cv_pr"
   ]
  },
  {
   "cell_type": "code",
   "execution_count": 167,
   "metadata": {},
   "outputs": [
    {
     "data": {
      "text/html": [
       "<div>\n",
       "<style scoped>\n",
       "    .dataframe tbody tr th:only-of-type {\n",
       "        vertical-align: middle;\n",
       "    }\n",
       "\n",
       "    .dataframe tbody tr th {\n",
       "        vertical-align: top;\n",
       "    }\n",
       "\n",
       "    .dataframe thead th {\n",
       "        text-align: right;\n",
       "    }\n",
       "</style>\n",
       "<table border=\"1\" class=\"dataframe\">\n",
       "  <thead>\n",
       "    <tr style=\"text-align: right;\">\n",
       "      <th></th>\n",
       "      <th>Model</th>\n",
       "      <th>F1-score</th>\n",
       "      <th>Accuracy</th>\n",
       "    </tr>\n",
       "  </thead>\n",
       "  <tbody>\n",
       "    <tr>\n",
       "      <th>0</th>\n",
       "      <td>Logistic Regression</td>\n",
       "      <td>0.9991</td>\n",
       "      <td>0.9991</td>\n",
       "    </tr>\n",
       "    <tr>\n",
       "      <th>1</th>\n",
       "      <td>Logistic Regression - l2 regularization + CV</td>\n",
       "      <td>1.0000</td>\n",
       "      <td>1.0000</td>\n",
       "    </tr>\n",
       "    <tr>\n",
       "      <th>2</th>\n",
       "      <td>Logistic Regression - l1 regularization + CV</td>\n",
       "      <td>1.0000</td>\n",
       "      <td>1.0000</td>\n",
       "    </tr>\n",
       "    <tr>\n",
       "      <th>3</th>\n",
       "      <td>Decision Tree</td>\n",
       "      <td>0.9996</td>\n",
       "      <td>0.9995</td>\n",
       "    </tr>\n",
       "    <tr>\n",
       "      <th>4</th>\n",
       "      <td>Decision Tree + RandomizedSearchCV</td>\n",
       "      <td>1.0000</td>\n",
       "      <td>1.0000</td>\n",
       "    </tr>\n",
       "    <tr>\n",
       "      <th>5</th>\n",
       "      <td>Decision Tree + GridSearchCV</td>\n",
       "      <td>1.0000</td>\n",
       "      <td>1.0000</td>\n",
       "    </tr>\n",
       "    <tr>\n",
       "      <th>6</th>\n",
       "      <td>Decision Tree + BC</td>\n",
       "      <td>0.9996</td>\n",
       "      <td>0.9995</td>\n",
       "    </tr>\n",
       "    <tr>\n",
       "      <th>7</th>\n",
       "      <td>Random Forest</td>\n",
       "      <td>1.0000</td>\n",
       "      <td>1.0000</td>\n",
       "    </tr>\n",
       "    <tr>\n",
       "      <th>8</th>\n",
       "      <td>Random Forest + RandomizedSearchCV</td>\n",
       "      <td>1.0000</td>\n",
       "      <td>1.0000</td>\n",
       "    </tr>\n",
       "    <tr>\n",
       "      <th>9</th>\n",
       "      <td>SVM rbf</td>\n",
       "      <td>0.9991</td>\n",
       "      <td>0.9991</td>\n",
       "    </tr>\n",
       "    <tr>\n",
       "      <th>10</th>\n",
       "      <td>SVM rbf + CV</td>\n",
       "      <td>1.0000</td>\n",
       "      <td>1.0000</td>\n",
       "    </tr>\n",
       "    <tr>\n",
       "      <th>11</th>\n",
       "      <td>SVM linear + CV</td>\n",
       "      <td>1.0000</td>\n",
       "      <td>1.0000</td>\n",
       "    </tr>\n",
       "    <tr>\n",
       "      <th>12</th>\n",
       "      <td>SVM poly + CV</td>\n",
       "      <td>1.0000</td>\n",
       "      <td>1.0000</td>\n",
       "    </tr>\n",
       "    <tr>\n",
       "      <th>13</th>\n",
       "      <td>SVM sigmoid + CV</td>\n",
       "      <td>1.0000</td>\n",
       "      <td>1.0000</td>\n",
       "    </tr>\n",
       "    <tr>\n",
       "      <th>14</th>\n",
       "      <td>SVM all params CV</td>\n",
       "      <td>1.0000</td>\n",
       "      <td>1.0000</td>\n",
       "    </tr>\n",
       "    <tr>\n",
       "      <th>15</th>\n",
       "      <td>KNN</td>\n",
       "      <td>0.9997</td>\n",
       "      <td>0.9997</td>\n",
       "    </tr>\n",
       "    <tr>\n",
       "      <th>16</th>\n",
       "      <td>KNN + CV</td>\n",
       "      <td>1.0000</td>\n",
       "      <td>1.0000</td>\n",
       "    </tr>\n",
       "  </tbody>\n",
       "</table>\n",
       "</div>"
      ],
      "text/plain": [
       "                                           Model  F1-score  Accuracy\n",
       "0                            Logistic Regression    0.9991    0.9991\n",
       "1   Logistic Regression - l2 regularization + CV    1.0000    1.0000\n",
       "2   Logistic Regression - l1 regularization + CV    1.0000    1.0000\n",
       "3                                  Decision Tree    0.9996    0.9995\n",
       "4             Decision Tree + RandomizedSearchCV    1.0000    1.0000\n",
       "5                   Decision Tree + GridSearchCV    1.0000    1.0000\n",
       "6                             Decision Tree + BC    0.9996    0.9995\n",
       "7                                  Random Forest    1.0000    1.0000\n",
       "8             Random Forest + RandomizedSearchCV    1.0000    1.0000\n",
       "9                                        SVM rbf    0.9991    0.9991\n",
       "10                                  SVM rbf + CV    1.0000    1.0000\n",
       "11                               SVM linear + CV    1.0000    1.0000\n",
       "12                                 SVM poly + CV    1.0000    1.0000\n",
       "13                              SVM sigmoid + CV    1.0000    1.0000\n",
       "14                             SVM all params CV    1.0000    1.0000\n",
       "15                                           KNN    0.9997    0.9997\n",
       "16                                      KNN + CV    1.0000    1.0000"
      ]
     },
     "execution_count": 167,
     "metadata": {},
     "output_type": "execute_result"
    }
   ],
   "source": [
    "prediction_data = {'Model':['Logistic Regression', 'Logistic Regression - l2 regularization + CV', 'Logistic Regression - l1 regularization + CV', 'Decision Tree', 'Decision Tree + RandomizedSearchCV', 'Decision Tree + GridSearchCV', 'Decision Tree + BC', 'Random Forest', 'Random Forest + RandomizedSearchCV', 'SVM rbf', 'SVM rbf + CV', 'SVM linear + CV', 'SVM poly + CV', 'SVM sigmoid + CV', 'SVM all params CV','KNN', 'KNN + CV'],\n",
    "                   'F1-score':[lr_pr['f1-score'], lr2_cv_pr['f1-score'], lr3_cv_pr['f1-score'], dtree_pr['f1-score'], dt_random_pr['f1-score'], dt_cv_pr['f1-score'], dtree_bc_pr['f1-score'], rf_pr['f1-score'], rf_random_pr['f1-score'], svc_pr['f1-score'], svc2_cv_pr['f1-score'], svc3_cv_pr['f1-score'], svc4_cv_pr['f1-score'], svc5_cv_pr['f1-score'], svc_all_params_cv_pr['f1-score'], knn_pr['f1-score'], knn_cv_pr['f1-score']],\n",
    "                   'Accuracy':[lr_pr['accuracy'], lr2_cv_pr['accuracy'], lr3_cv_pr['accuracy'], dtree_pr['accuracy'], dt_random_pr['accuracy'], dt_cv_pr['accuracy'], dtree_bc_pr['accuracy'], rf_pr['accuracy'], rf_random_pr['accuracy'], svc_pr['accuracy'], svc2_cv_pr['accuracy'], svc3_cv_pr['accuracy'], svc4_cv_pr['accuracy'], svc5_cv_pr['accuracy'], svc_all_params_cv_pr['accuracy'], knn_pr['accuracy'], knn_cv_pr['accuracy']]\n",
    "                    }\n",
    " \n",
    "prediction_table = pd.DataFrame(prediction_data)\n",
    "prediction_table"
   ]
  },
  {
   "cell_type": "markdown",
   "metadata": {},
   "source": [
    "## AdaBoost"
   ]
  },
  {
   "cell_type": "code",
   "execution_count": 168,
   "metadata": {},
   "outputs": [
    {
     "data": {
      "text/plain": [
       "1.0"
      ]
     },
     "execution_count": 168,
     "metadata": {},
     "output_type": "execute_result"
    }
   ],
   "source": [
    "from sklearn.ensemble import AdaBoostClassifier\n",
    "ada = AdaBoostClassifier(random_state = 1)\n",
    "ada.fit(X_train, y_train)\n",
    "ada.score(X_test,y_test)"
   ]
  },
  {
   "cell_type": "code",
   "execution_count": 169,
   "metadata": {},
   "outputs": [
    {
     "data": {
      "text/plain": [
       "{1: 0.8856923076923077,\n",
       " 2: 0.8856923076923077,\n",
       " 3: 0.939076923076923,\n",
       " 4: 0.9578461538461538,\n",
       " 5: 0.9670769230769231,\n",
       " 6: 0.9515384615384616,\n",
       " 7: 0.9781538461538462,\n",
       " 8: 0.9823076923076923,\n",
       " 9: 0.9949230769230769}"
      ]
     },
     "execution_count": 169,
     "metadata": {},
     "output_type": "execute_result"
    }
   ],
   "source": [
    "accuracies = {}\n",
    "for n_estimators in np.arange(1, 10):\n",
    "    ada = AdaBoostClassifier(random_state = 1, n_estimators = n_estimators)\n",
    "    ada.fit(X_train, y_train)\n",
    "    accuracies[n_estimators] = ada.score(X_test, y_test)\n",
    "accuracies"
   ]
  },
  {
   "cell_type": "markdown",
   "metadata": {},
   "source": [
    "## Gradient Boosting"
   ]
  },
  {
   "cell_type": "code",
   "execution_count": 170,
   "metadata": {},
   "outputs": [
    {
     "data": {
      "text/plain": [
       "0.9969230769230769"
      ]
     },
     "execution_count": 170,
     "metadata": {},
     "output_type": "execute_result"
    }
   ],
   "source": [
    "from sklearn.ensemble import GradientBoostingClassifier\n",
    "gbc = GradientBoostingClassifier(learning_rate = 0.01 , random_state = 1)\n",
    "gbc.fit(X_train, y_train)\n",
    "gbc.score(X_test,y_test)"
   ]
  },
  {
   "cell_type": "code",
   "execution_count": 180,
   "metadata": {},
   "outputs": [
    {
     "data": {
      "text/plain": [
       "{0.01: 0.9969230769230769, 0.1: 0.9990769230769231, 0.3: 1.0, 0.5: 1.0}"
      ]
     },
     "execution_count": 180,
     "metadata": {},
     "output_type": "execute_result"
    }
   ],
   "source": [
    "accuracies = {}\n",
    "for learning_rate in [0.01,0.1,0.3,0.5]:\n",
    "    gbc = GradientBoostingClassifier(random_state = 1, learning_rate = learning_rate)\n",
    "    gbc.fit(X_train, y_train)\n",
    "    accuracies[learning_rate] = gbc.score(X_test, y_test)\n",
    "accuracies"
   ]
  },
  {
   "cell_type": "markdown",
   "metadata": {},
   "source": [
    "## XGBoost"
   ]
  },
  {
   "cell_type": "code",
   "execution_count": 549,
   "metadata": {},
   "outputs": [
    {
     "name": "stdout",
     "output_type": "stream",
     "text": [
      "Requirement already satisfied: xgboost in /Users/edytastodolkiewicz/opt/anaconda3/lib/python3.9/site-packages (1.6.2)\r\n",
      "Requirement already satisfied: scipy in /Users/edytastodolkiewicz/opt/anaconda3/lib/python3.9/site-packages (from xgboost) (1.7.1)\r\n",
      "Requirement already satisfied: numpy in /Users/edytastodolkiewicz/opt/anaconda3/lib/python3.9/site-packages (from xgboost) (1.20.3)\r\n"
     ]
    }
   ],
   "source": [
    "!pip install xgboost"
   ]
  },
  {
   "cell_type": "code",
   "execution_count": 181,
   "metadata": {},
   "outputs": [
    {
     "data": {
      "text/plain": [
       "0.9969230769230769"
      ]
     },
     "execution_count": 181,
     "metadata": {},
     "output_type": "execute_result"
    }
   ],
   "source": [
    "import xgboost as xgb\n",
    "xgbc = xgb.XGBClassifier(random_state = 1,learning_rate = 0.01)\n",
    "xgbc.fit(X_train, y_train)\n",
    "xgbc.score(X_test, y_test)"
   ]
  },
  {
   "cell_type": "code",
   "execution_count": 182,
   "metadata": {},
   "outputs": [
    {
     "data": {
      "text/plain": [
       "{0.01: 0.9969230769230769,\n",
       " 0.1: 0.9990769230769231,\n",
       " 0.3: 0.9990769230769231,\n",
       " 0.5: 0.9990769230769231}"
      ]
     },
     "execution_count": 182,
     "metadata": {},
     "output_type": "execute_result"
    }
   ],
   "source": [
    "accuracies = {}\n",
    "for learning_rate in [0.01,0.1,0.3,0.5]:\n",
    "    xgbc = xgb.XGBClassifier(random_state = 1, learning_rate = learning_rate)\n",
    "    xgbc.fit(X_train, y_train)\n",
    "    accuracies[learning_rate] = xgbc.score(X_test, y_test)\n",
    "accuracies"
   ]
  },
  {
   "cell_type": "code",
   "execution_count": 176,
   "metadata": {},
   "outputs": [
    {
     "name": "stdout",
     "output_type": "stream",
     "text": [
      "   train-auc-mean  train-auc-std  test-auc-mean  test-auc-std\n",
      "0        0.986594       0.000814       0.986061      0.002084\n",
      "1        0.997903       0.000227       0.997836      0.000314\n",
      "2        0.998389       0.000528       0.998272      0.000173\n",
      "3        0.998764       0.000233       0.998736      0.000433\n",
      "4        0.998774       0.000225       0.998766      0.000452\n"
     ]
    }
   ],
   "source": [
    "# xgboost cross-validation\n",
    "dmatrix = xgb.DMatrix(data = features_dummies, label = target)\n",
    "params = {\"objective\":\"reg:logistic\", \"max_depth\":3}\n",
    "cv_results = xgb.cv(dtrain=dmatrix, params=params, \n",
    "                  nfold=3, num_boost_round=5, \n",
    "                  metrics=\"auc\", as_pandas=True, seed=123)\n",
    "print(cv_results)"
   ]
  },
  {
   "cell_type": "markdown",
   "metadata": {},
   "source": [
    "## LightGBM"
   ]
  },
  {
   "cell_type": "code",
   "execution_count": 1,
   "metadata": {},
   "outputs": [
    {
     "name": "stdout",
     "output_type": "stream",
     "text": [
      "Requirement already satisfied: lightgbm in /Users/edytastodolkiewicz/opt/anaconda3/lib/python3.9/site-packages (3.2.1)\n",
      "Requirement already satisfied: wheel in /Users/edytastodolkiewicz/opt/anaconda3/lib/python3.9/site-packages (from lightgbm) (0.37.0)\n",
      "Requirement already satisfied: scipy in /Users/edytastodolkiewicz/opt/anaconda3/lib/python3.9/site-packages (from lightgbm) (1.7.1)\n",
      "Requirement already satisfied: scikit-learn!=0.22.0 in /Users/edytastodolkiewicz/opt/anaconda3/lib/python3.9/site-packages (from lightgbm) (0.24.2)\n",
      "Requirement already satisfied: numpy in /Users/edytastodolkiewicz/opt/anaconda3/lib/python3.9/site-packages (from lightgbm) (1.20.3)\n",
      "Requirement already satisfied: joblib>=0.11 in /Users/edytastodolkiewicz/opt/anaconda3/lib/python3.9/site-packages (from scikit-learn!=0.22.0->lightgbm) (1.1.0)\n",
      "Requirement already satisfied: threadpoolctl>=2.0.0 in /Users/edytastodolkiewicz/opt/anaconda3/lib/python3.9/site-packages (from scikit-learn!=0.22.0->lightgbm) (2.2.0)\n"
     ]
    }
   ],
   "source": [
    "!pip install lightgbm"
   ]
  },
  {
   "cell_type": "code",
   "execution_count": 2,
   "metadata": {},
   "outputs": [],
   "source": [
    "import lightgbm as lgb"
   ]
  },
  {
   "cell_type": "code",
   "execution_count": 34,
   "metadata": {},
   "outputs": [
    {
     "name": "stdout",
     "output_type": "stream",
     "text": [
      "[LightGBM] [Warning] Auto-choosing row-wise multi-threading, the overhead of testing was 0.018840 seconds.\n",
      "You can set `force_row_wise=true` to remove the overhead.\n",
      "And if memory is not enough, you can set `force_col_wise=true`.\n",
      "[LightGBM] [Info] Total Bins 168\n",
      "[LightGBM] [Info] Number of data points in the train set: 812, number of used features: 84\n",
      "[LightGBM] [Info] Start training from score 0.518473\n",
      "[LightGBM] [Warning] No further splits with positive gain, best gain: -inf\n",
      "[LightGBM] [Warning] No further splits with positive gain, best gain: -inf\n",
      "[LightGBM] [Warning] No further splits with positive gain, best gain: -inf\n",
      "[LightGBM] [Warning] No further splits with positive gain, best gain: -inf\n",
      "[LightGBM] [Warning] No further splits with positive gain, best gain: -inf\n",
      "[LightGBM] [Warning] No further splits with positive gain, best gain: -inf\n",
      "[LightGBM] [Warning] No further splits with positive gain, best gain: -inf\n",
      "[LightGBM] [Warning] No further splits with positive gain, best gain: -inf\n",
      "[LightGBM] [Warning] No further splits with positive gain, best gain: -inf\n",
      "[LightGBM] [Warning] No further splits with positive gain, best gain: -inf\n",
      "[LightGBM] [Warning] No further splits with positive gain, best gain: -inf\n",
      "[LightGBM] [Warning] No further splits with positive gain, best gain: -inf\n",
      "[LightGBM] [Warning] No further splits with positive gain, best gain: -inf\n",
      "[LightGBM] [Warning] No further splits with positive gain, best gain: -inf\n",
      "[LightGBM] [Warning] No further splits with positive gain, best gain: -inf\n",
      "[LightGBM] [Warning] No further splits with positive gain, best gain: -inf\n",
      "[LightGBM] [Warning] No further splits with positive gain, best gain: -inf\n",
      "[LightGBM] [Warning] No further splits with positive gain, best gain: -inf\n",
      "[LightGBM] [Warning] No further splits with positive gain, best gain: -inf\n",
      "[LightGBM] [Warning] No further splits with positive gain, best gain: -inf\n",
      "[LightGBM] [Warning] No further splits with positive gain, best gain: -inf\n",
      "[LightGBM] [Warning] No further splits with positive gain, best gain: -inf\n",
      "[LightGBM] [Warning] No further splits with positive gain, best gain: -inf\n",
      "[LightGBM] [Warning] No further splits with positive gain, best gain: -inf\n",
      "[LightGBM] [Warning] No further splits with positive gain, best gain: -inf\n",
      "[LightGBM] [Warning] No further splits with positive gain, best gain: -inf\n",
      "[LightGBM] [Warning] No further splits with positive gain, best gain: -inf\n",
      "[LightGBM] [Warning] No further splits with positive gain, best gain: -inf\n",
      "[LightGBM] [Warning] No further splits with positive gain, best gain: -inf\n",
      "[LightGBM] [Warning] No further splits with positive gain, best gain: -inf\n",
      "[LightGBM] [Warning] No further splits with positive gain, best gain: -inf\n",
      "[LightGBM] [Warning] No further splits with positive gain, best gain: -inf\n",
      "[LightGBM] [Warning] No further splits with positive gain, best gain: -inf\n",
      "[LightGBM] [Warning] No further splits with positive gain, best gain: -inf\n",
      "[LightGBM] [Warning] No further splits with positive gain, best gain: -inf\n",
      "[LightGBM] [Warning] No further splits with positive gain, best gain: -inf\n",
      "[LightGBM] [Warning] No further splits with positive gain, best gain: -inf\n",
      "[LightGBM] [Warning] No further splits with positive gain, best gain: -inf\n",
      "[LightGBM] [Warning] No further splits with positive gain, best gain: -inf\n",
      "[LightGBM] [Warning] No further splits with positive gain, best gain: -inf\n",
      "[LightGBM] [Warning] No further splits with positive gain, best gain: -inf\n",
      "[LightGBM] [Warning] No further splits with positive gain, best gain: -inf\n",
      "[LightGBM] [Warning] No further splits with positive gain, best gain: -inf\n",
      "[LightGBM] [Warning] No further splits with positive gain, best gain: -inf\n",
      "[LightGBM] [Warning] No further splits with positive gain, best gain: -inf\n",
      "[LightGBM] [Warning] No further splits with positive gain, best gain: -inf\n",
      "[LightGBM] [Warning] No further splits with positive gain, best gain: -inf\n",
      "[LightGBM] [Warning] No further splits with positive gain, best gain: -inf\n",
      "[LightGBM] [Warning] No further splits with positive gain, best gain: -inf\n",
      "[LightGBM] [Warning] No further splits with positive gain, best gain: -inf\n",
      "[LightGBM] [Warning] No further splits with positive gain, best gain: -inf\n",
      "[LightGBM] [Warning] No further splits with positive gain, best gain: -inf\n",
      "[LightGBM] [Warning] No further splits with positive gain, best gain: -inf\n",
      "[LightGBM] [Warning] No further splits with positive gain, best gain: -inf\n",
      "[LightGBM] [Warning] No further splits with positive gain, best gain: -inf\n",
      "[LightGBM] [Warning] No further splits with positive gain, best gain: -inf\n",
      "[LightGBM] [Warning] No further splits with positive gain, best gain: -inf\n",
      "[LightGBM] [Warning] No further splits with positive gain, best gain: -inf\n",
      "[LightGBM] [Warning] No further splits with positive gain, best gain: -inf\n",
      "[LightGBM] [Warning] No further splits with positive gain, best gain: -inf\n",
      "[LightGBM] [Warning] No further splits with positive gain, best gain: -inf\n",
      "[LightGBM] [Warning] No further splits with positive gain, best gain: -inf\n",
      "[LightGBM] [Warning] No further splits with positive gain, best gain: -inf\n",
      "[LightGBM] [Warning] No further splits with positive gain, best gain: -inf\n",
      "[LightGBM] [Warning] No further splits with positive gain, best gain: -inf\n",
      "[LightGBM] [Warning] No further splits with positive gain, best gain: -inf\n",
      "[LightGBM] [Warning] No further splits with positive gain, best gain: -inf\n",
      "[LightGBM] [Warning] No further splits with positive gain, best gain: -inf\n",
      "[LightGBM] [Warning] No further splits with positive gain, best gain: -inf\n",
      "[LightGBM] [Warning] No further splits with positive gain, best gain: -inf\n",
      "[LightGBM] [Warning] No further splits with positive gain, best gain: -inf\n",
      "[LightGBM] [Warning] No further splits with positive gain, best gain: -inf\n",
      "[LightGBM] [Warning] No further splits with positive gain, best gain: -inf\n",
      "[LightGBM] [Warning] No further splits with positive gain, best gain: -inf\n",
      "[LightGBM] [Warning] No further splits with positive gain, best gain: -inf\n",
      "[LightGBM] [Warning] No further splits with positive gain, best gain: -inf\n",
      "[LightGBM] [Warning] No further splits with positive gain, best gain: -inf\n",
      "[LightGBM] [Warning] No further splits with positive gain, best gain: -inf\n",
      "[LightGBM] [Warning] No further splits with positive gain, best gain: -inf\n",
      "[LightGBM] [Warning] No further splits with positive gain, best gain: -inf\n",
      "[LightGBM] [Warning] No further splits with positive gain, best gain: -inf\n",
      "[LightGBM] [Warning] No further splits with positive gain, best gain: -inf\n",
      "[LightGBM] [Warning] No further splits with positive gain, best gain: -inf\n",
      "[LightGBM] [Warning] No further splits with positive gain, best gain: -inf\n",
      "[LightGBM] [Warning] No further splits with positive gain, best gain: -inf\n",
      "[LightGBM] [Warning] No further splits with positive gain, best gain: -inf\n",
      "[LightGBM] [Warning] No further splits with positive gain, best gain: -inf\n",
      "[LightGBM] [Warning] No further splits with positive gain, best gain: -inf\n",
      "[LightGBM] [Warning] No further splits with positive gain, best gain: -inf\n",
      "[LightGBM] [Warning] No further splits with positive gain, best gain: -inf\n",
      "[LightGBM] [Warning] No further splits with positive gain, best gain: -inf\n",
      "[LightGBM] [Warning] No further splits with positive gain, best gain: -inf\n",
      "[LightGBM] [Warning] No further splits with positive gain, best gain: -inf\n",
      "[LightGBM] [Warning] No further splits with positive gain, best gain: -inf\n",
      "[LightGBM] [Warning] No further splits with positive gain, best gain: -inf\n",
      "[LightGBM] [Warning] No further splits with positive gain, best gain: -inf\n",
      "[LightGBM] [Warning] No further splits with positive gain, best gain: -inf\n",
      "[LightGBM] [Warning] No further splits with positive gain, best gain: -inf\n",
      "[LightGBM] [Warning] No further splits with positive gain, best gain: -inf\n",
      "[LightGBM] [Warning] No further splits with positive gain, best gain: -inf\n",
      "0.44920794948989506\n"
     ]
    }
   ],
   "source": [
    "train_data = lgb.Dataset(X_train, label = y_train)\n",
    "#define parameters\n",
    "params = {'learning_rate':0.001}\n",
    "model = lgb.train(params, train_data, 100) \n",
    "y_pred = model.predict(X_test)\n",
    "for i in range(0, 185):\n",
    "    if y_pred[i] >= 0.5:\n",
    "        y_pred[i] = 1\n",
    "    else: \n",
    "        y_pred[i] = 0\n",
    "y_pred = pd.DataFrame(y_pred)\n",
    "from sklearn.metrics import mean_squared_error\n",
    "print(mean_squared_error(y_pred, y_test)**0.5)"
   ]
  },
  {
   "cell_type": "code",
   "execution_count": 37,
   "metadata": {},
   "outputs": [
    {
     "data": {
      "text/plain": [
       "0.9967177242888403"
      ]
     },
     "execution_count": 37,
     "metadata": {},
     "output_type": "execute_result"
    }
   ],
   "source": [
    "from lightgbm import LGBMClassifier\n",
    "model = LGBMClassifier()\n",
    "model.fit(X_train, y_train)\n",
    "model.score(X_test, y_test)"
   ]
  },
  {
   "cell_type": "markdown",
   "metadata": {},
   "source": [
    "## CatBoost"
   ]
  },
  {
   "cell_type": "code",
   "execution_count": 38,
   "metadata": {},
   "outputs": [
    {
     "name": "stdout",
     "output_type": "stream",
     "text": [
      "Collecting catboost\n",
      "  Downloading catboost-1.1-cp39-none-macosx_10_6_universal2.whl (22.0 MB)\n",
      "\u001b[2K     \u001b[90m━━━━━━━━━━━━━━━━━━━━━━━━━━━━━━━━━━━━━━━━\u001b[0m \u001b[32m22.0/22.0 MB\u001b[0m \u001b[31m6.9 MB/s\u001b[0m eta \u001b[36m0:00:00\u001b[0m00:01\u001b[0m00:01\u001b[0m\n",
      "\u001b[?25hRequirement already satisfied: pandas>=0.24.0 in /Users/edytastodolkiewicz/opt/anaconda3/lib/python3.9/site-packages (from catboost) (1.3.4)\n",
      "Collecting graphviz\n",
      "  Using cached graphviz-0.20.1-py3-none-any.whl (47 kB)\n",
      "Requirement already satisfied: scipy in /Users/edytastodolkiewicz/opt/anaconda3/lib/python3.9/site-packages (from catboost) (1.7.1)\n",
      "Collecting plotly\n",
      "  Downloading plotly-5.11.0-py2.py3-none-any.whl (15.3 MB)\n",
      "\u001b[2K     \u001b[90m━━━━━━━━━━━━━━━━━━━━━━━━━━━━━━━━━━━━━━━━\u001b[0m \u001b[32m15.3/15.3 MB\u001b[0m \u001b[31m3.4 MB/s\u001b[0m eta \u001b[36m0:00:00\u001b[0m00:01\u001b[0m00:01\u001b[0m\n",
      "\u001b[?25hRequirement already satisfied: matplotlib in /Users/edytastodolkiewicz/opt/anaconda3/lib/python3.9/site-packages (from catboost) (3.4.3)\n",
      "Requirement already satisfied: six in /Users/edytastodolkiewicz/opt/anaconda3/lib/python3.9/site-packages (from catboost) (1.16.0)\n",
      "Requirement already satisfied: numpy>=1.16.0 in /Users/edytastodolkiewicz/opt/anaconda3/lib/python3.9/site-packages (from catboost) (1.20.3)\n",
      "Requirement already satisfied: python-dateutil>=2.7.3 in /Users/edytastodolkiewicz/opt/anaconda3/lib/python3.9/site-packages (from pandas>=0.24.0->catboost) (2.8.2)\n",
      "Requirement already satisfied: pytz>=2017.3 in /Users/edytastodolkiewicz/opt/anaconda3/lib/python3.9/site-packages (from pandas>=0.24.0->catboost) (2021.3)\n",
      "Requirement already satisfied: kiwisolver>=1.0.1 in /Users/edytastodolkiewicz/opt/anaconda3/lib/python3.9/site-packages (from matplotlib->catboost) (1.3.1)\n",
      "Requirement already satisfied: cycler>=0.10 in /Users/edytastodolkiewicz/opt/anaconda3/lib/python3.9/site-packages (from matplotlib->catboost) (0.10.0)\n",
      "Requirement already satisfied: pillow>=6.2.0 in /Users/edytastodolkiewicz/opt/anaconda3/lib/python3.9/site-packages (from matplotlib->catboost) (8.4.0)\n",
      "Requirement already satisfied: pyparsing>=2.2.1 in /Users/edytastodolkiewicz/opt/anaconda3/lib/python3.9/site-packages (from matplotlib->catboost) (3.0.4)\n",
      "Collecting tenacity>=6.2.0\n",
      "  Using cached tenacity-8.1.0-py3-none-any.whl (23 kB)\n",
      "Installing collected packages: tenacity, graphviz, plotly, catboost\n",
      "Successfully installed catboost-1.1 graphviz-0.20.1 plotly-5.11.0 tenacity-8.1.0\n"
     ]
    }
   ],
   "source": [
    "!pip install catboost"
   ]
  },
  {
   "cell_type": "code",
   "execution_count": 40,
   "metadata": {},
   "outputs": [
    {
     "name": "stderr",
     "output_type": "stream",
     "text": [
      "/var/folders/gf/t0gbh7m514j9kjx2g299ch6h0000gn/T/ipykernel_89169/3782514624.py:3: DeprecationWarning: `np.float` is a deprecated alias for the builtin `float`. To silence this warning, use `float` by itself. Doing this will not modify any behavior and is safe. If you specifically wanted the numpy scalar type, use `np.float64` here.\n",
      "Deprecated in NumPy 1.20; for more details and guidance: https://numpy.org/devdocs/release/1.20.0-notes.html#deprecations\n",
      "  categorical_features_indices = np.where(df.dtypes != np.float)[0]\n"
     ]
    },
    {
     "name": "stdout",
     "output_type": "stream",
     "text": [
      "Learning rate set to 0.0301\n",
      "0:\tlearn: 0.6222438\ttest: 0.6230600\tbest: 0.6230600 (0)\ttotal: 59.5ms\tremaining: 59.5s\n",
      "1:\tlearn: 0.5646468\ttest: 0.5663041\tbest: 0.5663041 (1)\ttotal: 62.5ms\tremaining: 31.2s\n",
      "2:\tlearn: 0.5130927\ttest: 0.5150308\tbest: 0.5150308 (2)\ttotal: 65.4ms\tremaining: 21.7s\n",
      "3:\tlearn: 0.4680788\ttest: 0.4698742\tbest: 0.4698742 (3)\ttotal: 68ms\tremaining: 16.9s\n",
      "4:\tlearn: 0.4251793\ttest: 0.4274372\tbest: 0.4274372 (4)\ttotal: 70.1ms\tremaining: 14s\n",
      "5:\tlearn: 0.3834866\ttest: 0.3861993\tbest: 0.3861993 (5)\ttotal: 72.2ms\tremaining: 12s\n",
      "6:\tlearn: 0.3535488\ttest: 0.3570047\tbest: 0.3570047 (6)\ttotal: 74.2ms\tremaining: 10.5s\n",
      "7:\tlearn: 0.3240520\ttest: 0.3276598\tbest: 0.3276598 (7)\ttotal: 77ms\tremaining: 9.55s\n",
      "8:\tlearn: 0.2937162\ttest: 0.2973771\tbest: 0.2973771 (8)\ttotal: 79.7ms\tremaining: 8.77s\n",
      "9:\tlearn: 0.2680322\ttest: 0.2723716\tbest: 0.2723716 (9)\ttotal: 82.7ms\tremaining: 8.18s\n",
      "10:\tlearn: 0.2453597\ttest: 0.2496779\tbest: 0.2496779 (10)\ttotal: 85ms\tremaining: 7.64s\n",
      "11:\tlearn: 0.2286156\ttest: 0.2333799\tbest: 0.2333799 (11)\ttotal: 88.6ms\tremaining: 7.29s\n",
      "12:\tlearn: 0.2113283\ttest: 0.2160845\tbest: 0.2160845 (12)\ttotal: 90.4ms\tremaining: 6.87s\n",
      "13:\tlearn: 0.1980202\ttest: 0.2032354\tbest: 0.2032354 (13)\ttotal: 92.3ms\tremaining: 6.5s\n",
      "14:\tlearn: 0.1812059\ttest: 0.1865615\tbest: 0.1865615 (14)\ttotal: 94.2ms\tremaining: 6.18s\n",
      "15:\tlearn: 0.1619762\ttest: 0.1676330\tbest: 0.1676330 (15)\ttotal: 96.2ms\tremaining: 5.92s\n",
      "16:\tlearn: 0.1497340\ttest: 0.1557077\tbest: 0.1557077 (16)\ttotal: 98.1ms\tremaining: 5.67s\n",
      "17:\tlearn: 0.1397271\ttest: 0.1455444\tbest: 0.1455444 (17)\ttotal: 99.9ms\tremaining: 5.45s\n",
      "18:\tlearn: 0.1294854\ttest: 0.1350077\tbest: 0.1350077 (18)\ttotal: 102ms\tremaining: 5.25s\n",
      "19:\tlearn: 0.1202992\ttest: 0.1254569\tbest: 0.1254569 (19)\ttotal: 104ms\tremaining: 5.08s\n",
      "20:\tlearn: 0.1095950\ttest: 0.1150331\tbest: 0.1150331 (20)\ttotal: 105ms\tremaining: 4.92s\n",
      "21:\tlearn: 0.1031308\ttest: 0.1085706\tbest: 0.1085706 (21)\ttotal: 107ms\tremaining: 4.77s\n",
      "22:\tlearn: 0.0966711\ttest: 0.1019950\tbest: 0.1019950 (22)\ttotal: 109ms\tremaining: 4.62s\n",
      "23:\tlearn: 0.0902722\ttest: 0.0957571\tbest: 0.0957571 (23)\ttotal: 111ms\tremaining: 4.5s\n",
      "24:\tlearn: 0.0837868\ttest: 0.0891427\tbest: 0.0891427 (24)\ttotal: 112ms\tremaining: 4.38s\n",
      "25:\tlearn: 0.0769241\ttest: 0.0820353\tbest: 0.0820353 (25)\ttotal: 114ms\tremaining: 4.28s\n",
      "26:\tlearn: 0.0721239\ttest: 0.0770295\tbest: 0.0770295 (26)\ttotal: 116ms\tremaining: 4.18s\n",
      "27:\tlearn: 0.0675686\ttest: 0.0724455\tbest: 0.0724455 (27)\ttotal: 118ms\tremaining: 4.09s\n",
      "28:\tlearn: 0.0640158\ttest: 0.0688249\tbest: 0.0688249 (28)\ttotal: 120ms\tremaining: 4.02s\n",
      "29:\tlearn: 0.0600314\ttest: 0.0646219\tbest: 0.0646219 (29)\ttotal: 122ms\tremaining: 3.95s\n",
      "30:\tlearn: 0.0568919\ttest: 0.0613440\tbest: 0.0613440 (30)\ttotal: 124ms\tremaining: 3.88s\n",
      "31:\tlearn: 0.0534448\ttest: 0.0577921\tbest: 0.0577921 (31)\ttotal: 127ms\tremaining: 3.83s\n",
      "32:\tlearn: 0.0513654\ttest: 0.0557615\tbest: 0.0557615 (32)\ttotal: 129ms\tremaining: 3.77s\n",
      "33:\tlearn: 0.0496648\ttest: 0.0540469\tbest: 0.0540469 (33)\ttotal: 131ms\tremaining: 3.73s\n",
      "34:\tlearn: 0.0470166\ttest: 0.0512526\tbest: 0.0512526 (34)\ttotal: 133ms\tremaining: 3.67s\n",
      "35:\tlearn: 0.0451860\ttest: 0.0494268\tbest: 0.0494268 (35)\ttotal: 135ms\tremaining: 3.62s\n",
      "36:\tlearn: 0.0442827\ttest: 0.0484329\tbest: 0.0484329 (36)\ttotal: 137ms\tremaining: 3.56s\n",
      "37:\tlearn: 0.0421621\ttest: 0.0463506\tbest: 0.0463506 (37)\ttotal: 139ms\tremaining: 3.51s\n",
      "38:\tlearn: 0.0416595\ttest: 0.0457923\tbest: 0.0457923 (38)\ttotal: 141ms\tremaining: 3.46s\n",
      "39:\tlearn: 0.0393729\ttest: 0.0434178\tbest: 0.0434178 (39)\ttotal: 142ms\tremaining: 3.42s\n",
      "40:\tlearn: 0.0374008\ttest: 0.0414008\tbest: 0.0414008 (40)\ttotal: 145ms\tremaining: 3.39s\n",
      "41:\tlearn: 0.0365494\ttest: 0.0406332\tbest: 0.0406332 (41)\ttotal: 149ms\tremaining: 3.39s\n",
      "42:\tlearn: 0.0352250\ttest: 0.0393249\tbest: 0.0393249 (42)\ttotal: 151ms\tremaining: 3.35s\n",
      "43:\tlearn: 0.0335875\ttest: 0.0377331\tbest: 0.0377331 (43)\ttotal: 153ms\tremaining: 3.32s\n",
      "44:\tlearn: 0.0330338\ttest: 0.0372258\tbest: 0.0372258 (44)\ttotal: 155ms\tremaining: 3.29s\n",
      "45:\tlearn: 0.0326686\ttest: 0.0368881\tbest: 0.0368881 (45)\ttotal: 157ms\tremaining: 3.25s\n",
      "46:\tlearn: 0.0320972\ttest: 0.0363010\tbest: 0.0363010 (46)\ttotal: 159ms\tremaining: 3.22s\n",
      "47:\tlearn: 0.0304144\ttest: 0.0345901\tbest: 0.0345901 (47)\ttotal: 160ms\tremaining: 3.18s\n",
      "48:\tlearn: 0.0299868\ttest: 0.0341762\tbest: 0.0341762 (48)\ttotal: 162ms\tremaining: 3.15s\n",
      "49:\tlearn: 0.0292009\ttest: 0.0334333\tbest: 0.0334333 (49)\ttotal: 165ms\tremaining: 3.14s\n",
      "50:\tlearn: 0.0280281\ttest: 0.0323938\tbest: 0.0323938 (50)\ttotal: 169ms\tremaining: 3.13s\n",
      "51:\tlearn: 0.0267377\ttest: 0.0310555\tbest: 0.0310555 (51)\ttotal: 172ms\tremaining: 3.14s\n",
      "52:\tlearn: 0.0259941\ttest: 0.0302899\tbest: 0.0302899 (52)\ttotal: 175ms\tremaining: 3.13s\n",
      "53:\tlearn: 0.0253636\ttest: 0.0296172\tbest: 0.0296172 (53)\ttotal: 178ms\tremaining: 3.12s\n",
      "54:\tlearn: 0.0247887\ttest: 0.0290544\tbest: 0.0290544 (54)\ttotal: 180ms\tremaining: 3.09s\n",
      "55:\tlearn: 0.0246836\ttest: 0.0289414\tbest: 0.0289414 (55)\ttotal: 182ms\tremaining: 3.07s\n",
      "56:\tlearn: 0.0243938\ttest: 0.0285894\tbest: 0.0285894 (56)\ttotal: 185ms\tremaining: 3.07s\n",
      "57:\tlearn: 0.0240300\ttest: 0.0281651\tbest: 0.0281651 (57)\ttotal: 188ms\tremaining: 3.06s\n",
      "58:\tlearn: 0.0236131\ttest: 0.0277143\tbest: 0.0277143 (58)\ttotal: 192ms\tremaining: 3.06s\n",
      "59:\tlearn: 0.0234017\ttest: 0.0274646\tbest: 0.0274646 (59)\ttotal: 198ms\tremaining: 3.11s\n",
      "60:\tlearn: 0.0231546\ttest: 0.0271433\tbest: 0.0271433 (60)\ttotal: 202ms\tremaining: 3.11s\n",
      "61:\tlearn: 0.0227763\ttest: 0.0267370\tbest: 0.0267370 (61)\ttotal: 206ms\tremaining: 3.12s\n",
      "62:\tlearn: 0.0224447\ttest: 0.0264204\tbest: 0.0264204 (62)\ttotal: 211ms\tremaining: 3.13s\n",
      "63:\tlearn: 0.0222609\ttest: 0.0262238\tbest: 0.0262238 (63)\ttotal: 215ms\tremaining: 3.14s\n",
      "64:\tlearn: 0.0220468\ttest: 0.0260219\tbest: 0.0260219 (64)\ttotal: 218ms\tremaining: 3.14s\n",
      "65:\tlearn: 0.0214875\ttest: 0.0256002\tbest: 0.0256002 (65)\ttotal: 223ms\tremaining: 3.15s\n",
      "66:\tlearn: 0.0213758\ttest: 0.0254511\tbest: 0.0254511 (66)\ttotal: 225ms\tremaining: 3.14s\n",
      "67:\tlearn: 0.0209583\ttest: 0.0250401\tbest: 0.0250401 (67)\ttotal: 229ms\tremaining: 3.13s\n",
      "68:\tlearn: 0.0209481\ttest: 0.0250359\tbest: 0.0250359 (68)\ttotal: 230ms\tremaining: 3.11s\n",
      "69:\tlearn: 0.0208036\ttest: 0.0249477\tbest: 0.0249477 (69)\ttotal: 233ms\tremaining: 3.1s\n",
      "70:\tlearn: 0.0204775\ttest: 0.0246486\tbest: 0.0246486 (70)\ttotal: 237ms\tremaining: 3.1s\n",
      "71:\tlearn: 0.0204293\ttest: 0.0246030\tbest: 0.0246030 (71)\ttotal: 241ms\tremaining: 3.1s\n",
      "72:\tlearn: 0.0201818\ttest: 0.0243532\tbest: 0.0243532 (72)\ttotal: 243ms\tremaining: 3.09s\n",
      "73:\tlearn: 0.0198877\ttest: 0.0240546\tbest: 0.0240546 (73)\ttotal: 246ms\tremaining: 3.08s\n",
      "74:\tlearn: 0.0193149\ttest: 0.0236878\tbest: 0.0236878 (74)\ttotal: 249ms\tremaining: 3.07s\n",
      "75:\tlearn: 0.0187275\ttest: 0.0232445\tbest: 0.0232445 (75)\ttotal: 252ms\tremaining: 3.06s\n",
      "76:\tlearn: 0.0186661\ttest: 0.0231588\tbest: 0.0231588 (76)\ttotal: 255ms\tremaining: 3.06s\n",
      "77:\tlearn: 0.0180498\ttest: 0.0225743\tbest: 0.0225743 (77)\ttotal: 259ms\tremaining: 3.06s\n",
      "78:\tlearn: 0.0179902\ttest: 0.0224816\tbest: 0.0224816 (78)\ttotal: 262ms\tremaining: 3.05s\n",
      "79:\tlearn: 0.0178325\ttest: 0.0223101\tbest: 0.0223101 (79)\ttotal: 264ms\tremaining: 3.04s\n",
      "80:\tlearn: 0.0176526\ttest: 0.0221144\tbest: 0.0221144 (80)\ttotal: 266ms\tremaining: 3.02s\n",
      "81:\tlearn: 0.0174557\ttest: 0.0218566\tbest: 0.0218566 (81)\ttotal: 268ms\tremaining: 3s\n",
      "82:\tlearn: 0.0172301\ttest: 0.0215843\tbest: 0.0215843 (82)\ttotal: 271ms\tremaining: 2.99s\n",
      "83:\tlearn: 0.0169776\ttest: 0.0213112\tbest: 0.0213112 (83)\ttotal: 273ms\tremaining: 2.98s\n",
      "84:\tlearn: 0.0167677\ttest: 0.0210399\tbest: 0.0210399 (84)\ttotal: 276ms\tremaining: 2.97s\n",
      "85:\tlearn: 0.0165399\ttest: 0.0207889\tbest: 0.0207889 (85)\ttotal: 279ms\tremaining: 2.96s\n",
      "86:\tlearn: 0.0163786\ttest: 0.0206525\tbest: 0.0206525 (86)\ttotal: 281ms\tremaining: 2.95s\n",
      "87:\tlearn: 0.0162251\ttest: 0.0204823\tbest: 0.0204823 (87)\ttotal: 283ms\tremaining: 2.93s\n",
      "88:\tlearn: 0.0155709\ttest: 0.0199820\tbest: 0.0199820 (88)\ttotal: 285ms\tremaining: 2.92s\n",
      "89:\tlearn: 0.0150776\ttest: 0.0196100\tbest: 0.0196100 (89)\ttotal: 287ms\tremaining: 2.9s\n",
      "90:\tlearn: 0.0147693\ttest: 0.0194180\tbest: 0.0194180 (90)\ttotal: 290ms\tremaining: 2.9s\n",
      "91:\tlearn: 0.0146559\ttest: 0.0192703\tbest: 0.0192703 (91)\ttotal: 292ms\tremaining: 2.88s\n",
      "92:\tlearn: 0.0146511\ttest: 0.0192675\tbest: 0.0192675 (92)\ttotal: 293ms\tremaining: 2.86s\n",
      "93:\tlearn: 0.0143411\ttest: 0.0189371\tbest: 0.0189371 (93)\ttotal: 296ms\tremaining: 2.85s\n",
      "94:\tlearn: 0.0142376\ttest: 0.0188470\tbest: 0.0188470 (94)\ttotal: 299ms\tremaining: 2.85s\n",
      "95:\tlearn: 0.0141313\ttest: 0.0187266\tbest: 0.0187266 (95)\ttotal: 302ms\tremaining: 2.85s\n",
      "96:\tlearn: 0.0140369\ttest: 0.0186146\tbest: 0.0186146 (96)\ttotal: 305ms\tremaining: 2.84s\n",
      "97:\tlearn: 0.0138236\ttest: 0.0183772\tbest: 0.0183772 (97)\ttotal: 307ms\tremaining: 2.83s\n",
      "98:\tlearn: 0.0135220\ttest: 0.0180688\tbest: 0.0180688 (98)\ttotal: 309ms\tremaining: 2.81s\n",
      "99:\tlearn: 0.0133163\ttest: 0.0178605\tbest: 0.0178605 (99)\ttotal: 311ms\tremaining: 2.8s\n",
      "100:\tlearn: 0.0132931\ttest: 0.0178302\tbest: 0.0178302 (100)\ttotal: 314ms\tremaining: 2.79s\n",
      "101:\tlearn: 0.0132490\ttest: 0.0177761\tbest: 0.0177761 (101)\ttotal: 316ms\tremaining: 2.78s\n",
      "102:\tlearn: 0.0130900\ttest: 0.0176192\tbest: 0.0176192 (102)\ttotal: 319ms\tremaining: 2.78s\n",
      "103:\tlearn: 0.0130234\ttest: 0.0175504\tbest: 0.0175504 (103)\ttotal: 324ms\tremaining: 2.79s\n",
      "104:\tlearn: 0.0129295\ttest: 0.0174495\tbest: 0.0174495 (104)\ttotal: 327ms\tremaining: 2.79s\n",
      "105:\tlearn: 0.0128535\ttest: 0.0173706\tbest: 0.0173706 (105)\ttotal: 331ms\tremaining: 2.79s\n",
      "106:\tlearn: 0.0127619\ttest: 0.0172900\tbest: 0.0172900 (106)\ttotal: 336ms\tremaining: 2.8s\n",
      "107:\tlearn: 0.0126584\ttest: 0.0171987\tbest: 0.0171987 (107)\ttotal: 339ms\tremaining: 2.8s\n",
      "108:\tlearn: 0.0126294\ttest: 0.0171716\tbest: 0.0171716 (108)\ttotal: 343ms\tremaining: 2.81s\n",
      "109:\tlearn: 0.0121711\ttest: 0.0168448\tbest: 0.0168448 (109)\ttotal: 350ms\tremaining: 2.83s\n",
      "110:\tlearn: 0.0120626\ttest: 0.0167314\tbest: 0.0167314 (110)\ttotal: 351ms\tremaining: 2.81s\n",
      "111:\tlearn: 0.0119034\ttest: 0.0165249\tbest: 0.0165249 (111)\ttotal: 353ms\tremaining: 2.8s\n"
     ]
    },
    {
     "name": "stdout",
     "output_type": "stream",
     "text": [
      "112:\tlearn: 0.0116882\ttest: 0.0163305\tbest: 0.0163305 (112)\ttotal: 357ms\tremaining: 2.8s\n",
      "113:\tlearn: 0.0116853\ttest: 0.0163284\tbest: 0.0163284 (113)\ttotal: 361ms\tremaining: 2.81s\n",
      "114:\tlearn: 0.0116723\ttest: 0.0163023\tbest: 0.0163023 (114)\ttotal: 381ms\tremaining: 2.93s\n",
      "115:\tlearn: 0.0114323\ttest: 0.0160720\tbest: 0.0160720 (115)\ttotal: 398ms\tremaining: 3.03s\n",
      "116:\tlearn: 0.0113139\ttest: 0.0159008\tbest: 0.0159008 (116)\ttotal: 400ms\tremaining: 3.02s\n",
      "117:\tlearn: 0.0112476\ttest: 0.0158267\tbest: 0.0158267 (117)\ttotal: 402ms\tremaining: 3s\n",
      "118:\tlearn: 0.0112151\ttest: 0.0157870\tbest: 0.0157870 (118)\ttotal: 416ms\tremaining: 3.08s\n",
      "119:\tlearn: 0.0111839\ttest: 0.0157514\tbest: 0.0157514 (119)\ttotal: 428ms\tremaining: 3.14s\n",
      "120:\tlearn: 0.0110633\ttest: 0.0156271\tbest: 0.0156271 (120)\ttotal: 441ms\tremaining: 3.2s\n",
      "121:\tlearn: 0.0110025\ttest: 0.0155375\tbest: 0.0155375 (121)\ttotal: 445ms\tremaining: 3.2s\n",
      "122:\tlearn: 0.0109116\ttest: 0.0154316\tbest: 0.0154316 (122)\ttotal: 447ms\tremaining: 3.19s\n",
      "123:\tlearn: 0.0108508\ttest: 0.0153214\tbest: 0.0153214 (123)\ttotal: 449ms\tremaining: 3.17s\n",
      "124:\tlearn: 0.0107751\ttest: 0.0152252\tbest: 0.0152252 (124)\ttotal: 465ms\tremaining: 3.25s\n",
      "125:\tlearn: 0.0107309\ttest: 0.0151787\tbest: 0.0151787 (125)\ttotal: 472ms\tremaining: 3.27s\n",
      "126:\tlearn: 0.0106659\ttest: 0.0151155\tbest: 0.0151155 (126)\ttotal: 480ms\tremaining: 3.3s\n",
      "127:\tlearn: 0.0106047\ttest: 0.0150642\tbest: 0.0150642 (127)\ttotal: 488ms\tremaining: 3.32s\n",
      "128:\tlearn: 0.0105288\ttest: 0.0149812\tbest: 0.0149812 (128)\ttotal: 490ms\tremaining: 3.31s\n",
      "129:\tlearn: 0.0105051\ttest: 0.0149500\tbest: 0.0149500 (129)\ttotal: 494ms\tremaining: 3.3s\n",
      "130:\tlearn: 0.0103924\ttest: 0.0148448\tbest: 0.0148448 (130)\ttotal: 505ms\tremaining: 3.35s\n",
      "131:\tlearn: 0.0103519\ttest: 0.0148192\tbest: 0.0148192 (131)\ttotal: 512ms\tremaining: 3.37s\n",
      "132:\tlearn: 0.0102869\ttest: 0.0147275\tbest: 0.0147275 (132)\ttotal: 522ms\tremaining: 3.4s\n",
      "133:\tlearn: 0.0102191\ttest: 0.0146038\tbest: 0.0146038 (133)\ttotal: 535ms\tremaining: 3.46s\n",
      "134:\tlearn: 0.0101063\ttest: 0.0145200\tbest: 0.0145200 (134)\ttotal: 538ms\tremaining: 3.45s\n",
      "135:\tlearn: 0.0099899\ttest: 0.0144064\tbest: 0.0144064 (135)\ttotal: 542ms\tremaining: 3.44s\n",
      "136:\tlearn: 0.0098669\ttest: 0.0142756\tbest: 0.0142756 (136)\ttotal: 546ms\tremaining: 3.44s\n",
      "137:\tlearn: 0.0095901\ttest: 0.0140174\tbest: 0.0140174 (137)\ttotal: 550ms\tremaining: 3.44s\n",
      "138:\tlearn: 0.0095364\ttest: 0.0139534\tbest: 0.0139534 (138)\ttotal: 560ms\tremaining: 3.47s\n",
      "139:\tlearn: 0.0094314\ttest: 0.0137760\tbest: 0.0137760 (139)\ttotal: 571ms\tremaining: 3.51s\n",
      "140:\tlearn: 0.0094012\ttest: 0.0137413\tbest: 0.0137413 (140)\ttotal: 575ms\tremaining: 3.5s\n",
      "141:\tlearn: 0.0091144\ttest: 0.0134865\tbest: 0.0134865 (141)\ttotal: 578ms\tremaining: 3.49s\n",
      "142:\tlearn: 0.0090455\ttest: 0.0134123\tbest: 0.0134123 (142)\ttotal: 579ms\tremaining: 3.47s\n",
      "143:\tlearn: 0.0089732\ttest: 0.0133253\tbest: 0.0133253 (143)\ttotal: 584ms\tremaining: 3.47s\n",
      "144:\tlearn: 0.0088999\ttest: 0.0132888\tbest: 0.0132888 (144)\ttotal: 587ms\tremaining: 3.46s\n",
      "145:\tlearn: 0.0088454\ttest: 0.0132247\tbest: 0.0132247 (145)\ttotal: 592ms\tremaining: 3.46s\n",
      "146:\tlearn: 0.0087661\ttest: 0.0131600\tbest: 0.0131600 (146)\ttotal: 596ms\tremaining: 3.46s\n",
      "147:\tlearn: 0.0087533\ttest: 0.0131458\tbest: 0.0131458 (147)\ttotal: 600ms\tremaining: 3.45s\n",
      "148:\tlearn: 0.0086423\ttest: 0.0130133\tbest: 0.0130133 (148)\ttotal: 604ms\tremaining: 3.45s\n",
      "149:\tlearn: 0.0085725\ttest: 0.0129495\tbest: 0.0129495 (149)\ttotal: 608ms\tremaining: 3.44s\n",
      "150:\tlearn: 0.0085098\ttest: 0.0128562\tbest: 0.0128562 (150)\ttotal: 612ms\tremaining: 3.44s\n",
      "151:\tlearn: 0.0084629\ttest: 0.0127932\tbest: 0.0127932 (151)\ttotal: 616ms\tremaining: 3.44s\n",
      "152:\tlearn: 0.0084586\ttest: 0.0127903\tbest: 0.0127903 (152)\ttotal: 618ms\tremaining: 3.42s\n",
      "153:\tlearn: 0.0084039\ttest: 0.0127557\tbest: 0.0127557 (153)\ttotal: 621ms\tremaining: 3.41s\n",
      "154:\tlearn: 0.0083155\ttest: 0.0126905\tbest: 0.0126905 (154)\ttotal: 624ms\tremaining: 3.4s\n",
      "155:\tlearn: 0.0082897\ttest: 0.0126554\tbest: 0.0126554 (155)\ttotal: 627ms\tremaining: 3.39s\n",
      "156:\tlearn: 0.0081764\ttest: 0.0126368\tbest: 0.0126368 (156)\ttotal: 630ms\tremaining: 3.38s\n",
      "157:\tlearn: 0.0081423\ttest: 0.0125762\tbest: 0.0125762 (157)\ttotal: 634ms\tremaining: 3.38s\n",
      "158:\tlearn: 0.0080696\ttest: 0.0125481\tbest: 0.0125481 (158)\ttotal: 637ms\tremaining: 3.37s\n",
      "159:\tlearn: 0.0080038\ttest: 0.0124763\tbest: 0.0124763 (159)\ttotal: 642ms\tremaining: 3.37s\n",
      "160:\tlearn: 0.0078858\ttest: 0.0124201\tbest: 0.0124201 (160)\ttotal: 645ms\tremaining: 3.36s\n",
      "161:\tlearn: 0.0078412\ttest: 0.0123420\tbest: 0.0123420 (161)\ttotal: 655ms\tremaining: 3.39s\n",
      "162:\tlearn: 0.0078144\ttest: 0.0123190\tbest: 0.0123190 (162)\ttotal: 658ms\tremaining: 3.38s\n",
      "163:\tlearn: 0.0076388\ttest: 0.0122316\tbest: 0.0122316 (163)\ttotal: 696ms\tremaining: 3.54s\n",
      "164:\tlearn: 0.0075971\ttest: 0.0121715\tbest: 0.0121715 (164)\ttotal: 698ms\tremaining: 3.53s\n",
      "165:\tlearn: 0.0075534\ttest: 0.0121192\tbest: 0.0121192 (165)\ttotal: 701ms\tremaining: 3.52s\n",
      "166:\tlearn: 0.0075266\ttest: 0.0120955\tbest: 0.0120955 (166)\ttotal: 795ms\tremaining: 3.96s\n",
      "167:\tlearn: 0.0074949\ttest: 0.0120622\tbest: 0.0120622 (167)\ttotal: 796ms\tremaining: 3.94s\n",
      "168:\tlearn: 0.0074890\ttest: 0.0120554\tbest: 0.0120554 (168)\ttotal: 798ms\tremaining: 3.92s\n",
      "169:\tlearn: 0.0074405\ttest: 0.0119889\tbest: 0.0119889 (169)\ttotal: 845ms\tremaining: 4.12s\n",
      "170:\tlearn: 0.0074094\ttest: 0.0119288\tbest: 0.0119288 (170)\ttotal: 847ms\tremaining: 4.1s\n",
      "171:\tlearn: 0.0073702\ttest: 0.0118708\tbest: 0.0118708 (171)\ttotal: 855ms\tremaining: 4.11s\n",
      "172:\tlearn: 0.0073283\ttest: 0.0118377\tbest: 0.0118377 (172)\ttotal: 866ms\tremaining: 4.14s\n",
      "173:\tlearn: 0.0073090\ttest: 0.0118144\tbest: 0.0118144 (173)\ttotal: 872ms\tremaining: 4.14s\n",
      "174:\tlearn: 0.0072909\ttest: 0.0118124\tbest: 0.0118124 (174)\ttotal: 875ms\tremaining: 4.13s\n",
      "175:\tlearn: 0.0072566\ttest: 0.0117724\tbest: 0.0117724 (175)\ttotal: 888ms\tremaining: 4.16s\n",
      "176:\tlearn: 0.0071688\ttest: 0.0116795\tbest: 0.0116795 (176)\ttotal: 891ms\tremaining: 4.14s\n",
      "177:\tlearn: 0.0070855\ttest: 0.0116021\tbest: 0.0116021 (177)\ttotal: 893ms\tremaining: 4.12s\n",
      "178:\tlearn: 0.0070392\ttest: 0.0115473\tbest: 0.0115473 (178)\ttotal: 895ms\tremaining: 4.1s\n",
      "179:\tlearn: 0.0070383\ttest: 0.0115463\tbest: 0.0115463 (179)\ttotal: 896ms\tremaining: 4.08s\n",
      "180:\tlearn: 0.0070211\ttest: 0.0115256\tbest: 0.0115256 (180)\ttotal: 899ms\tremaining: 4.07s\n",
      "181:\tlearn: 0.0070087\ttest: 0.0115217\tbest: 0.0115217 (181)\ttotal: 902ms\tremaining: 4.05s\n",
      "182:\tlearn: 0.0069623\ttest: 0.0114585\tbest: 0.0114585 (182)\ttotal: 904ms\tremaining: 4.04s\n",
      "183:\tlearn: 0.0068355\ttest: 0.0113789\tbest: 0.0113789 (183)\ttotal: 907ms\tremaining: 4.02s\n",
      "184:\tlearn: 0.0067866\ttest: 0.0113000\tbest: 0.0113000 (184)\ttotal: 910ms\tremaining: 4.01s\n",
      "185:\tlearn: 0.0067502\ttest: 0.0112393\tbest: 0.0112393 (185)\ttotal: 913ms\tremaining: 3.99s\n",
      "186:\tlearn: 0.0066707\ttest: 0.0111280\tbest: 0.0111280 (186)\ttotal: 916ms\tremaining: 3.98s\n",
      "187:\tlearn: 0.0066599\ttest: 0.0111115\tbest: 0.0111115 (187)\ttotal: 918ms\tremaining: 3.96s\n",
      "188:\tlearn: 0.0065771\ttest: 0.0110659\tbest: 0.0110659 (188)\ttotal: 921ms\tremaining: 3.95s\n",
      "189:\tlearn: 0.0065356\ttest: 0.0109947\tbest: 0.0109947 (189)\ttotal: 924ms\tremaining: 3.94s\n",
      "190:\tlearn: 0.0065086\ttest: 0.0109582\tbest: 0.0109582 (190)\ttotal: 926ms\tremaining: 3.92s\n",
      "191:\tlearn: 0.0064875\ttest: 0.0109307\tbest: 0.0109307 (191)\ttotal: 929ms\tremaining: 3.91s\n",
      "192:\tlearn: 0.0063856\ttest: 0.0109263\tbest: 0.0109263 (192)\ttotal: 932ms\tremaining: 3.9s\n",
      "193:\tlearn: 0.0063300\ttest: 0.0108908\tbest: 0.0108908 (193)\ttotal: 934ms\tremaining: 3.88s\n",
      "194:\tlearn: 0.0062774\ttest: 0.0107993\tbest: 0.0107993 (194)\ttotal: 935ms\tremaining: 3.86s\n",
      "195:\tlearn: 0.0062583\ttest: 0.0107732\tbest: 0.0107732 (195)\ttotal: 937ms\tremaining: 3.84s\n",
      "196:\tlearn: 0.0061618\ttest: 0.0107498\tbest: 0.0107498 (196)\ttotal: 940ms\tremaining: 3.83s\n",
      "197:\tlearn: 0.0060357\ttest: 0.0107001\tbest: 0.0107001 (197)\ttotal: 943ms\tremaining: 3.82s\n",
      "198:\tlearn: 0.0059647\ttest: 0.0106028\tbest: 0.0106028 (198)\ttotal: 946ms\tremaining: 3.81s\n",
      "199:\tlearn: 0.0059047\ttest: 0.0105736\tbest: 0.0105736 (199)\ttotal: 948ms\tremaining: 3.79s\n",
      "200:\tlearn: 0.0058322\ttest: 0.0105072\tbest: 0.0105072 (200)\ttotal: 951ms\tremaining: 3.78s\n",
      "201:\tlearn: 0.0057796\ttest: 0.0104137\tbest: 0.0104137 (201)\ttotal: 953ms\tremaining: 3.77s\n",
      "202:\tlearn: 0.0057640\ttest: 0.0103984\tbest: 0.0103984 (202)\ttotal: 956ms\tremaining: 3.75s\n",
      "203:\tlearn: 0.0057550\ttest: 0.0103963\tbest: 0.0103963 (203)\ttotal: 959ms\tremaining: 3.74s\n",
      "204:\tlearn: 0.0057350\ttest: 0.0103818\tbest: 0.0103818 (204)\ttotal: 962ms\tremaining: 3.73s\n",
      "205:\tlearn: 0.0056347\ttest: 0.0102502\tbest: 0.0102502 (205)\ttotal: 965ms\tremaining: 3.72s\n",
      "206:\tlearn: 0.0055962\ttest: 0.0101700\tbest: 0.0101700 (206)\ttotal: 968ms\tremaining: 3.71s\n",
      "207:\tlearn: 0.0055802\ttest: 0.0101468\tbest: 0.0101468 (207)\ttotal: 971ms\tremaining: 3.7s\n",
      "208:\tlearn: 0.0055085\ttest: 0.0100600\tbest: 0.0100600 (208)\ttotal: 974ms\tremaining: 3.69s\n",
      "209:\tlearn: 0.0054867\ttest: 0.0100191\tbest: 0.0100191 (209)\ttotal: 977ms\tremaining: 3.67s\n"
     ]
    },
    {
     "name": "stdout",
     "output_type": "stream",
     "text": [
      "210:\tlearn: 0.0054157\ttest: 0.0099402\tbest: 0.0099402 (210)\ttotal: 979ms\tremaining: 3.66s\n",
      "211:\tlearn: 0.0053941\ttest: 0.0099292\tbest: 0.0099292 (211)\ttotal: 983ms\tremaining: 3.65s\n",
      "212:\tlearn: 0.0053419\ttest: 0.0098588\tbest: 0.0098588 (212)\ttotal: 1.03s\tremaining: 3.79s\n",
      "213:\tlearn: 0.0052423\ttest: 0.0098024\tbest: 0.0098024 (213)\ttotal: 1.03s\tremaining: 3.78s\n",
      "214:\tlearn: 0.0052163\ttest: 0.0097505\tbest: 0.0097505 (214)\ttotal: 1.04s\tremaining: 3.78s\n",
      "215:\tlearn: 0.0051406\ttest: 0.0096540\tbest: 0.0096540 (215)\ttotal: 1.04s\tremaining: 3.78s\n",
      "216:\tlearn: 0.0051222\ttest: 0.0096272\tbest: 0.0096272 (216)\ttotal: 1.04s\tremaining: 3.77s\n",
      "217:\tlearn: 0.0050364\ttest: 0.0095583\tbest: 0.0095583 (217)\ttotal: 1.05s\tremaining: 3.77s\n",
      "218:\tlearn: 0.0050245\ttest: 0.0095210\tbest: 0.0095210 (218)\ttotal: 1.05s\tremaining: 3.76s\n",
      "219:\tlearn: 0.0049376\ttest: 0.0094746\tbest: 0.0094746 (219)\ttotal: 1.06s\tremaining: 3.77s\n",
      "220:\tlearn: 0.0049080\ttest: 0.0094289\tbest: 0.0094289 (220)\ttotal: 1.07s\tremaining: 3.76s\n",
      "221:\tlearn: 0.0048918\ttest: 0.0094113\tbest: 0.0094113 (221)\ttotal: 1.07s\tremaining: 3.75s\n",
      "222:\tlearn: 0.0048763\ttest: 0.0093912\tbest: 0.0093912 (222)\ttotal: 1.07s\tremaining: 3.74s\n",
      "223:\tlearn: 0.0048733\ttest: 0.0093898\tbest: 0.0093898 (223)\ttotal: 1.07s\tremaining: 3.72s\n",
      "224:\tlearn: 0.0048665\ttest: 0.0093762\tbest: 0.0093762 (224)\ttotal: 1.08s\tremaining: 3.71s\n",
      "225:\tlearn: 0.0048132\ttest: 0.0092771\tbest: 0.0092771 (225)\ttotal: 1.08s\tremaining: 3.7s\n",
      "226:\tlearn: 0.0046980\ttest: 0.0092036\tbest: 0.0092036 (226)\ttotal: 1.08s\tremaining: 3.69s\n",
      "227:\tlearn: 0.0046594\ttest: 0.0091476\tbest: 0.0091476 (227)\ttotal: 1.09s\tremaining: 3.69s\n",
      "228:\tlearn: 0.0046432\ttest: 0.0091325\tbest: 0.0091325 (228)\ttotal: 1.09s\tremaining: 3.69s\n",
      "229:\tlearn: 0.0045813\ttest: 0.0091242\tbest: 0.0091242 (229)\ttotal: 1.1s\tremaining: 3.68s\n",
      "230:\tlearn: 0.0045525\ttest: 0.0090791\tbest: 0.0090791 (230)\ttotal: 1.1s\tremaining: 3.67s\n",
      "231:\tlearn: 0.0044517\ttest: 0.0090430\tbest: 0.0090430 (231)\ttotal: 1.11s\tremaining: 3.67s\n",
      "232:\tlearn: 0.0044375\ttest: 0.0090201\tbest: 0.0090201 (232)\ttotal: 1.11s\tremaining: 3.66s\n",
      "233:\tlearn: 0.0044291\ttest: 0.0090121\tbest: 0.0090121 (233)\ttotal: 1.11s\tremaining: 3.65s\n",
      "234:\tlearn: 0.0044167\ttest: 0.0089931\tbest: 0.0089931 (234)\ttotal: 1.11s\tremaining: 3.63s\n",
      "235:\tlearn: 0.0043968\ttest: 0.0089601\tbest: 0.0089601 (235)\ttotal: 1.12s\tremaining: 3.62s\n",
      "236:\tlearn: 0.0043895\ttest: 0.0089546\tbest: 0.0089546 (236)\ttotal: 1.12s\tremaining: 3.6s\n",
      "237:\tlearn: 0.0043674\ttest: 0.0089244\tbest: 0.0089244 (237)\ttotal: 1.12s\tremaining: 3.59s\n",
      "238:\tlearn: 0.0042844\ttest: 0.0088656\tbest: 0.0088656 (238)\ttotal: 1.13s\tremaining: 3.59s\n",
      "239:\tlearn: 0.0042436\ttest: 0.0088512\tbest: 0.0088512 (239)\ttotal: 1.13s\tremaining: 3.59s\n",
      "240:\tlearn: 0.0042333\ttest: 0.0088409\tbest: 0.0088409 (240)\ttotal: 1.14s\tremaining: 3.58s\n",
      "241:\tlearn: 0.0042150\ttest: 0.0088126\tbest: 0.0088126 (241)\ttotal: 1.14s\tremaining: 3.58s\n",
      "242:\tlearn: 0.0042063\ttest: 0.0087875\tbest: 0.0087875 (242)\ttotal: 1.15s\tremaining: 3.57s\n",
      "243:\tlearn: 0.0041843\ttest: 0.0087519\tbest: 0.0087519 (243)\ttotal: 1.17s\tremaining: 3.64s\n",
      "244:\tlearn: 0.0041652\ttest: 0.0087256\tbest: 0.0087256 (244)\ttotal: 1.18s\tremaining: 3.63s\n",
      "245:\tlearn: 0.0041410\ttest: 0.0086845\tbest: 0.0086845 (245)\ttotal: 1.19s\tremaining: 3.64s\n",
      "246:\tlearn: 0.0041266\ttest: 0.0086535\tbest: 0.0086535 (246)\ttotal: 1.2s\tremaining: 3.65s\n",
      "247:\tlearn: 0.0040456\ttest: 0.0085850\tbest: 0.0085850 (247)\ttotal: 1.2s\tremaining: 3.64s\n",
      "248:\tlearn: 0.0039606\ttest: 0.0085406\tbest: 0.0085406 (248)\ttotal: 1.22s\tremaining: 3.69s\n",
      "249:\tlearn: 0.0039442\ttest: 0.0085134\tbest: 0.0085134 (249)\ttotal: 1.24s\tremaining: 3.71s\n",
      "250:\tlearn: 0.0038776\ttest: 0.0084766\tbest: 0.0084766 (250)\ttotal: 1.24s\tremaining: 3.71s\n",
      "251:\tlearn: 0.0038586\ttest: 0.0084276\tbest: 0.0084276 (251)\ttotal: 1.25s\tremaining: 3.71s\n",
      "252:\tlearn: 0.0038368\ttest: 0.0083926\tbest: 0.0083926 (252)\ttotal: 1.28s\tremaining: 3.78s\n",
      "253:\tlearn: 0.0038293\ttest: 0.0083830\tbest: 0.0083830 (253)\ttotal: 1.29s\tremaining: 3.78s\n",
      "254:\tlearn: 0.0037890\ttest: 0.0083675\tbest: 0.0083675 (254)\ttotal: 1.29s\tremaining: 3.78s\n",
      "255:\tlearn: 0.0037676\ttest: 0.0083623\tbest: 0.0083623 (255)\ttotal: 1.3s\tremaining: 3.77s\n",
      "256:\tlearn: 0.0037606\ttest: 0.0083347\tbest: 0.0083347 (256)\ttotal: 1.31s\tremaining: 3.8s\n",
      "257:\tlearn: 0.0037289\ttest: 0.0083291\tbest: 0.0083291 (257)\ttotal: 1.32s\tremaining: 3.81s\n",
      "258:\tlearn: 0.0037205\ttest: 0.0083115\tbest: 0.0083115 (258)\ttotal: 1.33s\tremaining: 3.8s\n",
      "259:\tlearn: 0.0037055\ttest: 0.0082725\tbest: 0.0082725 (259)\ttotal: 1.33s\tremaining: 3.79s\n",
      "260:\tlearn: 0.0036752\ttest: 0.0082265\tbest: 0.0082265 (260)\ttotal: 1.33s\tremaining: 3.77s\n",
      "261:\tlearn: 0.0036486\ttest: 0.0081915\tbest: 0.0081915 (261)\ttotal: 1.34s\tremaining: 3.76s\n",
      "262:\tlearn: 0.0036368\ttest: 0.0081743\tbest: 0.0081743 (262)\ttotal: 1.34s\tremaining: 3.75s\n",
      "263:\tlearn: 0.0036368\ttest: 0.0081744\tbest: 0.0081743 (262)\ttotal: 1.34s\tremaining: 3.74s\n",
      "264:\tlearn: 0.0036306\ttest: 0.0081709\tbest: 0.0081709 (264)\ttotal: 1.34s\tremaining: 3.73s\n",
      "265:\tlearn: 0.0036212\ttest: 0.0081558\tbest: 0.0081558 (265)\ttotal: 1.37s\tremaining: 3.79s\n",
      "266:\tlearn: 0.0036174\ttest: 0.0081468\tbest: 0.0081468 (266)\ttotal: 1.38s\tremaining: 3.78s\n",
      "267:\tlearn: 0.0035772\ttest: 0.0081364\tbest: 0.0081364 (267)\ttotal: 1.38s\tremaining: 3.78s\n",
      "268:\tlearn: 0.0035542\ttest: 0.0080973\tbest: 0.0080973 (268)\ttotal: 1.39s\tremaining: 3.77s\n",
      "269:\tlearn: 0.0035466\ttest: 0.0080958\tbest: 0.0080958 (269)\ttotal: 1.39s\tremaining: 3.76s\n",
      "270:\tlearn: 0.0034979\ttest: 0.0080171\tbest: 0.0080171 (270)\ttotal: 1.42s\tremaining: 3.81s\n",
      "271:\tlearn: 0.0034842\ttest: 0.0079916\tbest: 0.0079916 (271)\ttotal: 1.42s\tremaining: 3.8s\n",
      "272:\tlearn: 0.0034686\ttest: 0.0079472\tbest: 0.0079472 (272)\ttotal: 1.42s\tremaining: 3.79s\n",
      "273:\tlearn: 0.0034653\ttest: 0.0079458\tbest: 0.0079458 (273)\ttotal: 1.43s\tremaining: 3.78s\n",
      "274:\tlearn: 0.0034524\ttest: 0.0079235\tbest: 0.0079235 (274)\ttotal: 1.43s\tremaining: 3.77s\n",
      "275:\tlearn: 0.0034389\ttest: 0.0078849\tbest: 0.0078849 (275)\ttotal: 1.43s\tremaining: 3.76s\n",
      "276:\tlearn: 0.0034123\ttest: 0.0078705\tbest: 0.0078705 (276)\ttotal: 1.44s\tremaining: 3.75s\n",
      "277:\tlearn: 0.0033923\ttest: 0.0078557\tbest: 0.0078557 (277)\ttotal: 1.44s\tremaining: 3.74s\n",
      "278:\tlearn: 0.0033839\ttest: 0.0078384\tbest: 0.0078384 (278)\ttotal: 1.44s\tremaining: 3.73s\n",
      "279:\tlearn: 0.0033713\ttest: 0.0078150\tbest: 0.0078150 (279)\ttotal: 1.45s\tremaining: 3.73s\n",
      "280:\tlearn: 0.0033696\ttest: 0.0078167\tbest: 0.0078150 (279)\ttotal: 1.46s\tremaining: 3.72s\n",
      "281:\tlearn: 0.0033215\ttest: 0.0078029\tbest: 0.0078029 (281)\ttotal: 1.46s\tremaining: 3.71s\n",
      "282:\tlearn: 0.0033112\ttest: 0.0077958\tbest: 0.0077958 (282)\ttotal: 1.46s\tremaining: 3.71s\n",
      "283:\tlearn: 0.0032650\ttest: 0.0078033\tbest: 0.0077958 (282)\ttotal: 1.47s\tremaining: 3.7s\n",
      "284:\tlearn: 0.0032531\ttest: 0.0077819\tbest: 0.0077819 (284)\ttotal: 1.47s\tremaining: 3.69s\n",
      "285:\tlearn: 0.0032369\ttest: 0.0077348\tbest: 0.0077348 (285)\ttotal: 1.47s\tremaining: 3.67s\n",
      "286:\tlearn: 0.0032254\ttest: 0.0077138\tbest: 0.0077138 (286)\ttotal: 1.47s\tremaining: 3.66s\n",
      "287:\tlearn: 0.0032145\ttest: 0.0076933\tbest: 0.0076933 (287)\ttotal: 1.48s\tremaining: 3.65s\n",
      "288:\tlearn: 0.0032058\ttest: 0.0076840\tbest: 0.0076840 (288)\ttotal: 1.48s\tremaining: 3.64s\n",
      "289:\tlearn: 0.0031940\ttest: 0.0076565\tbest: 0.0076565 (289)\ttotal: 1.48s\tremaining: 3.63s\n",
      "290:\tlearn: 0.0031832\ttest: 0.0076373\tbest: 0.0076373 (290)\ttotal: 1.49s\tremaining: 3.62s\n",
      "291:\tlearn: 0.0031398\ttest: 0.0076466\tbest: 0.0076373 (290)\ttotal: 1.49s\tremaining: 3.61s\n",
      "292:\tlearn: 0.0031233\ttest: 0.0075935\tbest: 0.0075935 (292)\ttotal: 1.49s\tremaining: 3.6s\n",
      "293:\tlearn: 0.0030798\ttest: 0.0076036\tbest: 0.0075935 (292)\ttotal: 1.49s\tremaining: 3.59s\n",
      "294:\tlearn: 0.0030700\ttest: 0.0075860\tbest: 0.0075860 (294)\ttotal: 1.5s\tremaining: 3.58s\n",
      "295:\tlearn: 0.0030277\ttest: 0.0075963\tbest: 0.0075860 (294)\ttotal: 1.5s\tremaining: 3.58s\n",
      "296:\tlearn: 0.0029835\ttest: 0.0075767\tbest: 0.0075767 (296)\ttotal: 1.51s\tremaining: 3.57s\n",
      "297:\tlearn: 0.0029441\ttest: 0.0076166\tbest: 0.0075767 (296)\ttotal: 1.51s\tremaining: 3.56s\n",
      "298:\tlearn: 0.0029059\ttest: 0.0076115\tbest: 0.0075767 (296)\ttotal: 1.51s\tremaining: 3.55s\n",
      "299:\tlearn: 0.0028692\ttest: 0.0076260\tbest: 0.0075767 (296)\ttotal: 1.51s\tremaining: 3.53s\n",
      "300:\tlearn: 0.0028581\ttest: 0.0076041\tbest: 0.0075767 (296)\ttotal: 1.52s\tremaining: 3.52s\n",
      "301:\tlearn: 0.0028547\ttest: 0.0076034\tbest: 0.0075767 (296)\ttotal: 1.52s\tremaining: 3.51s\n",
      "302:\tlearn: 0.0028441\ttest: 0.0075803\tbest: 0.0075767 (296)\ttotal: 1.52s\tremaining: 3.5s\n",
      "303:\tlearn: 0.0028336\ttest: 0.0075593\tbest: 0.0075593 (303)\ttotal: 1.52s\tremaining: 3.49s\n",
      "304:\tlearn: 0.0028234\ttest: 0.0075374\tbest: 0.0075374 (304)\ttotal: 1.53s\tremaining: 3.48s\n",
      "305:\tlearn: 0.0027885\ttest: 0.0075534\tbest: 0.0075374 (304)\ttotal: 1.53s\tremaining: 3.47s\n",
      "306:\tlearn: 0.0027785\ttest: 0.0075319\tbest: 0.0075319 (306)\ttotal: 1.53s\tremaining: 3.46s\n",
      "307:\tlearn: 0.0027688\ttest: 0.0075109\tbest: 0.0075109 (307)\ttotal: 1.54s\tremaining: 3.45s\n",
      "308:\tlearn: 0.0027234\ttest: 0.0074995\tbest: 0.0074995 (308)\ttotal: 1.54s\tremaining: 3.44s\n",
      "309:\tlearn: 0.0027140\ttest: 0.0074798\tbest: 0.0074798 (309)\ttotal: 1.54s\tremaining: 3.44s\n",
      "310:\tlearn: 0.0027051\ttest: 0.0074541\tbest: 0.0074541 (310)\ttotal: 1.55s\tremaining: 3.43s\n"
     ]
    },
    {
     "name": "stdout",
     "output_type": "stream",
     "text": [
      "311:\tlearn: 0.0026960\ttest: 0.0074352\tbest: 0.0074352 (311)\ttotal: 1.55s\tremaining: 3.42s\n",
      "312:\tlearn: 0.0026529\ttest: 0.0074101\tbest: 0.0074101 (312)\ttotal: 1.55s\tremaining: 3.41s\n",
      "313:\tlearn: 0.0026441\ttest: 0.0073929\tbest: 0.0073929 (313)\ttotal: 1.56s\tremaining: 3.41s\n",
      "314:\tlearn: 0.0026326\ttest: 0.0073500\tbest: 0.0073500 (314)\ttotal: 1.56s\tremaining: 3.4s\n",
      "315:\tlearn: 0.0025916\ttest: 0.0073428\tbest: 0.0073428 (315)\ttotal: 1.56s\tremaining: 3.38s\n",
      "316:\tlearn: 0.0025598\ttest: 0.0073595\tbest: 0.0073428 (315)\ttotal: 1.57s\tremaining: 3.37s\n",
      "317:\tlearn: 0.0025294\ttest: 0.0074022\tbest: 0.0073428 (315)\ttotal: 1.57s\tremaining: 3.37s\n",
      "318:\tlearn: 0.0025185\ttest: 0.0073606\tbest: 0.0073428 (315)\ttotal: 1.57s\tremaining: 3.36s\n",
      "319:\tlearn: 0.0025105\ttest: 0.0073454\tbest: 0.0073428 (315)\ttotal: 1.57s\tremaining: 3.35s\n",
      "320:\tlearn: 0.0024732\ttest: 0.0073256\tbest: 0.0073256 (320)\ttotal: 1.58s\tremaining: 3.34s\n",
      "321:\tlearn: 0.0024632\ttest: 0.0072927\tbest: 0.0072927 (321)\ttotal: 1.58s\tremaining: 3.33s\n",
      "322:\tlearn: 0.0024574\ttest: 0.0072821\tbest: 0.0072821 (322)\ttotal: 1.59s\tremaining: 3.33s\n",
      "323:\tlearn: 0.0024476\ttest: 0.0072624\tbest: 0.0072624 (323)\ttotal: 1.59s\tremaining: 3.32s\n",
      "324:\tlearn: 0.0024379\ttest: 0.0072245\tbest: 0.0072245 (324)\ttotal: 1.59s\tremaining: 3.31s\n",
      "325:\tlearn: 0.0024285\ttest: 0.0072011\tbest: 0.0072011 (325)\ttotal: 1.6s\tremaining: 3.3s\n",
      "326:\tlearn: 0.0024223\ttest: 0.0071935\tbest: 0.0071935 (326)\ttotal: 1.6s\tremaining: 3.29s\n",
      "327:\tlearn: 0.0023872\ttest: 0.0071762\tbest: 0.0071762 (327)\ttotal: 1.6s\tremaining: 3.28s\n",
      "328:\tlearn: 0.0023784\ttest: 0.0071461\tbest: 0.0071461 (328)\ttotal: 1.6s\tremaining: 3.27s\n",
      "329:\tlearn: 0.0023447\ttest: 0.0071448\tbest: 0.0071448 (329)\ttotal: 1.61s\tremaining: 3.26s\n",
      "330:\tlearn: 0.0023399\ttest: 0.0071302\tbest: 0.0071302 (330)\ttotal: 1.61s\tremaining: 3.25s\n",
      "331:\tlearn: 0.0023316\ttest: 0.0071012\tbest: 0.0071012 (331)\ttotal: 1.61s\tremaining: 3.24s\n",
      "332:\tlearn: 0.0023235\ttest: 0.0070730\tbest: 0.0070730 (332)\ttotal: 1.61s\tremaining: 3.24s\n",
      "333:\tlearn: 0.0023156\ttest: 0.0070403\tbest: 0.0070403 (333)\ttotal: 1.62s\tremaining: 3.23s\n",
      "334:\tlearn: 0.0023080\ttest: 0.0070135\tbest: 0.0070135 (334)\ttotal: 1.62s\tremaining: 3.22s\n",
      "335:\tlearn: 0.0023007\ttest: 0.0069828\tbest: 0.0069828 (335)\ttotal: 1.62s\tremaining: 3.21s\n",
      "336:\tlearn: 0.0022934\ttest: 0.0069529\tbest: 0.0069529 (336)\ttotal: 1.63s\tremaining: 3.2s\n",
      "337:\tlearn: 0.0022778\ttest: 0.0069654\tbest: 0.0069529 (336)\ttotal: 1.63s\tremaining: 3.19s\n",
      "338:\tlearn: 0.0022696\ttest: 0.0069450\tbest: 0.0069450 (338)\ttotal: 1.63s\tremaining: 3.18s\n",
      "339:\tlearn: 0.0022546\ttest: 0.0069575\tbest: 0.0069450 (338)\ttotal: 1.64s\tremaining: 3.17s\n",
      "340:\tlearn: 0.0022466\ttest: 0.0069375\tbest: 0.0069375 (340)\ttotal: 1.64s\tremaining: 3.16s\n",
      "341:\tlearn: 0.0022397\ttest: 0.0069081\tbest: 0.0069081 (341)\ttotal: 1.64s\tremaining: 3.15s\n",
      "342:\tlearn: 0.0022319\ttest: 0.0068921\tbest: 0.0068921 (342)\ttotal: 1.64s\tremaining: 3.14s\n",
      "343:\tlearn: 0.0022244\ttest: 0.0068732\tbest: 0.0068732 (343)\ttotal: 1.64s\tremaining: 3.13s\n",
      "344:\tlearn: 0.0022178\ttest: 0.0068447\tbest: 0.0068447 (344)\ttotal: 1.65s\tremaining: 3.12s\n",
      "345:\tlearn: 0.0022114\ttest: 0.0068171\tbest: 0.0068171 (345)\ttotal: 1.65s\tremaining: 3.11s\n",
      "346:\tlearn: 0.0021968\ttest: 0.0068298\tbest: 0.0068171 (345)\ttotal: 1.65s\tremaining: 3.1s\n",
      "347:\tlearn: 0.0021905\ttest: 0.0068027\tbest: 0.0068027 (347)\ttotal: 1.65s\tremaining: 3.09s\n",
      "348:\tlearn: 0.0021832\ttest: 0.0067847\tbest: 0.0067847 (348)\ttotal: 1.65s\tremaining: 3.08s\n",
      "349:\tlearn: 0.0021764\ttest: 0.0067671\tbest: 0.0067671 (349)\ttotal: 1.65s\tremaining: 3.07s\n",
      "350:\tlearn: 0.0021713\ttest: 0.0067627\tbest: 0.0067627 (350)\ttotal: 1.66s\tremaining: 3.07s\n",
      "351:\tlearn: 0.0021572\ttest: 0.0067755\tbest: 0.0067627 (350)\ttotal: 1.67s\tremaining: 3.07s\n",
      "352:\tlearn: 0.0021521\ttest: 0.0067710\tbest: 0.0067627 (350)\ttotal: 1.68s\tremaining: 3.08s\n",
      "353:\tlearn: 0.0021472\ttest: 0.0067665\tbest: 0.0067627 (350)\ttotal: 1.68s\tremaining: 3.07s\n",
      "354:\tlearn: 0.0021472\ttest: 0.0067664\tbest: 0.0067627 (350)\ttotal: 1.68s\tremaining: 3.06s\n",
      "355:\tlearn: 0.0021424\ttest: 0.0067652\tbest: 0.0067627 (350)\ttotal: 1.68s\tremaining: 3.04s\n",
      "356:\tlearn: 0.0021423\ttest: 0.0067651\tbest: 0.0067627 (350)\ttotal: 1.69s\tremaining: 3.04s\n",
      "357:\tlearn: 0.0021376\ttest: 0.0067639\tbest: 0.0067627 (350)\ttotal: 1.69s\tremaining: 3.02s\n",
      "358:\tlearn: 0.0021376\ttest: 0.0067639\tbest: 0.0067627 (350)\ttotal: 1.69s\tremaining: 3.01s\n",
      "359:\tlearn: 0.0021329\ttest: 0.0067626\tbest: 0.0067626 (359)\ttotal: 1.69s\tremaining: 3s\n",
      "360:\tlearn: 0.0021283\ttest: 0.0067613\tbest: 0.0067613 (360)\ttotal: 1.69s\tremaining: 3s\n",
      "361:\tlearn: 0.0021142\ttest: 0.0067750\tbest: 0.0067613 (360)\ttotal: 1.69s\tremaining: 2.98s\n",
      "362:\tlearn: 0.0021096\ttest: 0.0067737\tbest: 0.0067613 (360)\ttotal: 1.7s\tremaining: 2.98s\n",
      "363:\tlearn: 0.0021085\ttest: 0.0067703\tbest: 0.0067613 (360)\ttotal: 1.7s\tremaining: 2.96s\n",
      "364:\tlearn: 0.0021040\ttest: 0.0067690\tbest: 0.0067613 (360)\ttotal: 1.7s\tremaining: 2.96s\n",
      "365:\tlearn: 0.0021040\ttest: 0.0067690\tbest: 0.0067613 (360)\ttotal: 1.7s\tremaining: 2.95s\n",
      "366:\tlearn: 0.0020995\ttest: 0.0067677\tbest: 0.0067613 (360)\ttotal: 1.7s\tremaining: 2.94s\n",
      "367:\tlearn: 0.0020995\ttest: 0.0067676\tbest: 0.0067613 (360)\ttotal: 1.71s\tremaining: 2.93s\n",
      "368:\tlearn: 0.0020952\ttest: 0.0067663\tbest: 0.0067613 (360)\ttotal: 1.71s\tremaining: 2.92s\n",
      "369:\tlearn: 0.0020911\ttest: 0.0067588\tbest: 0.0067588 (369)\ttotal: 1.71s\tremaining: 2.91s\n",
      "370:\tlearn: 0.0020772\ttest: 0.0067729\tbest: 0.0067588 (369)\ttotal: 1.71s\tremaining: 2.9s\n",
      "371:\tlearn: 0.0020772\ttest: 0.0067728\tbest: 0.0067588 (369)\ttotal: 1.71s\tremaining: 2.89s\n",
      "372:\tlearn: 0.0020772\ttest: 0.0067728\tbest: 0.0067588 (369)\ttotal: 1.72s\tremaining: 2.88s\n",
      "373:\tlearn: 0.0020772\ttest: 0.0067728\tbest: 0.0067588 (369)\ttotal: 1.72s\tremaining: 2.88s\n",
      "374:\tlearn: 0.0020772\ttest: 0.0067728\tbest: 0.0067588 (369)\ttotal: 1.72s\tremaining: 2.87s\n",
      "375:\tlearn: 0.0020772\ttest: 0.0067728\tbest: 0.0067588 (369)\ttotal: 1.73s\tremaining: 2.86s\n",
      "376:\tlearn: 0.0020772\ttest: 0.0067727\tbest: 0.0067588 (369)\ttotal: 1.73s\tremaining: 2.85s\n",
      "377:\tlearn: 0.0020771\ttest: 0.0067727\tbest: 0.0067588 (369)\ttotal: 1.73s\tremaining: 2.85s\n",
      "378:\tlearn: 0.0020771\ttest: 0.0067727\tbest: 0.0067588 (369)\ttotal: 1.73s\tremaining: 2.84s\n",
      "379:\tlearn: 0.0020771\ttest: 0.0067727\tbest: 0.0067588 (369)\ttotal: 1.73s\tremaining: 2.83s\n",
      "380:\tlearn: 0.0020727\ttest: 0.0067714\tbest: 0.0067588 (369)\ttotal: 1.74s\tremaining: 2.82s\n",
      "381:\tlearn: 0.0020684\ttest: 0.0067702\tbest: 0.0067588 (369)\ttotal: 1.74s\tremaining: 2.81s\n",
      "382:\tlearn: 0.0020684\ttest: 0.0067702\tbest: 0.0067588 (369)\ttotal: 1.74s\tremaining: 2.8s\n",
      "383:\tlearn: 0.0020684\ttest: 0.0067701\tbest: 0.0067588 (369)\ttotal: 1.74s\tremaining: 2.79s\n",
      "384:\tlearn: 0.0020684\ttest: 0.0067701\tbest: 0.0067588 (369)\ttotal: 1.74s\tremaining: 2.79s\n",
      "385:\tlearn: 0.0020684\ttest: 0.0067701\tbest: 0.0067588 (369)\ttotal: 1.75s\tremaining: 2.78s\n",
      "386:\tlearn: 0.0020685\ttest: 0.0067701\tbest: 0.0067588 (369)\ttotal: 1.75s\tremaining: 2.77s\n",
      "387:\tlearn: 0.0020684\ttest: 0.0067701\tbest: 0.0067588 (369)\ttotal: 1.75s\tremaining: 2.76s\n",
      "388:\tlearn: 0.0020684\ttest: 0.0067700\tbest: 0.0067588 (369)\ttotal: 1.75s\tremaining: 2.75s\n",
      "389:\tlearn: 0.0020684\ttest: 0.0067700\tbest: 0.0067588 (369)\ttotal: 1.75s\tremaining: 2.74s\n",
      "390:\tlearn: 0.0020684\ttest: 0.0067700\tbest: 0.0067588 (369)\ttotal: 1.75s\tremaining: 2.73s\n",
      "391:\tlearn: 0.0020684\ttest: 0.0067700\tbest: 0.0067588 (369)\ttotal: 1.76s\tremaining: 2.74s\n",
      "392:\tlearn: 0.0020684\ttest: 0.0067700\tbest: 0.0067588 (369)\ttotal: 1.77s\tremaining: 2.73s\n",
      "393:\tlearn: 0.0020684\ttest: 0.0067699\tbest: 0.0067588 (369)\ttotal: 1.77s\tremaining: 2.72s\n",
      "394:\tlearn: 0.0020684\ttest: 0.0067699\tbest: 0.0067588 (369)\ttotal: 1.77s\tremaining: 2.72s\n",
      "395:\tlearn: 0.0020684\ttest: 0.0067699\tbest: 0.0067588 (369)\ttotal: 1.77s\tremaining: 2.71s\n",
      "396:\tlearn: 0.0020684\ttest: 0.0067699\tbest: 0.0067588 (369)\ttotal: 1.78s\tremaining: 2.7s\n",
      "397:\tlearn: 0.0020684\ttest: 0.0067699\tbest: 0.0067588 (369)\ttotal: 1.78s\tremaining: 2.69s\n",
      "398:\tlearn: 0.0020684\ttest: 0.0067699\tbest: 0.0067588 (369)\ttotal: 1.78s\tremaining: 2.68s\n",
      "399:\tlearn: 0.0020684\ttest: 0.0067699\tbest: 0.0067588 (369)\ttotal: 1.78s\tremaining: 2.67s\n",
      "400:\tlearn: 0.0020684\ttest: 0.0067699\tbest: 0.0067588 (369)\ttotal: 1.78s\tremaining: 2.67s\n",
      "401:\tlearn: 0.0020684\ttest: 0.0067699\tbest: 0.0067588 (369)\ttotal: 1.79s\tremaining: 2.66s\n",
      "402:\tlearn: 0.0020684\ttest: 0.0067698\tbest: 0.0067588 (369)\ttotal: 1.79s\tremaining: 2.65s\n",
      "403:\tlearn: 0.0020683\ttest: 0.0067698\tbest: 0.0067588 (369)\ttotal: 1.79s\tremaining: 2.64s\n",
      "404:\tlearn: 0.0020684\ttest: 0.0067698\tbest: 0.0067588 (369)\ttotal: 1.79s\tremaining: 2.63s\n",
      "405:\tlearn: 0.0020683\ttest: 0.0067698\tbest: 0.0067588 (369)\ttotal: 1.79s\tremaining: 2.63s\n",
      "406:\tlearn: 0.0020684\ttest: 0.0067698\tbest: 0.0067588 (369)\ttotal: 1.8s\tremaining: 2.62s\n",
      "407:\tlearn: 0.0020683\ttest: 0.0067698\tbest: 0.0067588 (369)\ttotal: 1.8s\tremaining: 2.61s\n",
      "408:\tlearn: 0.0020683\ttest: 0.0067698\tbest: 0.0067588 (369)\ttotal: 1.8s\tremaining: 2.6s\n",
      "409:\tlearn: 0.0020683\ttest: 0.0067698\tbest: 0.0067588 (369)\ttotal: 1.8s\tremaining: 2.6s\n",
      "410:\tlearn: 0.0020683\ttest: 0.0067698\tbest: 0.0067588 (369)\ttotal: 1.81s\tremaining: 2.59s\n",
      "411:\tlearn: 0.0020683\ttest: 0.0067697\tbest: 0.0067588 (369)\ttotal: 1.81s\tremaining: 2.58s\n",
      "412:\tlearn: 0.0020683\ttest: 0.0067696\tbest: 0.0067588 (369)\ttotal: 1.81s\tremaining: 2.58s\n",
      "413:\tlearn: 0.0020683\ttest: 0.0067695\tbest: 0.0067588 (369)\ttotal: 1.82s\tremaining: 2.57s\n",
      "414:\tlearn: 0.0020682\ttest: 0.0067694\tbest: 0.0067588 (369)\ttotal: 1.82s\tremaining: 2.56s\n",
      "415:\tlearn: 0.0020682\ttest: 0.0067694\tbest: 0.0067588 (369)\ttotal: 1.82s\tremaining: 2.55s\n",
      "416:\tlearn: 0.0020640\ttest: 0.0067651\tbest: 0.0067588 (369)\ttotal: 1.82s\tremaining: 2.55s\n",
      "417:\tlearn: 0.0020640\ttest: 0.0067650\tbest: 0.0067588 (369)\ttotal: 1.82s\tremaining: 2.54s\n",
      "418:\tlearn: 0.0020640\ttest: 0.0067650\tbest: 0.0067588 (369)\ttotal: 1.82s\tremaining: 2.53s\n",
      "419:\tlearn: 0.0020639\ttest: 0.0067649\tbest: 0.0067588 (369)\ttotal: 1.83s\tremaining: 2.52s\n",
      "420:\tlearn: 0.0020640\ttest: 0.0067649\tbest: 0.0067588 (369)\ttotal: 1.83s\tremaining: 2.51s\n",
      "421:\tlearn: 0.0020640\ttest: 0.0067649\tbest: 0.0067588 (369)\ttotal: 1.83s\tremaining: 2.51s\n",
      "422:\tlearn: 0.0020640\ttest: 0.0067649\tbest: 0.0067588 (369)\ttotal: 1.83s\tremaining: 2.5s\n",
      "423:\tlearn: 0.0020640\ttest: 0.0067649\tbest: 0.0067588 (369)\ttotal: 1.83s\tremaining: 2.49s\n",
      "424:\tlearn: 0.0020640\ttest: 0.0067648\tbest: 0.0067588 (369)\ttotal: 1.83s\tremaining: 2.48s\n",
      "425:\tlearn: 0.0020639\ttest: 0.0067648\tbest: 0.0067588 (369)\ttotal: 1.84s\tremaining: 2.48s\n",
      "426:\tlearn: 0.0020639\ttest: 0.0067648\tbest: 0.0067588 (369)\ttotal: 1.84s\tremaining: 2.47s\n",
      "427:\tlearn: 0.0020639\ttest: 0.0067648\tbest: 0.0067588 (369)\ttotal: 1.84s\tremaining: 2.46s\n",
      "428:\tlearn: 0.0020639\ttest: 0.0067648\tbest: 0.0067588 (369)\ttotal: 1.84s\tremaining: 2.46s\n",
      "429:\tlearn: 0.0020639\ttest: 0.0067647\tbest: 0.0067588 (369)\ttotal: 1.85s\tremaining: 2.45s\n",
      "430:\tlearn: 0.0020639\ttest: 0.0067647\tbest: 0.0067588 (369)\ttotal: 1.85s\tremaining: 2.44s\n",
      "431:\tlearn: 0.0020639\ttest: 0.0067647\tbest: 0.0067588 (369)\ttotal: 1.85s\tremaining: 2.44s\n",
      "432:\tlearn: 0.0020639\ttest: 0.0067646\tbest: 0.0067588 (369)\ttotal: 1.85s\tremaining: 2.43s\n",
      "433:\tlearn: 0.0020639\ttest: 0.0067646\tbest: 0.0067588 (369)\ttotal: 1.86s\tremaining: 2.42s\n",
      "434:\tlearn: 0.0020639\ttest: 0.0067646\tbest: 0.0067588 (369)\ttotal: 1.86s\tremaining: 2.42s\n",
      "435:\tlearn: 0.0020639\ttest: 0.0067646\tbest: 0.0067588 (369)\ttotal: 1.86s\tremaining: 2.41s\n",
      "436:\tlearn: 0.0020639\ttest: 0.0067646\tbest: 0.0067588 (369)\ttotal: 1.86s\tremaining: 2.4s\n",
      "437:\tlearn: 0.0020639\ttest: 0.0067646\tbest: 0.0067588 (369)\ttotal: 1.86s\tremaining: 2.39s\n",
      "438:\tlearn: 0.0020638\ttest: 0.0067646\tbest: 0.0067588 (369)\ttotal: 1.87s\tremaining: 2.39s\n",
      "439:\tlearn: 0.0020638\ttest: 0.0067645\tbest: 0.0067588 (369)\ttotal: 1.87s\tremaining: 2.38s\n",
      "440:\tlearn: 0.0020638\ttest: 0.0067645\tbest: 0.0067588 (369)\ttotal: 1.87s\tremaining: 2.37s\n",
      "441:\tlearn: 0.0020638\ttest: 0.0067645\tbest: 0.0067588 (369)\ttotal: 1.87s\tremaining: 2.36s\n",
      "442:\tlearn: 0.0020638\ttest: 0.0067645\tbest: 0.0067588 (369)\ttotal: 1.87s\tremaining: 2.36s\n",
      "443:\tlearn: 0.0020638\ttest: 0.0067645\tbest: 0.0067588 (369)\ttotal: 1.88s\tremaining: 2.35s\n",
      "444:\tlearn: 0.0020638\ttest: 0.0067645\tbest: 0.0067588 (369)\ttotal: 1.88s\tremaining: 2.34s\n",
      "445:\tlearn: 0.0020638\ttest: 0.0067645\tbest: 0.0067588 (369)\ttotal: 1.88s\tremaining: 2.33s\n",
      "446:\tlearn: 0.0020638\ttest: 0.0067645\tbest: 0.0067588 (369)\ttotal: 1.88s\tremaining: 2.33s\n",
      "447:\tlearn: 0.0020638\ttest: 0.0067644\tbest: 0.0067588 (369)\ttotal: 1.88s\tremaining: 2.32s\n",
      "448:\tlearn: 0.0020638\ttest: 0.0067644\tbest: 0.0067588 (369)\ttotal: 1.89s\tremaining: 2.31s\n",
      "449:\tlearn: 0.0020638\ttest: 0.0067644\tbest: 0.0067588 (369)\ttotal: 1.89s\tremaining: 2.31s\n",
      "450:\tlearn: 0.0020638\ttest: 0.0067644\tbest: 0.0067588 (369)\ttotal: 1.89s\tremaining: 2.3s\n",
      "451:\tlearn: 0.0020638\ttest: 0.0067644\tbest: 0.0067588 (369)\ttotal: 1.89s\tremaining: 2.29s\n",
      "452:\tlearn: 0.0020638\ttest: 0.0067644\tbest: 0.0067588 (369)\ttotal: 1.89s\tremaining: 2.29s\n",
      "453:\tlearn: 0.0020638\ttest: 0.0067644\tbest: 0.0067588 (369)\ttotal: 1.9s\tremaining: 2.28s\n",
      "454:\tlearn: 0.0020638\ttest: 0.0067643\tbest: 0.0067588 (369)\ttotal: 1.9s\tremaining: 2.27s\n",
      "455:\tlearn: 0.0020638\ttest: 0.0067643\tbest: 0.0067588 (369)\ttotal: 1.9s\tremaining: 2.27s\n",
      "456:\tlearn: 0.0020638\ttest: 0.0067643\tbest: 0.0067588 (369)\ttotal: 1.9s\tremaining: 2.26s\n",
      "457:\tlearn: 0.0020638\ttest: 0.0067643\tbest: 0.0067588 (369)\ttotal: 1.91s\tremaining: 2.25s\n",
      "458:\tlearn: 0.0020638\ttest: 0.0067643\tbest: 0.0067588 (369)\ttotal: 1.91s\tremaining: 2.25s\n",
      "459:\tlearn: 0.0020638\ttest: 0.0067643\tbest: 0.0067588 (369)\ttotal: 1.91s\tremaining: 2.24s\n",
      "460:\tlearn: 0.0020638\ttest: 0.0067642\tbest: 0.0067588 (369)\ttotal: 1.91s\tremaining: 2.23s\n"
     ]
    },
    {
     "name": "stdout",
     "output_type": "stream",
     "text": [
      "461:\tlearn: 0.0020637\ttest: 0.0067642\tbest: 0.0067588 (369)\ttotal: 1.91s\tremaining: 2.23s\n",
      "462:\tlearn: 0.0020638\ttest: 0.0067642\tbest: 0.0067588 (369)\ttotal: 1.92s\tremaining: 2.22s\n",
      "463:\tlearn: 0.0020638\ttest: 0.0067642\tbest: 0.0067588 (369)\ttotal: 1.92s\tremaining: 2.21s\n",
      "464:\tlearn: 0.0020638\ttest: 0.0067642\tbest: 0.0067588 (369)\ttotal: 1.92s\tremaining: 2.21s\n",
      "465:\tlearn: 0.0020638\ttest: 0.0067642\tbest: 0.0067588 (369)\ttotal: 1.92s\tremaining: 2.2s\n",
      "466:\tlearn: 0.0020637\ttest: 0.0067641\tbest: 0.0067588 (369)\ttotal: 1.92s\tremaining: 2.19s\n",
      "467:\tlearn: 0.0020637\ttest: 0.0067641\tbest: 0.0067588 (369)\ttotal: 1.93s\tremaining: 2.19s\n",
      "468:\tlearn: 0.0020637\ttest: 0.0067641\tbest: 0.0067588 (369)\ttotal: 1.93s\tremaining: 2.18s\n",
      "469:\tlearn: 0.0020637\ttest: 0.0067641\tbest: 0.0067588 (369)\ttotal: 1.93s\tremaining: 2.18s\n",
      "470:\tlearn: 0.0020637\ttest: 0.0067641\tbest: 0.0067588 (369)\ttotal: 1.93s\tremaining: 2.17s\n",
      "471:\tlearn: 0.0020637\ttest: 0.0067641\tbest: 0.0067588 (369)\ttotal: 1.94s\tremaining: 2.17s\n",
      "472:\tlearn: 0.0020637\ttest: 0.0067641\tbest: 0.0067588 (369)\ttotal: 1.94s\tremaining: 2.16s\n",
      "473:\tlearn: 0.0020637\ttest: 0.0067640\tbest: 0.0067588 (369)\ttotal: 1.94s\tremaining: 2.16s\n",
      "474:\tlearn: 0.0020637\ttest: 0.0067640\tbest: 0.0067588 (369)\ttotal: 1.95s\tremaining: 2.15s\n",
      "475:\tlearn: 0.0020637\ttest: 0.0067640\tbest: 0.0067588 (369)\ttotal: 1.95s\tremaining: 2.15s\n",
      "476:\tlearn: 0.0020637\ttest: 0.0067640\tbest: 0.0067588 (369)\ttotal: 1.95s\tremaining: 2.14s\n",
      "477:\tlearn: 0.0020637\ttest: 0.0067640\tbest: 0.0067588 (369)\ttotal: 1.95s\tremaining: 2.13s\n",
      "478:\tlearn: 0.0020637\ttest: 0.0067640\tbest: 0.0067588 (369)\ttotal: 1.96s\tremaining: 2.13s\n",
      "479:\tlearn: 0.0020637\ttest: 0.0067640\tbest: 0.0067588 (369)\ttotal: 1.96s\tremaining: 2.12s\n",
      "480:\tlearn: 0.0020637\ttest: 0.0067640\tbest: 0.0067588 (369)\ttotal: 1.96s\tremaining: 2.12s\n",
      "481:\tlearn: 0.0020637\ttest: 0.0067640\tbest: 0.0067588 (369)\ttotal: 1.96s\tremaining: 2.11s\n",
      "482:\tlearn: 0.0020637\ttest: 0.0067640\tbest: 0.0067588 (369)\ttotal: 1.96s\tremaining: 2.1s\n",
      "483:\tlearn: 0.0020637\ttest: 0.0067639\tbest: 0.0067588 (369)\ttotal: 1.97s\tremaining: 2.1s\n",
      "484:\tlearn: 0.0020637\ttest: 0.0067639\tbest: 0.0067588 (369)\ttotal: 1.97s\tremaining: 2.09s\n",
      "485:\tlearn: 0.0020637\ttest: 0.0067639\tbest: 0.0067588 (369)\ttotal: 1.97s\tremaining: 2.08s\n",
      "486:\tlearn: 0.0020637\ttest: 0.0067639\tbest: 0.0067588 (369)\ttotal: 1.97s\tremaining: 2.08s\n",
      "487:\tlearn: 0.0020637\ttest: 0.0067639\tbest: 0.0067588 (369)\ttotal: 1.97s\tremaining: 2.07s\n",
      "488:\tlearn: 0.0020637\ttest: 0.0067639\tbest: 0.0067588 (369)\ttotal: 1.98s\tremaining: 2.06s\n",
      "489:\tlearn: 0.0020636\ttest: 0.0067639\tbest: 0.0067588 (369)\ttotal: 1.98s\tremaining: 2.06s\n",
      "490:\tlearn: 0.0020636\ttest: 0.0067638\tbest: 0.0067588 (369)\ttotal: 1.98s\tremaining: 2.05s\n",
      "491:\tlearn: 0.0020636\ttest: 0.0067638\tbest: 0.0067588 (369)\ttotal: 1.98s\tremaining: 2.05s\n",
      "492:\tlearn: 0.0020636\ttest: 0.0067638\tbest: 0.0067588 (369)\ttotal: 1.99s\tremaining: 2.04s\n",
      "493:\tlearn: 0.0020636\ttest: 0.0067638\tbest: 0.0067588 (369)\ttotal: 1.99s\tremaining: 2.04s\n",
      "494:\tlearn: 0.0020636\ttest: 0.0067637\tbest: 0.0067588 (369)\ttotal: 1.99s\tremaining: 2.03s\n",
      "495:\tlearn: 0.0020627\ttest: 0.0067604\tbest: 0.0067588 (369)\ttotal: 1.99s\tremaining: 2.02s\n",
      "496:\tlearn: 0.0020625\ttest: 0.0067599\tbest: 0.0067588 (369)\ttotal: 2s\tremaining: 2.02s\n",
      "497:\tlearn: 0.0020625\ttest: 0.0067599\tbest: 0.0067588 (369)\ttotal: 2s\tremaining: 2.01s\n",
      "498:\tlearn: 0.0020625\ttest: 0.0067599\tbest: 0.0067588 (369)\ttotal: 2s\tremaining: 2.01s\n",
      "499:\tlearn: 0.0020625\ttest: 0.0067599\tbest: 0.0067588 (369)\ttotal: 2s\tremaining: 2s\n",
      "500:\tlearn: 0.0020625\ttest: 0.0067599\tbest: 0.0067588 (369)\ttotal: 2s\tremaining: 1.99s\n",
      "501:\tlearn: 0.0020625\ttest: 0.0067599\tbest: 0.0067588 (369)\ttotal: 2s\tremaining: 1.99s\n",
      "502:\tlearn: 0.0020625\ttest: 0.0067598\tbest: 0.0067588 (369)\ttotal: 2.01s\tremaining: 1.98s\n",
      "503:\tlearn: 0.0020625\ttest: 0.0067598\tbest: 0.0067588 (369)\ttotal: 2.01s\tremaining: 1.98s\n",
      "504:\tlearn: 0.0020625\ttest: 0.0067598\tbest: 0.0067588 (369)\ttotal: 2.01s\tremaining: 1.97s\n",
      "505:\tlearn: 0.0020625\ttest: 0.0067598\tbest: 0.0067588 (369)\ttotal: 2.01s\tremaining: 1.97s\n",
      "506:\tlearn: 0.0020625\ttest: 0.0067598\tbest: 0.0067588 (369)\ttotal: 2.01s\tremaining: 1.96s\n",
      "507:\tlearn: 0.0020625\ttest: 0.0067598\tbest: 0.0067588 (369)\ttotal: 2.02s\tremaining: 1.95s\n",
      "508:\tlearn: 0.0020625\ttest: 0.0067598\tbest: 0.0067588 (369)\ttotal: 2.02s\tremaining: 1.95s\n",
      "509:\tlearn: 0.0020625\ttest: 0.0067598\tbest: 0.0067588 (369)\ttotal: 2.02s\tremaining: 1.94s\n",
      "510:\tlearn: 0.0020625\ttest: 0.0067598\tbest: 0.0067588 (369)\ttotal: 2.02s\tremaining: 1.94s\n",
      "511:\tlearn: 0.0020625\ttest: 0.0067598\tbest: 0.0067588 (369)\ttotal: 2.02s\tremaining: 1.93s\n",
      "512:\tlearn: 0.0020625\ttest: 0.0067598\tbest: 0.0067588 (369)\ttotal: 2.03s\tremaining: 1.92s\n",
      "513:\tlearn: 0.0020625\ttest: 0.0067598\tbest: 0.0067588 (369)\ttotal: 2.03s\tremaining: 1.92s\n",
      "514:\tlearn: 0.0020625\ttest: 0.0067598\tbest: 0.0067588 (369)\ttotal: 2.03s\tremaining: 1.91s\n",
      "515:\tlearn: 0.0020625\ttest: 0.0067598\tbest: 0.0067588 (369)\ttotal: 2.04s\tremaining: 1.91s\n",
      "516:\tlearn: 0.0020625\ttest: 0.0067598\tbest: 0.0067588 (369)\ttotal: 2.04s\tremaining: 1.9s\n",
      "517:\tlearn: 0.0020625\ttest: 0.0067598\tbest: 0.0067588 (369)\ttotal: 2.04s\tremaining: 1.9s\n",
      "518:\tlearn: 0.0020625\ttest: 0.0067598\tbest: 0.0067588 (369)\ttotal: 2.04s\tremaining: 1.89s\n",
      "519:\tlearn: 0.0020625\ttest: 0.0067598\tbest: 0.0067588 (369)\ttotal: 2.04s\tremaining: 1.89s\n",
      "520:\tlearn: 0.0020625\ttest: 0.0067598\tbest: 0.0067588 (369)\ttotal: 2.05s\tremaining: 1.88s\n",
      "521:\tlearn: 0.0020625\ttest: 0.0067598\tbest: 0.0067588 (369)\ttotal: 2.05s\tremaining: 1.88s\n",
      "522:\tlearn: 0.0020625\ttest: 0.0067598\tbest: 0.0067588 (369)\ttotal: 2.05s\tremaining: 1.87s\n",
      "523:\tlearn: 0.0020625\ttest: 0.0067598\tbest: 0.0067588 (369)\ttotal: 2.05s\tremaining: 1.87s\n",
      "524:\tlearn: 0.0020625\ttest: 0.0067598\tbest: 0.0067588 (369)\ttotal: 2.06s\tremaining: 1.86s\n",
      "525:\tlearn: 0.0020625\ttest: 0.0067598\tbest: 0.0067588 (369)\ttotal: 2.06s\tremaining: 1.86s\n",
      "526:\tlearn: 0.0020625\ttest: 0.0067598\tbest: 0.0067588 (369)\ttotal: 2.06s\tremaining: 1.85s\n",
      "527:\tlearn: 0.0020625\ttest: 0.0067598\tbest: 0.0067588 (369)\ttotal: 2.07s\tremaining: 1.85s\n",
      "528:\tlearn: 0.0020625\ttest: 0.0067598\tbest: 0.0067588 (369)\ttotal: 2.07s\tremaining: 1.84s\n",
      "529:\tlearn: 0.0020625\ttest: 0.0067598\tbest: 0.0067588 (369)\ttotal: 2.07s\tremaining: 1.84s\n",
      "530:\tlearn: 0.0020625\ttest: 0.0067598\tbest: 0.0067588 (369)\ttotal: 2.07s\tremaining: 1.83s\n",
      "531:\tlearn: 0.0020625\ttest: 0.0067598\tbest: 0.0067588 (369)\ttotal: 2.08s\tremaining: 1.83s\n",
      "532:\tlearn: 0.0020625\ttest: 0.0067598\tbest: 0.0067588 (369)\ttotal: 2.08s\tremaining: 1.82s\n",
      "533:\tlearn: 0.0020625\ttest: 0.0067598\tbest: 0.0067588 (369)\ttotal: 2.08s\tremaining: 1.82s\n",
      "534:\tlearn: 0.0020625\ttest: 0.0067598\tbest: 0.0067588 (369)\ttotal: 2.09s\tremaining: 1.81s\n",
      "535:\tlearn: 0.0020625\ttest: 0.0067598\tbest: 0.0067588 (369)\ttotal: 2.09s\tremaining: 1.81s\n",
      "536:\tlearn: 0.0020625\ttest: 0.0067598\tbest: 0.0067588 (369)\ttotal: 2.1s\tremaining: 1.81s\n",
      "537:\tlearn: 0.0020625\ttest: 0.0067598\tbest: 0.0067588 (369)\ttotal: 2.1s\tremaining: 1.8s\n",
      "538:\tlearn: 0.0020625\ttest: 0.0067598\tbest: 0.0067588 (369)\ttotal: 2.1s\tremaining: 1.8s\n",
      "539:\tlearn: 0.0020625\ttest: 0.0067598\tbest: 0.0067588 (369)\ttotal: 2.11s\tremaining: 1.79s\n",
      "540:\tlearn: 0.0020625\ttest: 0.0067598\tbest: 0.0067588 (369)\ttotal: 2.11s\tremaining: 1.79s\n",
      "541:\tlearn: 0.0020625\ttest: 0.0067598\tbest: 0.0067588 (369)\ttotal: 2.12s\tremaining: 1.79s\n",
      "542:\tlearn: 0.0020625\ttest: 0.0067598\tbest: 0.0067588 (369)\ttotal: 2.12s\tremaining: 1.78s\n",
      "543:\tlearn: 0.0020625\ttest: 0.0067598\tbest: 0.0067588 (369)\ttotal: 2.12s\tremaining: 1.78s\n",
      "544:\tlearn: 0.0020625\ttest: 0.0067598\tbest: 0.0067588 (369)\ttotal: 2.13s\tremaining: 1.77s\n",
      "545:\tlearn: 0.0020625\ttest: 0.0067598\tbest: 0.0067588 (369)\ttotal: 2.13s\tremaining: 1.77s\n",
      "546:\tlearn: 0.0020625\ttest: 0.0067598\tbest: 0.0067588 (369)\ttotal: 2.13s\tremaining: 1.77s\n",
      "547:\tlearn: 0.0020625\ttest: 0.0067598\tbest: 0.0067588 (369)\ttotal: 2.14s\tremaining: 1.76s\n",
      "548:\tlearn: 0.0020625\ttest: 0.0067598\tbest: 0.0067588 (369)\ttotal: 2.14s\tremaining: 1.76s\n",
      "549:\tlearn: 0.0020625\ttest: 0.0067598\tbest: 0.0067588 (369)\ttotal: 2.14s\tremaining: 1.75s\n",
      "550:\tlearn: 0.0020625\ttest: 0.0067598\tbest: 0.0067588 (369)\ttotal: 2.15s\tremaining: 1.75s\n",
      "551:\tlearn: 0.0020625\ttest: 0.0067598\tbest: 0.0067588 (369)\ttotal: 2.15s\tremaining: 1.74s\n",
      "552:\tlearn: 0.0020625\ttest: 0.0067598\tbest: 0.0067588 (369)\ttotal: 2.15s\tremaining: 1.74s\n",
      "553:\tlearn: 0.0020625\ttest: 0.0067598\tbest: 0.0067588 (369)\ttotal: 2.16s\tremaining: 1.74s\n",
      "554:\tlearn: 0.0020625\ttest: 0.0067598\tbest: 0.0067588 (369)\ttotal: 2.16s\tremaining: 1.73s\n",
      "555:\tlearn: 0.0020625\ttest: 0.0067598\tbest: 0.0067588 (369)\ttotal: 2.17s\tremaining: 1.73s\n",
      "556:\tlearn: 0.0020625\ttest: 0.0067598\tbest: 0.0067588 (369)\ttotal: 2.17s\tremaining: 1.73s\n",
      "557:\tlearn: 0.0020625\ttest: 0.0067598\tbest: 0.0067588 (369)\ttotal: 2.17s\tremaining: 1.72s\n",
      "558:\tlearn: 0.0020625\ttest: 0.0067598\tbest: 0.0067588 (369)\ttotal: 2.17s\tremaining: 1.71s\n",
      "559:\tlearn: 0.0020625\ttest: 0.0067598\tbest: 0.0067588 (369)\ttotal: 2.17s\tremaining: 1.71s\n",
      "560:\tlearn: 0.0020625\ttest: 0.0067598\tbest: 0.0067588 (369)\ttotal: 2.18s\tremaining: 1.7s\n",
      "561:\tlearn: 0.0020625\ttest: 0.0067598\tbest: 0.0067588 (369)\ttotal: 2.18s\tremaining: 1.7s\n",
      "562:\tlearn: 0.0020625\ttest: 0.0067598\tbest: 0.0067588 (369)\ttotal: 2.18s\tremaining: 1.69s\n",
      "563:\tlearn: 0.0020625\ttest: 0.0067598\tbest: 0.0067588 (369)\ttotal: 2.18s\tremaining: 1.69s\n",
      "564:\tlearn: 0.0020625\ttest: 0.0067598\tbest: 0.0067588 (369)\ttotal: 2.19s\tremaining: 1.68s\n",
      "565:\tlearn: 0.0020625\ttest: 0.0067598\tbest: 0.0067588 (369)\ttotal: 2.19s\tremaining: 1.68s\n",
      "566:\tlearn: 0.0020625\ttest: 0.0067598\tbest: 0.0067588 (369)\ttotal: 2.19s\tremaining: 1.67s\n",
      "567:\tlearn: 0.0020625\ttest: 0.0067598\tbest: 0.0067588 (369)\ttotal: 2.19s\tremaining: 1.67s\n",
      "568:\tlearn: 0.0020625\ttest: 0.0067598\tbest: 0.0067588 (369)\ttotal: 2.19s\tremaining: 1.66s\n",
      "569:\tlearn: 0.0020625\ttest: 0.0067598\tbest: 0.0067588 (369)\ttotal: 2.19s\tremaining: 1.66s\n",
      "570:\tlearn: 0.0020625\ttest: 0.0067598\tbest: 0.0067588 (369)\ttotal: 2.2s\tremaining: 1.65s\n",
      "571:\tlearn: 0.0020625\ttest: 0.0067598\tbest: 0.0067588 (369)\ttotal: 2.2s\tremaining: 1.65s\n",
      "572:\tlearn: 0.0020625\ttest: 0.0067598\tbest: 0.0067588 (369)\ttotal: 2.2s\tremaining: 1.64s\n",
      "573:\tlearn: 0.0020625\ttest: 0.0067598\tbest: 0.0067588 (369)\ttotal: 2.2s\tremaining: 1.64s\n",
      "574:\tlearn: 0.0020625\ttest: 0.0067598\tbest: 0.0067588 (369)\ttotal: 2.21s\tremaining: 1.63s\n",
      "575:\tlearn: 0.0020625\ttest: 0.0067598\tbest: 0.0067588 (369)\ttotal: 2.21s\tremaining: 1.63s\n",
      "576:\tlearn: 0.0020625\ttest: 0.0067598\tbest: 0.0067588 (369)\ttotal: 2.21s\tremaining: 1.62s\n",
      "577:\tlearn: 0.0020625\ttest: 0.0067598\tbest: 0.0067588 (369)\ttotal: 2.21s\tremaining: 1.62s\n",
      "578:\tlearn: 0.0020625\ttest: 0.0067598\tbest: 0.0067588 (369)\ttotal: 2.22s\tremaining: 1.61s\n",
      "579:\tlearn: 0.0020625\ttest: 0.0067598\tbest: 0.0067588 (369)\ttotal: 2.22s\tremaining: 1.6s\n",
      "580:\tlearn: 0.0020625\ttest: 0.0067598\tbest: 0.0067588 (369)\ttotal: 2.22s\tremaining: 1.6s\n",
      "581:\tlearn: 0.0020625\ttest: 0.0067598\tbest: 0.0067588 (369)\ttotal: 2.22s\tremaining: 1.59s\n",
      "582:\tlearn: 0.0020625\ttest: 0.0067598\tbest: 0.0067588 (369)\ttotal: 2.22s\tremaining: 1.59s\n",
      "583:\tlearn: 0.0020625\ttest: 0.0067598\tbest: 0.0067588 (369)\ttotal: 2.22s\tremaining: 1.58s\n",
      "584:\tlearn: 0.0020625\ttest: 0.0067598\tbest: 0.0067588 (369)\ttotal: 2.23s\tremaining: 1.58s\n",
      "585:\tlearn: 0.0020584\ttest: 0.0067555\tbest: 0.0067555 (585)\ttotal: 2.23s\tremaining: 1.57s\n",
      "586:\tlearn: 0.0020583\ttest: 0.0067555\tbest: 0.0067555 (586)\ttotal: 2.23s\tremaining: 1.57s\n",
      "587:\tlearn: 0.0020583\ttest: 0.0067555\tbest: 0.0067555 (587)\ttotal: 2.23s\tremaining: 1.56s\n",
      "588:\tlearn: 0.0020583\ttest: 0.0067555\tbest: 0.0067555 (588)\ttotal: 2.23s\tremaining: 1.56s\n",
      "589:\tlearn: 0.0020583\ttest: 0.0067555\tbest: 0.0067555 (589)\ttotal: 2.23s\tremaining: 1.55s\n",
      "590:\tlearn: 0.0020583\ttest: 0.0067555\tbest: 0.0067555 (590)\ttotal: 2.24s\tremaining: 1.55s\n",
      "591:\tlearn: 0.0020583\ttest: 0.0067555\tbest: 0.0067555 (591)\ttotal: 2.24s\tremaining: 1.54s\n",
      "592:\tlearn: 0.0020583\ttest: 0.0067555\tbest: 0.0067555 (592)\ttotal: 2.24s\tremaining: 1.54s\n",
      "593:\tlearn: 0.0020584\ttest: 0.0067555\tbest: 0.0067555 (593)\ttotal: 2.24s\tremaining: 1.53s\n",
      "594:\tlearn: 0.0020583\ttest: 0.0067554\tbest: 0.0067554 (594)\ttotal: 2.24s\tremaining: 1.53s\n",
      "595:\tlearn: 0.0020583\ttest: 0.0067554\tbest: 0.0067554 (595)\ttotal: 2.25s\tremaining: 1.52s\n",
      "596:\tlearn: 0.0020583\ttest: 0.0067554\tbest: 0.0067554 (596)\ttotal: 2.25s\tremaining: 1.52s\n",
      "597:\tlearn: 0.0020583\ttest: 0.0067554\tbest: 0.0067554 (597)\ttotal: 2.25s\tremaining: 1.51s\n",
      "598:\tlearn: 0.0020583\ttest: 0.0067554\tbest: 0.0067554 (598)\ttotal: 2.25s\tremaining: 1.51s\n",
      "599:\tlearn: 0.0020583\ttest: 0.0067554\tbest: 0.0067554 (599)\ttotal: 2.26s\tremaining: 1.5s\n",
      "600:\tlearn: 0.0020583\ttest: 0.0067553\tbest: 0.0067553 (600)\ttotal: 2.26s\tremaining: 1.5s\n",
      "601:\tlearn: 0.0020583\ttest: 0.0067553\tbest: 0.0067553 (601)\ttotal: 2.26s\tremaining: 1.49s\n",
      "602:\tlearn: 0.0020583\ttest: 0.0067553\tbest: 0.0067553 (602)\ttotal: 2.26s\tremaining: 1.49s\n",
      "603:\tlearn: 0.0020583\ttest: 0.0067553\tbest: 0.0067553 (603)\ttotal: 2.26s\tremaining: 1.48s\n",
      "604:\tlearn: 0.0020583\ttest: 0.0067553\tbest: 0.0067553 (604)\ttotal: 2.27s\tremaining: 1.48s\n",
      "605:\tlearn: 0.0020583\ttest: 0.0067553\tbest: 0.0067553 (605)\ttotal: 2.27s\tremaining: 1.47s\n",
      "606:\tlearn: 0.0020583\ttest: 0.0067552\tbest: 0.0067552 (606)\ttotal: 2.27s\tremaining: 1.47s\n",
      "607:\tlearn: 0.0020583\ttest: 0.0067552\tbest: 0.0067552 (607)\ttotal: 2.27s\tremaining: 1.46s\n"
     ]
    },
    {
     "name": "stdout",
     "output_type": "stream",
     "text": [
      "608:\tlearn: 0.0020582\ttest: 0.0067552\tbest: 0.0067552 (608)\ttotal: 2.27s\tremaining: 1.46s\n",
      "609:\tlearn: 0.0020583\ttest: 0.0067552\tbest: 0.0067552 (609)\ttotal: 2.27s\tremaining: 1.45s\n",
      "610:\tlearn: 0.0020582\ttest: 0.0067551\tbest: 0.0067551 (610)\ttotal: 2.28s\tremaining: 1.45s\n",
      "611:\tlearn: 0.0020582\ttest: 0.0067551\tbest: 0.0067551 (611)\ttotal: 2.28s\tremaining: 1.44s\n",
      "612:\tlearn: 0.0020582\ttest: 0.0067551\tbest: 0.0067551 (612)\ttotal: 2.28s\tremaining: 1.44s\n",
      "613:\tlearn: 0.0020582\ttest: 0.0067551\tbest: 0.0067551 (613)\ttotal: 2.28s\tremaining: 1.44s\n",
      "614:\tlearn: 0.0020582\ttest: 0.0067551\tbest: 0.0067551 (614)\ttotal: 2.29s\tremaining: 1.43s\n",
      "615:\tlearn: 0.0020582\ttest: 0.0067550\tbest: 0.0067550 (615)\ttotal: 2.29s\tremaining: 1.43s\n",
      "616:\tlearn: 0.0020582\ttest: 0.0067550\tbest: 0.0067550 (616)\ttotal: 2.29s\tremaining: 1.42s\n",
      "617:\tlearn: 0.0020582\ttest: 0.0067550\tbest: 0.0067550 (617)\ttotal: 2.29s\tremaining: 1.42s\n",
      "618:\tlearn: 0.0020582\ttest: 0.0067550\tbest: 0.0067550 (618)\ttotal: 2.3s\tremaining: 1.41s\n",
      "619:\tlearn: 0.0020582\ttest: 0.0067550\tbest: 0.0067550 (619)\ttotal: 2.3s\tremaining: 1.41s\n",
      "620:\tlearn: 0.0020582\ttest: 0.0067549\tbest: 0.0067549 (620)\ttotal: 2.3s\tremaining: 1.4s\n",
      "621:\tlearn: 0.0020582\ttest: 0.0067549\tbest: 0.0067549 (621)\ttotal: 2.3s\tremaining: 1.4s\n",
      "622:\tlearn: 0.0020582\ttest: 0.0067549\tbest: 0.0067549 (622)\ttotal: 2.31s\tremaining: 1.39s\n",
      "623:\tlearn: 0.0020582\ttest: 0.0067549\tbest: 0.0067549 (623)\ttotal: 2.31s\tremaining: 1.39s\n",
      "624:\tlearn: 0.0020582\ttest: 0.0067549\tbest: 0.0067549 (624)\ttotal: 2.31s\tremaining: 1.39s\n",
      "625:\tlearn: 0.0020582\ttest: 0.0067549\tbest: 0.0067549 (625)\ttotal: 2.31s\tremaining: 1.38s\n",
      "626:\tlearn: 0.0020582\ttest: 0.0067548\tbest: 0.0067548 (626)\ttotal: 2.31s\tremaining: 1.38s\n",
      "627:\tlearn: 0.0020582\ttest: 0.0067548\tbest: 0.0067548 (627)\ttotal: 2.32s\tremaining: 1.37s\n",
      "628:\tlearn: 0.0020581\ttest: 0.0067548\tbest: 0.0067548 (628)\ttotal: 2.32s\tremaining: 1.37s\n",
      "629:\tlearn: 0.0020581\ttest: 0.0067548\tbest: 0.0067548 (629)\ttotal: 2.32s\tremaining: 1.36s\n",
      "630:\tlearn: 0.0020540\ttest: 0.0067535\tbest: 0.0067535 (630)\ttotal: 2.32s\tremaining: 1.36s\n",
      "631:\tlearn: 0.0020403\ttest: 0.0067552\tbest: 0.0067535 (630)\ttotal: 2.32s\tremaining: 1.35s\n",
      "632:\tlearn: 0.0020401\ttest: 0.0067549\tbest: 0.0067535 (630)\ttotal: 2.33s\tremaining: 1.35s\n",
      "633:\tlearn: 0.0020401\ttest: 0.0067548\tbest: 0.0067535 (630)\ttotal: 2.33s\tremaining: 1.34s\n",
      "634:\tlearn: 0.0020400\ttest: 0.0067547\tbest: 0.0067535 (630)\ttotal: 2.33s\tremaining: 1.34s\n",
      "635:\tlearn: 0.0020400\ttest: 0.0067546\tbest: 0.0067535 (630)\ttotal: 2.33s\tremaining: 1.34s\n",
      "636:\tlearn: 0.0020400\ttest: 0.0067546\tbest: 0.0067535 (630)\ttotal: 2.34s\tremaining: 1.33s\n",
      "637:\tlearn: 0.0020400\ttest: 0.0067545\tbest: 0.0067535 (630)\ttotal: 2.34s\tremaining: 1.33s\n",
      "638:\tlearn: 0.0020400\ttest: 0.0067545\tbest: 0.0067535 (630)\ttotal: 2.34s\tremaining: 1.32s\n",
      "639:\tlearn: 0.0020400\ttest: 0.0067545\tbest: 0.0067535 (630)\ttotal: 2.35s\tremaining: 1.32s\n",
      "640:\tlearn: 0.0020399\ttest: 0.0067544\tbest: 0.0067535 (630)\ttotal: 2.35s\tremaining: 1.31s\n",
      "641:\tlearn: 0.0020399\ttest: 0.0067544\tbest: 0.0067535 (630)\ttotal: 2.35s\tremaining: 1.31s\n",
      "642:\tlearn: 0.0020399\ttest: 0.0067543\tbest: 0.0067535 (630)\ttotal: 2.35s\tremaining: 1.3s\n",
      "643:\tlearn: 0.0020399\ttest: 0.0067543\tbest: 0.0067535 (630)\ttotal: 2.35s\tremaining: 1.3s\n",
      "644:\tlearn: 0.0020399\ttest: 0.0067543\tbest: 0.0067535 (630)\ttotal: 2.35s\tremaining: 1.29s\n",
      "645:\tlearn: 0.0020399\ttest: 0.0067543\tbest: 0.0067535 (630)\ttotal: 2.35s\tremaining: 1.29s\n",
      "646:\tlearn: 0.0020399\ttest: 0.0067543\tbest: 0.0067535 (630)\ttotal: 2.36s\tremaining: 1.29s\n",
      "647:\tlearn: 0.0020399\ttest: 0.0067543\tbest: 0.0067535 (630)\ttotal: 2.36s\tremaining: 1.28s\n",
      "648:\tlearn: 0.0020399\ttest: 0.0067543\tbest: 0.0067535 (630)\ttotal: 2.36s\tremaining: 1.28s\n",
      "649:\tlearn: 0.0020399\ttest: 0.0067543\tbest: 0.0067535 (630)\ttotal: 2.36s\tremaining: 1.27s\n",
      "650:\tlearn: 0.0020399\ttest: 0.0067543\tbest: 0.0067535 (630)\ttotal: 2.36s\tremaining: 1.27s\n",
      "651:\tlearn: 0.0020399\ttest: 0.0067543\tbest: 0.0067535 (630)\ttotal: 2.37s\tremaining: 1.26s\n",
      "652:\tlearn: 0.0020399\ttest: 0.0067542\tbest: 0.0067535 (630)\ttotal: 2.37s\tremaining: 1.26s\n",
      "653:\tlearn: 0.0020399\ttest: 0.0067542\tbest: 0.0067535 (630)\ttotal: 2.37s\tremaining: 1.25s\n",
      "654:\tlearn: 0.0020399\ttest: 0.0067542\tbest: 0.0067535 (630)\ttotal: 2.37s\tremaining: 1.25s\n",
      "655:\tlearn: 0.0020399\ttest: 0.0067542\tbest: 0.0067535 (630)\ttotal: 2.38s\tremaining: 1.25s\n",
      "656:\tlearn: 0.0020399\ttest: 0.0067542\tbest: 0.0067535 (630)\ttotal: 2.38s\tremaining: 1.24s\n",
      "657:\tlearn: 0.0020398\ttest: 0.0067541\tbest: 0.0067535 (630)\ttotal: 2.38s\tremaining: 1.24s\n",
      "658:\tlearn: 0.0020398\ttest: 0.0067541\tbest: 0.0067535 (630)\ttotal: 2.39s\tremaining: 1.23s\n",
      "659:\tlearn: 0.0020398\ttest: 0.0067541\tbest: 0.0067535 (630)\ttotal: 2.39s\tremaining: 1.23s\n",
      "660:\tlearn: 0.0020398\ttest: 0.0067541\tbest: 0.0067535 (630)\ttotal: 2.39s\tremaining: 1.23s\n",
      "661:\tlearn: 0.0020398\ttest: 0.0067541\tbest: 0.0067535 (630)\ttotal: 2.39s\tremaining: 1.22s\n",
      "662:\tlearn: 0.0020398\ttest: 0.0067541\tbest: 0.0067535 (630)\ttotal: 2.4s\tremaining: 1.22s\n",
      "663:\tlearn: 0.0020398\ttest: 0.0067540\tbest: 0.0067535 (630)\ttotal: 2.4s\tremaining: 1.22s\n",
      "664:\tlearn: 0.0020398\ttest: 0.0067540\tbest: 0.0067535 (630)\ttotal: 2.41s\tremaining: 1.21s\n",
      "665:\tlearn: 0.0020398\ttest: 0.0067540\tbest: 0.0067535 (630)\ttotal: 2.41s\tremaining: 1.21s\n",
      "666:\tlearn: 0.0020398\ttest: 0.0067540\tbest: 0.0067535 (630)\ttotal: 2.42s\tremaining: 1.21s\n",
      "667:\tlearn: 0.0020398\ttest: 0.0067540\tbest: 0.0067535 (630)\ttotal: 2.42s\tremaining: 1.2s\n",
      "668:\tlearn: 0.0020398\ttest: 0.0067540\tbest: 0.0067535 (630)\ttotal: 2.43s\tremaining: 1.2s\n",
      "669:\tlearn: 0.0020398\ttest: 0.0067540\tbest: 0.0067535 (630)\ttotal: 2.43s\tremaining: 1.2s\n",
      "670:\tlearn: 0.0020398\ttest: 0.0067540\tbest: 0.0067535 (630)\ttotal: 2.44s\tremaining: 1.19s\n",
      "671:\tlearn: 0.0020398\ttest: 0.0067540\tbest: 0.0067535 (630)\ttotal: 2.44s\tremaining: 1.19s\n",
      "672:\tlearn: 0.0020398\ttest: 0.0067539\tbest: 0.0067535 (630)\ttotal: 2.44s\tremaining: 1.19s\n",
      "673:\tlearn: 0.0020398\ttest: 0.0067539\tbest: 0.0067535 (630)\ttotal: 2.44s\tremaining: 1.18s\n",
      "674:\tlearn: 0.0020398\ttest: 0.0067539\tbest: 0.0067535 (630)\ttotal: 2.45s\tremaining: 1.18s\n",
      "675:\tlearn: 0.0020398\ttest: 0.0067539\tbest: 0.0067535 (630)\ttotal: 2.45s\tremaining: 1.17s\n",
      "676:\tlearn: 0.0020397\ttest: 0.0067539\tbest: 0.0067535 (630)\ttotal: 2.45s\tremaining: 1.17s\n",
      "677:\tlearn: 0.0020398\ttest: 0.0067538\tbest: 0.0067535 (630)\ttotal: 2.46s\tremaining: 1.17s\n",
      "678:\tlearn: 0.0020397\ttest: 0.0067538\tbest: 0.0067535 (630)\ttotal: 2.47s\tremaining: 1.17s\n",
      "679:\tlearn: 0.0020397\ttest: 0.0067538\tbest: 0.0067535 (630)\ttotal: 2.48s\tremaining: 1.17s\n",
      "680:\tlearn: 0.0020397\ttest: 0.0067538\tbest: 0.0067535 (630)\ttotal: 2.48s\tremaining: 1.16s\n",
      "681:\tlearn: 0.0020357\ttest: 0.0067525\tbest: 0.0067525 (681)\ttotal: 2.48s\tremaining: 1.16s\n",
      "682:\tlearn: 0.0020356\ttest: 0.0067524\tbest: 0.0067524 (682)\ttotal: 2.48s\tremaining: 1.15s\n",
      "683:\tlearn: 0.0020356\ttest: 0.0067524\tbest: 0.0067524 (683)\ttotal: 2.49s\tremaining: 1.15s\n",
      "684:\tlearn: 0.0020356\ttest: 0.0067524\tbest: 0.0067524 (684)\ttotal: 2.49s\tremaining: 1.14s\n",
      "685:\tlearn: 0.0020356\ttest: 0.0067523\tbest: 0.0067523 (685)\ttotal: 2.49s\tremaining: 1.14s\n",
      "686:\tlearn: 0.0020356\ttest: 0.0067523\tbest: 0.0067523 (686)\ttotal: 2.5s\tremaining: 1.14s\n",
      "687:\tlearn: 0.0020356\ttest: 0.0067522\tbest: 0.0067522 (687)\ttotal: 2.5s\tremaining: 1.13s\n",
      "688:\tlearn: 0.0020356\ttest: 0.0067522\tbest: 0.0067522 (688)\ttotal: 2.5s\tremaining: 1.13s\n",
      "689:\tlearn: 0.0020356\ttest: 0.0067522\tbest: 0.0067522 (689)\ttotal: 2.51s\tremaining: 1.13s\n",
      "690:\tlearn: 0.0020356\ttest: 0.0067521\tbest: 0.0067521 (690)\ttotal: 2.51s\tremaining: 1.12s\n",
      "691:\tlearn: 0.0020355\ttest: 0.0067521\tbest: 0.0067521 (691)\ttotal: 2.51s\tremaining: 1.12s\n",
      "692:\tlearn: 0.0020355\ttest: 0.0067520\tbest: 0.0067520 (692)\ttotal: 2.52s\tremaining: 1.11s\n",
      "693:\tlearn: 0.0020355\ttest: 0.0067520\tbest: 0.0067520 (693)\ttotal: 2.52s\tremaining: 1.11s\n",
      "694:\tlearn: 0.0020355\ttest: 0.0067520\tbest: 0.0067520 (694)\ttotal: 2.52s\tremaining: 1.11s\n",
      "695:\tlearn: 0.0020355\ttest: 0.0067519\tbest: 0.0067519 (695)\ttotal: 2.53s\tremaining: 1.1s\n",
      "696:\tlearn: 0.0020355\ttest: 0.0067519\tbest: 0.0067519 (696)\ttotal: 2.53s\tremaining: 1.1s\n",
      "697:\tlearn: 0.0020355\ttest: 0.0067518\tbest: 0.0067518 (697)\ttotal: 2.54s\tremaining: 1.1s\n",
      "698:\tlearn: 0.0020355\ttest: 0.0067518\tbest: 0.0067518 (698)\ttotal: 2.54s\tremaining: 1.09s\n",
      "699:\tlearn: 0.0020354\ttest: 0.0067518\tbest: 0.0067518 (699)\ttotal: 2.55s\tremaining: 1.09s\n",
      "700:\tlearn: 0.0020354\ttest: 0.0067517\tbest: 0.0067517 (700)\ttotal: 2.55s\tremaining: 1.09s\n",
      "701:\tlearn: 0.0020354\ttest: 0.0067517\tbest: 0.0067517 (701)\ttotal: 2.56s\tremaining: 1.09s\n",
      "702:\tlearn: 0.0020354\ttest: 0.0067517\tbest: 0.0067517 (702)\ttotal: 2.56s\tremaining: 1.08s\n",
      "703:\tlearn: 0.0020354\ttest: 0.0067516\tbest: 0.0067516 (703)\ttotal: 2.57s\tremaining: 1.08s\n",
      "704:\tlearn: 0.0020354\ttest: 0.0067516\tbest: 0.0067516 (704)\ttotal: 2.58s\tremaining: 1.08s\n",
      "705:\tlearn: 0.0020353\ttest: 0.0067515\tbest: 0.0067515 (705)\ttotal: 2.58s\tremaining: 1.07s\n",
      "706:\tlearn: 0.0020353\ttest: 0.0067515\tbest: 0.0067515 (706)\ttotal: 2.58s\tremaining: 1.07s\n",
      "707:\tlearn: 0.0020353\ttest: 0.0067514\tbest: 0.0067514 (707)\ttotal: 2.59s\tremaining: 1.07s\n",
      "708:\tlearn: 0.0020353\ttest: 0.0067514\tbest: 0.0067514 (708)\ttotal: 2.59s\tremaining: 1.06s\n",
      "709:\tlearn: 0.0020353\ttest: 0.0067513\tbest: 0.0067513 (709)\ttotal: 2.6s\tremaining: 1.06s\n",
      "710:\tlearn: 0.0020353\ttest: 0.0067513\tbest: 0.0067513 (710)\ttotal: 2.6s\tremaining: 1.06s\n",
      "711:\tlearn: 0.0020353\ttest: 0.0067513\tbest: 0.0067513 (711)\ttotal: 2.61s\tremaining: 1.05s\n",
      "712:\tlearn: 0.0020353\ttest: 0.0067512\tbest: 0.0067512 (712)\ttotal: 2.61s\tremaining: 1.05s\n",
      "713:\tlearn: 0.0020353\ttest: 0.0067512\tbest: 0.0067512 (713)\ttotal: 2.62s\tremaining: 1.05s\n"
     ]
    },
    {
     "name": "stdout",
     "output_type": "stream",
     "text": [
      "714:\tlearn: 0.0020353\ttest: 0.0067512\tbest: 0.0067512 (714)\ttotal: 2.62s\tremaining: 1.04s\n",
      "715:\tlearn: 0.0020353\ttest: 0.0067512\tbest: 0.0067512 (715)\ttotal: 2.63s\tremaining: 1.04s\n",
      "716:\tlearn: 0.0020352\ttest: 0.0067508\tbest: 0.0067508 (716)\ttotal: 2.64s\tremaining: 1.04s\n",
      "717:\tlearn: 0.0020352\ttest: 0.0067508\tbest: 0.0067508 (717)\ttotal: 2.64s\tremaining: 1.04s\n",
      "718:\tlearn: 0.0020352\ttest: 0.0067508\tbest: 0.0067508 (718)\ttotal: 2.64s\tremaining: 1.03s\n",
      "719:\tlearn: 0.0020351\ttest: 0.0067507\tbest: 0.0067507 (719)\ttotal: 2.65s\tremaining: 1.03s\n",
      "720:\tlearn: 0.0020352\ttest: 0.0067507\tbest: 0.0067507 (720)\ttotal: 2.65s\tremaining: 1.02s\n",
      "721:\tlearn: 0.0020352\ttest: 0.0067507\tbest: 0.0067507 (721)\ttotal: 2.65s\tremaining: 1.02s\n",
      "722:\tlearn: 0.0020351\ttest: 0.0067507\tbest: 0.0067507 (722)\ttotal: 2.66s\tremaining: 1.02s\n",
      "723:\tlearn: 0.0020351\ttest: 0.0067507\tbest: 0.0067507 (723)\ttotal: 2.66s\tremaining: 1.01s\n",
      "724:\tlearn: 0.0020351\ttest: 0.0067506\tbest: 0.0067506 (724)\ttotal: 2.67s\tremaining: 1.01s\n",
      "725:\tlearn: 0.0020351\ttest: 0.0067506\tbest: 0.0067506 (725)\ttotal: 2.67s\tremaining: 1.01s\n",
      "726:\tlearn: 0.0020351\ttest: 0.0067506\tbest: 0.0067506 (726)\ttotal: 2.67s\tremaining: 1s\n",
      "727:\tlearn: 0.0020351\ttest: 0.0067506\tbest: 0.0067506 (727)\ttotal: 2.67s\tremaining: 999ms\n",
      "728:\tlearn: 0.0020351\ttest: 0.0067505\tbest: 0.0067505 (728)\ttotal: 2.68s\tremaining: 995ms\n",
      "729:\tlearn: 0.0020351\ttest: 0.0067505\tbest: 0.0067505 (729)\ttotal: 2.68s\tremaining: 991ms\n",
      "730:\tlearn: 0.0020351\ttest: 0.0067504\tbest: 0.0067504 (730)\ttotal: 2.68s\tremaining: 987ms\n",
      "731:\tlearn: 0.0020350\ttest: 0.0067503\tbest: 0.0067503 (731)\ttotal: 2.69s\tremaining: 983ms\n",
      "732:\tlearn: 0.0020350\ttest: 0.0067502\tbest: 0.0067502 (732)\ttotal: 2.69s\tremaining: 979ms\n",
      "733:\tlearn: 0.0020350\ttest: 0.0067502\tbest: 0.0067502 (733)\ttotal: 2.69s\tremaining: 975ms\n",
      "734:\tlearn: 0.0020350\ttest: 0.0067502\tbest: 0.0067502 (734)\ttotal: 2.69s\tremaining: 971ms\n",
      "735:\tlearn: 0.0020350\ttest: 0.0067502\tbest: 0.0067502 (735)\ttotal: 2.7s\tremaining: 967ms\n",
      "736:\tlearn: 0.0020350\ttest: 0.0067501\tbest: 0.0067501 (736)\ttotal: 2.7s\tremaining: 963ms\n",
      "737:\tlearn: 0.0020349\ttest: 0.0067501\tbest: 0.0067501 (737)\ttotal: 2.7s\tremaining: 959ms\n",
      "738:\tlearn: 0.0020349\ttest: 0.0067501\tbest: 0.0067501 (738)\ttotal: 2.7s\tremaining: 955ms\n",
      "739:\tlearn: 0.0020349\ttest: 0.0067501\tbest: 0.0067501 (739)\ttotal: 2.71s\tremaining: 952ms\n",
      "740:\tlearn: 0.0020349\ttest: 0.0067500\tbest: 0.0067500 (740)\ttotal: 2.71s\tremaining: 948ms\n",
      "741:\tlearn: 0.0020349\ttest: 0.0067500\tbest: 0.0067500 (741)\ttotal: 2.71s\tremaining: 944ms\n",
      "742:\tlearn: 0.0020350\ttest: 0.0067500\tbest: 0.0067500 (742)\ttotal: 2.71s\tremaining: 939ms\n",
      "743:\tlearn: 0.0020349\ttest: 0.0067500\tbest: 0.0067500 (743)\ttotal: 2.72s\tremaining: 935ms\n",
      "744:\tlearn: 0.0020349\ttest: 0.0067500\tbest: 0.0067500 (744)\ttotal: 2.72s\tremaining: 931ms\n",
      "745:\tlearn: 0.0020349\ttest: 0.0067500\tbest: 0.0067500 (745)\ttotal: 2.72s\tremaining: 927ms\n",
      "746:\tlearn: 0.0020349\ttest: 0.0067500\tbest: 0.0067500 (746)\ttotal: 2.72s\tremaining: 923ms\n",
      "747:\tlearn: 0.0020349\ttest: 0.0067499\tbest: 0.0067499 (747)\ttotal: 2.73s\tremaining: 919ms\n",
      "748:\tlearn: 0.0020349\ttest: 0.0067499\tbest: 0.0067499 (748)\ttotal: 2.73s\tremaining: 915ms\n",
      "749:\tlearn: 0.0020349\ttest: 0.0067499\tbest: 0.0067499 (749)\ttotal: 2.73s\tremaining: 911ms\n",
      "750:\tlearn: 0.0020349\ttest: 0.0067499\tbest: 0.0067499 (750)\ttotal: 2.73s\tremaining: 907ms\n",
      "751:\tlearn: 0.0020349\ttest: 0.0067499\tbest: 0.0067499 (751)\ttotal: 2.74s\tremaining: 903ms\n",
      "752:\tlearn: 0.0020349\ttest: 0.0067499\tbest: 0.0067499 (752)\ttotal: 2.74s\tremaining: 898ms\n",
      "753:\tlearn: 0.0020349\ttest: 0.0067498\tbest: 0.0067498 (753)\ttotal: 2.74s\tremaining: 894ms\n",
      "754:\tlearn: 0.0020349\ttest: 0.0067498\tbest: 0.0067498 (754)\ttotal: 2.74s\tremaining: 890ms\n",
      "755:\tlearn: 0.0020309\ttest: 0.0067485\tbest: 0.0067485 (755)\ttotal: 2.74s\tremaining: 886ms\n",
      "756:\tlearn: 0.0020309\ttest: 0.0067485\tbest: 0.0067485 (756)\ttotal: 2.75s\tremaining: 882ms\n",
      "757:\tlearn: 0.0020309\ttest: 0.0067485\tbest: 0.0067485 (757)\ttotal: 2.75s\tremaining: 877ms\n",
      "758:\tlearn: 0.0020309\ttest: 0.0067485\tbest: 0.0067485 (758)\ttotal: 2.75s\tremaining: 873ms\n",
      "759:\tlearn: 0.0020309\ttest: 0.0067485\tbest: 0.0067485 (759)\ttotal: 2.75s\tremaining: 869ms\n",
      "760:\tlearn: 0.0020309\ttest: 0.0067484\tbest: 0.0067484 (760)\ttotal: 2.75s\tremaining: 865ms\n",
      "761:\tlearn: 0.0020309\ttest: 0.0067484\tbest: 0.0067484 (761)\ttotal: 2.75s\tremaining: 860ms\n",
      "762:\tlearn: 0.0020309\ttest: 0.0067484\tbest: 0.0067484 (762)\ttotal: 2.76s\tremaining: 856ms\n",
      "763:\tlearn: 0.0020309\ttest: 0.0067484\tbest: 0.0067484 (763)\ttotal: 2.76s\tremaining: 852ms\n",
      "764:\tlearn: 0.0020309\ttest: 0.0067484\tbest: 0.0067484 (764)\ttotal: 2.76s\tremaining: 848ms\n",
      "765:\tlearn: 0.0020309\ttest: 0.0067483\tbest: 0.0067483 (765)\ttotal: 2.76s\tremaining: 844ms\n",
      "766:\tlearn: 0.0020309\ttest: 0.0067483\tbest: 0.0067483 (766)\ttotal: 2.76s\tremaining: 840ms\n",
      "767:\tlearn: 0.0020308\ttest: 0.0067483\tbest: 0.0067483 (767)\ttotal: 2.77s\tremaining: 836ms\n",
      "768:\tlearn: 0.0020308\ttest: 0.0067483\tbest: 0.0067483 (768)\ttotal: 2.77s\tremaining: 832ms\n",
      "769:\tlearn: 0.0020308\ttest: 0.0067483\tbest: 0.0067483 (769)\ttotal: 2.77s\tremaining: 827ms\n",
      "770:\tlearn: 0.0020308\ttest: 0.0067482\tbest: 0.0067482 (770)\ttotal: 2.77s\tremaining: 824ms\n",
      "771:\tlearn: 0.0020308\ttest: 0.0067482\tbest: 0.0067482 (771)\ttotal: 2.77s\tremaining: 820ms\n",
      "772:\tlearn: 0.0020308\ttest: 0.0067482\tbest: 0.0067482 (772)\ttotal: 2.78s\tremaining: 816ms\n",
      "773:\tlearn: 0.0020308\ttest: 0.0067482\tbest: 0.0067482 (773)\ttotal: 2.78s\tremaining: 812ms\n",
      "774:\tlearn: 0.0020308\ttest: 0.0067482\tbest: 0.0067482 (774)\ttotal: 2.78s\tremaining: 808ms\n",
      "775:\tlearn: 0.0020308\ttest: 0.0067482\tbest: 0.0067482 (775)\ttotal: 2.79s\tremaining: 804ms\n",
      "776:\tlearn: 0.0020308\ttest: 0.0067481\tbest: 0.0067481 (776)\ttotal: 2.79s\tremaining: 800ms\n",
      "777:\tlearn: 0.0020308\ttest: 0.0067481\tbest: 0.0067481 (777)\ttotal: 2.79s\tremaining: 796ms\n",
      "778:\tlearn: 0.0020307\ttest: 0.0067481\tbest: 0.0067481 (778)\ttotal: 2.79s\tremaining: 792ms\n",
      "779:\tlearn: 0.0020308\ttest: 0.0067481\tbest: 0.0067481 (779)\ttotal: 2.79s\tremaining: 788ms\n",
      "780:\tlearn: 0.0020308\ttest: 0.0067481\tbest: 0.0067481 (780)\ttotal: 2.79s\tremaining: 784ms\n",
      "781:\tlearn: 0.0020308\ttest: 0.0067480\tbest: 0.0067480 (781)\ttotal: 2.8s\tremaining: 780ms\n",
      "782:\tlearn: 0.0020307\ttest: 0.0067480\tbest: 0.0067480 (782)\ttotal: 2.8s\tremaining: 776ms\n",
      "783:\tlearn: 0.0020307\ttest: 0.0067480\tbest: 0.0067480 (783)\ttotal: 2.8s\tremaining: 771ms\n",
      "784:\tlearn: 0.0020307\ttest: 0.0067480\tbest: 0.0067480 (784)\ttotal: 2.8s\tremaining: 767ms\n",
      "785:\tlearn: 0.0020307\ttest: 0.0067480\tbest: 0.0067480 (785)\ttotal: 2.8s\tremaining: 763ms\n",
      "786:\tlearn: 0.0020307\ttest: 0.0067480\tbest: 0.0067480 (786)\ttotal: 2.81s\tremaining: 760ms\n",
      "787:\tlearn: 0.0020307\ttest: 0.0067479\tbest: 0.0067479 (787)\ttotal: 2.81s\tremaining: 756ms\n",
      "788:\tlearn: 0.0020307\ttest: 0.0067479\tbest: 0.0067479 (788)\ttotal: 2.81s\tremaining: 752ms\n",
      "789:\tlearn: 0.0020307\ttest: 0.0067478\tbest: 0.0067478 (789)\ttotal: 2.81s\tremaining: 749ms\n",
      "790:\tlearn: 0.0020307\ttest: 0.0067478\tbest: 0.0067478 (790)\ttotal: 2.82s\tremaining: 745ms\n",
      "791:\tlearn: 0.0020307\ttest: 0.0067478\tbest: 0.0067478 (791)\ttotal: 2.82s\tremaining: 741ms\n",
      "792:\tlearn: 0.0020306\ttest: 0.0067478\tbest: 0.0067478 (792)\ttotal: 2.82s\tremaining: 737ms\n",
      "793:\tlearn: 0.0020306\ttest: 0.0067477\tbest: 0.0067477 (793)\ttotal: 2.83s\tremaining: 733ms\n",
      "794:\tlearn: 0.0020305\ttest: 0.0067475\tbest: 0.0067475 (794)\ttotal: 2.83s\tremaining: 729ms\n",
      "795:\tlearn: 0.0020305\ttest: 0.0067475\tbest: 0.0067475 (795)\ttotal: 2.83s\tremaining: 726ms\n",
      "796:\tlearn: 0.0020305\ttest: 0.0067474\tbest: 0.0067474 (796)\ttotal: 2.83s\tremaining: 722ms\n",
      "797:\tlearn: 0.0020305\ttest: 0.0067474\tbest: 0.0067474 (797)\ttotal: 2.84s\tremaining: 718ms\n",
      "798:\tlearn: 0.0020305\ttest: 0.0067474\tbest: 0.0067474 (798)\ttotal: 2.84s\tremaining: 714ms\n",
      "799:\tlearn: 0.0020305\ttest: 0.0067474\tbest: 0.0067474 (798)\ttotal: 2.84s\tremaining: 710ms\n",
      "800:\tlearn: 0.0020305\ttest: 0.0067474\tbest: 0.0067474 (798)\ttotal: 2.84s\tremaining: 706ms\n",
      "801:\tlearn: 0.0020305\ttest: 0.0067474\tbest: 0.0067474 (798)\ttotal: 2.84s\tremaining: 702ms\n",
      "802:\tlearn: 0.0020305\ttest: 0.0067474\tbest: 0.0067474 (798)\ttotal: 2.84s\tremaining: 698ms\n",
      "803:\tlearn: 0.0020305\ttest: 0.0067474\tbest: 0.0067474 (798)\ttotal: 2.85s\tremaining: 694ms\n",
      "804:\tlearn: 0.0020305\ttest: 0.0067474\tbest: 0.0067474 (798)\ttotal: 2.85s\tremaining: 690ms\n",
      "805:\tlearn: 0.0020305\ttest: 0.0067474\tbest: 0.0067474 (798)\ttotal: 2.85s\tremaining: 686ms\n",
      "806:\tlearn: 0.0020305\ttest: 0.0067474\tbest: 0.0067474 (798)\ttotal: 2.85s\tremaining: 682ms\n",
      "807:\tlearn: 0.0020305\ttest: 0.0067474\tbest: 0.0067474 (798)\ttotal: 2.86s\tremaining: 679ms\n",
      "808:\tlearn: 0.0020305\ttest: 0.0067474\tbest: 0.0067474 (798)\ttotal: 2.86s\tremaining: 675ms\n",
      "809:\tlearn: 0.0020305\ttest: 0.0067474\tbest: 0.0067474 (798)\ttotal: 2.86s\tremaining: 671ms\n",
      "810:\tlearn: 0.0020305\ttest: 0.0067474\tbest: 0.0067474 (798)\ttotal: 2.86s\tremaining: 668ms\n",
      "811:\tlearn: 0.0020305\ttest: 0.0067474\tbest: 0.0067474 (798)\ttotal: 2.87s\tremaining: 664ms\n",
      "812:\tlearn: 0.0020305\ttest: 0.0067474\tbest: 0.0067474 (798)\ttotal: 2.87s\tremaining: 660ms\n",
      "813:\tlearn: 0.0020305\ttest: 0.0067474\tbest: 0.0067474 (798)\ttotal: 2.87s\tremaining: 656ms\n",
      "814:\tlearn: 0.0020305\ttest: 0.0067474\tbest: 0.0067474 (798)\ttotal: 2.87s\tremaining: 652ms\n",
      "815:\tlearn: 0.0020305\ttest: 0.0067474\tbest: 0.0067474 (798)\ttotal: 2.88s\tremaining: 649ms\n",
      "816:\tlearn: 0.0020305\ttest: 0.0067474\tbest: 0.0067474 (798)\ttotal: 2.88s\tremaining: 645ms\n",
      "817:\tlearn: 0.0020305\ttest: 0.0067474\tbest: 0.0067474 (798)\ttotal: 2.88s\tremaining: 641ms\n",
      "818:\tlearn: 0.0020305\ttest: 0.0067474\tbest: 0.0067474 (798)\ttotal: 2.88s\tremaining: 637ms\n",
      "819:\tlearn: 0.0020305\ttest: 0.0067474\tbest: 0.0067474 (798)\ttotal: 2.88s\tremaining: 633ms\n",
      "820:\tlearn: 0.0020305\ttest: 0.0067474\tbest: 0.0067474 (798)\ttotal: 2.88s\tremaining: 629ms\n",
      "821:\tlearn: 0.0020305\ttest: 0.0067474\tbest: 0.0067474 (798)\ttotal: 2.89s\tremaining: 625ms\n",
      "822:\tlearn: 0.0020305\ttest: 0.0067474\tbest: 0.0067474 (798)\ttotal: 2.89s\tremaining: 621ms\n",
      "823:\tlearn: 0.0020305\ttest: 0.0067474\tbest: 0.0067474 (798)\ttotal: 2.89s\tremaining: 617ms\n",
      "824:\tlearn: 0.0020305\ttest: 0.0067474\tbest: 0.0067474 (798)\ttotal: 2.89s\tremaining: 613ms\n",
      "825:\tlearn: 0.0020305\ttest: 0.0067474\tbest: 0.0067474 (798)\ttotal: 2.89s\tremaining: 610ms\n",
      "826:\tlearn: 0.0020305\ttest: 0.0067474\tbest: 0.0067474 (798)\ttotal: 2.9s\tremaining: 606ms\n",
      "827:\tlearn: 0.0020305\ttest: 0.0067474\tbest: 0.0067474 (798)\ttotal: 2.9s\tremaining: 602ms\n",
      "828:\tlearn: 0.0020305\ttest: 0.0067474\tbest: 0.0067474 (798)\ttotal: 2.9s\tremaining: 598ms\n",
      "829:\tlearn: 0.0020305\ttest: 0.0067474\tbest: 0.0067474 (798)\ttotal: 2.9s\tremaining: 594ms\n",
      "830:\tlearn: 0.0020305\ttest: 0.0067474\tbest: 0.0067474 (798)\ttotal: 2.9s\tremaining: 591ms\n",
      "831:\tlearn: 0.0020305\ttest: 0.0067474\tbest: 0.0067474 (798)\ttotal: 2.91s\tremaining: 587ms\n",
      "832:\tlearn: 0.0020305\ttest: 0.0067474\tbest: 0.0067474 (798)\ttotal: 2.91s\tremaining: 583ms\n",
      "833:\tlearn: 0.0020305\ttest: 0.0067474\tbest: 0.0067474 (798)\ttotal: 2.91s\tremaining: 579ms\n",
      "834:\tlearn: 0.0020305\ttest: 0.0067474\tbest: 0.0067474 (798)\ttotal: 2.91s\tremaining: 575ms\n",
      "835:\tlearn: 0.0020305\ttest: 0.0067474\tbest: 0.0067474 (798)\ttotal: 2.91s\tremaining: 572ms\n",
      "836:\tlearn: 0.0020305\ttest: 0.0067474\tbest: 0.0067474 (798)\ttotal: 2.92s\tremaining: 568ms\n",
      "837:\tlearn: 0.0020305\ttest: 0.0067474\tbest: 0.0067474 (798)\ttotal: 2.92s\tremaining: 564ms\n",
      "838:\tlearn: 0.0020305\ttest: 0.0067474\tbest: 0.0067474 (798)\ttotal: 2.92s\tremaining: 560ms\n",
      "839:\tlearn: 0.0020305\ttest: 0.0067474\tbest: 0.0067474 (798)\ttotal: 2.92s\tremaining: 557ms\n",
      "840:\tlearn: 0.0020305\ttest: 0.0067474\tbest: 0.0067474 (798)\ttotal: 2.92s\tremaining: 553ms\n",
      "841:\tlearn: 0.0020305\ttest: 0.0067474\tbest: 0.0067474 (798)\ttotal: 2.92s\tremaining: 549ms\n",
      "842:\tlearn: 0.0020305\ttest: 0.0067474\tbest: 0.0067474 (798)\ttotal: 2.93s\tremaining: 545ms\n",
      "843:\tlearn: 0.0020305\ttest: 0.0067474\tbest: 0.0067474 (798)\ttotal: 2.93s\tremaining: 541ms\n",
      "844:\tlearn: 0.0020305\ttest: 0.0067474\tbest: 0.0067474 (798)\ttotal: 2.93s\tremaining: 537ms\n",
      "845:\tlearn: 0.0020305\ttest: 0.0067474\tbest: 0.0067474 (798)\ttotal: 2.93s\tremaining: 534ms\n",
      "846:\tlearn: 0.0020305\ttest: 0.0067474\tbest: 0.0067474 (798)\ttotal: 2.93s\tremaining: 530ms\n",
      "847:\tlearn: 0.0020305\ttest: 0.0067474\tbest: 0.0067474 (798)\ttotal: 2.93s\tremaining: 526ms\n",
      "848:\tlearn: 0.0020305\ttest: 0.0067474\tbest: 0.0067474 (798)\ttotal: 2.94s\tremaining: 522ms\n",
      "849:\tlearn: 0.0020305\ttest: 0.0067474\tbest: 0.0067474 (798)\ttotal: 2.94s\tremaining: 518ms\n",
      "850:\tlearn: 0.0020305\ttest: 0.0067474\tbest: 0.0067474 (798)\ttotal: 2.94s\tremaining: 515ms\n",
      "851:\tlearn: 0.0020305\ttest: 0.0067474\tbest: 0.0067474 (798)\ttotal: 2.94s\tremaining: 511ms\n",
      "852:\tlearn: 0.0020305\ttest: 0.0067474\tbest: 0.0067474 (798)\ttotal: 2.94s\tremaining: 507ms\n",
      "853:\tlearn: 0.0020305\ttest: 0.0067474\tbest: 0.0067474 (798)\ttotal: 2.94s\tremaining: 503ms\n",
      "854:\tlearn: 0.0020305\ttest: 0.0067474\tbest: 0.0067474 (798)\ttotal: 2.95s\tremaining: 500ms\n",
      "855:\tlearn: 0.0020305\ttest: 0.0067474\tbest: 0.0067474 (798)\ttotal: 2.95s\tremaining: 496ms\n",
      "856:\tlearn: 0.0020305\ttest: 0.0067474\tbest: 0.0067474 (798)\ttotal: 2.95s\tremaining: 492ms\n",
      "857:\tlearn: 0.0020305\ttest: 0.0067474\tbest: 0.0067474 (798)\ttotal: 2.95s\tremaining: 489ms\n",
      "858:\tlearn: 0.0020305\ttest: 0.0067474\tbest: 0.0067474 (798)\ttotal: 2.95s\tremaining: 485ms\n",
      "859:\tlearn: 0.0020305\ttest: 0.0067474\tbest: 0.0067474 (798)\ttotal: 2.96s\tremaining: 482ms\n",
      "860:\tlearn: 0.0020305\ttest: 0.0067474\tbest: 0.0067474 (798)\ttotal: 2.96s\tremaining: 478ms\n",
      "861:\tlearn: 0.0020305\ttest: 0.0067474\tbest: 0.0067474 (798)\ttotal: 2.96s\tremaining: 474ms\n",
      "862:\tlearn: 0.0020305\ttest: 0.0067474\tbest: 0.0067474 (798)\ttotal: 2.96s\tremaining: 471ms\n",
      "863:\tlearn: 0.0020305\ttest: 0.0067474\tbest: 0.0067474 (798)\ttotal: 2.97s\tremaining: 467ms\n",
      "864:\tlearn: 0.0020305\ttest: 0.0067474\tbest: 0.0067474 (798)\ttotal: 2.97s\tremaining: 463ms\n",
      "865:\tlearn: 0.0020305\ttest: 0.0067474\tbest: 0.0067474 (798)\ttotal: 2.97s\tremaining: 459ms\n",
      "866:\tlearn: 0.0020305\ttest: 0.0067474\tbest: 0.0067474 (798)\ttotal: 2.97s\tremaining: 456ms\n",
      "867:\tlearn: 0.0020305\ttest: 0.0067474\tbest: 0.0067474 (798)\ttotal: 2.97s\tremaining: 452ms\n",
      "868:\tlearn: 0.0020305\ttest: 0.0067474\tbest: 0.0067474 (798)\ttotal: 2.97s\tremaining: 448ms\n",
      "869:\tlearn: 0.0020305\ttest: 0.0067474\tbest: 0.0067474 (798)\ttotal: 2.98s\tremaining: 445ms\n",
      "870:\tlearn: 0.0020305\ttest: 0.0067474\tbest: 0.0067474 (798)\ttotal: 2.98s\tremaining: 441ms\n",
      "871:\tlearn: 0.0020305\ttest: 0.0067474\tbest: 0.0067474 (798)\ttotal: 2.98s\tremaining: 437ms\n",
      "872:\tlearn: 0.0020305\ttest: 0.0067474\tbest: 0.0067474 (798)\ttotal: 2.98s\tremaining: 434ms\n",
      "873:\tlearn: 0.0020305\ttest: 0.0067474\tbest: 0.0067474 (798)\ttotal: 2.98s\tremaining: 430ms\n",
      "874:\tlearn: 0.0020305\ttest: 0.0067474\tbest: 0.0067474 (798)\ttotal: 2.98s\tremaining: 426ms\n",
      "875:\tlearn: 0.0020305\ttest: 0.0067474\tbest: 0.0067474 (798)\ttotal: 2.98s\tremaining: 423ms\n"
     ]
    },
    {
     "name": "stdout",
     "output_type": "stream",
     "text": [
      "876:\tlearn: 0.0020305\ttest: 0.0067474\tbest: 0.0067474 (798)\ttotal: 2.99s\tremaining: 419ms\n",
      "877:\tlearn: 0.0020305\ttest: 0.0067474\tbest: 0.0067474 (798)\ttotal: 2.99s\tremaining: 416ms\n",
      "878:\tlearn: 0.0020305\ttest: 0.0067474\tbest: 0.0067474 (798)\ttotal: 2.99s\tremaining: 412ms\n",
      "879:\tlearn: 0.0020305\ttest: 0.0067474\tbest: 0.0067474 (798)\ttotal: 3s\tremaining: 409ms\n",
      "880:\tlearn: 0.0020305\ttest: 0.0067474\tbest: 0.0067474 (798)\ttotal: 3s\tremaining: 405ms\n",
      "881:\tlearn: 0.0020305\ttest: 0.0067474\tbest: 0.0067474 (798)\ttotal: 3s\tremaining: 402ms\n",
      "882:\tlearn: 0.0020305\ttest: 0.0067474\tbest: 0.0067474 (798)\ttotal: 3s\tremaining: 398ms\n",
      "883:\tlearn: 0.0020305\ttest: 0.0067474\tbest: 0.0067474 (798)\ttotal: 3.01s\tremaining: 395ms\n",
      "884:\tlearn: 0.0020305\ttest: 0.0067474\tbest: 0.0067474 (798)\ttotal: 3.01s\tremaining: 391ms\n",
      "885:\tlearn: 0.0020305\ttest: 0.0067474\tbest: 0.0067474 (798)\ttotal: 3.01s\tremaining: 388ms\n",
      "886:\tlearn: 0.0020305\ttest: 0.0067474\tbest: 0.0067474 (798)\ttotal: 3.02s\tremaining: 384ms\n",
      "887:\tlearn: 0.0020305\ttest: 0.0067474\tbest: 0.0067474 (798)\ttotal: 3.02s\tremaining: 381ms\n",
      "888:\tlearn: 0.0020305\ttest: 0.0067474\tbest: 0.0067474 (798)\ttotal: 3.02s\tremaining: 377ms\n",
      "889:\tlearn: 0.0020305\ttest: 0.0067474\tbest: 0.0067474 (798)\ttotal: 3.02s\tremaining: 373ms\n",
      "890:\tlearn: 0.0020305\ttest: 0.0067474\tbest: 0.0067474 (798)\ttotal: 3.02s\tremaining: 370ms\n",
      "891:\tlearn: 0.0020305\ttest: 0.0067474\tbest: 0.0067474 (798)\ttotal: 3.02s\tremaining: 366ms\n",
      "892:\tlearn: 0.0020305\ttest: 0.0067474\tbest: 0.0067474 (798)\ttotal: 3.03s\tremaining: 363ms\n",
      "893:\tlearn: 0.0020305\ttest: 0.0067474\tbest: 0.0067474 (798)\ttotal: 3.03s\tremaining: 359ms\n",
      "894:\tlearn: 0.0020305\ttest: 0.0067474\tbest: 0.0067474 (798)\ttotal: 3.03s\tremaining: 356ms\n",
      "895:\tlearn: 0.0020305\ttest: 0.0067474\tbest: 0.0067474 (798)\ttotal: 3.04s\tremaining: 352ms\n",
      "896:\tlearn: 0.0020305\ttest: 0.0067474\tbest: 0.0067474 (798)\ttotal: 3.04s\tremaining: 349ms\n",
      "897:\tlearn: 0.0020305\ttest: 0.0067474\tbest: 0.0067474 (798)\ttotal: 3.04s\tremaining: 345ms\n",
      "898:\tlearn: 0.0020305\ttest: 0.0067474\tbest: 0.0067474 (798)\ttotal: 3.04s\tremaining: 342ms\n",
      "899:\tlearn: 0.0020305\ttest: 0.0067474\tbest: 0.0067474 (798)\ttotal: 3.04s\tremaining: 338ms\n",
      "900:\tlearn: 0.0020305\ttest: 0.0067474\tbest: 0.0067474 (798)\ttotal: 3.05s\tremaining: 335ms\n",
      "901:\tlearn: 0.0020305\ttest: 0.0067474\tbest: 0.0067474 (798)\ttotal: 3.05s\tremaining: 331ms\n",
      "902:\tlearn: 0.0020305\ttest: 0.0067474\tbest: 0.0067474 (798)\ttotal: 3.05s\tremaining: 328ms\n",
      "903:\tlearn: 0.0020305\ttest: 0.0067474\tbest: 0.0067474 (798)\ttotal: 3.05s\tremaining: 324ms\n",
      "904:\tlearn: 0.0020305\ttest: 0.0067474\tbest: 0.0067474 (798)\ttotal: 3.05s\tremaining: 321ms\n",
      "905:\tlearn: 0.0020305\ttest: 0.0067474\tbest: 0.0067474 (798)\ttotal: 3.06s\tremaining: 317ms\n",
      "906:\tlearn: 0.0020305\ttest: 0.0067474\tbest: 0.0067474 (798)\ttotal: 3.06s\tremaining: 314ms\n",
      "907:\tlearn: 0.0020305\ttest: 0.0067474\tbest: 0.0067474 (798)\ttotal: 3.06s\tremaining: 310ms\n",
      "908:\tlearn: 0.0020305\ttest: 0.0067474\tbest: 0.0067474 (798)\ttotal: 3.06s\tremaining: 307ms\n",
      "909:\tlearn: 0.0020305\ttest: 0.0067474\tbest: 0.0067474 (798)\ttotal: 3.06s\tremaining: 303ms\n",
      "910:\tlearn: 0.0020305\ttest: 0.0067474\tbest: 0.0067474 (798)\ttotal: 3.06s\tremaining: 299ms\n",
      "911:\tlearn: 0.0020305\ttest: 0.0067474\tbest: 0.0067474 (798)\ttotal: 3.07s\tremaining: 296ms\n",
      "912:\tlearn: 0.0020305\ttest: 0.0067474\tbest: 0.0067474 (798)\ttotal: 3.07s\tremaining: 292ms\n",
      "913:\tlearn: 0.0020305\ttest: 0.0067474\tbest: 0.0067474 (798)\ttotal: 3.07s\tremaining: 289ms\n",
      "914:\tlearn: 0.0020305\ttest: 0.0067474\tbest: 0.0067474 (798)\ttotal: 3.07s\tremaining: 285ms\n",
      "915:\tlearn: 0.0020305\ttest: 0.0067474\tbest: 0.0067474 (798)\ttotal: 3.07s\tremaining: 282ms\n",
      "916:\tlearn: 0.0020305\ttest: 0.0067474\tbest: 0.0067474 (798)\ttotal: 3.08s\tremaining: 278ms\n",
      "917:\tlearn: 0.0020305\ttest: 0.0067474\tbest: 0.0067474 (798)\ttotal: 3.08s\tremaining: 275ms\n",
      "918:\tlearn: 0.0020305\ttest: 0.0067474\tbest: 0.0067474 (798)\ttotal: 3.08s\tremaining: 271ms\n",
      "919:\tlearn: 0.0020305\ttest: 0.0067474\tbest: 0.0067474 (798)\ttotal: 3.08s\tremaining: 268ms\n",
      "920:\tlearn: 0.0020305\ttest: 0.0067474\tbest: 0.0067474 (798)\ttotal: 3.08s\tremaining: 264ms\n",
      "921:\tlearn: 0.0020305\ttest: 0.0067474\tbest: 0.0067474 (798)\ttotal: 3.08s\tremaining: 261ms\n",
      "922:\tlearn: 0.0020305\ttest: 0.0067474\tbest: 0.0067474 (798)\ttotal: 3.08s\tremaining: 257ms\n",
      "923:\tlearn: 0.0020305\ttest: 0.0067474\tbest: 0.0067474 (798)\ttotal: 3.09s\tremaining: 254ms\n",
      "924:\tlearn: 0.0020305\ttest: 0.0067474\tbest: 0.0067474 (798)\ttotal: 3.09s\tremaining: 251ms\n",
      "925:\tlearn: 0.0020305\ttest: 0.0067474\tbest: 0.0067474 (798)\ttotal: 3.09s\tremaining: 247ms\n",
      "926:\tlearn: 0.0020305\ttest: 0.0067474\tbest: 0.0067474 (798)\ttotal: 3.1s\tremaining: 244ms\n",
      "927:\tlearn: 0.0020305\ttest: 0.0067474\tbest: 0.0067474 (798)\ttotal: 3.1s\tremaining: 240ms\n",
      "928:\tlearn: 0.0020305\ttest: 0.0067474\tbest: 0.0067474 (798)\ttotal: 3.1s\tremaining: 237ms\n",
      "929:\tlearn: 0.0020305\ttest: 0.0067474\tbest: 0.0067474 (798)\ttotal: 3.1s\tremaining: 233ms\n",
      "930:\tlearn: 0.0020305\ttest: 0.0067474\tbest: 0.0067474 (798)\ttotal: 3.1s\tremaining: 230ms\n",
      "931:\tlearn: 0.0020305\ttest: 0.0067474\tbest: 0.0067474 (798)\ttotal: 3.1s\tremaining: 226ms\n",
      "932:\tlearn: 0.0020305\ttest: 0.0067474\tbest: 0.0067474 (798)\ttotal: 3.1s\tremaining: 223ms\n",
      "933:\tlearn: 0.0020305\ttest: 0.0067474\tbest: 0.0067474 (798)\ttotal: 3.11s\tremaining: 220ms\n",
      "934:\tlearn: 0.0020305\ttest: 0.0067474\tbest: 0.0067474 (798)\ttotal: 3.11s\tremaining: 216ms\n",
      "935:\tlearn: 0.0020305\ttest: 0.0067474\tbest: 0.0067474 (798)\ttotal: 3.11s\tremaining: 213ms\n",
      "936:\tlearn: 0.0020305\ttest: 0.0067474\tbest: 0.0067474 (798)\ttotal: 3.11s\tremaining: 209ms\n",
      "937:\tlearn: 0.0020305\ttest: 0.0067474\tbest: 0.0067474 (798)\ttotal: 3.11s\tremaining: 206ms\n",
      "938:\tlearn: 0.0020305\ttest: 0.0067474\tbest: 0.0067474 (798)\ttotal: 3.12s\tremaining: 202ms\n",
      "939:\tlearn: 0.0020305\ttest: 0.0067474\tbest: 0.0067474 (798)\ttotal: 3.12s\tremaining: 199ms\n",
      "940:\tlearn: 0.0020305\ttest: 0.0067474\tbest: 0.0067474 (798)\ttotal: 3.12s\tremaining: 196ms\n",
      "941:\tlearn: 0.0020305\ttest: 0.0067474\tbest: 0.0067474 (798)\ttotal: 3.12s\tremaining: 192ms\n",
      "942:\tlearn: 0.0020305\ttest: 0.0067474\tbest: 0.0067474 (798)\ttotal: 3.12s\tremaining: 189ms\n",
      "943:\tlearn: 0.0020305\ttest: 0.0067474\tbest: 0.0067474 (798)\ttotal: 3.12s\tremaining: 185ms\n",
      "944:\tlearn: 0.0020305\ttest: 0.0067474\tbest: 0.0067474 (798)\ttotal: 3.13s\tremaining: 182ms\n",
      "945:\tlearn: 0.0020305\ttest: 0.0067474\tbest: 0.0067474 (798)\ttotal: 3.13s\tremaining: 179ms\n",
      "946:\tlearn: 0.0020305\ttest: 0.0067474\tbest: 0.0067474 (798)\ttotal: 3.13s\tremaining: 175ms\n",
      "947:\tlearn: 0.0020305\ttest: 0.0067474\tbest: 0.0067474 (798)\ttotal: 3.13s\tremaining: 172ms\n",
      "948:\tlearn: 0.0020305\ttest: 0.0067474\tbest: 0.0067474 (798)\ttotal: 3.13s\tremaining: 168ms\n",
      "949:\tlearn: 0.0020305\ttest: 0.0067474\tbest: 0.0067474 (798)\ttotal: 3.14s\tremaining: 165ms\n",
      "950:\tlearn: 0.0020305\ttest: 0.0067474\tbest: 0.0067474 (798)\ttotal: 3.14s\tremaining: 162ms\n",
      "951:\tlearn: 0.0020305\ttest: 0.0067474\tbest: 0.0067474 (798)\ttotal: 3.14s\tremaining: 158ms\n",
      "952:\tlearn: 0.0020305\ttest: 0.0067474\tbest: 0.0067474 (798)\ttotal: 3.14s\tremaining: 155ms\n",
      "953:\tlearn: 0.0020305\ttest: 0.0067474\tbest: 0.0067474 (798)\ttotal: 3.15s\tremaining: 152ms\n",
      "954:\tlearn: 0.0020305\ttest: 0.0067474\tbest: 0.0067474 (798)\ttotal: 3.15s\tremaining: 148ms\n",
      "955:\tlearn: 0.0020305\ttest: 0.0067474\tbest: 0.0067474 (798)\ttotal: 3.15s\tremaining: 145ms\n",
      "956:\tlearn: 0.0020305\ttest: 0.0067474\tbest: 0.0067474 (798)\ttotal: 3.15s\tremaining: 142ms\n",
      "957:\tlearn: 0.0020305\ttest: 0.0067474\tbest: 0.0067474 (798)\ttotal: 3.15s\tremaining: 138ms\n",
      "958:\tlearn: 0.0020305\ttest: 0.0067474\tbest: 0.0067474 (798)\ttotal: 3.15s\tremaining: 135ms\n",
      "959:\tlearn: 0.0020305\ttest: 0.0067474\tbest: 0.0067474 (798)\ttotal: 3.15s\tremaining: 131ms\n",
      "960:\tlearn: 0.0020305\ttest: 0.0067474\tbest: 0.0067474 (798)\ttotal: 3.16s\tremaining: 128ms\n",
      "961:\tlearn: 0.0020305\ttest: 0.0067474\tbest: 0.0067474 (798)\ttotal: 3.16s\tremaining: 125ms\n",
      "962:\tlearn: 0.0020305\ttest: 0.0067474\tbest: 0.0067474 (798)\ttotal: 3.16s\tremaining: 121ms\n",
      "963:\tlearn: 0.0020305\ttest: 0.0067474\tbest: 0.0067474 (798)\ttotal: 3.16s\tremaining: 118ms\n",
      "964:\tlearn: 0.0020305\ttest: 0.0067474\tbest: 0.0067474 (798)\ttotal: 3.16s\tremaining: 115ms\n",
      "965:\tlearn: 0.0020305\ttest: 0.0067474\tbest: 0.0067474 (798)\ttotal: 3.16s\tremaining: 111ms\n",
      "966:\tlearn: 0.0020305\ttest: 0.0067474\tbest: 0.0067474 (798)\ttotal: 3.17s\tremaining: 108ms\n",
      "967:\tlearn: 0.0020305\ttest: 0.0067474\tbest: 0.0067474 (798)\ttotal: 3.17s\tremaining: 105ms\n"
     ]
    },
    {
     "name": "stdout",
     "output_type": "stream",
     "text": [
      "968:\tlearn: 0.0020305\ttest: 0.0067474\tbest: 0.0067474 (798)\ttotal: 3.17s\tremaining: 101ms\n",
      "969:\tlearn: 0.0020305\ttest: 0.0067474\tbest: 0.0067474 (798)\ttotal: 3.17s\tremaining: 98.1ms\n",
      "970:\tlearn: 0.0020305\ttest: 0.0067474\tbest: 0.0067474 (798)\ttotal: 3.17s\tremaining: 94.8ms\n",
      "971:\tlearn: 0.0020305\ttest: 0.0067474\tbest: 0.0067474 (798)\ttotal: 3.18s\tremaining: 91.5ms\n",
      "972:\tlearn: 0.0020305\ttest: 0.0067474\tbest: 0.0067474 (798)\ttotal: 3.18s\tremaining: 88.2ms\n",
      "973:\tlearn: 0.0020305\ttest: 0.0067474\tbest: 0.0067474 (798)\ttotal: 3.18s\tremaining: 84.9ms\n",
      "974:\tlearn: 0.0020305\ttest: 0.0067474\tbest: 0.0067474 (798)\ttotal: 3.19s\tremaining: 81.7ms\n",
      "975:\tlearn: 0.0020305\ttest: 0.0067474\tbest: 0.0067474 (798)\ttotal: 3.19s\tremaining: 78.4ms\n",
      "976:\tlearn: 0.0020305\ttest: 0.0067474\tbest: 0.0067474 (798)\ttotal: 3.19s\tremaining: 75.1ms\n",
      "977:\tlearn: 0.0020305\ttest: 0.0067474\tbest: 0.0067474 (798)\ttotal: 3.19s\tremaining: 71.8ms\n",
      "978:\tlearn: 0.0020305\ttest: 0.0067474\tbest: 0.0067474 (798)\ttotal: 3.19s\tremaining: 68.5ms\n",
      "979:\tlearn: 0.0020305\ttest: 0.0067474\tbest: 0.0067474 (798)\ttotal: 3.19s\tremaining: 65.2ms\n",
      "980:\tlearn: 0.0020305\ttest: 0.0067474\tbest: 0.0067474 (798)\ttotal: 3.2s\tremaining: 61.9ms\n",
      "981:\tlearn: 0.0020305\ttest: 0.0067474\tbest: 0.0067474 (798)\ttotal: 3.2s\tremaining: 58.7ms\n",
      "982:\tlearn: 0.0020305\ttest: 0.0067474\tbest: 0.0067474 (798)\ttotal: 3.2s\tremaining: 55.4ms\n",
      "983:\tlearn: 0.0020305\ttest: 0.0067474\tbest: 0.0067474 (798)\ttotal: 3.2s\tremaining: 52.1ms\n",
      "984:\tlearn: 0.0020305\ttest: 0.0067474\tbest: 0.0067474 (798)\ttotal: 3.21s\tremaining: 48.8ms\n",
      "985:\tlearn: 0.0020305\ttest: 0.0067474\tbest: 0.0067474 (798)\ttotal: 3.21s\tremaining: 45.6ms\n",
      "986:\tlearn: 0.0020305\ttest: 0.0067474\tbest: 0.0067474 (798)\ttotal: 3.21s\tremaining: 42.3ms\n",
      "987:\tlearn: 0.0020305\ttest: 0.0067474\tbest: 0.0067474 (798)\ttotal: 3.21s\tremaining: 39ms\n",
      "988:\tlearn: 0.0020305\ttest: 0.0067474\tbest: 0.0067474 (798)\ttotal: 3.21s\tremaining: 35.7ms\n",
      "989:\tlearn: 0.0020305\ttest: 0.0067474\tbest: 0.0067474 (798)\ttotal: 3.21s\tremaining: 32.5ms\n",
      "990:\tlearn: 0.0020305\ttest: 0.0067474\tbest: 0.0067474 (798)\ttotal: 3.22s\tremaining: 29.2ms\n",
      "991:\tlearn: 0.0020305\ttest: 0.0067474\tbest: 0.0067474 (798)\ttotal: 3.22s\tremaining: 26ms\n",
      "992:\tlearn: 0.0020305\ttest: 0.0067474\tbest: 0.0067474 (798)\ttotal: 3.22s\tremaining: 22.7ms\n",
      "993:\tlearn: 0.0020305\ttest: 0.0067474\tbest: 0.0067474 (798)\ttotal: 3.22s\tremaining: 19.5ms\n",
      "994:\tlearn: 0.0020305\ttest: 0.0067474\tbest: 0.0067474 (798)\ttotal: 3.23s\tremaining: 16.2ms\n",
      "995:\tlearn: 0.0020305\ttest: 0.0067474\tbest: 0.0067474 (798)\ttotal: 3.23s\tremaining: 13ms\n",
      "996:\tlearn: 0.0020305\ttest: 0.0067474\tbest: 0.0067474 (798)\ttotal: 3.23s\tremaining: 9.72ms\n",
      "997:\tlearn: 0.0020305\ttest: 0.0067474\tbest: 0.0067474 (798)\ttotal: 3.23s\tremaining: 6.48ms\n",
      "998:\tlearn: 0.0020305\ttest: 0.0067474\tbest: 0.0067474 (798)\ttotal: 3.23s\tremaining: 3.24ms\n",
      "999:\tlearn: 0.0020305\ttest: 0.0067474\tbest: 0.0067474 (798)\ttotal: 3.23s\tremaining: 0us\n",
      "\n",
      "bestTest = 0.0067473965\n",
      "bestIteration = 798\n",
      "\n",
      "Shrink model to first 799 iterations.\n"
     ]
    },
    {
     "data": {
      "text/plain": [
       "0.9968544857768052"
      ]
     },
     "execution_count": 40,
     "metadata": {},
     "output_type": "execute_result"
    }
   ],
   "source": [
    "from catboost import CatBoostClassifier\n",
    "model = CatBoostClassifier()\n",
    "categorical_features_indices = np.where(df.dtypes != np.float)[0]\n",
    "model.fit(X_train, y_train, cat_features=([ 0,  1, 2, 3, 4, 10]), eval_set=(X_test, y_test))\n",
    "model.score(X_test, y_test)"
   ]
  },
  {
   "cell_type": "code",
   "execution_count": null,
   "metadata": {},
   "outputs": [],
   "source": []
  }
 ],
 "metadata": {
  "kernelspec": {
   "display_name": "Python 3 (ipykernel)",
   "language": "python",
   "name": "python3"
  },
  "language_info": {
   "codemirror_mode": {
    "name": "ipython",
    "version": 3
   },
   "file_extension": ".py",
   "mimetype": "text/x-python",
   "name": "python",
   "nbconvert_exporter": "python",
   "pygments_lexer": "ipython3",
   "version": "3.9.7"
  }
 },
 "nbformat": 4,
 "nbformat_minor": 4
}
