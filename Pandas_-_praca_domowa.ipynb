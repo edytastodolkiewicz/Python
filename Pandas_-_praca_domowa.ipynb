{
 "cells": [
  {
   "cell_type": "markdown",
   "id": "c7f2b997",
   "metadata": {},
   "source": [
    "## Zadanie 1 - Dane\n",
    "\n",
    "Załaduj zbiór danych korzystajac z biblioteki Pandas. Kolumny w naszym zbiorze danych, to:\n",
    "\n",
    "imię\n",
    "nazwisko\n",
    "rok urodzenia\n",
    "miesiac urodzenia\n",
    "dzień urodzenia\n",
    "miejsce urodzenia\n",
    "miasto, w którym znajduje się oddział firmy\n",
    "departament, w którym pracuje dana osoba\n",
    "rok roczęcia pracy w firmie\n",
    "miesiac rozpoczęcia pracy\n",
    "dzień rozpoczęcia pracy\n",
    "doswiadczenie (w latach)"
   ]
  },
  {
   "cell_type": "code",
   "execution_count": 34,
   "id": "754632d2",
   "metadata": {},
   "outputs": [
    {
     "data": {
      "text/html": [
       "<div>\n",
       "<style scoped>\n",
       "    .dataframe tbody tr th:only-of-type {\n",
       "        vertical-align: middle;\n",
       "    }\n",
       "\n",
       "    .dataframe tbody tr th {\n",
       "        vertical-align: top;\n",
       "    }\n",
       "\n",
       "    .dataframe thead th {\n",
       "        text-align: right;\n",
       "    }\n",
       "</style>\n",
       "<table border=\"1\" class=\"dataframe\">\n",
       "  <thead>\n",
       "    <tr style=\"text-align: right;\">\n",
       "      <th></th>\n",
       "      <th>imie</th>\n",
       "      <th>nazwisko</th>\n",
       "      <th>rok_urodzenia</th>\n",
       "      <th>miesiac_urodzenia</th>\n",
       "      <th>dzien_urodzenia</th>\n",
       "      <th>miejsce_urodzenia</th>\n",
       "      <th>miasto_oddzial</th>\n",
       "      <th>departament</th>\n",
       "      <th>rok_rozpoczecia</th>\n",
       "      <th>miesiac_rozpoczecia</th>\n",
       "      <th>dzien_rozpoczescia</th>\n",
       "      <th>doswiadczenie</th>\n",
       "    </tr>\n",
       "  </thead>\n",
       "  <tbody>\n",
       "    <tr>\n",
       "      <th>0</th>\n",
       "      <td>Adam</td>\n",
       "      <td>Abacki</td>\n",
       "      <td>1970</td>\n",
       "      <td>3</td>\n",
       "      <td>4</td>\n",
       "      <td>Gdansk</td>\n",
       "      <td>Gdansk</td>\n",
       "      <td>Data Science</td>\n",
       "      <td>2015.0</td>\n",
       "      <td>4</td>\n",
       "      <td>5</td>\n",
       "      <td>20</td>\n",
       "    </tr>\n",
       "    <tr>\n",
       "      <th>1</th>\n",
       "      <td>Barbara</td>\n",
       "      <td>Babacka</td>\n",
       "      <td>1971</td>\n",
       "      <td>4</td>\n",
       "      <td>5</td>\n",
       "      <td>Gdynia</td>\n",
       "      <td>Gdansk</td>\n",
       "      <td>Data Science</td>\n",
       "      <td>NaN</td>\n",
       "      <td>5</td>\n",
       "      <td>15</td>\n",
       "      <td>10</td>\n",
       "    </tr>\n",
       "    <tr>\n",
       "      <th>2</th>\n",
       "      <td>Celina</td>\n",
       "      <td>Cabacka</td>\n",
       "      <td>1969</td>\n",
       "      <td>6</td>\n",
       "      <td>7</td>\n",
       "      <td>Sopot</td>\n",
       "      <td>Gdansk</td>\n",
       "      <td>Software Development</td>\n",
       "      <td>2013.0</td>\n",
       "      <td>6</td>\n",
       "      <td>25</td>\n",
       "      <td>35</td>\n",
       "    </tr>\n",
       "    <tr>\n",
       "      <th>3</th>\n",
       "      <td>Dariusz</td>\n",
       "      <td>Dabacki</td>\n",
       "      <td>1972</td>\n",
       "      <td>8</td>\n",
       "      <td>9</td>\n",
       "      <td>Lublin</td>\n",
       "      <td>Gdansk</td>\n",
       "      <td>HR</td>\n",
       "      <td>2020.0</td>\n",
       "      <td>4</td>\n",
       "      <td>5</td>\n",
       "      <td>4</td>\n",
       "    </tr>\n",
       "    <tr>\n",
       "      <th>4</th>\n",
       "      <td>Ewelina</td>\n",
       "      <td>Ebacka</td>\n",
       "      <td>1968</td>\n",
       "      <td>10</td>\n",
       "      <td>11</td>\n",
       "      <td>Warszawa</td>\n",
       "      <td>Gdansk</td>\n",
       "      <td>Accounting</td>\n",
       "      <td>2000.0</td>\n",
       "      <td>7</td>\n",
       "      <td>15</td>\n",
       "      <td>30</td>\n",
       "    </tr>\n",
       "  </tbody>\n",
       "</table>\n",
       "</div>"
      ],
      "text/plain": [
       "      imie nazwisko  rok_urodzenia  miesiac_urodzenia  dzien_urodzenia  \\\n",
       "0     Adam   Abacki           1970                  3                4   \n",
       "1  Barbara  Babacka           1971                  4                5   \n",
       "2   Celina  Cabacka           1969                  6                7   \n",
       "3  Dariusz  Dabacki           1972                  8                9   \n",
       "4  Ewelina   Ebacka           1968                 10               11   \n",
       "\n",
       "  miejsce_urodzenia miasto_oddzial           departament  rok_rozpoczecia  \\\n",
       "0            Gdansk         Gdansk          Data Science           2015.0   \n",
       "1            Gdynia         Gdansk          Data Science              NaN   \n",
       "2             Sopot         Gdansk  Software Development           2013.0   \n",
       "3            Lublin         Gdansk                    HR           2020.0   \n",
       "4          Warszawa         Gdansk            Accounting           2000.0   \n",
       "\n",
       "   miesiac_rozpoczecia  dzien_rozpoczescia  doswiadczenie  \n",
       "0                    4                   5             20  \n",
       "1                    5                  15             10  \n",
       "2                    6                  25             35  \n",
       "3                    4                   5              4  \n",
       "4                    7                  15             30  "
      ]
     },
     "execution_count": 34,
     "metadata": {},
     "output_type": "execute_result"
    }
   ],
   "source": [
    "import pandas as pd\n",
    "df = pd.read_csv('dataset_pandas_pd.csv', delimiter=',', names = ['imie', 'nazwisko', 'rok_urodzenia', 'miesiac_urodzenia', 'dzien_urodzenia', 'miejsce_urodzenia', 'miasto_oddzial', 'departament', 'rok_rozpoczecia', 'miesiac_rozpoczecia', 'dzien_rozpoczescia', 'doswiadczenie'])\n",
    "df.head()"
   ]
  },
  {
   "cell_type": "markdown",
   "id": "adff52dc",
   "metadata": {},
   "source": [
    "## Zadanie 2 - Najczęstsze nazwisko\n",
    "Osób o jakim nazwisku jest najwięcej ?"
   ]
  },
  {
   "cell_type": "code",
   "execution_count": null,
   "id": "270fca6b",
   "metadata": {},
   "outputs": [],
   "source": []
  },
  {
   "cell_type": "markdown",
   "id": "07b2909f",
   "metadata": {},
   "source": [
    "## Zadanie 3 - Płeć\n",
    "Po kolumnie z nazwiskiem dodaj kolumnę reprezentującą płeć danej osoby. Można wykorzystać fakt, że imiona\n",
    "kobiet kończą się literka 'a'."
   ]
  },
  {
   "cell_type": "code",
   "execution_count": 32,
   "id": "a17d75ee",
   "metadata": {},
   "outputs": [],
   "source": [
    "# dodawanie kolumny na pozycji 2\n",
    "df.insert(2, 'plec', df['imie'].apply(lambda x: 'Kobieta' if x.endswith('a') == True else 'Mezczyzna'))"
   ]
  },
  {
   "cell_type": "code",
   "execution_count": 33,
   "id": "cde59e43",
   "metadata": {},
   "outputs": [],
   "source": [
    "# dodawanie kolumny na końcu df\n",
    "df['plec'] = df['imie'].apply(lambda x: 'Kobieta' if x=='%a' else 'Mezczyzna')"
   ]
  },
  {
   "cell_type": "markdown",
   "id": "085a1c0f",
   "metadata": {},
   "source": [
    "## Zadanie 4 - Sortowanie\n",
    "Posortuj zbiór danych alfabetycznie po nazwiskach, a w ramach jednego nazwiska po roku urodzenia."
   ]
  },
  {
   "cell_type": "code",
   "execution_count": null,
   "id": "b4ae50c9",
   "metadata": {},
   "outputs": [],
   "source": []
  },
  {
   "cell_type": "markdown",
   "id": "f503b806",
   "metadata": {},
   "source": [
    "## Zadanie 5 - Doświadczenie\n",
    "Do zbioru danych należy dodać kolumnę, która będzie mówiła o poziomie doświadczenia danej osoby, w sposób\n",
    "słowny, przyjmując:\n",
    "\n",
    "Junior (do 3 lat doświadczenia)\n",
    "Mid (4 do 8 lat)\n",
    "Senior (9 do 12 lat)\n",
    "Ekspert (od 13 lat)"
   ]
  },
  {
   "cell_type": "code",
   "execution_count": null,
   "id": "e1d30b53",
   "metadata": {},
   "outputs": [],
   "source": []
  },
  {
   "cell_type": "markdown",
   "id": "3a379969",
   "metadata": {},
   "source": [
    "## Zadanie 6 - Rok dołączenia\n",
    "Kolumna reprezentująca rok dołączenia do firmy ma puste wartości. Uzupełnij brakujące wartości używając\n",
    "średniej dla osób o takim samym poziomie doświadczenia (kolumna z Zadania 3), w skali całej firmy."
   ]
  },
  {
   "cell_type": "code",
   "execution_count": null,
   "id": "148e3370",
   "metadata": {},
   "outputs": [],
   "source": []
  },
  {
   "cell_type": "markdown",
   "id": "53b229f3",
   "metadata": {},
   "source": [
    "## Zadanie 7 - Data Scientists\n",
    "Który oddział firmy ma najwięcej Data Scientistów ?"
   ]
  },
  {
   "cell_type": "code",
   "execution_count": null,
   "id": "b00281ed",
   "metadata": {},
   "outputs": [],
   "source": []
  },
  {
   "cell_type": "markdown",
   "id": "e4c65a1e",
   "metadata": {},
   "source": [
    "## Zadanie 8 - Nazwy departamentów\n",
    "Szef chciałby zmienić nazewnictwo departamentów w całej firmie. Napisz kod, który zamieni wartości w\n",
    "kolumnie reprezentującej departament, nastepująco:\n",
    "\n",
    "Software Development -> Software Development Team\n",
    "HR -> Human Resources\n",
    "Data Science -> Data Analytics"
   ]
  },
  {
   "cell_type": "code",
   "execution_count": null,
   "id": "ab42fc80",
   "metadata": {},
   "outputs": [],
   "source": []
  },
  {
   "cell_type": "markdown",
   "id": "7696b9bf",
   "metadata": {},
   "source": [
    "## Zadanie 9 - Seniorzy\n",
    "Które biuro firmy ma najwięcej osób na Seniorskim poziomie doświadczenia ?"
   ]
  },
  {
   "cell_type": "code",
   "execution_count": null,
   "id": "ddfc182e",
   "metadata": {},
   "outputs": [],
   "source": []
  },
  {
   "cell_type": "markdown",
   "id": "86e18857",
   "metadata": {},
   "source": [
    "## Zadanie 10 - Kobiety Juniorzy\n",
    "Które biuro ma najwięcej kobiet na Juniorskim poziomie doświadczenia ?"
   ]
  },
  {
   "cell_type": "code",
   "execution_count": null,
   "id": "dbef17a5",
   "metadata": {},
   "outputs": [],
   "source": []
  },
  {
   "cell_type": "markdown",
   "id": "82939823",
   "metadata": {},
   "source": [
    "## Zadanie 11 - Kobiety Mid\n",
    "Ile jest kobiet w krakowskim biurze, na Mid poziomie doświadczenia, urodzonych przed 1975 rokiem ?"
   ]
  },
  {
   "cell_type": "code",
   "execution_count": null,
   "id": "7cab70e6",
   "metadata": {},
   "outputs": [],
   "source": []
  },
  {
   "cell_type": "markdown",
   "id": "117db757",
   "metadata": {},
   "source": [
    "## Zadanie 12 - Seniorzy z ostatnich 10 lat\n",
    "Ile osób, które posiadają obecnie stanowisko seniorskie, dołączyło do firmy w przeciągu ostatnich 10 lat?"
   ]
  },
  {
   "cell_type": "code",
   "execution_count": null,
   "id": "a443c1bb",
   "metadata": {},
   "outputs": [],
   "source": []
  }
 ],
 "metadata": {
  "kernelspec": {
   "display_name": "Python 3 (ipykernel)",
   "language": "python",
   "name": "python3"
  },
  "language_info": {
   "codemirror_mode": {
    "name": "ipython",
    "version": 3
   },
   "file_extension": ".py",
   "mimetype": "text/x-python",
   "name": "python",
   "nbconvert_exporter": "python",
   "pygments_lexer": "ipython3",
   "version": "3.9.7"
  }
 },
 "nbformat": 4,
 "nbformat_minor": 5
}
