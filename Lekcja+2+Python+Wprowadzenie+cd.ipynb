{
 "cells": [
  {
   "cell_type": "markdown",
   "metadata": {
    "id": "nolRrwIxk4j-"
   },
   "source": [
    "# Typy złożone i kontenery\n",
    "\n",
    "Obiekty **mutable** - **modyfikowalne** moga byc modyfikowane po stworzeniu, a **immutable** - **niemodyfikowalne** nie moga."
   ]
  },
  {
   "cell_type": "markdown",
   "metadata": {
    "id": "SZoW4eOUk4j-"
   },
   "source": [
    "W strukturach moga znajdywac się dane różnych typów.\n",
    "\n",
    "Definiujac list, tuple lub set używamy ',' dla oddzielenia elementów. \n",
    "Definiujac słownik, używamy ':'."
   ]
  },
  {
   "cell_type": "markdown",
   "metadata": {
    "id": "y9mk8avmk4j_"
   },
   "source": [
    "- **`krotka`** (tuple: niemodyfikowalny, indeksowane liczbami naturalnymi, zachowuja kolejnosc dodawania elementów)\n",
    "  - `(2, 3, 4)`\n",
    "  - `('a', 2, None, -1.3)`\n",
    "  - `(3, 5, 6, 3, 'dog', 'cat', False)`\n",
    "- **`lista`** (list: modyfikowalny, indeksowane liczbami naturalnymi, zachowuja kolejnosc dodawania elementów)\n",
    "  - `[0, 0, 0, 0]`\n",
    "  - `['a', 'b', 12345]`\n",
    "  - `[3, 5, 6, 3, 'dog', 'cat', False]`\n",
    "- **`słownik`** (dict; typ reprezentujacy tablicę asocjacyjna [klucz => wartosc])\n",
    "  - `{'jeden_element': 23, 'drugi_element': 34}`\n",
    "  - `{'jeden_element': 'abc', 'drugi_element': 0.123}`\n",
    "  - `{'name': 'Jane', 'age': 23, 'fav_foods': ['pizza', 'fruit', 'fish']}`\n",
    "- **`zbiór`** (set; typ reprezentujacy grupe unikalnych wartosci)\n",
    "  - `{1, 2, 3}`\n",
    "  - `{'a', 1.23, \"bcd\"}\n",
    "  - `{3, 5, 6, 3, 'dog', 'cat', False}`"
   ]
  },
  {
   "cell_type": "markdown",
   "metadata": {
    "id": "ddGgbhg0k4j_"
   },
   "source": [
    "## Dostęp do elementów w strukturach danych\n",
    "\n",
    "W przypadku typu string, list, tuple i dict możemy użyc nawiasów kwadratowych podczas dostępu do danych pod żadanym indeksem.\n",
    "\n",
    "- string, list, i tuple sa indeksowane liczbami całkowitymi, startujac od 0\n",
    "  - te type wspieraja również pobieranie wielu elementów jednoczenie - wykrajanie\n",
    "  - możemy użyc indeksów ujemnych aby dostac się do końcowych elementów struktury\n",
    "- dict jest indeksowany odpowiednim kluczem\n",
    "- set nie jest indeksowany"
   ]
  },
  {
   "cell_type": "code",
   "execution_count": 26,
   "metadata": {
    "colab": {
     "base_uri": "https://localhost:8080/"
    },
    "executionInfo": {
     "elapsed": 260,
     "status": "ok",
     "timestamp": 1626711718752,
     "user": {
      "displayName": "Mateusz Zimoch",
      "photoUrl": "https://lh3.googleusercontent.com/a-/AOh14GhLKHKJhMI_pTIoYkcl8z-E-V849Je8P3XxEzn2DQ=s64",
      "userId": "02738966002905530559"
     },
     "user_tz": -120
    },
    "id": "MUErPZNAk4kA",
    "outputId": "d6b1a6c8-75ab-4876-f435-c12b2dc7b6ae"
   },
   "outputs": [
    {
     "name": "stdout",
     "output_type": "stream",
     "text": [
      "(2, 3, 'a')\n",
      "(2, 3)\n"
     ]
    }
   ],
   "source": [
    "# Krotka\n",
    "a = (2, 3, \"a\")\n",
    "print(a)\n",
    "# WYKRAJANIE typ_indeksowany[indeks_poczatkowy:indeks_koncowy(bez niego):krok]\n",
    "print(a[0:2]) #slicing"
   ]
  },
  {
   "cell_type": "code",
   "execution_count": 27,
   "metadata": {},
   "outputs": [],
   "source": [
    "#SCHEMAT SLICINGU\n",
    "# zmienna[wartość_początkowa:wartość_końcowa(bez_niej):skok]"
   ]
  },
  {
   "cell_type": "code",
   "execution_count": 28,
   "metadata": {
    "colab": {
     "base_uri": "https://localhost:8080/"
    },
    "executionInfo": {
     "elapsed": 286,
     "status": "ok",
     "timestamp": 1626711898512,
     "user": {
      "displayName": "Mateusz Zimoch",
      "photoUrl": "https://lh3.googleusercontent.com/a-/AOh14GhLKHKJhMI_pTIoYkcl8z-E-V849Je8P3XxEzn2DQ=s64",
      "userId": "02738966002905530559"
     },
     "user_tz": -120
    },
    "id": "_VrkBmq7k4kA",
    "outputId": "4f4726fc-0db7-4466-c3f3-5e143b300798"
   },
   "outputs": [
    {
     "name": "stdout",
     "output_type": "stream",
     "text": [
      "m oa\n"
     ]
    }
   ],
   "source": [
    "napis = \"Ala ma kota\"\n",
    "print(napis[4::2])"
   ]
  },
  {
   "cell_type": "code",
   "execution_count": 29,
   "metadata": {
    "colab": {
     "base_uri": "https://localhost:8080/",
     "height": 166
    },
    "executionInfo": {
     "elapsed": 303,
     "status": "error",
     "timestamp": 1626712010931,
     "user": {
      "displayName": "Mateusz Zimoch",
      "photoUrl": "https://lh3.googleusercontent.com/a-/AOh14GhLKHKJhMI_pTIoYkcl8z-E-V849Je8P3XxEzn2DQ=s64",
      "userId": "02738966002905530559"
     },
     "user_tz": -120
    },
    "id": "jXm_pzR-k4kB",
    "outputId": "7f521259-5fce-408e-c6c5-6e3811393351"
   },
   "outputs": [
    {
     "data": {
      "text/plain": [
       "3"
      ]
     },
     "execution_count": 29,
     "metadata": {},
     "output_type": "execute_result"
    }
   ],
   "source": [
    "a[1]"
   ]
  },
  {
   "cell_type": "code",
   "execution_count": 30,
   "metadata": {},
   "outputs": [
    {
     "ename": "TypeError",
     "evalue": "'tuple' object does not support item assignment",
     "output_type": "error",
     "traceback": [
      "\u001b[1;31m---------------------------------------------------------------------------\u001b[0m",
      "\u001b[1;31mTypeError\u001b[0m                                 Traceback (most recent call last)",
      "\u001b[1;32m<ipython-input-30-c04b8b3bfbb3>\u001b[0m in \u001b[0;36m<module>\u001b[1;34m\u001b[0m\n\u001b[1;32m----> 1\u001b[1;33m \u001b[0ma\u001b[0m\u001b[1;33m[\u001b[0m\u001b[1;36m1\u001b[0m\u001b[1;33m]\u001b[0m \u001b[1;33m=\u001b[0m \u001b[1;36m4\u001b[0m\u001b[1;33m\u001b[0m\u001b[1;33m\u001b[0m\u001b[0m\n\u001b[0m",
      "\u001b[1;31mTypeError\u001b[0m: 'tuple' object does not support item assignment"
     ]
    }
   ],
   "source": [
    "a[1] = 4"
   ]
  },
  {
   "cell_type": "code",
   "execution_count": 32,
   "metadata": {},
   "outputs": [
    {
     "data": {
      "text/plain": [
       "tuple"
      ]
     },
     "execution_count": 32,
     "metadata": {},
     "output_type": "execute_result"
    }
   ],
   "source": [
    "type(a)"
   ]
  },
  {
   "cell_type": "code",
   "execution_count": 31,
   "metadata": {
    "colab": {
     "base_uri": "https://localhost:8080/"
    },
    "executionInfo": {
     "elapsed": 285,
     "status": "ok",
     "timestamp": 1626712082038,
     "user": {
      "displayName": "Mateusz Zimoch",
      "photoUrl": "https://lh3.googleusercontent.com/a-/AOh14GhLKHKJhMI_pTIoYkcl8z-E-V849Je8P3XxEzn2DQ=s64",
      "userId": "02738966002905530559"
     },
     "user_tz": -120
    },
    "id": "JRaIUFPgk4kB",
    "outputId": "2cad43ab-2ff6-4703-b03b-9b99d939f11b"
   },
   "outputs": [
    {
     "name": "stdout",
     "output_type": "stream",
     "text": [
      "[1, 2, '33', 4, 5]\n"
     ]
    },
    {
     "data": {
      "text/plain": [
       "list"
      ]
     },
     "execution_count": 31,
     "metadata": {},
     "output_type": "execute_result"
    }
   ],
   "source": [
    "# Lista -- ciąg obiektów dowolnego typu\n",
    "lista = [1, 2, \"33\", 4, 5]\n",
    "print(lista)\n",
    "type(lista)"
   ]
  },
  {
   "cell_type": "code",
   "execution_count": 33,
   "metadata": {
    "colab": {
     "base_uri": "https://localhost:8080/"
    },
    "executionInfo": {
     "elapsed": 261,
     "status": "ok",
     "timestamp": 1626712108185,
     "user": {
      "displayName": "Mateusz Zimoch",
      "photoUrl": "https://lh3.googleusercontent.com/a-/AOh14GhLKHKJhMI_pTIoYkcl8z-E-V849Je8P3XxEzn2DQ=s64",
      "userId": "02738966002905530559"
     },
     "user_tz": -120
    },
    "id": "lEJi80x_k4kB",
    "outputId": "91934dcb-2850-4615-e1d0-e1f5efce4159"
   },
   "outputs": [
    {
     "name": "stdout",
     "output_type": "stream",
     "text": [
      "5\n"
     ]
    }
   ],
   "source": [
    "# Długość listy\n",
    "print(len(lista))"
   ]
  },
  {
   "cell_type": "code",
   "execution_count": 34,
   "metadata": {
    "colab": {
     "base_uri": "https://localhost:8080/"
    },
    "executionInfo": {
     "elapsed": 334,
     "status": "ok",
     "timestamp": 1626712179705,
     "user": {
      "displayName": "Mateusz Zimoch",
      "photoUrl": "https://lh3.googleusercontent.com/a-/AOh14GhLKHKJhMI_pTIoYkcl8z-E-V849Je8P3XxEzn2DQ=s64",
      "userId": "02738966002905530559"
     },
     "user_tz": -120
    },
    "id": "QYKifzx_k4kC",
    "outputId": "f31b82a9-b949-4d3a-d79a-19d781aad8f1"
   },
   "outputs": [
    {
     "name": "stdout",
     "output_type": "stream",
     "text": [
      "[]\n",
      "()\n"
     ]
    }
   ],
   "source": [
    "# Pusta lista\n",
    "pusta_lista = []\n",
    "print(pusta_lista)\n",
    "pusta_krotka = ()\n",
    "print(pusta_krotka)"
   ]
  },
  {
   "cell_type": "code",
   "execution_count": 35,
   "metadata": {
    "colab": {
     "base_uri": "https://localhost:8080/"
    },
    "executionInfo": {
     "elapsed": 315,
     "status": "ok",
     "timestamp": 1626712203814,
     "user": {
      "displayName": "Mateusz Zimoch",
      "photoUrl": "https://lh3.googleusercontent.com/a-/AOh14GhLKHKJhMI_pTIoYkcl8z-E-V849Je8P3XxEzn2DQ=s64",
      "userId": "02738966002905530559"
     },
     "user_tz": -120
    },
    "id": "JvI-hKV8k4kC",
    "outputId": "3ebc421a-510d-4d44-d511-4430b500dbf1"
   },
   "outputs": [
    {
     "name": "stdout",
     "output_type": "stream",
     "text": [
      "0\n"
     ]
    }
   ],
   "source": [
    "# Długość pustej listy\n",
    "print(len(pusta_lista))"
   ]
  },
  {
   "cell_type": "code",
   "execution_count": 36,
   "metadata": {
    "colab": {
     "base_uri": "https://localhost:8080/"
    },
    "executionInfo": {
     "elapsed": 254,
     "status": "ok",
     "timestamp": 1626712214838,
     "user": {
      "displayName": "Mateusz Zimoch",
      "photoUrl": "https://lh3.googleusercontent.com/a-/AOh14GhLKHKJhMI_pTIoYkcl8z-E-V849Je8P3XxEzn2DQ=s64",
      "userId": "02738966002905530559"
     },
     "user_tz": -120
    },
    "id": "Af7s1vUPk4kC",
    "outputId": "45850b1b-9d60-4665-bf20-b24beecde196"
   },
   "outputs": [
    {
     "name": "stdout",
     "output_type": "stream",
     "text": [
      "[1, 2, '33', 4, 5]\n",
      "1\n"
     ]
    }
   ],
   "source": [
    "# Wybieranie elementów listy\n",
    "print(lista)\n",
    "print(lista[0])"
   ]
  },
  {
   "cell_type": "code",
   "execution_count": 37,
   "metadata": {
    "colab": {
     "base_uri": "https://localhost:8080/"
    },
    "executionInfo": {
     "elapsed": 263,
     "status": "ok",
     "timestamp": 1626712236206,
     "user": {
      "displayName": "Mateusz Zimoch",
      "photoUrl": "https://lh3.googleusercontent.com/a-/AOh14GhLKHKJhMI_pTIoYkcl8z-E-V849Je8P3XxEzn2DQ=s64",
      "userId": "02738966002905530559"
     },
     "user_tz": -120
    },
    "id": "h90iUEtlk4kC",
    "outputId": "5b85d774-b37d-4f94-d2da-bbd56ab171fb"
   },
   "outputs": [
    {
     "name": "stdout",
     "output_type": "stream",
     "text": [
      "33\n"
     ]
    },
    {
     "data": {
      "text/plain": [
       "str"
      ]
     },
     "execution_count": 37,
     "metadata": {},
     "output_type": "execute_result"
    }
   ],
   "source": [
    "# Wybieranie elementów listy\n",
    "print(lista[2])\n",
    "type(lista[2])"
   ]
  },
  {
   "cell_type": "code",
   "execution_count": 38,
   "metadata": {
    "colab": {
     "base_uri": "https://localhost:8080/"
    },
    "executionInfo": {
     "elapsed": 270,
     "status": "ok",
     "timestamp": 1626712344456,
     "user": {
      "displayName": "Mateusz Zimoch",
      "photoUrl": "https://lh3.googleusercontent.com/a-/AOh14GhLKHKJhMI_pTIoYkcl8z-E-V849Je8P3XxEzn2DQ=s64",
      "userId": "02738966002905530559"
     },
     "user_tz": -120
    },
    "id": "9i_L2spKk4kC",
    "outputId": "5bdd0d0e-3ad8-4d72-d30d-ef42b938c10f"
   },
   "outputs": [
    {
     "name": "stdout",
     "output_type": "stream",
     "text": [
      "[2, '33']\n",
      "['33', 4, 5]\n",
      "[1, 2]\n",
      "[1, '33', 5]\n"
     ]
    }
   ],
   "source": [
    "# Wybieranie elementów listy\n",
    "print(lista[1:3])\n",
    "print(lista[2:])\n",
    "print(lista[:2])\n",
    "print(lista[::2])"
   ]
  },
  {
   "cell_type": "code",
   "execution_count": 43,
   "metadata": {
    "colab": {
     "base_uri": "https://localhost:8080/"
    },
    "executionInfo": {
     "elapsed": 366,
     "status": "ok",
     "timestamp": 1626712444318,
     "user": {
      "displayName": "Mateusz Zimoch",
      "photoUrl": "https://lh3.googleusercontent.com/a-/AOh14GhLKHKJhMI_pTIoYkcl8z-E-V849Je8P3XxEzn2DQ=s64",
      "userId": "02738966002905530559"
     },
     "user_tz": -120
    },
    "id": "9qZlWGs8k4kD",
    "outputId": "0b802b31-a105-4d93-eda1-ccf161ad23d3"
   },
   "outputs": [
    {
     "name": "stdout",
     "output_type": "stream",
     "text": [
      "[1, 2, '33', 4, 5]\n",
      "5\n",
      "[5, 4, '33']\n"
     ]
    }
   ],
   "source": [
    "# Wybieranie elementów listy od końca\n",
    "print(lista)\n",
    "print(lista[-1])\n",
    "print(lista[-1:-4:-1])"
   ]
  },
  {
   "cell_type": "code",
   "execution_count": 44,
   "metadata": {
    "colab": {
     "base_uri": "https://localhost:8080/"
    },
    "executionInfo": {
     "elapsed": 287,
     "status": "ok",
     "timestamp": 1626712467087,
     "user": {
      "displayName": "Mateusz Zimoch",
      "photoUrl": "https://lh3.googleusercontent.com/a-/AOh14GhLKHKJhMI_pTIoYkcl8z-E-V849Je8P3XxEzn2DQ=s64",
      "userId": "02738966002905530559"
     },
     "user_tz": -120
    },
    "id": "J_DnMoh4k4kD",
    "outputId": "1031b622-9c1f-4700-b7e6-4c1bf1b3029c"
   },
   "outputs": [
    {
     "name": "stdout",
     "output_type": "stream",
     "text": [
      "[1, 2, '33', 4, 5]\n",
      "[1, '33', 5]\n",
      "[1, 4]\n",
      "[1, 2, '33', 4, 5]\n",
      "['33', 4, 5]\n"
     ]
    }
   ],
   "source": [
    "# Wybieranie co drugiego/trzeciego elementu\n",
    "print(lista[:])\n",
    "print(lista[::2])\n",
    "print(lista[::3])\n",
    "print(lista[::1])\n",
    "print(lista[2::1])"
   ]
  },
  {
   "cell_type": "code",
   "execution_count": 45,
   "metadata": {
    "colab": {
     "base_uri": "https://localhost:8080/"
    },
    "executionInfo": {
     "elapsed": 323,
     "status": "ok",
     "timestamp": 1626712498546,
     "user": {
      "displayName": "Mateusz Zimoch",
      "photoUrl": "https://lh3.googleusercontent.com/a-/AOh14GhLKHKJhMI_pTIoYkcl8z-E-V849Je8P3XxEzn2DQ=s64",
      "userId": "02738966002905530559"
     },
     "user_tz": -120
    },
    "id": "yhQJqrFak4kD",
    "outputId": "93c1faae-61f6-4713-fae7-97d8d0f54add"
   },
   "outputs": [
    {
     "name": "stdout",
     "output_type": "stream",
     "text": [
      "[5, 4, '33', 2, 1]\n"
     ]
    }
   ],
   "source": [
    "# Wybieranie elementów w odwrotnej kolejności\n",
    "print(lista[::-1])"
   ]
  },
  {
   "cell_type": "code",
   "execution_count": 46,
   "metadata": {},
   "outputs": [
    {
     "data": {
      "text/plain": [
       "'atok am alA'"
      ]
     },
     "execution_count": 46,
     "metadata": {},
     "output_type": "execute_result"
    }
   ],
   "source": [
    "napis = 'Ala ma kota'\n",
    "napis[::-1]"
   ]
  },
  {
   "cell_type": "code",
   "execution_count": 47,
   "metadata": {
    "colab": {
     "base_uri": "https://localhost:8080/"
    },
    "executionInfo": {
     "elapsed": 285,
     "status": "ok",
     "timestamp": 1626712561183,
     "user": {
      "displayName": "Mateusz Zimoch",
      "photoUrl": "https://lh3.googleusercontent.com/a-/AOh14GhLKHKJhMI_pTIoYkcl8z-E-V849Je8P3XxEzn2DQ=s64",
      "userId": "02738966002905530559"
     },
     "user_tz": -120
    },
    "id": "Mff_Fb93k4kD",
    "outputId": "54a32f15-3dcd-4867-bef6-730a480f0bd5"
   },
   "outputs": [
    {
     "name": "stdout",
     "output_type": "stream",
     "text": [
      "[1, 2, 3, 4, 5, 6]\n"
     ]
    }
   ],
   "source": [
    "# Zamiana elementów listy, dodawanie elementów listy\n",
    "lista[2] = 3\n",
    "lista.append(6) #dodawanie elementu na końcu listy\n",
    "print(lista)"
   ]
  },
  {
   "cell_type": "code",
   "execution_count": 48,
   "metadata": {
    "colab": {
     "base_uri": "https://localhost:8080/"
    },
    "executionInfo": {
     "elapsed": 319,
     "status": "ok",
     "timestamp": 1626712786296,
     "user": {
      "displayName": "Mateusz Zimoch",
      "photoUrl": "https://lh3.googleusercontent.com/a-/AOh14GhLKHKJhMI_pTIoYkcl8z-E-V849Je8P3XxEzn2DQ=s64",
      "userId": "02738966002905530559"
     },
     "user_tz": -120
    },
    "id": "tlF4l5-kk4kE",
    "outputId": "02be5c42-b156-4768-c684-c77ad097f4d4"
   },
   "outputs": [
    {
     "name": "stdout",
     "output_type": "stream",
     "text": [
      "['a', 'b', 'c', 'd', 2, 3, 4, 5, 6, 7, 8, 9]\n",
      "12\n",
      "['d', 2, 3, 4, 5, 6, 7, 8, 9]\n",
      "9\n",
      "[2, 3, 4, 5, 6, 7, 8, 9]\n",
      "8\n"
     ]
    }
   ],
   "source": [
    "# Zamiana elementów listy\n",
    "lista2 = [0, 1, 2, 3, 4, 5, 6, 7, 8, 9]\n",
    "lista2[:2] = [\"a\", \"b\", \"c\", \"d\"]\n",
    "print(lista2)\n",
    "print(len(lista2))\n",
    "del lista2[:3] #usuwanie po indeksie\n",
    "print(lista2)\n",
    "print(len(lista2))\n",
    "lista2.remove('d') #usuwanie konkretnego elementu\n",
    "print(lista2)\n",
    "print(len(lista2))"
   ]
  },
  {
   "cell_type": "code",
   "execution_count": 51,
   "metadata": {
    "id": "aPUK4ynEk4kE"
   },
   "outputs": [
    {
     "name": "stdout",
     "output_type": "stream",
     "text": [
      "[0, 1, 2, 3, 4, 5, 6, 7, 8, 9, 10, 11, 12, 13, 14, 15, 16, 17, 18, 19, 20, 21, 22, 23, 24, 25, 26, 27, 28, 29, 30, 31, 32, 33, 34, 35, 36, 37, 38, 39, 40, 41, 42, 43, 44, 45, 46, 47, 48, 49, 50, 51, 52, 53, 54, 55, 56, 57, 58, 59, 60, 61, 62, 63, 64, 65, 66, 67, 68, 69, 70, 71, 72, 73, 74, 75, 76, 77, 78, 79, 80, 81, 82, 83, 84, 85, 86, 87, 88, 89, 90, 91, 92, 93, 94, 95, 96, 97, 98, 99]\n"
     ]
    }
   ],
   "source": [
    "# Zakres\n",
    "nowa_lista = list(range(0, 100))\n",
    "print(nowa_lista)"
   ]
  },
  {
   "cell_type": "code",
   "execution_count": 54,
   "metadata": {
    "colab": {
     "base_uri": "https://localhost:8080/"
    },
    "executionInfo": {
     "elapsed": 315,
     "status": "ok",
     "timestamp": 1626712916409,
     "user": {
      "displayName": "Mateusz Zimoch",
      "photoUrl": "https://lh3.googleusercontent.com/a-/AOh14GhLKHKJhMI_pTIoYkcl8z-E-V849Je8P3XxEzn2DQ=s64",
      "userId": "02738966002905530559"
     },
     "user_tz": -120
    },
    "id": "5GkRDDMok4kE",
    "outputId": "9e4f2501-3e6f-4a15-9970-466c43832a8e"
   },
   "outputs": [
    {
     "name": "stdout",
     "output_type": "stream",
     "text": [
      "True\n",
      "True\n",
      "True\n"
     ]
    }
   ],
   "source": [
    "# Operator in\n",
    "lista3 = [0, 1, \"2\", 3, 4]\n",
    "print(2 in lista3)\n",
    "print(\"2\" in lista3)\n",
    "print(5 not in lista3)"
   ]
  },
  {
   "cell_type": "code",
   "execution_count": 57,
   "metadata": {
    "id": "8gmHORq9k4kE"
   },
   "outputs": [
    {
     "ename": "IndexError",
     "evalue": "list index out of range",
     "output_type": "error",
     "traceback": [
      "\u001b[1;31m---------------------------------------------------------------------------\u001b[0m",
      "\u001b[1;31mIndexError\u001b[0m                                Traceback (most recent call last)",
      "\u001b[1;32m<ipython-input-57-c94635c779cd>\u001b[0m in \u001b[0;36m<module>\u001b[1;34m\u001b[0m\n\u001b[1;32m----> 1\u001b[1;33m \u001b[0mprint\u001b[0m\u001b[1;33m(\u001b[0m\u001b[0mlista3\u001b[0m\u001b[1;33m[\u001b[0m\u001b[1;36m5\u001b[0m\u001b[1;33m]\u001b[0m\u001b[1;33m)\u001b[0m\u001b[1;33m\u001b[0m\u001b[1;33m\u001b[0m\u001b[0m\n\u001b[0m",
      "\u001b[1;31mIndexError\u001b[0m: list index out of range"
     ]
    }
   ],
   "source": [
    "print(lista3[5])"
   ]
  },
  {
   "cell_type": "code",
   "execution_count": 55,
   "metadata": {
    "colab": {
     "base_uri": "https://localhost:8080/"
    },
    "executionInfo": {
     "elapsed": 256,
     "status": "ok",
     "timestamp": 1626713093614,
     "user": {
      "displayName": "Mateusz Zimoch",
      "photoUrl": "https://lh3.googleusercontent.com/a-/AOh14GhLKHKJhMI_pTIoYkcl8z-E-V849Je8P3XxEzn2DQ=s64",
      "userId": "02738966002905530559"
     },
     "user_tz": -120
    },
    "id": "qEUFcVr0k4kE",
    "outputId": "11eba955-0105-4e3a-aea1-62049ed703af"
   },
   "outputs": [
    {
     "name": "stdout",
     "output_type": "stream",
     "text": [
      "{'jabłko': 2.5, 'grusza': 3.5, 'pomidor': 6.75}\n",
      "2.5\n"
     ]
    }
   ],
   "source": [
    "# Słownik: zbiór par klucz, wartość\n",
    "cena = {\"jabłko\" : 2.50, \"grusza\" : 3.50, \"pomidor\": 6.75}\n",
    "print(cena)\n",
    "print(cena[\"jabłko\"])"
   ]
  },
  {
   "cell_type": "code",
   "execution_count": 56,
   "metadata": {
    "id": "9MA5q4Afk4kF"
   },
   "outputs": [
    {
     "ename": "KeyError",
     "evalue": "'ogórek'",
     "output_type": "error",
     "traceback": [
      "\u001b[1;31m---------------------------------------------------------------------------\u001b[0m",
      "\u001b[1;31mKeyError\u001b[0m                                  Traceback (most recent call last)",
      "\u001b[1;32m<ipython-input-56-fa0977198b6f>\u001b[0m in \u001b[0;36m<module>\u001b[1;34m\u001b[0m\n\u001b[0;32m      1\u001b[0m \u001b[1;31m# Odwołanie do nieistniejącej pozycji w cenniku\u001b[0m\u001b[1;33m\u001b[0m\u001b[1;33m\u001b[0m\u001b[1;33m\u001b[0m\u001b[0m\n\u001b[1;32m----> 2\u001b[1;33m \u001b[0mprint\u001b[0m\u001b[1;33m(\u001b[0m\u001b[0mcena\u001b[0m\u001b[1;33m[\u001b[0m\u001b[1;34m\"ogórek\"\u001b[0m\u001b[1;33m]\u001b[0m\u001b[1;33m)\u001b[0m\u001b[1;33m\u001b[0m\u001b[1;33m\u001b[0m\u001b[0m\n\u001b[0m",
      "\u001b[1;31mKeyError\u001b[0m: 'ogórek'"
     ]
    }
   ],
   "source": [
    "# Odwołanie do nieistniejącej pozycji w cenniku\n",
    "print(cena[\"ogórek\"])"
   ]
  },
  {
   "cell_type": "code",
   "execution_count": 58,
   "metadata": {
    "colab": {
     "base_uri": "https://localhost:8080/"
    },
    "executionInfo": {
     "elapsed": 264,
     "status": "ok",
     "timestamp": 1626713146400,
     "user": {
      "displayName": "Mateusz Zimoch",
      "photoUrl": "https://lh3.googleusercontent.com/a-/AOh14GhLKHKJhMI_pTIoYkcl8z-E-V849Je8P3XxEzn2DQ=s64",
      "userId": "02738966002905530559"
     },
     "user_tz": -120
    },
    "id": "D_gZtQCsk4kF",
    "outputId": "48c816ed-d985-4ecb-858e-1d0fe98432e2"
   },
   "outputs": [
    {
     "name": "stdout",
     "output_type": "stream",
     "text": [
      "6.75\n",
      "None\n"
     ]
    }
   ],
   "source": [
    "# Metoda get i typ None\n",
    "print(cena.get(\"pomidor\"))\n",
    "print(cena.get(\"ogórek\"))"
   ]
  },
  {
   "cell_type": "code",
   "execution_count": 59,
   "metadata": {
    "colab": {
     "base_uri": "https://localhost:8080/"
    },
    "executionInfo": {
     "elapsed": 306,
     "status": "ok",
     "timestamp": 1626713236271,
     "user": {
      "displayName": "Mateusz Zimoch",
      "photoUrl": "https://lh3.googleusercontent.com/a-/AOh14GhLKHKJhMI_pTIoYkcl8z-E-V849Je8P3XxEzn2DQ=s64",
      "userId": "02738966002905530559"
     },
     "user_tz": -120
    },
    "id": "Zx0lQZlBk4kF",
    "outputId": "f88048cb-35f1-46da-a160-e2e43a2739ee"
   },
   "outputs": [
    {
     "name": "stdout",
     "output_type": "stream",
     "text": [
      "{'jabłko': 2.3, 'grusza': 3.5, 'pomidor': 6.75, 'ogórek': 1.8}\n",
      "dict_keys(['jabłko', 'grusza', 'pomidor', 'ogórek'])\n",
      "dict_values([2.3, 3.5, 6.75, 1.8])\n",
      "dict_items([('jabłko', 2.3), ('grusza', 3.5), ('pomidor', 6.75), ('ogórek', 1.8)])\n"
     ]
    }
   ],
   "source": [
    "# Dodanie pary klucz, wartość do słownika\n",
    "cena[\"ogórek\"] = 1.80\n",
    "cena[\"jabłko\"] = 2.30\n",
    "print(cena)\n",
    "print(cena.keys())\n",
    "print(cena.values())\n",
    "print(cena.items())"
   ]
  },
  {
   "cell_type": "code",
   "execution_count": 61,
   "metadata": {
    "colab": {
     "base_uri": "https://localhost:8080/"
    },
    "executionInfo": {
     "elapsed": 304,
     "status": "ok",
     "timestamp": 1626713301818,
     "user": {
      "displayName": "Mateusz Zimoch",
      "photoUrl": "https://lh3.googleusercontent.com/a-/AOh14GhLKHKJhMI_pTIoYkcl8z-E-V849Je8P3XxEzn2DQ=s64",
      "userId": "02738966002905530559"
     },
     "user_tz": -120
    },
    "id": "2xPTlkNpk4kF",
    "outputId": "cbf91e4b-96f0-41ec-c9cb-98a964bc455c"
   },
   "outputs": [
    {
     "name": "stdout",
     "output_type": "stream",
     "text": [
      "{'ogórek': 3.99, 'pomidor': 5.99, 'śliwka': 6.5}\n",
      "{'ogórek': 1.99, 'pomidor': 5.99}\n"
     ]
    }
   ],
   "source": [
    "# Inny sposób tworzenia słownika\n",
    "cena = dict(ogórek = 3.99, pomidor = 5.99, śliwka = 6.50)\n",
    "print(cena)\n",
    "cena[\"ogórek\"] = 1.99\n",
    "del cena['śliwka']\n",
    "print(cena)"
   ]
  },
  {
   "cell_type": "markdown",
   "metadata": {
    "id": "31DLSVV4k4kF"
   },
   "source": [
    "## Porównanie poszczególnych struktur"
   ]
  },
  {
   "cell_type": "code",
   "execution_count": 62,
   "metadata": {
    "id": "V7fSl4hHk4kF"
   },
   "outputs": [
    {
     "data": {
      "text/plain": [
       "{3, 5, 6, False, 'cat', 'dog'}"
      ]
     },
     "execution_count": 62,
     "metadata": {},
     "output_type": "execute_result"
    }
   ],
   "source": [
    "# Przykłady każdej ze struktur\n",
    "tuple1 = (3, 5, 6, 3, 'dog', 'cat', False)\n",
    "set1 = {3, 5, 6, 3, 'dog', 'cat', False}\n",
    "dict1 = {'name': 'Jane', 'age': 23, 'fav_foods': ['pizza', 'fruit', 'fish']}\n",
    "set1"
   ]
  },
  {
   "cell_type": "code",
   "execution_count": 63,
   "metadata": {
    "colab": {
     "base_uri": "https://localhost:8080/"
    },
    "executionInfo": {
     "elapsed": 320,
     "status": "ok",
     "timestamp": 1626713501433,
     "user": {
      "displayName": "Mateusz Zimoch",
      "photoUrl": "https://lh3.googleusercontent.com/a-/AOh14GhLKHKJhMI_pTIoYkcl8z-E-V849Je8P3XxEzn2DQ=s64",
      "userId": "02738966002905530559"
     },
     "user_tz": -120
    },
    "id": "0xyH99gTrHem",
    "outputId": "ec4a9e25-a601-49e3-d1a7-c41347599c4d"
   },
   "outputs": [
    {
     "name": "stdout",
     "output_type": "stream",
     "text": [
      "{False, 3, 5, 6, 7, 'dog', 'cat'}\n",
      "{False, 5, 6, 7, 'dog', 'cat'}\n",
      "True\n"
     ]
    }
   ],
   "source": [
    "set1.add(7)\n",
    "print(set1)\n",
    "set1.remove(3)\n",
    "print(set1)\n",
    "print(5 in set1)"
   ]
  },
  {
   "cell_type": "code",
   "execution_count": 64,
   "metadata": {
    "colab": {
     "base_uri": "https://localhost:8080/"
    },
    "executionInfo": {
     "elapsed": 298,
     "status": "ok",
     "timestamp": 1626713509665,
     "user": {
      "displayName": "Mateusz Zimoch",
      "photoUrl": "https://lh3.googleusercontent.com/a-/AOh14GhLKHKJhMI_pTIoYkcl8z-E-V849Je8P3XxEzn2DQ=s64",
      "userId": "02738966002905530559"
     },
     "user_tz": -120
    },
    "id": "PUFs2fdOk4kG",
    "outputId": "89e365ed-9637-4aca-a4a0-d41de3df13d8"
   },
   "outputs": [
    {
     "data": {
      "text/plain": [
       "[3, 5, 6, 3, 'dog', 'cat', False]"
      ]
     },
     "execution_count": 64,
     "metadata": {},
     "output_type": "execute_result"
    }
   ],
   "source": [
    "# Elementy w liscie zachowuja swoja kolejnosc\n",
    "list1 = [3, 5, 6, 3, 'dog', 'cat', False]\n",
    "list1"
   ]
  },
  {
   "cell_type": "code",
   "execution_count": 65,
   "metadata": {
    "colab": {
     "base_uri": "https://localhost:8080/"
    },
    "executionInfo": {
     "elapsed": 323,
     "status": "ok",
     "timestamp": 1626713522174,
     "user": {
      "displayName": "Mateusz Zimoch",
      "photoUrl": "https://lh3.googleusercontent.com/a-/AOh14GhLKHKJhMI_pTIoYkcl8z-E-V849Je8P3XxEzn2DQ=s64",
      "userId": "02738966002905530559"
     },
     "user_tz": -120
    },
    "id": "qrrmmUMuk4kG",
    "outputId": "1262b816-a564-4536-9508-b6e2eaec2a11"
   },
   "outputs": [
    {
     "data": {
      "text/plain": [
       "(3, 5, 6, 3, 'dog', 'cat', False)"
      ]
     },
     "execution_count": 65,
     "metadata": {},
     "output_type": "execute_result"
    }
   ],
   "source": [
    "# Elementy w tupli zachowuja kolejnosc\n",
    "tuple1"
   ]
  },
  {
   "cell_type": "code",
   "execution_count": 66,
   "metadata": {
    "colab": {
     "base_uri": "https://localhost:8080/"
    },
    "executionInfo": {
     "elapsed": 404,
     "status": "ok",
     "timestamp": 1626713528278,
     "user": {
      "displayName": "Mateusz Zimoch",
      "photoUrl": "https://lh3.googleusercontent.com/a-/AOh14GhLKHKJhMI_pTIoYkcl8z-E-V849Je8P3XxEzn2DQ=s64",
      "userId": "02738966002905530559"
     },
     "user_tz": -120
    },
    "id": "SHJYXTmok4kG",
    "outputId": "a6cd3bd7-861a-4ebb-c3b2-441e0772dc4e"
   },
   "outputs": [
    {
     "data": {
      "text/plain": [
       "{5, 6, 7, False, 'cat', 'dog'}"
      ]
     },
     "execution_count": 66,
     "metadata": {},
     "output_type": "execute_result"
    }
   ],
   "source": [
    "# Elementy w zbiorze nie zachowuja kolejnosci i nie powtarzaja sie\n",
    "set1"
   ]
  },
  {
   "cell_type": "code",
   "execution_count": 67,
   "metadata": {
    "colab": {
     "base_uri": "https://localhost:8080/"
    },
    "executionInfo": {
     "elapsed": 338,
     "status": "ok",
     "timestamp": 1626713534214,
     "user": {
      "displayName": "Mateusz Zimoch",
      "photoUrl": "https://lh3.googleusercontent.com/a-/AOh14GhLKHKJhMI_pTIoYkcl8z-E-V849Je8P3XxEzn2DQ=s64",
      "userId": "02738966002905530559"
     },
     "user_tz": -120
    },
    "id": "xcOzJsDUk4kG",
    "outputId": "64bcfa29-d5f5-4855-f1f2-12821a152535"
   },
   "outputs": [
    {
     "data": {
      "text/plain": [
       "{'name': 'Jane', 'age': 23, 'fav_foods': ['pizza', 'fruit', 'fish']}"
      ]
     },
     "execution_count": 67,
     "metadata": {},
     "output_type": "execute_result"
    }
   ],
   "source": [
    "# Elementy w słowniku zachowuja swoja kolejnosc (od Pythona 3.6)\n",
    "dict1"
   ]
  },
  {
   "cell_type": "code",
   "execution_count": 68,
   "metadata": {
    "colab": {
     "base_uri": "https://localhost:8080/"
    },
    "executionInfo": {
     "elapsed": 293,
     "status": "ok",
     "timestamp": 1626713580417,
     "user": {
      "displayName": "Mateusz Zimoch",
      "photoUrl": "https://lh3.googleusercontent.com/a-/AOh14GhLKHKJhMI_pTIoYkcl8z-E-V849Je8P3XxEzn2DQ=s64",
      "userId": "02738966002905530559"
     },
     "user_tz": -120
    },
    "id": "7yFChdNWk4kH",
    "outputId": "eaac13e3-c12d-4fbd-a314-fc7d367dddaf"
   },
   "outputs": [
    {
     "data": {
      "text/plain": [
       "[3, 5, 6, 3, 'dog', 'cat', False, 5, 'grapes']"
      ]
     },
     "execution_count": 68,
     "metadata": {},
     "output_type": "execute_result"
    }
   ],
   "source": [
    "# Dodanie i ponowne przypisanie\n",
    "list1 += [5, 'grapes'] #zamiast append\n",
    "list1"
   ]
  },
  {
   "cell_type": "code",
   "execution_count": 69,
   "metadata": {
    "colab": {
     "base_uri": "https://localhost:8080/"
    },
    "executionInfo": {
     "elapsed": 271,
     "status": "ok",
     "timestamp": 1626713614026,
     "user": {
      "displayName": "Mateusz Zimoch",
      "photoUrl": "https://lh3.googleusercontent.com/a-/AOh14GhLKHKJhMI_pTIoYkcl8z-E-V849Je8P3XxEzn2DQ=s64",
      "userId": "02738966002905530559"
     },
     "user_tz": -120
    },
    "id": "7d4PHyZdk4kH",
    "outputId": "0f6cf569-a596-4f21-9513-ce3e55514a31"
   },
   "outputs": [
    {
     "data": {
      "text/plain": [
       "(3, 5, 6, 3, 'dog', 'cat', False, 5, 'grapes')"
      ]
     },
     "execution_count": 69,
     "metadata": {},
     "output_type": "execute_result"
    }
   ],
   "source": [
    "# Dodanie i ponowne przypisanie\n",
    "tuple1 += (5, 'grapes')\n",
    "tuple1"
   ]
  },
  {
   "cell_type": "code",
   "execution_count": 70,
   "metadata": {
    "id": "w9XD3UaFk4kH"
   },
   "outputs": [
    {
     "ename": "TypeError",
     "evalue": "'tuple' object does not support item assignment",
     "output_type": "error",
     "traceback": [
      "\u001b[1;31m---------------------------------------------------------------------------\u001b[0m",
      "\u001b[1;31mTypeError\u001b[0m                                 Traceback (most recent call last)",
      "\u001b[1;32m<ipython-input-70-d2073eb05771>\u001b[0m in \u001b[0;36m<module>\u001b[1;34m\u001b[0m\n\u001b[0;32m      1\u001b[0m \u001b[1;31m# Tupla jest niemodyfikowalna\u001b[0m\u001b[1;33m\u001b[0m\u001b[1;33m\u001b[0m\u001b[1;33m\u001b[0m\u001b[0m\n\u001b[1;32m----> 2\u001b[1;33m \u001b[0mtuple1\u001b[0m\u001b[1;33m[\u001b[0m\u001b[1;36m1\u001b[0m\u001b[1;33m]\u001b[0m \u001b[1;33m=\u001b[0m \u001b[1;36m123\u001b[0m\u001b[1;33m\u001b[0m\u001b[1;33m\u001b[0m\u001b[0m\n\u001b[0m",
      "\u001b[1;31mTypeError\u001b[0m: 'tuple' object does not support item assignment"
     ]
    }
   ],
   "source": [
    "# Tupla jest niemodyfikowalna\n",
    "tuple1[1] = 123"
   ]
  },
  {
   "cell_type": "code",
   "execution_count": 71,
   "metadata": {
    "colab": {
     "base_uri": "https://localhost:8080/"
    },
    "executionInfo": {
     "elapsed": 371,
     "status": "ok",
     "timestamp": 1626713687424,
     "user": {
      "displayName": "Mateusz Zimoch",
      "photoUrl": "https://lh3.googleusercontent.com/a-/AOh14GhLKHKJhMI_pTIoYkcl8z-E-V849Je8P3XxEzn2DQ=s64",
      "userId": "02738966002905530559"
     },
     "user_tz": -120
    },
    "id": "yQ2Zuusmk4kH",
    "outputId": "daf899d5-a705-4b84-b97c-42631c53307b"
   },
   "outputs": [
    {
     "data": {
      "text/plain": [
       "[1, 2, 3, 4, 1, 2, 3, 4]"
      ]
     },
     "execution_count": 71,
     "metadata": {},
     "output_type": "execute_result"
    }
   ],
   "source": [
    "# Powielanie listy\n",
    "[1, 2, 3, 4] * 2"
   ]
  },
  {
   "cell_type": "code",
   "execution_count": 72,
   "metadata": {
    "colab": {
     "base_uri": "https://localhost:8080/"
    },
    "executionInfo": {
     "elapsed": 263,
     "status": "ok",
     "timestamp": 1626713702757,
     "user": {
      "displayName": "Mateusz Zimoch",
      "photoUrl": "https://lh3.googleusercontent.com/a-/AOh14GhLKHKJhMI_pTIoYkcl8z-E-V849Je8P3XxEzn2DQ=s64",
      "userId": "02738966002905530559"
     },
     "user_tz": -120
    },
    "id": "lb-1tbuik4kH",
    "outputId": "89b610ae-d83b-476d-ae69-c1941efed397"
   },
   "outputs": [
    {
     "data": {
      "text/plain": [
       "(1, 2, 3, 4, 1, 2, 3, 4, 1, 2, 3, 4)"
      ]
     },
     "execution_count": 72,
     "metadata": {},
     "output_type": "execute_result"
    }
   ],
   "source": [
    "# Powielanie tupli\n",
    "(1, 2, 3, 4) * 3"
   ]
  },
  {
   "cell_type": "code",
   "execution_count": 73,
   "metadata": {
    "colab": {
     "base_uri": "https://localhost:8080/"
    },
    "executionInfo": {
     "elapsed": 433,
     "status": "ok",
     "timestamp": 1626713713435,
     "user": {
      "displayName": "Mateusz Zimoch",
      "photoUrl": "https://lh3.googleusercontent.com/a-/AOh14GhLKHKJhMI_pTIoYkcl8z-E-V849Je8P3XxEzn2DQ=s64",
      "userId": "02738966002905530559"
     },
     "user_tz": -120
    },
    "id": "1kd_AKFAk4kI",
    "outputId": "a0b0d70d-f9c9-49f4-e7ed-b02cc6734fce"
   },
   "outputs": [
    {
     "data": {
      "text/plain": [
       "3"
      ]
     },
     "execution_count": 73,
     "metadata": {},
     "output_type": "execute_result"
    }
   ],
   "source": [
    "# Pierwszy element listy\n",
    "list1[0]"
   ]
  },
  {
   "cell_type": "code",
   "execution_count": 74,
   "metadata": {
    "colab": {
     "base_uri": "https://localhost:8080/",
     "height": 35
    },
    "executionInfo": {
     "elapsed": 406,
     "status": "ok",
     "timestamp": 1626713716246,
     "user": {
      "displayName": "Mateusz Zimoch",
      "photoUrl": "https://lh3.googleusercontent.com/a-/AOh14GhLKHKJhMI_pTIoYkcl8z-E-V849Je8P3XxEzn2DQ=s64",
      "userId": "02738966002905530559"
     },
     "user_tz": -120
    },
    "id": "EDiZIaLBk4kI",
    "outputId": "92f612f6-5df7-4628-dc09-b3a2bb47c680"
   },
   "outputs": [
    {
     "data": {
      "text/plain": [
       "'grapes'"
      ]
     },
     "execution_count": 74,
     "metadata": {},
     "output_type": "execute_result"
    }
   ],
   "source": [
    "# Ostatni element\n",
    "tuple1[-1]"
   ]
  },
  {
   "cell_type": "code",
   "execution_count": 75,
   "metadata": {
    "colab": {
     "base_uri": "https://localhost:8080/"
    },
    "executionInfo": {
     "elapsed": 272,
     "status": "ok",
     "timestamp": 1626713727777,
     "user": {
      "displayName": "Mateusz Zimoch",
      "photoUrl": "https://lh3.googleusercontent.com/a-/AOh14GhLKHKJhMI_pTIoYkcl8z-E-V849Je8P3XxEzn2DQ=s64",
      "userId": "02738966002905530559"
     },
     "user_tz": -120
    },
    "id": "PDDp3UH4k4kI",
    "outputId": "40ec8af2-56ec-4393-db36-c223ff4d0555"
   },
   "outputs": [
    {
     "data": {
      "text/plain": [
       "[3, 'dog', 'cat', False, 5]"
      ]
     },
     "execution_count": 75,
     "metadata": {},
     "output_type": "execute_result"
    }
   ],
   "source": [
    "# Pobranie elementów o indeksie od 3 do 8 (wyłacznie)\n",
    "list1\n",
    "list1[3:8]"
   ]
  },
  {
   "cell_type": "code",
   "execution_count": 76,
   "metadata": {
    "colab": {
     "base_uri": "https://localhost:8080/"
    },
    "executionInfo": {
     "elapsed": 290,
     "status": "ok",
     "timestamp": 1626713745840,
     "user": {
      "displayName": "Mateusz Zimoch",
      "photoUrl": "https://lh3.googleusercontent.com/a-/AOh14GhLKHKJhMI_pTIoYkcl8z-E-V849Je8P3XxEzn2DQ=s64",
      "userId": "02738966002905530559"
     },
     "user_tz": -120
    },
    "id": "C5AcEjeJk4kI",
    "outputId": "a82e2629-a77b-4ed6-d487-1b941ca075b1"
   },
   "outputs": [
    {
     "name": "stdout",
     "output_type": "stream",
     "text": [
      "(3, 5, 6, 3, 'dog', 'cat', False, 5, 'grapes')\n"
     ]
    },
    {
     "data": {
      "text/plain": [
       "(3, 5, 6, 3, 'dog', 'cat')"
      ]
     },
     "execution_count": 76,
     "metadata": {},
     "output_type": "execute_result"
    }
   ],
   "source": [
    "# Pobranie elementów aż do 3 elementu od końca (wyłacznie)\n",
    "print(tuple1)\n",
    "tuple1[:-3]"
   ]
  },
  {
   "cell_type": "code",
   "execution_count": 77,
   "metadata": {
    "colab": {
     "base_uri": "https://localhost:8080/"
    },
    "executionInfo": {
     "elapsed": 490,
     "status": "ok",
     "timestamp": 1626713757494,
     "user": {
      "displayName": "Mateusz Zimoch",
      "photoUrl": "https://lh3.googleusercontent.com/a-/AOh14GhLKHKJhMI_pTIoYkcl8z-E-V849Je8P3XxEzn2DQ=s64",
      "userId": "02738966002905530559"
     },
     "user_tz": -120
    },
    "id": "0BosErdQk4kJ",
    "outputId": "72ccb397-8f51-4c69-bfdf-dfec0c967d36"
   },
   "outputs": [
    {
     "data": {
      "text/plain": [
       "['dog', 'cat', False, 5, 'grapes']"
      ]
     },
     "execution_count": 77,
     "metadata": {},
     "output_type": "execute_result"
    }
   ],
   "source": [
    "# Elementy od indeksu 4 do końca struktury\n",
    "list1[4:]"
   ]
  },
  {
   "cell_type": "code",
   "execution_count": 78,
   "metadata": {
    "colab": {
     "base_uri": "https://localhost:8080/",
     "height": 35
    },
    "executionInfo": {
     "elapsed": 2026,
     "status": "ok",
     "timestamp": 1626713769497,
     "user": {
      "displayName": "Mateusz Zimoch",
      "photoUrl": "https://lh3.googleusercontent.com/a-/AOh14GhLKHKJhMI_pTIoYkcl8z-E-V849Je8P3XxEzn2DQ=s64",
      "userId": "02738966002905530559"
     },
     "user_tz": -120
    },
    "id": "vR5qLUKek4kJ",
    "outputId": "b809892b-49da-4153-be98-005cb28628b7"
   },
   "outputs": [
    {
     "data": {
      "text/plain": [
       "'Jane'"
      ]
     },
     "execution_count": 78,
     "metadata": {},
     "output_type": "execute_result"
    }
   ],
   "source": [
    "# Element ze słownika pod kluczem 'name'\n",
    "dict1['name']"
   ]
  },
  {
   "cell_type": "code",
   "execution_count": 80,
   "metadata": {
    "colab": {
     "base_uri": "https://localhost:8080/"
    },
    "executionInfo": {
     "elapsed": 252,
     "status": "ok",
     "timestamp": 1626713798155,
     "user": {
      "displayName": "Mateusz Zimoch",
      "photoUrl": "https://lh3.googleusercontent.com/a-/AOh14GhLKHKJhMI_pTIoYkcl8z-E-V849Je8P3XxEzn2DQ=s64",
      "userId": "02738966002905530559"
     },
     "user_tz": -120
    },
    "id": "BBDPt3bQspbf",
    "outputId": "9005d689-673e-490a-b9b8-fce60f4ea3ef"
   },
   "outputs": [
    {
     "name": "stdout",
     "output_type": "stream",
     "text": [
      "{'name': 'Jane', 'age': 23, 'fav_foods': ['pizza', 'fruit', 'fish']}\n"
     ]
    }
   ],
   "source": [
    "print(dict1)"
   ]
  },
  {
   "cell_type": "code",
   "execution_count": 83,
   "metadata": {
    "colab": {
     "base_uri": "https://localhost:8080/",
     "height": 35
    },
    "executionInfo": {
     "elapsed": 244,
     "status": "ok",
     "timestamp": 1626713886777,
     "user": {
      "displayName": "Mateusz Zimoch",
      "photoUrl": "https://lh3.googleusercontent.com/a-/AOh14GhLKHKJhMI_pTIoYkcl8z-E-V849Je8P3XxEzn2DQ=s64",
      "userId": "02738966002905530559"
     },
     "user_tz": -120
    },
    "id": "6V-sHry7k4kJ",
    "outputId": "ce470f88-ce05-406a-85b5-0fb6858946f8",
    "scrolled": false
   },
   "outputs": [
    {
     "data": {
      "text/plain": [
       "'is'"
      ]
     },
     "execution_count": 83,
     "metadata": {},
     "output_type": "execute_result"
    }
   ],
   "source": [
    "# Element 3 z listy będacej w słowniku pod elementem 'fav_foods'\n",
    "dict1['fav_foods'][2][1:3]"
   ]
  },
  {
   "cell_type": "markdown",
   "metadata": {
    "id": "e_8BUYzEk4kW"
   },
   "source": [
    "# Materiały\n",
    "\n",
    "- https://try.jupyter.org\n",
    "- https://docs.python.org/3/tutorial/index.html\n",
    "- https://docs.python.org/3/tutorial/introduction.html\n",
    "- https://daringfireball.net/projects/markdown/syntax"
   ]
  }
 ],
 "metadata": {
  "colab": {
   "name": "Lekcja+9.+Python+-+wprowadzenie.ipynb",
   "provenance": []
  },
  "kernelspec": {
   "display_name": "Python 3",
   "language": "python",
   "name": "python3"
  },
  "language_info": {
   "codemirror_mode": {
    "name": "ipython",
    "version": 3
   },
   "file_extension": ".py",
   "mimetype": "text/x-python",
   "name": "python",
   "nbconvert_exporter": "python",
   "pygments_lexer": "ipython3",
   "version": "3.9.4"
  }
 },
 "nbformat": 4,
 "nbformat_minor": 1
}
