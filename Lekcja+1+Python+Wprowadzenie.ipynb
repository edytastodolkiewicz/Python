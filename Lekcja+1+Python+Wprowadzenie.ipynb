# Nawigacja w systemie Jupyter-notebook

Po edycji komórki należy nacisnac **`<Shift> + <Enter>`**, aby wykonac instrukcje w niej zawarte. 
To zatwierdzi wprowadzone zmiany i udostępni je dla innych komórek.

## Rodzaje komórek

W systemie Jupyter-notebook występuja komórki typu Markdown (system znaczników do formatowania tekstu) oraz komórki z kodem.
Wykonanie komórki z kodem spowoduje natychmiastowe wykonanie wszystkich zawartych w niej instrukcji.
Wykonanie komórki typu Markdown spodowuje wyswietlenie sformatowanego tekstu.

## Typowe operacje w Jupyter-notebook

Menu w Jupter-notebook dostarcza standardowe przyciski (`File`, `Edit`, `View`, ...), jak również kilka ikon paska narzędzi.

- Znak '+' służy do dodawania komórki poniżej tej aktualnie zaznaczonej
- Aby dodac komórkę powyżej, należy użyc 'Insert' -> 'Insert Cell Above'

### Reset

- Wcisniecie "Kernel" -> "Restart" z menu głównego, powoduje restart calego notebooka.
- Wcinięcie 'Clear all outputs & restart' spowoduje wyczyszczenie wyników wszystkich komórek

### Zapisywanie notebooka lokalnie

- Clear the output of all cells
- Wciniecie "File" -> "Download as" -> "IPython Notebook (.ipynb)" powoduje zapisanie notebooka na dysku.

### Załadowanie notebooka

1. Lokalnie poprzez `jupyter-notebook`
2. https://jupyter.org/try
<hr>

# Podstawowe typy obiektów i zmiennych w Pythonie

Wszystko w Pythonie jest obiektem, a każdy obiekt ma swój typ.
Kilka podstawowych i najczęciej używanych typów, to:

- **`int`** (integer; typ reprezentujacy liczby całkowite
  - `7`
  - `-6`
- **`float`** (float; typ reprezentujacy liczby z częscia po przecinku)
  - `2.31`
  - `-0.002`
- **`str`** (string; typ reprezentujacy napis)
  - `'napis tworzony przy pomocy apostrofów'`
  - `"napis tworzony przy pomocy cudzysłowu"`
  - `'''napis tworzony przy pomocy trzech apostrofów'''`
  - `"""napis tworzony przy pomocy trzech cudzysłowów"""`
- **`bool`** (boolean; typ reprezentujacy wartosc binarna, Prawda lub Fałsz)
  - `True`
  - `False`
- **`NoneType`** (typ specjalny oznaczajacy brak wartosci)
  - `None`

*Zmienna* w Pythonie jest to nazwa, która nadajemy aby odnosiic sie do okreslonego *obiektu*, *instancji* lub *wartosci*.


Dzięki temu, możemy odnosic sie do obiektow poprzez nazwy zrozumiałe dla czlowieka - programisty.
Nazwy zmiennych w języku Python moga zawierac wyłacznie litery, podkreslenia lub liczby (bez spacji, kresek i innych znaków). Nazwa zmiennej musi zaczynac się od litery lub podkreslenia.

## Przypisanie wartosci do zmiennej

# komentarz
# nazwa_zmiennej = wartość_zmiennej
# Liczby całkowite
a = 1
b = - 1
print(a, b)

# Liczby rzeczywiste
c = 2.73
d = 3.14e6 #3.14 * 10^6
print(c, d)

# Typ napisowy
napis = "Ala ma kota"
napis2 = 'Ala ma psa'
print(napis, napis2)
print(type(napis))
print(type(a))
print(type(c))

# '' zamiast ""
print('Ala ma kota')

# "" zagnieżdżone w ''
print('Ala ma "kota"')

# Nowa linia i tabulacja
# nowa linia \n
# tabulacja \t
print("Ala\nma\t\tkota")

# Znak nowej linii
print("Znak nowej linii to: \n KONIEC")
print("Znak nowej linii to: \\n KONIEC")
print(r"Znak nowej linii to: \n KONIEC")

wartosc = True

_czy_to_prawda = False
type(_czy_to_prawda)

print(_czy_to_prawda)



nic = None
type(nic)

# Operatory w Pythonie

## Operatory arytmetyczne

- **`+`**
- **`-`**
- **`*`**
- **`/`**
- **`//`** (dzielenie całkowite)
- __`**`__ (potęgowanie)

num1 = 5
num2 = -7
num3 = 2

# Dodawanie
num4 = num1 + num2

num4

# Odejmowanie
num2 - num3

# Mnożenie
num3 * num3

# Dzielenie
num1 / num3

# Potęgowanie
num2 ** num3

(-7) ** 2

print(3 + 4)
print(3 - 4)
print(3 * 4)

print(11 / 3)
print(11 // 3)
print(11 % 3) #reszta z dzielenia
# 11 = 3 * 3.(6) = 3 * 3 + 2

# Potęgtowanie
print(2 ** 10)

# Dzielenie przez zero
'''
Komentarz
wielolinijkowy
'''
print(5 / 0) #komentarz

# Operacje na napisach
print("A" * 6)
print("!" + '?')
print("Nie będę pisać po ławkach! " * 50)

## Operatory przypisania

- **`=`**
- **`+=`**
- **`-=`**
- **`*=`**

print(a)
a = a + 1
print(a)
a += 1 #równoważne
print(a)
# Operator przypisywania w połączeniu z operacjami arytmetycznymi
cena = 100
print(cena)
cena *= 1.1 # to samo, co cena = cena * 1.1
print(cena)
cena -= 10.0
print(int(cena))

num3 = 4
num6 = 12
num7 = 23

# Inkrementacja
num7 += 4
num7

# Dekrementacja
num6 -= 2
num6

print(num3)

# Mnożenie i ponowne przypisanie
num3 *= 5
num3

# Przypisanie wartoci całego wyrażenia
num8 = (num1 + num2) * num3
num8

## Operatory porównania 

Zwracaja `True` albo `False`
- **`==`**
- **`!=`**
- **`<`**
- **`<=`**
- **`>`**
- **`>=`**

# Operatory porównania
print(2.0 * 2.0 > 4.0)
print(2.0 * 2.0 >= 4.0)
print(2.0 * 2.0 == 4.0)
print(2.0 * 2.0 != 4.0)

# Operator porównania
print(round(0.1 + 0.2, 2))
print(round(0.1 + 0.2, 2) == 0.3)
print(1.0 + 2.0 == 3.0)

# Operator porównania
a = 2.0
b = 2.0
print(a == b) # porównanie wartości
print(a is b) # porównuje wskazywanie na jedno miejsce w pamięci
print(a is a)
c = a
print(a is c)

# Operator porównania 'is' oraz operator id
a = 2.0
c = 2.0
b = a
print(a is b)
print(id(a), id(b), id(c))
print(b)
a = 3.5
print(b)
print(id(a), id(b), id(c))

# Sprawdzenie czy oba wyrażenia sa sobie równe
print(num1, num2, num3)
num1 + num2 == 5

# Sprawdzenie nierównosci
num3 != num1

# Porównanie
num1 < num2

# Jaka wartosc ?
5 > 3 > 1

# Czy wyrażenie zwróci True ?
5 > 3 < 4 == 3 + 1



# Przypisanie wartosci napisowych
simple_string1 = 'an example'
simple_string2 = "oranges "

# Sklejanie napisów
simple_string_4 = simple_string1 + ' of using the + operator'

simple_string_4

# Sklejanie napisów nie jest operacja 'w miejscu'
simple_string1

# Powielanie napisów ...
simple_string2 * 4

# ... nie jest operacja 'w miejscu'
simple_string2

# Porównanie napisów
simple_string1 == simple_string2

simple_string1 == 'an example'

'adsfsdf' < 'csadasd'

# Dodanie i ponowne przypisanie
simple_string1 += ' that re-assigned the original string'
simple_string1

# Podobnie z powielaniem
simple_string2 *= 3
simple_string2

## Operatory logiczne

Zwracaja `True` albo `False`
- **`or`**
- **`and`**
- **`not`**

# Operatory logiczne
t = True
f = False
print(t and f, t or f)
print(t and t, t or t)
print(f and f, f or f)

# Operatory logiczne
print(not True)
print(not False)

## Gdy wyrażenie zawiera kilka operatorow, sa one wykonywane według priorytetów od lewej do prawej:

- `()`
- `**`
- `*`, `/`
- `+`, `-`
- `==`, `!=`, `<`, `<=`, `>`, `>=`

https://docs.python.org/3/reference/expressions.html#operator-precedence

# Kolejność operacji
print(2 + 2 * 2)
print(2 * (2 + 2) )

print('A' * 2 + 'b' * 3)

# Zadania

## Zadanie 1

Napisz funkcję o dwóch argumentach, która sprawdzi, czy jedna liczba jest podzielna przez drugą liczbę.

def funkcja_1(a,b):
    return a % b == 0

## Zadanie 2.

Napisz funkcję, która wypisze wszystkie liczby pierwsze mniejsze od liczby będącej argumentem funkcji.

def czy_pierwsza(a):
    for i in range(2,a):
        if a%i == 0:
            return False
    return True

def funkcja_2(a):
    for i in range(1,a):
        if czy_pierwsza(i) == True:
            print(i)

## Zadanie 3.

Napisz funkcję, która posortuje listę liczb w porządku niemalejącym.

def funkcja_3(a):
    return sorted(a)

## Zadanie 4.

Napisz funkcję, która dla dwóch list liczbowych zwróci listę zawierającą tylko te elementy, które należą do obydwu list wejściowych.



## Zadanie 5.

Napisz funkcję, która zwróci które urodziny będą obchodziły w tym roku osoby urodzone w latach podanych w lisćie będącej argumentem wejściowym danej funkcji.



## Zadanie 6.

Wybierz kilka państw i stwórz dla każdego słownik, który będzie zawierać dane o nazwie państwa, powierzchni, liczbie mieszkańców, PKB per capita (PPP). Napisz funkcję, która dla listy słowników będzie wypisywać listę państw uszeregowanych według:
* powierzchni
* liczby ludności
* gęstości zaludnienia
* PKB per capita (PPP)

Polska = dict(nazwa = 'Polska', powierzchnia = 312696, liczba_mieszkańców = 38179800, gęstość_zaludnienia = 122, PPP = 17318)
Niemcy = dict(nazwa = 'Niemcy', powierzchnia = 357578, liczba_mieszkańców = 83019200, gęstość_zaludnienia = 232, PPP = 50842)
Francja = dict(nazwa = 'Francja', powierzchnia = 643801, liczba_mieszkańców = 67522000, gęstość_zaludnienia = 104, PPP = 44934)
Hiszpania = dict(nazwa = 'Hiszpania', powierzchnia = 505944, liczba_mieszkańców = 47326687, gęstość_zaludnienia = 93.5, PPP = 32559)
Belgia = dict(nazwa = 'Belgia', powierzchnia = 30528, liczba_mieszkańców = 11778842, gęstość_zaludnienia = 385, PPP = 43582)

## Zadanie 7.

Napisz funkcję przyjmujaca napis i zwracajaca informacje ile liter i cyfr jest w napisie.

def funkcja_7(a):
    return len(a)
napis = 'Edyta 8556'
funkcja_7(napis)

## Zadanie 8.

Napisz funkcję, która sprawdzi czy 2 napisy sa palindromami.

def funkcja_8(a, b):
    return a[::-1] == b

## Zadanie 9.

Używajac zagnieżdżonych pętli, stwórz funkcję, która wydrukuje następujcy wzór:

* 
* $ 
* $ * 
* $ * $ 
* $ * $ * 
* $ * $ 
* $ * 
* $ 
*



## Zadanie 10.

Napisz funkcję, która przyjmie dwie listy liczb całkowitych, i zwróci listę liczb występujcych w pierwszej i nie występujacych w drugiej liscie, posortowana rosnaco względem ilosci wystapien w pierwszej liscie.



## Zadanie 11.

Utworz funkcję, która przyjmie argument **`int`** *n* i obliczy *n-ta* liczbę ciagu Fibonacciego.



## Zadanie 12.

Napisz funkcję, która przyjmie argumenty nazwane *imie* i *wzrost* a następnie utworzy wpis do globalnego słownika.
Dodaj co najmniej 5 wpisów.



## Zadanie 13.

Napisz funkcję, która przyjmie słownik mapujacy imiona na wzrost, a następnie zwróci listę zawierajaca imiona posortowane według wzrostu malejaco.



## Zadanie 14.

Napisz (przy pomocy rekurencji) funkcję realizujaca potęgowanie. Funkcja przyjmuje dwie liczby całkowite, będace podstawa i wykładnikiem potęgi.



## Zadanie 15.

Napisz funkcję przyjmujaca jeden parametr **`list`** zawierajacy liczby całkowite i zwracajaca element, który pojawia się na liscie najczęciej.



# Materiały

- https://try.jupyter.org
- https://docs.python.org/3/tutorial/index.html
- https://docs.python.org/3/tutorial/introduction.html
- https://daringfireball.net/projects/markdown/syntax
