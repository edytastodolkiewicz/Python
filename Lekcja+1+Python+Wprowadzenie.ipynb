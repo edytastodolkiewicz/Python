{
 "cells": [
  {
   "cell_type": "markdown",
   "metadata": {
    "id": "_gBO0yV8k4jj"
   },
   "source": [
    "# Nawigacja w systemie Jupyter-notebook\n",
    "\n",
    "Po edycji komórki należy nacisnac **`<Shift> + <Enter>`**, aby wykonac instrukcje w niej zawarte. \n",
    "To zatwierdzi wprowadzone zmiany i udostępni je dla innych komórek.\n",
    "\n",
    "## Rodzaje komórek\n",
    "\n",
    "W systemie Jupyter-notebook występuja komórki typu Markdown (system znaczników do formatowania tekstu) oraz komórki z kodem.\n",
    "Wykonanie komórki z kodem spowoduje natychmiastowe wykonanie wszystkich zawartych w niej instrukcji.\n",
    "Wykonanie komórki typu Markdown spodowuje wyswietlenie sformatowanego tekstu.\n",
    "\n",
    "## Typowe operacje w Jupyter-notebook\n",
    "\n",
    "Menu w Jupter-notebook dostarcza standardowe przyciski (`File`, `Edit`, `View`, ...), jak również kilka ikon paska narzędzi.\n",
    "\n",
    "- Znak '+' służy do dodawania komórki poniżej tej aktualnie zaznaczonej\n",
    "- Aby dodac komórkę powyżej, należy użyc 'Insert' -> 'Insert Cell Above'\n",
    "\n",
    "### Reset\n",
    "\n",
    "- Wcisniecie \"Kernel\" -> \"Restart\" z menu głównego, powoduje restart calego notebooka.\n",
    "- Wcinięcie 'Clear all outputs & restart' spowoduje wyczyszczenie wyników wszystkich komórek\n",
    "\n",
    "### Zapisywanie notebooka lokalnie\n",
    "\n",
    "- Clear the output of all cells\n",
    "- Wciniecie \"File\" -> \"Download as\" -> \"IPython Notebook (.ipynb)\" powoduje zapisanie notebooka na dysku.\n",
    "\n",
    "### Załadowanie notebooka\n",
    "\n",
    "1. Lokalnie poprzez `jupyter-notebook`\n",
    "2. https://jupyter.org/try\n",
    "<hr>"
   ]
  },
  {
   "cell_type": "markdown",
   "metadata": {
    "id": "RYztYQMSk4jn"
   },
   "source": [
    "# Podstawowe typy obiektów i zmiennych w Pythonie\n",
    "\n",
    "Wszystko w Pythonie jest obiektem, a każdy obiekt ma swój typ.\n",
    "Kilka podstawowych i najczęciej używanych typów, to:"
   ]
  },
  {
   "cell_type": "markdown",
   "metadata": {
    "id": "vfIss_ZQk4jn"
   },
   "source": [
    "- **`int`** (integer; typ reprezentujacy liczby całkowite\n",
    "  - `7`\n",
    "  - `-6`\n",
    "- **`float`** (float; typ reprezentujacy liczby z częscia po przecinku)\n",
    "  - `2.31`\n",
    "  - `-0.002`\n",
    "- **`str`** (string; typ reprezentujacy napis)\n",
    "  - `'napis tworzony przy pomocy apostrofów'`\n",
    "  - `\"napis tworzony przy pomocy cudzysłowu\"`\n",
    "  - `'''napis tworzony przy pomocy trzech apostrofów'''`\n",
    "  - `\"\"\"napis tworzony przy pomocy trzech cudzysłowów\"\"\"`\n",
    "- **`bool`** (boolean; typ reprezentujacy wartosc binarna, Prawda lub Fałsz)\n",
    "  - `True`\n",
    "  - `False`\n",
    "- **`NoneType`** (typ specjalny oznaczajacy brak wartosci)\n",
    "  - `None`\n",
    "\n",
    "*Zmienna* w Pythonie jest to nazwa, która nadajemy aby odnosiic sie do okreslonego *obiektu*, *instancji* lub *wartosci*.\n",
    "\n",
    "\n",
    "Dzięki temu, możemy odnosic sie do obiektow poprzez nazwy zrozumiałe dla czlowieka - programisty.\n",
    "Nazwy zmiennych w języku Python moga zawierac wyłacznie litery, podkreslenia lub liczby (bez spacji, kresek i innych znaków). Nazwa zmiennej musi zaczynac się od litery lub podkreslenia."
   ]
  },
  {
   "cell_type": "markdown",
   "metadata": {
    "id": "kOCdJKH4k4jo"
   },
   "source": [
    "## Przypisanie wartosci do zmiennej"
   ]
  },
  {
   "cell_type": "code",
   "execution_count": 6,
   "metadata": {
    "colab": {
     "base_uri": "https://localhost:8080/"
    },
    "executionInfo": {
     "elapsed": 6,
     "status": "ok",
     "timestamp": 1626109615481,
     "user": {
      "displayName": "Mateusz Zimoch",
      "photoUrl": "https://lh3.googleusercontent.com/a-/AOh14GhLKHKJhMI_pTIoYkcl8z-E-V849Je8P3XxEzn2DQ=s64",
      "userId": "02738966002905530559"
     },
     "user_tz": -120
    },
    "id": "eRCp_KuGk4jo",
    "outputId": "b5f9a0e3-35f7-4f49-a293-fa39d783a1d7"
   },
   "outputs": [
    {
     "name": "stdout",
     "output_type": "stream",
     "text": [
      "1 -1\n"
     ]
    }
   ],
   "source": [
    "# komentarz\n",
    "# nazwa_zmiennej = wartość_zmiennej\n",
    "# Liczby całkowite\n",
    "a = 1\n",
    "b = - 1\n",
    "print(a, b)"
   ]
  },
  {
   "cell_type": "code",
   "execution_count": 2,
   "metadata": {
    "colab": {
     "base_uri": "https://localhost:8080/"
    },
    "executionInfo": {
     "elapsed": 678,
     "status": "ok",
     "timestamp": 1626109697467,
     "user": {
      "displayName": "Mateusz Zimoch",
      "photoUrl": "https://lh3.googleusercontent.com/a-/AOh14GhLKHKJhMI_pTIoYkcl8z-E-V849Je8P3XxEzn2DQ=s64",
      "userId": "02738966002905530559"
     },
     "user_tz": -120
    },
    "id": "0-wHG9PNk4jp",
    "outputId": "af01e832-5e19-4488-ef44-2769a3303e22"
   },
   "outputs": [
    {
     "name": "stdout",
     "output_type": "stream",
     "text": [
      "2.73 3140000.0\n"
     ]
    }
   ],
   "source": [
    "# Liczby rzeczywiste\n",
    "c = 2.73\n",
    "d = 3.14e6 #3.14 * 10^6\n",
    "print(c, d)"
   ]
  },
  {
   "cell_type": "code",
   "execution_count": 3,
   "metadata": {
    "colab": {
     "base_uri": "https://localhost:8080/"
    },
    "executionInfo": {
     "elapsed": 228,
     "status": "ok",
     "timestamp": 1626109928857,
     "user": {
      "displayName": "Mateusz Zimoch",
      "photoUrl": "https://lh3.googleusercontent.com/a-/AOh14GhLKHKJhMI_pTIoYkcl8z-E-V849Je8P3XxEzn2DQ=s64",
      "userId": "02738966002905530559"
     },
     "user_tz": -120
    },
    "id": "qQjgRE4ak4jq",
    "outputId": "b109183a-c9c4-4a86-981b-675d96486940"
   },
   "outputs": [
    {
     "name": "stdout",
     "output_type": "stream",
     "text": [
      "Ala ma kota Ala ma psa\n",
      "<class 'str'>\n",
      "<class 'int'>\n",
      "<class 'float'>\n"
     ]
    }
   ],
   "source": [
    "# Typ napisowy\n",
    "napis = \"Ala ma kota\"\n",
    "napis2 = 'Ala ma psa'\n",
    "print(napis, napis2)\n",
    "print(type(napis))\n",
    "print(type(a))\n",
    "print(type(c))"
   ]
  },
  {
   "cell_type": "code",
   "execution_count": 4,
   "metadata": {
    "colab": {
     "base_uri": "https://localhost:8080/"
    },
    "executionInfo": {
     "elapsed": 230,
     "status": "ok",
     "timestamp": 1626109936004,
     "user": {
      "displayName": "Mateusz Zimoch",
      "photoUrl": "https://lh3.googleusercontent.com/a-/AOh14GhLKHKJhMI_pTIoYkcl8z-E-V849Je8P3XxEzn2DQ=s64",
      "userId": "02738966002905530559"
     },
     "user_tz": -120
    },
    "id": "dBgmX3Z5k4jq",
    "outputId": "bb5f11af-4555-45a0-a4e6-00fa64809cc4"
   },
   "outputs": [
    {
     "name": "stdout",
     "output_type": "stream",
     "text": [
      "Ala ma kota\n"
     ]
    }
   ],
   "source": [
    "# '' zamiast \"\"\n",
    "print('Ala ma kota')"
   ]
  },
  {
   "cell_type": "code",
   "execution_count": 5,
   "metadata": {
    "colab": {
     "base_uri": "https://localhost:8080/"
    },
    "executionInfo": {
     "elapsed": 240,
     "status": "ok",
     "timestamp": 1626109945179,
     "user": {
      "displayName": "Mateusz Zimoch",
      "photoUrl": "https://lh3.googleusercontent.com/a-/AOh14GhLKHKJhMI_pTIoYkcl8z-E-V849Je8P3XxEzn2DQ=s64",
      "userId": "02738966002905530559"
     },
     "user_tz": -120
    },
    "id": "TZ1ozWedk4jr",
    "outputId": "f96df866-2ee4-45c9-c5ab-49bfa0fd5ae6"
   },
   "outputs": [
    {
     "name": "stdout",
     "output_type": "stream",
     "text": [
      "Ala ma \"kota\"\n"
     ]
    }
   ],
   "source": [
    "# \"\" zagnieżdżone w ''\n",
    "print('Ala ma \"kota\"')"
   ]
  },
  {
   "cell_type": "code",
   "execution_count": 6,
   "metadata": {
    "colab": {
     "base_uri": "https://localhost:8080/"
    },
    "executionInfo": {
     "elapsed": 261,
     "status": "ok",
     "timestamp": 1626110019302,
     "user": {
      "displayName": "Mateusz Zimoch",
      "photoUrl": "https://lh3.googleusercontent.com/a-/AOh14GhLKHKJhMI_pTIoYkcl8z-E-V849Je8P3XxEzn2DQ=s64",
      "userId": "02738966002905530559"
     },
     "user_tz": -120
    },
    "id": "B6eB_zrdk4jr",
    "outputId": "00c1a01e-33e0-410d-a467-4f5bec87934f"
   },
   "outputs": [
    {
     "name": "stdout",
     "output_type": "stream",
     "text": [
      "Ala\n",
      "ma\t\tkota\n"
     ]
    }
   ],
   "source": [
    "# Nowa linia i tabulacja\n",
    "# nowa linia \\n\n",
    "# tabulacja \\t\n",
    "print(\"Ala\\nma\\t\\tkota\")"
   ]
  },
  {
   "cell_type": "code",
   "execution_count": 7,
   "metadata": {
    "colab": {
     "base_uri": "https://localhost:8080/"
    },
    "executionInfo": {
     "elapsed": 227,
     "status": "ok",
     "timestamp": 1626110113124,
     "user": {
      "displayName": "Mateusz Zimoch",
      "photoUrl": "https://lh3.googleusercontent.com/a-/AOh14GhLKHKJhMI_pTIoYkcl8z-E-V849Je8P3XxEzn2DQ=s64",
      "userId": "02738966002905530559"
     },
     "user_tz": -120
    },
    "id": "rX7IsauUk4js",
    "outputId": "f81eaf7d-0918-4079-8dc8-423c0fa25285"
   },
   "outputs": [
    {
     "name": "stdout",
     "output_type": "stream",
     "text": [
      "Znak nowej linii to: \n",
      " KONIEC\n",
      "Znak nowej linii to: \\n KONIEC\n",
      "Znak nowej linii to: \\n KONIEC\n"
     ]
    }
   ],
   "source": [
    "# Znak nowej linii\n",
    "print(\"Znak nowej linii to: \\n KONIEC\")\n",
    "print(\"Znak nowej linii to: \\\\n KONIEC\")\n",
    "print(r\"Znak nowej linii to: \\n KONIEC\")"
   ]
  },
  {
   "cell_type": "code",
   "execution_count": 8,
   "metadata": {
    "id": "tuL88gU7k4js"
   },
   "outputs": [],
   "source": [
    "wartosc = True"
   ]
  },
  {
   "cell_type": "code",
   "execution_count": 9,
   "metadata": {
    "colab": {
     "base_uri": "https://localhost:8080/"
    },
    "executionInfo": {
     "elapsed": 231,
     "status": "ok",
     "timestamp": 1626110220053,
     "user": {
      "displayName": "Mateusz Zimoch",
      "photoUrl": "https://lh3.googleusercontent.com/a-/AOh14GhLKHKJhMI_pTIoYkcl8z-E-V849Je8P3XxEzn2DQ=s64",
      "userId": "02738966002905530559"
     },
     "user_tz": -120
    },
    "id": "LGr0NeQ7k4js",
    "outputId": "5fc40ec6-a78f-4ba1-aa18-668ba5002f2d"
   },
   "outputs": [
    {
     "data": {
      "text/plain": [
       "bool"
      ]
     },
     "execution_count": 9,
     "metadata": {},
     "output_type": "execute_result"
    }
   ],
   "source": [
    "_czy_to_prawda = False\n",
    "type(_czy_to_prawda)"
   ]
  },
  {
   "cell_type": "code",
   "execution_count": 10,
   "metadata": {
    "colab": {
     "base_uri": "https://localhost:8080/"
    },
    "executionInfo": {
     "elapsed": 229,
     "status": "ok",
     "timestamp": 1626110247536,
     "user": {
      "displayName": "Mateusz Zimoch",
      "photoUrl": "https://lh3.googleusercontent.com/a-/AOh14GhLKHKJhMI_pTIoYkcl8z-E-V849Je8P3XxEzn2DQ=s64",
      "userId": "02738966002905530559"
     },
     "user_tz": -120
    },
    "id": "Da2QKJCnk4jt",
    "outputId": "d1d59178-cf59-4f30-b45e-b75abaf1dbba"
   },
   "outputs": [
    {
     "name": "stdout",
     "output_type": "stream",
     "text": [
      "False\n"
     ]
    }
   ],
   "source": [
    "print(_czy_to_prawda)"
   ]
  },
  {
   "cell_type": "code",
   "execution_count": null,
   "metadata": {
    "id": "4G7Wdrgok4jt"
   },
   "outputs": [],
   "source": []
  },
  {
   "cell_type": "code",
   "execution_count": 11,
   "metadata": {
    "colab": {
     "base_uri": "https://localhost:8080/"
    },
    "executionInfo": {
     "elapsed": 233,
     "status": "ok",
     "timestamp": 1626110287431,
     "user": {
      "displayName": "Mateusz Zimoch",
      "photoUrl": "https://lh3.googleusercontent.com/a-/AOh14GhLKHKJhMI_pTIoYkcl8z-E-V849Je8P3XxEzn2DQ=s64",
      "userId": "02738966002905530559"
     },
     "user_tz": -120
    },
    "id": "_ws18VWTk4jt",
    "outputId": "7356e4ca-344a-44e6-9375-28b004b33c1e"
   },
   "outputs": [
    {
     "data": {
      "text/plain": [
       "NoneType"
      ]
     },
     "execution_count": 11,
     "metadata": {},
     "output_type": "execute_result"
    }
   ],
   "source": [
    "nic = None\n",
    "type(nic)"
   ]
  },
  {
   "cell_type": "markdown",
   "metadata": {
    "id": "PzUhiAuLk4ju"
   },
   "source": [
    "# Operatory w Pythonie"
   ]
  },
  {
   "cell_type": "markdown",
   "metadata": {
    "id": "-tGOJgn8k4ju"
   },
   "source": [
    "## Operatory arytmetyczne\n",
    "\n",
    "- **`+`**\n",
    "- **`-`**\n",
    "- **`*`**\n",
    "- **`/`**\n",
    "- **`//`** (dzielenie całkowite)\n",
    "- __`**`__ (potęgowanie)"
   ]
  },
  {
   "cell_type": "code",
   "execution_count": 12,
   "metadata": {
    "id": "75AMvPHak4ju"
   },
   "outputs": [],
   "source": [
    "num1 = 5\n",
    "num2 = -7\n",
    "num3 = 2"
   ]
  },
  {
   "cell_type": "code",
   "execution_count": 13,
   "metadata": {
    "id": "batc_12mk4jv"
   },
   "outputs": [],
   "source": [
    "# Dodawanie\n",
    "num4 = num1 + num2"
   ]
  },
  {
   "cell_type": "code",
   "execution_count": 14,
   "metadata": {
    "colab": {
     "base_uri": "https://localhost:8080/"
    },
    "executionInfo": {
     "elapsed": 239,
     "status": "ok",
     "timestamp": 1626110437746,
     "user": {
      "displayName": "Mateusz Zimoch",
      "photoUrl": "https://lh3.googleusercontent.com/a-/AOh14GhLKHKJhMI_pTIoYkcl8z-E-V849Je8P3XxEzn2DQ=s64",
      "userId": "02738966002905530559"
     },
     "user_tz": -120
    },
    "id": "yhiN8gHyvBbB",
    "outputId": "ff257c9b-b97d-4e01-fc43-31dc3ee4ed8f"
   },
   "outputs": [
    {
     "data": {
      "text/plain": [
       "-2"
      ]
     },
     "execution_count": 14,
     "metadata": {},
     "output_type": "execute_result"
    }
   ],
   "source": [
    "num4"
   ]
  },
  {
   "cell_type": "code",
   "execution_count": 15,
   "metadata": {
    "colab": {
     "base_uri": "https://localhost:8080/"
    },
    "executionInfo": {
     "elapsed": 237,
     "status": "ok",
     "timestamp": 1626110466405,
     "user": {
      "displayName": "Mateusz Zimoch",
      "photoUrl": "https://lh3.googleusercontent.com/a-/AOh14GhLKHKJhMI_pTIoYkcl8z-E-V849Je8P3XxEzn2DQ=s64",
      "userId": "02738966002905530559"
     },
     "user_tz": -120
    },
    "id": "wQ0cY-4Zk4jv",
    "outputId": "22a7a6fa-30db-49ff-d6ba-7ec9574dd185"
   },
   "outputs": [
    {
     "data": {
      "text/plain": [
       "-9"
      ]
     },
     "execution_count": 15,
     "metadata": {},
     "output_type": "execute_result"
    }
   ],
   "source": [
    "# Odejmowanie\n",
    "num2 - num3"
   ]
  },
  {
   "cell_type": "code",
   "execution_count": 16,
   "metadata": {
    "colab": {
     "base_uri": "https://localhost:8080/"
    },
    "executionInfo": {
     "elapsed": 241,
     "status": "ok",
     "timestamp": 1626110477949,
     "user": {
      "displayName": "Mateusz Zimoch",
      "photoUrl": "https://lh3.googleusercontent.com/a-/AOh14GhLKHKJhMI_pTIoYkcl8z-E-V849Je8P3XxEzn2DQ=s64",
      "userId": "02738966002905530559"
     },
     "user_tz": -120
    },
    "id": "wt4aiCG8k4jw",
    "outputId": "1eb00db6-544e-40cc-83b0-095124781133"
   },
   "outputs": [
    {
     "data": {
      "text/plain": [
       "4"
      ]
     },
     "execution_count": 16,
     "metadata": {},
     "output_type": "execute_result"
    }
   ],
   "source": [
    "# Mnożenie\n",
    "num3 * num3"
   ]
  },
  {
   "cell_type": "code",
   "execution_count": 17,
   "metadata": {
    "colab": {
     "base_uri": "https://localhost:8080/"
    },
    "executionInfo": {
     "elapsed": 5,
     "status": "ok",
     "timestamp": 1626110479847,
     "user": {
      "displayName": "Mateusz Zimoch",
      "photoUrl": "https://lh3.googleusercontent.com/a-/AOh14GhLKHKJhMI_pTIoYkcl8z-E-V849Je8P3XxEzn2DQ=s64",
      "userId": "02738966002905530559"
     },
     "user_tz": -120
    },
    "id": "hTr_-Twzk4jw",
    "outputId": "23d07aaa-c8e7-4b73-f000-7b6770729c37"
   },
   "outputs": [
    {
     "data": {
      "text/plain": [
       "2.5"
      ]
     },
     "execution_count": 17,
     "metadata": {},
     "output_type": "execute_result"
    }
   ],
   "source": [
    "# Dzielenie\n",
    "num1 / num3"
   ]
  },
  {
   "cell_type": "code",
   "execution_count": 18,
   "metadata": {
    "colab": {
     "base_uri": "https://localhost:8080/"
    },
    "executionInfo": {
     "elapsed": 241,
     "status": "ok",
     "timestamp": 1626110487372,
     "user": {
      "displayName": "Mateusz Zimoch",
      "photoUrl": "https://lh3.googleusercontent.com/a-/AOh14GhLKHKJhMI_pTIoYkcl8z-E-V849Je8P3XxEzn2DQ=s64",
      "userId": "02738966002905530559"
     },
     "user_tz": -120
    },
    "id": "CxJFQ-aOk4jx",
    "outputId": "59e4bf7f-3294-482e-e302-d5ec6dc1a04f"
   },
   "outputs": [
    {
     "data": {
      "text/plain": [
       "49"
      ]
     },
     "execution_count": 18,
     "metadata": {},
     "output_type": "execute_result"
    }
   ],
   "source": [
    "# Potęgowanie\n",
    "num2 ** num3"
   ]
  },
  {
   "cell_type": "code",
   "execution_count": 19,
   "metadata": {},
   "outputs": [
    {
     "data": {
      "text/plain": [
       "49"
      ]
     },
     "execution_count": 19,
     "metadata": {},
     "output_type": "execute_result"
    }
   ],
   "source": [
    "(-7) ** 2"
   ]
  },
  {
   "cell_type": "code",
   "execution_count": 20,
   "metadata": {
    "colab": {
     "base_uri": "https://localhost:8080/"
    },
    "executionInfo": {
     "elapsed": 240,
     "status": "ok",
     "timestamp": 1626110509822,
     "user": {
      "displayName": "Mateusz Zimoch",
      "photoUrl": "https://lh3.googleusercontent.com/a-/AOh14GhLKHKJhMI_pTIoYkcl8z-E-V849Je8P3XxEzn2DQ=s64",
      "userId": "02738966002905530559"
     },
     "user_tz": -120
    },
    "id": "r37NK4enk4jx",
    "outputId": "a82acb38-feaa-4d4c-ca3a-da6d9552f4e3"
   },
   "outputs": [
    {
     "name": "stdout",
     "output_type": "stream",
     "text": [
      "7\n",
      "-1\n",
      "12\n"
     ]
    }
   ],
   "source": [
    "print(3 + 4)\n",
    "print(3 - 4)\n",
    "print(3 * 4)"
   ]
  },
  {
   "cell_type": "code",
   "execution_count": 21,
   "metadata": {
    "colab": {
     "base_uri": "https://localhost:8080/"
    },
    "executionInfo": {
     "elapsed": 254,
     "status": "ok",
     "timestamp": 1626110533737,
     "user": {
      "displayName": "Mateusz Zimoch",
      "photoUrl": "https://lh3.googleusercontent.com/a-/AOh14GhLKHKJhMI_pTIoYkcl8z-E-V849Je8P3XxEzn2DQ=s64",
      "userId": "02738966002905530559"
     },
     "user_tz": -120
    },
    "id": "AFWydGMXk4jx",
    "outputId": "23f3ae53-aac3-40c9-8f83-1ac150b90e34"
   },
   "outputs": [
    {
     "name": "stdout",
     "output_type": "stream",
     "text": [
      "3.6666666666666665\n",
      "3\n",
      "2\n"
     ]
    }
   ],
   "source": [
    "print(11 / 3)\n",
    "print(11 // 3)\n",
    "print(11 % 3) #reszta z dzielenia\n",
    "# 11 = 3 * 3.(6) = 3 * 3 + 2"
   ]
  },
  {
   "cell_type": "code",
   "execution_count": 22,
   "metadata": {
    "colab": {
     "base_uri": "https://localhost:8080/"
    },
    "executionInfo": {
     "elapsed": 274,
     "status": "ok",
     "timestamp": 1626110635753,
     "user": {
      "displayName": "Mateusz Zimoch",
      "photoUrl": "https://lh3.googleusercontent.com/a-/AOh14GhLKHKJhMI_pTIoYkcl8z-E-V849Je8P3XxEzn2DQ=s64",
      "userId": "02738966002905530559"
     },
     "user_tz": -120
    },
    "id": "gpp60Afxk4jy",
    "outputId": "078e7ca7-d4b4-451e-e3a8-398ebd2aeef6"
   },
   "outputs": [
    {
     "name": "stdout",
     "output_type": "stream",
     "text": [
      "1024\n"
     ]
    }
   ],
   "source": [
    "# Potęgtowanie\n",
    "print(2 ** 10)"
   ]
  },
  {
   "cell_type": "code",
   "execution_count": 23,
   "metadata": {
    "colab": {
     "base_uri": "https://localhost:8080/",
     "height": 189
    },
    "executionInfo": {
     "elapsed": 278,
     "status": "error",
     "timestamp": 1626110649893,
     "user": {
      "displayName": "Mateusz Zimoch",
      "photoUrl": "https://lh3.googleusercontent.com/a-/AOh14GhLKHKJhMI_pTIoYkcl8z-E-V849Je8P3XxEzn2DQ=s64",
      "userId": "02738966002905530559"
     },
     "user_tz": -120
    },
    "id": "qto8yE5Wk4jy",
    "outputId": "69507703-ae92-460f-e0f2-dce7fb578bee"
   },
   "outputs": [
    {
     "ename": "ZeroDivisionError",
     "evalue": "division by zero",
     "output_type": "error",
     "traceback": [
      "\u001b[1;31m---------------------------------------------------------------------------\u001b[0m",
      "\u001b[1;31mZeroDivisionError\u001b[0m                         Traceback (most recent call last)",
      "\u001b[1;32m<ipython-input-23-f1bf78c62c35>\u001b[0m in \u001b[0;36m<module>\u001b[1;34m\u001b[0m\n\u001b[0;32m      4\u001b[0m \u001b[0mwielolinijkowy\u001b[0m\u001b[1;33m\u001b[0m\u001b[1;33m\u001b[0m\u001b[0m\n\u001b[0;32m      5\u001b[0m '''\n\u001b[1;32m----> 6\u001b[1;33m \u001b[0mprint\u001b[0m\u001b[1;33m(\u001b[0m\u001b[1;36m5\u001b[0m \u001b[1;33m/\u001b[0m \u001b[1;36m0\u001b[0m\u001b[1;33m)\u001b[0m \u001b[1;31m#komentarz\u001b[0m\u001b[1;33m\u001b[0m\u001b[1;33m\u001b[0m\u001b[0m\n\u001b[0m",
      "\u001b[1;31mZeroDivisionError\u001b[0m: division by zero"
     ]
    }
   ],
   "source": [
    "# Dzielenie przez zero\n",
    "'''\n",
    "Komentarz\n",
    "wielolinijkowy\n",
    "'''\n",
    "print(5 / 0) #komentarz"
   ]
  },
  {
   "cell_type": "code",
   "execution_count": null,
   "metadata": {
    "colab": {
     "base_uri": "https://localhost:8080/"
    },
    "executionInfo": {
     "elapsed": 231,
     "status": "ok",
     "timestamp": 1626110934079,
     "user": {
      "displayName": "Mateusz Zimoch",
      "photoUrl": "https://lh3.googleusercontent.com/a-/AOh14GhLKHKJhMI_pTIoYkcl8z-E-V849Je8P3XxEzn2DQ=s64",
      "userId": "02738966002905530559"
     },
     "user_tz": -120
    },
    "id": "szae8UUtk4jy",
    "outputId": "f2ff3f99-5064-4c19-fcd9-fd008c18a076"
   },
   "outputs": [],
   "source": [
    "# Operacje na napisach\n",
    "print(\"A\" * 6)\n",
    "print(\"!\" + '?')\n",
    "print(\"Nie będę pisać po ławkach! \" * 50)"
   ]
  },
  {
   "cell_type": "markdown",
   "metadata": {
    "id": "Wh0mazopk4jz"
   },
   "source": [
    "## Operatory przypisania\n",
    "\n",
    "- **`=`**\n",
    "- **`+=`**\n",
    "- **`-=`**\n",
    "- **`*=`**"
   ]
  },
  {
   "cell_type": "code",
   "execution_count": null,
   "metadata": {
    "colab": {
     "base_uri": "https://localhost:8080/"
    },
    "executionInfo": {
     "elapsed": 235,
     "status": "ok",
     "timestamp": 1626111057804,
     "user": {
      "displayName": "Mateusz Zimoch",
      "photoUrl": "https://lh3.googleusercontent.com/a-/AOh14GhLKHKJhMI_pTIoYkcl8z-E-V849Je8P3XxEzn2DQ=s64",
      "userId": "02738966002905530559"
     },
     "user_tz": -120
    },
    "id": "r11jK5tEk4jz",
    "outputId": "50f3fcb4-553c-4ce7-a1fc-8086504cbeda"
   },
   "outputs": [],
   "source": [
    "print(a)\n",
    "a = a + 1\n",
    "print(a)\n",
    "a += 1 #równoważne\n",
    "print(a)\n",
    "# Operator przypisywania w połączeniu z operacjami arytmetycznymi\n",
    "cena = 100\n",
    "print(cena)\n",
    "cena *= 1.1 # to samo, co cena = cena * 1.1\n",
    "print(cena)\n",
    "cena -= 10.0\n",
    "print(int(cena))"
   ]
  },
  {
   "cell_type": "code",
   "execution_count": null,
   "metadata": {
    "id": "Jj3Cq7CGk4j0"
   },
   "outputs": [],
   "source": [
    "num3 = 4\n",
    "num6 = 12\n",
    "num7 = 23"
   ]
  },
  {
   "cell_type": "code",
   "execution_count": null,
   "metadata": {
    "colab": {
     "base_uri": "https://localhost:8080/"
    },
    "executionInfo": {
     "elapsed": 275,
     "status": "ok",
     "timestamp": 1626111156952,
     "user": {
      "displayName": "Mateusz Zimoch",
      "photoUrl": "https://lh3.googleusercontent.com/a-/AOh14GhLKHKJhMI_pTIoYkcl8z-E-V849Je8P3XxEzn2DQ=s64",
      "userId": "02738966002905530559"
     },
     "user_tz": -120
    },
    "id": "tq5b8d7Wk4j0",
    "outputId": "98dec9de-c40b-481d-d301-c59249c92fc3"
   },
   "outputs": [],
   "source": [
    "# Inkrementacja\n",
    "num7 += 4\n",
    "num7"
   ]
  },
  {
   "cell_type": "code",
   "execution_count": null,
   "metadata": {
    "colab": {
     "base_uri": "https://localhost:8080/"
    },
    "executionInfo": {
     "elapsed": 257,
     "status": "ok",
     "timestamp": 1626111163028,
     "user": {
      "displayName": "Mateusz Zimoch",
      "photoUrl": "https://lh3.googleusercontent.com/a-/AOh14GhLKHKJhMI_pTIoYkcl8z-E-V849Je8P3XxEzn2DQ=s64",
      "userId": "02738966002905530559"
     },
     "user_tz": -120
    },
    "id": "k8EX9ewxk4j1",
    "outputId": "556f14cb-4a89-4740-a5fa-8c16496c9e53"
   },
   "outputs": [],
   "source": [
    "# Dekrementacja\n",
    "num6 -= 2\n",
    "num6"
   ]
  },
  {
   "cell_type": "code",
   "execution_count": null,
   "metadata": {},
   "outputs": [],
   "source": [
    "print(num3)"
   ]
  },
  {
   "cell_type": "code",
   "execution_count": null,
   "metadata": {
    "colab": {
     "base_uri": "https://localhost:8080/"
    },
    "executionInfo": {
     "elapsed": 269,
     "status": "ok",
     "timestamp": 1626111171219,
     "user": {
      "displayName": "Mateusz Zimoch",
      "photoUrl": "https://lh3.googleusercontent.com/a-/AOh14GhLKHKJhMI_pTIoYkcl8z-E-V849Je8P3XxEzn2DQ=s64",
      "userId": "02738966002905530559"
     },
     "user_tz": -120
    },
    "id": "ib5xQ2U_k4j1",
    "outputId": "bef7ff51-f468-4570-b193-f73981583187"
   },
   "outputs": [],
   "source": [
    "# Mnożenie i ponowne przypisanie\n",
    "num3 *= 5\n",
    "num3"
   ]
  },
  {
   "cell_type": "code",
   "execution_count": null,
   "metadata": {
    "colab": {
     "base_uri": "https://localhost:8080/"
    },
    "executionInfo": {
     "elapsed": 246,
     "status": "ok",
     "timestamp": 1626111199942,
     "user": {
      "displayName": "Mateusz Zimoch",
      "photoUrl": "https://lh3.googleusercontent.com/a-/AOh14GhLKHKJhMI_pTIoYkcl8z-E-V849Je8P3XxEzn2DQ=s64",
      "userId": "02738966002905530559"
     },
     "user_tz": -120
    },
    "id": "_vPZTng4k4j1",
    "outputId": "b1f9ccd5-ce08-4ab1-e9c9-3b153dcaa56e"
   },
   "outputs": [],
   "source": [
    "# Przypisanie wartoci całego wyrażenia\n",
    "num8 = (num1 + num2) * num3\n",
    "num8"
   ]
  },
  {
   "cell_type": "markdown",
   "metadata": {
    "id": "H-eoWgxOk4j2"
   },
   "source": [
    "## Operatory porównania \n",
    "\n",
    "Zwracaja `True` albo `False`\n",
    "- **`==`**\n",
    "- **`!=`**\n",
    "- **`<`**\n",
    "- **`<=`**\n",
    "- **`>`**\n",
    "- **`>=`**"
   ]
  },
  {
   "cell_type": "code",
   "execution_count": null,
   "metadata": {
    "colab": {
     "base_uri": "https://localhost:8080/"
    },
    "executionInfo": {
     "elapsed": 230,
     "status": "ok",
     "timestamp": 1626111284022,
     "user": {
      "displayName": "Mateusz Zimoch",
      "photoUrl": "https://lh3.googleusercontent.com/a-/AOh14GhLKHKJhMI_pTIoYkcl8z-E-V849Je8P3XxEzn2DQ=s64",
      "userId": "02738966002905530559"
     },
     "user_tz": -120
    },
    "id": "OsmqlfFbk4j2",
    "outputId": "e8117794-a38f-4c5c-c4c9-f1f9c6ee2382"
   },
   "outputs": [],
   "source": [
    "# Operatory porównania\n",
    "print(2.0 * 2.0 > 4.0)\n",
    "print(2.0 * 2.0 >= 4.0)\n",
    "print(2.0 * 2.0 == 4.0)\n",
    "print(2.0 * 2.0 != 4.0)"
   ]
  },
  {
   "cell_type": "code",
   "execution_count": null,
   "metadata": {
    "colab": {
     "base_uri": "https://localhost:8080/"
    },
    "executionInfo": {
     "elapsed": 243,
     "status": "ok",
     "timestamp": 1626111390369,
     "user": {
      "displayName": "Mateusz Zimoch",
      "photoUrl": "https://lh3.googleusercontent.com/a-/AOh14GhLKHKJhMI_pTIoYkcl8z-E-V849Je8P3XxEzn2DQ=s64",
      "userId": "02738966002905530559"
     },
     "user_tz": -120
    },
    "id": "CfhBKNnPk4j3",
    "outputId": "ec375761-2d9a-4068-da51-c1a1e8564c0b"
   },
   "outputs": [],
   "source": [
    "# Operator porównania\n",
    "print(round(0.1 + 0.2, 2))\n",
    "print(round(0.1 + 0.2, 2) == 0.3)\n",
    "print(1.0 + 2.0 == 3.0)"
   ]
  },
  {
   "cell_type": "code",
   "execution_count": null,
   "metadata": {
    "colab": {
     "base_uri": "https://localhost:8080/"
    },
    "executionInfo": {
     "elapsed": 251,
     "status": "ok",
     "timestamp": 1626111459821,
     "user": {
      "displayName": "Mateusz Zimoch",
      "photoUrl": "https://lh3.googleusercontent.com/a-/AOh14GhLKHKJhMI_pTIoYkcl8z-E-V849Je8P3XxEzn2DQ=s64",
      "userId": "02738966002905530559"
     },
     "user_tz": -120
    },
    "id": "YXd5LzkQk4j3",
    "outputId": "95c89fcd-8dee-40d2-8336-79a4eed2e348"
   },
   "outputs": [],
   "source": [
    "# Operator porównania\n",
    "a = 2.0\n",
    "b = 2.0\n",
    "print(a == b) # porównanie wartości\n",
    "print(a is b) # porównuje wskazywanie na jedno miejsce w pamięci\n",
    "print(a is a)\n",
    "c = a\n",
    "print(a is c)"
   ]
  },
  {
   "cell_type": "code",
   "execution_count": null,
   "metadata": {
    "colab": {
     "base_uri": "https://localhost:8080/"
    },
    "executionInfo": {
     "elapsed": 253,
     "status": "ok",
     "timestamp": 1626111620283,
     "user": {
      "displayName": "Mateusz Zimoch",
      "photoUrl": "https://lh3.googleusercontent.com/a-/AOh14GhLKHKJhMI_pTIoYkcl8z-E-V849Je8P3XxEzn2DQ=s64",
      "userId": "02738966002905530559"
     },
     "user_tz": -120
    },
    "id": "Y_gTpmF5k4j4",
    "outputId": "8436d271-b38c-49d5-fe4c-897995770fb1"
   },
   "outputs": [],
   "source": [
    "# Operator porównania 'is' oraz operator id\n",
    "a = 2.0\n",
    "c = 2.0\n",
    "b = a\n",
    "print(a is b)\n",
    "print(id(a), id(b), id(c))\n",
    "print(b)\n",
    "a = 3.5\n",
    "print(b)\n",
    "print(id(a), id(b), id(c))"
   ]
  },
  {
   "cell_type": "code",
   "execution_count": null,
   "metadata": {
    "colab": {
     "base_uri": "https://localhost:8080/"
    },
    "executionInfo": {
     "elapsed": 253,
     "status": "ok",
     "timestamp": 1626111514775,
     "user": {
      "displayName": "Mateusz Zimoch",
      "photoUrl": "https://lh3.googleusercontent.com/a-/AOh14GhLKHKJhMI_pTIoYkcl8z-E-V849Je8P3XxEzn2DQ=s64",
      "userId": "02738966002905530559"
     },
     "user_tz": -120
    },
    "id": "UaOFe42Zk4j4",
    "outputId": "95ffb1f0-198e-48f3-8c26-9766ae12d783"
   },
   "outputs": [],
   "source": [
    "# Sprawdzenie czy oba wyrażenia sa sobie równe\n",
    "print(num1, num2, num3)\n",
    "num1 + num2 == 5"
   ]
  },
  {
   "cell_type": "code",
   "execution_count": null,
   "metadata": {
    "colab": {
     "base_uri": "https://localhost:8080/"
    },
    "executionInfo": {
     "elapsed": 254,
     "status": "ok",
     "timestamp": 1626111524629,
     "user": {
      "displayName": "Mateusz Zimoch",
      "photoUrl": "https://lh3.googleusercontent.com/a-/AOh14GhLKHKJhMI_pTIoYkcl8z-E-V849Je8P3XxEzn2DQ=s64",
      "userId": "02738966002905530559"
     },
     "user_tz": -120
    },
    "id": "Z3D7H9csk4j5",
    "outputId": "f886615e-f563-4da8-85b7-bfc60da4bd2e"
   },
   "outputs": [],
   "source": [
    "# Sprawdzenie nierównosci\n",
    "num3 != num1"
   ]
  },
  {
   "cell_type": "code",
   "execution_count": null,
   "metadata": {
    "colab": {
     "base_uri": "https://localhost:8080/"
    },
    "executionInfo": {
     "elapsed": 241,
     "status": "ok",
     "timestamp": 1626111529937,
     "user": {
      "displayName": "Mateusz Zimoch",
      "photoUrl": "https://lh3.googleusercontent.com/a-/AOh14GhLKHKJhMI_pTIoYkcl8z-E-V849Je8P3XxEzn2DQ=s64",
      "userId": "02738966002905530559"
     },
     "user_tz": -120
    },
    "id": "OY_ZLTRmk4j5",
    "outputId": "d45d9a3c-1fde-414f-84bc-d702775c8062"
   },
   "outputs": [],
   "source": [
    "# Porównanie\n",
    "num1 < num2"
   ]
  },
  {
   "cell_type": "code",
   "execution_count": null,
   "metadata": {
    "colab": {
     "base_uri": "https://localhost:8080/"
    },
    "executionInfo": {
     "elapsed": 236,
     "status": "ok",
     "timestamp": 1626111817174,
     "user": {
      "displayName": "Mateusz Zimoch",
      "photoUrl": "https://lh3.googleusercontent.com/a-/AOh14GhLKHKJhMI_pTIoYkcl8z-E-V849Je8P3XxEzn2DQ=s64",
      "userId": "02738966002905530559"
     },
     "user_tz": -120
    },
    "id": "aaj5hNq4k4j6",
    "outputId": "d276b518-906a-488a-b768-5b195dce7990"
   },
   "outputs": [],
   "source": [
    "# Jaka wartosc ?\n",
    "5 > 3 > 1"
   ]
  },
  {
   "cell_type": "code",
   "execution_count": null,
   "metadata": {
    "colab": {
     "base_uri": "https://localhost:8080/"
    },
    "executionInfo": {
     "elapsed": 251,
     "status": "ok",
     "timestamp": 1626111852131,
     "user": {
      "displayName": "Mateusz Zimoch",
      "photoUrl": "https://lh3.googleusercontent.com/a-/AOh14GhLKHKJhMI_pTIoYkcl8z-E-V849Je8P3XxEzn2DQ=s64",
      "userId": "02738966002905530559"
     },
     "user_tz": -120
    },
    "id": "NvaaWarIk4j6",
    "outputId": "024d4158-6c41-44dc-f7c6-258c6b0f7293"
   },
   "outputs": [],
   "source": [
    "# Czy wyrażenie zwróci True ?\n",
    "5 > 3 < 4 == 3 + 1"
   ]
  },
  {
   "cell_type": "code",
   "execution_count": null,
   "metadata": {
    "id": "VcQpz7fKk4j6"
   },
   "outputs": [],
   "source": []
  },
  {
   "cell_type": "code",
   "execution_count": null,
   "metadata": {
    "id": "7rtiC-Oxk4j7"
   },
   "outputs": [],
   "source": [
    "# Przypisanie wartosci napisowych\n",
    "simple_string1 = 'an example'\n",
    "simple_string2 = \"oranges \""
   ]
  },
  {
   "cell_type": "code",
   "execution_count": null,
   "metadata": {
    "colab": {
     "base_uri": "https://localhost:8080/",
     "height": 35
    },
    "executionInfo": {
     "elapsed": 271,
     "status": "ok",
     "timestamp": 1626111925683,
     "user": {
      "displayName": "Mateusz Zimoch",
      "photoUrl": "https://lh3.googleusercontent.com/a-/AOh14GhLKHKJhMI_pTIoYkcl8z-E-V849Je8P3XxEzn2DQ=s64",
      "userId": "02738966002905530559"
     },
     "user_tz": -120
    },
    "id": "gL6b9ORIk4j7",
    "outputId": "fcbaa81c-d2cf-480c-c824-1f71f98945a1"
   },
   "outputs": [],
   "source": [
    "# Sklejanie napisów\n",
    "simple_string_4 = simple_string1 + ' of using the + operator'"
   ]
  },
  {
   "cell_type": "code",
   "execution_count": null,
   "metadata": {},
   "outputs": [],
   "source": [
    "simple_string_4"
   ]
  },
  {
   "cell_type": "code",
   "execution_count": null,
   "metadata": {
    "colab": {
     "base_uri": "https://localhost:8080/",
     "height": 35
    },
    "executionInfo": {
     "elapsed": 236,
     "status": "ok",
     "timestamp": 1626111936472,
     "user": {
      "displayName": "Mateusz Zimoch",
      "photoUrl": "https://lh3.googleusercontent.com/a-/AOh14GhLKHKJhMI_pTIoYkcl8z-E-V849Je8P3XxEzn2DQ=s64",
      "userId": "02738966002905530559"
     },
     "user_tz": -120
    },
    "id": "HQk99Udwk4j7",
    "outputId": "26aea64b-fe4a-4083-b78e-473b186570d0"
   },
   "outputs": [],
   "source": [
    "# Sklejanie napisów nie jest operacja 'w miejscu'\n",
    "simple_string1"
   ]
  },
  {
   "cell_type": "code",
   "execution_count": null,
   "metadata": {
    "colab": {
     "base_uri": "https://localhost:8080/",
     "height": 35
    },
    "executionInfo": {
     "elapsed": 260,
     "status": "ok",
     "timestamp": 1626111972526,
     "user": {
      "displayName": "Mateusz Zimoch",
      "photoUrl": "https://lh3.googleusercontent.com/a-/AOh14GhLKHKJhMI_pTIoYkcl8z-E-V849Je8P3XxEzn2DQ=s64",
      "userId": "02738966002905530559"
     },
     "user_tz": -120
    },
    "id": "s8PO_oxJk4j7",
    "outputId": "f40d68da-c3cc-43a0-bdf6-17d1e84452ee"
   },
   "outputs": [],
   "source": [
    "# Powielanie napisów ...\n",
    "simple_string2 * 4"
   ]
  },
  {
   "cell_type": "code",
   "execution_count": null,
   "metadata": {
    "colab": {
     "base_uri": "https://localhost:8080/",
     "height": 35
    },
    "executionInfo": {
     "elapsed": 229,
     "status": "ok",
     "timestamp": 1626111976639,
     "user": {
      "displayName": "Mateusz Zimoch",
      "photoUrl": "https://lh3.googleusercontent.com/a-/AOh14GhLKHKJhMI_pTIoYkcl8z-E-V849Je8P3XxEzn2DQ=s64",
      "userId": "02738966002905530559"
     },
     "user_tz": -120
    },
    "id": "D8mW626jk4j8",
    "outputId": "08fae2fa-6962-4ce3-f0f0-6ba18e67b16c"
   },
   "outputs": [],
   "source": [
    "# ... nie jest operacja 'w miejscu'\n",
    "simple_string2"
   ]
  },
  {
   "cell_type": "code",
   "execution_count": null,
   "metadata": {
    "colab": {
     "base_uri": "https://localhost:8080/"
    },
    "executionInfo": {
     "elapsed": 262,
     "status": "ok",
     "timestamp": 1626111981609,
     "user": {
      "displayName": "Mateusz Zimoch",
      "photoUrl": "https://lh3.googleusercontent.com/a-/AOh14GhLKHKJhMI_pTIoYkcl8z-E-V849Je8P3XxEzn2DQ=s64",
      "userId": "02738966002905530559"
     },
     "user_tz": -120
    },
    "id": "E_vf4rapk4j8",
    "outputId": "cf93de81-c0b3-4a9e-8ea0-23a9daecc768"
   },
   "outputs": [],
   "source": [
    "# Porównanie napisów\n",
    "simple_string1 == simple_string2"
   ]
  },
  {
   "cell_type": "code",
   "execution_count": null,
   "metadata": {
    "colab": {
     "base_uri": "https://localhost:8080/"
    },
    "executionInfo": {
     "elapsed": 235,
     "status": "ok",
     "timestamp": 1626111984224,
     "user": {
      "displayName": "Mateusz Zimoch",
      "photoUrl": "https://lh3.googleusercontent.com/a-/AOh14GhLKHKJhMI_pTIoYkcl8z-E-V849Je8P3XxEzn2DQ=s64",
      "userId": "02738966002905530559"
     },
     "user_tz": -120
    },
    "id": "UBwOIN_kk4j8",
    "outputId": "f6358af1-84a7-4a48-9c91-0bfdcf113c0f"
   },
   "outputs": [],
   "source": [
    "simple_string1 == 'an example'"
   ]
  },
  {
   "cell_type": "code",
   "execution_count": null,
   "metadata": {
    "colab": {
     "base_uri": "https://localhost:8080/"
    },
    "executionInfo": {
     "elapsed": 276,
     "status": "ok",
     "timestamp": 1626112014808,
     "user": {
      "displayName": "Mateusz Zimoch",
      "photoUrl": "https://lh3.googleusercontent.com/a-/AOh14GhLKHKJhMI_pTIoYkcl8z-E-V849Je8P3XxEzn2DQ=s64",
      "userId": "02738966002905530559"
     },
     "user_tz": -120
    },
    "id": "IRYRinO-0_kn",
    "outputId": "36f48094-d88e-44fd-c798-190524f52be5"
   },
   "outputs": [],
   "source": [
    "'adsfsdf' < 'csadasd'"
   ]
  },
  {
   "cell_type": "code",
   "execution_count": null,
   "metadata": {
    "colab": {
     "base_uri": "https://localhost:8080/",
     "height": 35
    },
    "executionInfo": {
     "elapsed": 252,
     "status": "ok",
     "timestamp": 1626112024433,
     "user": {
      "displayName": "Mateusz Zimoch",
      "photoUrl": "https://lh3.googleusercontent.com/a-/AOh14GhLKHKJhMI_pTIoYkcl8z-E-V849Je8P3XxEzn2DQ=s64",
      "userId": "02738966002905530559"
     },
     "user_tz": -120
    },
    "id": "Std0mk5Uk4j8",
    "outputId": "d4f6ab89-f131-4c6c-a5f7-8f2041c04d77"
   },
   "outputs": [],
   "source": [
    "# Dodanie i ponowne przypisanie\n",
    "simple_string1 += ' that re-assigned the original string'\n",
    "simple_string1"
   ]
  },
  {
   "cell_type": "code",
   "execution_count": null,
   "metadata": {
    "colab": {
     "base_uri": "https://localhost:8080/",
     "height": 35
    },
    "executionInfo": {
     "elapsed": 270,
     "status": "ok",
     "timestamp": 1626112039228,
     "user": {
      "displayName": "Mateusz Zimoch",
      "photoUrl": "https://lh3.googleusercontent.com/a-/AOh14GhLKHKJhMI_pTIoYkcl8z-E-V849Je8P3XxEzn2DQ=s64",
      "userId": "02738966002905530559"
     },
     "user_tz": -120
    },
    "id": "GMcQDnlxk4j9",
    "outputId": "cf1370fd-ee11-487c-f7af-18560b2d7cde"
   },
   "outputs": [],
   "source": [
    "# Podobnie z powielaniem\n",
    "simple_string2 *= 3\n",
    "simple_string2"
   ]
  },
  {
   "cell_type": "markdown",
   "metadata": {
    "id": "F2Qw2Q6jk4j9"
   },
   "source": [
    "## Operatory logiczne\n",
    "\n",
    "Zwracaja `True` albo `False`\n",
    "- **`or`**\n",
    "- **`and`**\n",
    "- **`not`**"
   ]
  },
  {
   "cell_type": "code",
   "execution_count": null,
   "metadata": {
    "colab": {
     "base_uri": "https://localhost:8080/"
    },
    "executionInfo": {
     "elapsed": 476,
     "status": "ok",
     "timestamp": 1626112051579,
     "user": {
      "displayName": "Mateusz Zimoch",
      "photoUrl": "https://lh3.googleusercontent.com/a-/AOh14GhLKHKJhMI_pTIoYkcl8z-E-V849Je8P3XxEzn2DQ=s64",
      "userId": "02738966002905530559"
     },
     "user_tz": -120
    },
    "id": "VbRU0RTHk4j9",
    "outputId": "d2cb23c2-ddad-40a7-fb17-d02627ce6c1f"
   },
   "outputs": [],
   "source": [
    "# Operatory logiczne\n",
    "t = True\n",
    "f = False\n",
    "print(t and f, t or f)\n",
    "print(t and t, t or t)\n",
    "print(f and f, f or f)"
   ]
  },
  {
   "cell_type": "code",
   "execution_count": null,
   "metadata": {
    "colab": {
     "base_uri": "https://localhost:8080/"
    },
    "executionInfo": {
     "elapsed": 8,
     "status": "ok",
     "timestamp": 1626112051580,
     "user": {
      "displayName": "Mateusz Zimoch",
      "photoUrl": "https://lh3.googleusercontent.com/a-/AOh14GhLKHKJhMI_pTIoYkcl8z-E-V849Je8P3XxEzn2DQ=s64",
      "userId": "02738966002905530559"
     },
     "user_tz": -120
    },
    "id": "LbpAXSfkk4j9",
    "outputId": "0436fdac-25fe-4559-9da3-31a8b851cc08"
   },
   "outputs": [],
   "source": [
    "# Operatory logiczne\n",
    "print(not True)\n",
    "print(not False)"
   ]
  },
  {
   "cell_type": "markdown",
   "metadata": {
    "id": "kaGCJfPUk4j-"
   },
   "source": [
    "## Gdy wyrażenie zawiera kilka operatorow, sa one wykonywane według priorytetów od lewej do prawej:\n",
    "\n",
    "- `()`\n",
    "- `**`\n",
    "- `*`, `/`\n",
    "- `+`, `-`\n",
    "- `==`, `!=`, `<`, `<=`, `>`, `>=`\n",
    "\n",
    "https://docs.python.org/3/reference/expressions.html#operator-precedence"
   ]
  },
  {
   "cell_type": "code",
   "execution_count": null,
   "metadata": {
    "colab": {
     "base_uri": "https://localhost:8080/"
    },
    "executionInfo": {
     "elapsed": 9,
     "status": "ok",
     "timestamp": 1626709144954,
     "user": {
      "displayName": "Mateusz Zimoch",
      "photoUrl": "https://lh3.googleusercontent.com/a-/AOh14GhLKHKJhMI_pTIoYkcl8z-E-V849Je8P3XxEzn2DQ=s64",
      "userId": "02738966002905530559"
     },
     "user_tz": -120
    },
    "id": "RwOssfjDk4j-",
    "outputId": "171497d0-2710-4a3d-bcaa-36d10656e61e"
   },
   "outputs": [],
   "source": [
    "# Kolejność operacji\n",
    "print(2 + 2 * 2)\n",
    "print(2 * (2 + 2) )"
   ]
  },
  {
   "cell_type": "code",
   "execution_count": 626,
   "metadata": {
    "colab": {
     "base_uri": "https://localhost:8080/"
    },
    "executionInfo": {
     "elapsed": 6,
     "status": "ok",
     "timestamp": 1626709144954,
     "user": {
      "displayName": "Mateusz Zimoch",
      "photoUrl": "https://lh3.googleusercontent.com/a-/AOh14GhLKHKJhMI_pTIoYkcl8z-E-V849Je8P3XxEzn2DQ=s64",
      "userId": "02738966002905530559"
     },
     "user_tz": -120
    },
    "id": "rOxGPZj2k4j-",
    "outputId": "842c5ac1-44ef-480e-c190-200244f4663e"
   },
   "outputs": [
    {
     "name": "stdout",
     "output_type": "stream",
     "text": [
      "AAbbb\n"
     ]
    }
   ],
   "source": [
    "print('A' * 2 + 'b' * 3)"
   ]
  },
  {
   "cell_type": "markdown",
   "metadata": {
    "id": "UZIioLBXk4kQ"
   },
   "source": [
    "# Zadania"
   ]
  },
  {
   "cell_type": "markdown",
   "metadata": {
    "id": "1abX7YGbk4kQ"
   },
   "source": [
    "## Zadanie 1\n",
    "\n",
    "Napisz funkcję o dwóch argumentach, która sprawdzi, czy jedna liczba jest podzielna przez drugą liczbę."
   ]
  },
  {
   "cell_type": "code",
   "execution_count": 19,
   "metadata": {
    "id": "Bw_MLMbsk4kQ"
   },
   "outputs": [],
   "source": [
    "def funkcja_1(a,b):\n",
    "    return a % b == 0"
   ]
  },
  {
   "cell_type": "markdown",
   "metadata": {
    "id": "SN-by8Amk4kQ"
   },
   "source": [
    "## Zadanie 2.\n",
    "\n",
    "Napisz funkcję, która wypisze wszystkie liczby pierwsze mniejsze od liczby będącej argumentem funkcji."
   ]
  },
  {
   "cell_type": "code",
   "execution_count": 119,
   "metadata": {
    "id": "NrZETwnBk4kR"
   },
   "outputs": [],
   "source": [
    "def czy_pierwsza(a):\n",
    "    for i in range(2,a):\n",
    "        if a%i == 0:\n",
    "             return False\n",
    "    return True\n",
    "\n",
    "def funkcja_2(a):\n",
    "    liczby_pierwsze = []\n",
    "    for i in range(2,a):\n",
    "        if czy_pierwsza(i) == True:\n",
    "            liczby_pierwsze.append(i)\n",
    "    return liczby_pierwsze\n",
    "\n",
    "def funkcja_2_2(a):\n",
    "    liczby_pierwsze = [] #rozpoczynam listę od 2, bo to pierwsza liczba pierwsza\n",
    "    for i in range(2,a):\n",
    "        if a%i != 0:\n",
    "            for i in range(2,a):\n",
    "                if czy_pierwsza(i) == True:\n",
    "                    liczby_pierwsze.append(i)\n",
    "            return liczby_pierwsze"
   ]
  },
  {
   "cell_type": "markdown",
   "metadata": {
    "id": "6Wps5O-qk4kR"
   },
   "source": [
    "## Zadanie 3.\n",
    "\n",
    "Napisz funkcję, która posortuje listę liczb w porządku niemalejącym."
   ]
  },
  {
   "cell_type": "code",
   "execution_count": 33,
   "metadata": {
    "id": "t4zP0PWwk4kR"
   },
   "outputs": [],
   "source": [
    "def funkcja_3(a):\n",
    "    return sorted(a)"
   ]
  },
  {
   "cell_type": "markdown",
   "metadata": {
    "id": "tYr81lmmk4kR"
   },
   "source": [
    "## Zadanie 4. \n",
    "\n",
    "Napisz funkcję, która dla dwóch list liczbowych zwróci listę zawierającą tylko te elementy, które należą do obydwu list wejściowych."
   ]
  },
  {
   "cell_type": "code",
   "execution_count": 202,
   "metadata": {
    "id": "yczrhQAyk4kR"
   },
   "outputs": [],
   "source": [
    "wspólne_elementy = []\n",
    "\n",
    "def funkcja_4(a, b):\n",
    "    for i in set(a):\n",
    "        for j in set(b):\n",
    "            if i == j:\n",
    "                wspólne_elementy.append(i)\n",
    "    return wspólne_elementy"
   ]
  },
  {
   "cell_type": "markdown",
   "metadata": {
    "id": "oFYtE3zyk4kR"
   },
   "source": [
    "## Zadanie 5.\n",
    "\n",
    "Napisz funkcję, która zwróci które urodziny będą obchodziły w tym roku osoby urodzone w latach podanych w lisćie będącej argumentem wejściowym danej funkcji."
   ]
  },
  {
   "cell_type": "code",
   "execution_count": 456,
   "metadata": {
    "id": "cEd89faik4kS"
   },
   "outputs": [],
   "source": [
    "def funkcja_5(rok_urodzenia):\n",
    "    wiek = []\n",
    "    for i in rok_urodzenia:\n",
    "        wiek.append(2022-i)\n",
    "    return wiek"
   ]
  },
  {
   "cell_type": "markdown",
   "metadata": {
    "id": "RTPg2DDyk4kS"
   },
   "source": [
    "## Zadanie 6.\n",
    "\n",
    "Wybierz kilka państw i stwórz dla każdego słownik, który będzie zawierać dane o nazwie państwa, powierzchni, liczbie mieszkańców, PKB per capita (PPP). Napisz funkcję, która dla listy słowników będzie wypisywać listę państw uszeregowanych według:\n",
    "* powierzchni\n",
    "* liczby ludności\n",
    "* gęstości zaludnienia\n",
    "* PKB per capita (PPP)"
   ]
  },
  {
   "cell_type": "code",
   "execution_count": 643,
   "metadata": {
    "id": "9uGw-SiSk4kS"
   },
   "outputs": [],
   "source": [
    "#Tworzenie słowników\n",
    "Polska = dict(nazwa = 'Polska', powierzchnia = 312696, liczba_mieszkańców = 38179800, gęstość_zaludnienia = 122, PPP = 17318)\n",
    "Niemcy = dict(nazwa = 'Niemcy', powierzchnia = 357578, liczba_mieszkańców = 83019200, gęstość_zaludnienia = 232, PPP = 50842)\n",
    "Francja = dict(nazwa = 'Francja', powierzchnia = 643801, liczba_mieszkańców = 67522000, gęstość_zaludnienia = 104, PPP = 44934)\n",
    "Hiszpania = dict(nazwa = 'Hiszpania', powierzchnia = 505944, liczba_mieszkańców = 47326687, gęstość_zaludnienia = 93.5, PPP = 32559)\n",
    "Belgia = dict(nazwa = 'Belgia', powierzchnia = 30528, liczba_mieszkańców = 11778842, gęstość_zaludnienia = 385, PPP = 43582)\n",
    "\n",
    "#Tworzenie listy\n",
    "lista = [Polska, Niemcy, Francja, Hiszpania, Belgia]\n",
    "\n",
    "#Funkcja wypisująca listę państw uszeregowanych według powierzchni\n",
    "def funkcja_6_1(a):\n",
    "    lista_państw = []\n",
    "    lista_posortowana = sorted(a, key=lambda x: x['powierzchnia'])\n",
    "    for i in lista_posortowana:\n",
    "        lista_państw.append(i['nazwa'])\n",
    "    return lista_państw\n",
    "\n",
    "#Funkcja wypisująca listę państw uszeregowanych według liczby ludności\n",
    "def funkcja_6_2(a):\n",
    "    lista_państw = []\n",
    "    lista_posortowana = sorted(a, key=lambda x: x['liczba_mieszkańców'])\n",
    "    for i in lista_posortowana:\n",
    "        lista_państw.append(i['nazwa'])\n",
    "    return lista_państw\n",
    "\n",
    "#Funkcje wypisujące listę państw uszeregowanych według gęstości zaludnienia\n",
    "def funkcja_6_3_1(a):\n",
    "    lista_państw = []\n",
    "    lista_posortowana = sorted(a, key=lambda x: x['gęstość_zaludnienia'])\n",
    "    for i in lista_posortowana:\n",
    "        lista_państw.append(i['nazwa'])\n",
    "    return lista_państw\n",
    "\n",
    "def funkcja_6_3_2(a):\n",
    "    lista_państw = []\n",
    "    lista_posortowana = sorted(a, key=lambda x: x['liczba_mieszkańców']/k['powierzchnia'])\n",
    "    for i in lista_posortowana:\n",
    "        lista_państw.append(i['nazwa'])\n",
    "    return lista_państw\n",
    "\n",
    "#Funkcja wypisująca listę państw uszeregowanych według PPP\n",
    "def funkcja_6_4(a):\n",
    "    lista_państw = []\n",
    "    lista_posortowana = sorted(a, key=lambda x: x['PPP'])\n",
    "    for i in lista_posortowana:\n",
    "        lista_państw.append(i['nazwa'])\n",
    "    return lista_państw\n",
    "\n",
    "#Funkcja ze zmienną value określającą po czym sortować listę państw\n",
    "def funkcja_6_5(a, value):\n",
    "    lista_państw = []\n",
    "    lista = sorted(a, key=lambda x: x[value])\n",
    "    for i in a:\n",
    "        lista_państw.append(i['nazwa'])\n",
    "    return lista_państw"
   ]
  },
  {
   "cell_type": "markdown",
   "metadata": {
    "id": "o09rDDKak4kS"
   },
   "source": [
    "## Zadanie 7.\n",
    "\n",
    "Napisz funkcję przyjmujaca napis i zwracajaca informacje ile liter i cyfr jest w napisie."
   ]
  },
  {
   "cell_type": "code",
   "execution_count": 457,
   "metadata": {
    "id": "I2-mbJnok4kS"
   },
   "outputs": [],
   "source": [
    "def funkcja_7(a):\n",
    "    liczba_liter = 0\n",
    "    liczba_cyfr = 0\n",
    "    for i in a:\n",
    "        if i.isalpha():\n",
    "            liczba_liter += 1\n",
    "        if i.isnumeric():\n",
    "            liczba_cyfr += 1\n",
    "    print(\"Liczba liter w napisie wynosi:\", liczba_liter, \"a liczba cyfr:\", liczba_cyfr, \".\")"
   ]
  },
  {
   "cell_type": "markdown",
   "metadata": {
    "id": "EYmN7hQqk4kS"
   },
   "source": [
    "## Zadanie 8.\n",
    "\n",
    "Napisz funkcję, która sprawdzi czy 2 napisy sa palindromami."
   ]
  },
  {
   "cell_type": "code",
   "execution_count": 458,
   "metadata": {
    "id": "zvwHGalKk4kT"
   },
   "outputs": [],
   "source": [
    "def funkcja_8_1(a, b):\n",
    "    return a[::-1].casefold() == b.casefold()\n",
    "\n",
    "def funkcja_8_2(a, b):\n",
    "    return a[::-1].upper() == b.upper()\n",
    "\n",
    "def funkcja_8_3(a, b):\n",
    "    return a[::-1].lower() == b.lower()"
   ]
  },
  {
   "cell_type": "markdown",
   "metadata": {
    "id": "XEoF9bs1k4kT"
   },
   "source": [
    "## Zadanie 9.\n",
    "\n",
    "Używajac zagnieżdżonych pętli, stwórz funkcję, która wydrukuje następujcy wzór:"
   ]
  },
  {
   "cell_type": "code",
   "execution_count": null,
   "metadata": {
    "id": "gSyeCSL2k4kT"
   },
   "outputs": [],
   "source": [
    "* \n",
    "* $ \n",
    "* $ * \n",
    "* $ * $ \n",
    "* $ * $ * \n",
    "* $ * $ \n",
    "* $ * \n",
    "* $ \n",
    "*"
   ]
  },
  {
   "cell_type": "code",
   "execution_count": 512,
   "metadata": {
    "id": "QJVK7hRsk4kT"
   },
   "outputs": [],
   "source": [
    "# Wpisz liczbę wierszy\n",
    "liczba_wierszy = 10\n",
    "\n",
    "def funkcja_9(liczba_wierszy):\n",
    "    środek = liczba_wierszy/2\n",
    "    środek = round(środek)\n",
    "    for i in range (0,środek):\n",
    "        for j in range (0,i+1):\n",
    "            if j%2==0:\n",
    "                print('* ', end='')\n",
    "            else:\n",
    "                print('$ ', end='')\n",
    "        print()\n",
    "    for i in range (i+1,0,-1):\n",
    "        for j in range (0, i-1):\n",
    "            if j%2==0:\n",
    "                print('* ', end='')\n",
    "            else:\n",
    "                print('$ ', end='')\n",
    "        print()"
   ]
  },
  {
   "cell_type": "markdown",
   "metadata": {
    "id": "K9dsY0aEk4kT"
   },
   "source": [
    "## Zadanie 10.\n",
    "\n",
    "Napisz funkcję, która przyjmie dwie listy liczb całkowitych, i zwróci listę liczb występujcych w pierwszej i nie występujacych w drugiej liscie, posortowana rosnaco względem ilosci wystapien w pierwszej liscie."
   ]
  },
  {
   "cell_type": "code",
   "execution_count": 625,
   "metadata": {
    "id": "fN0muadNk4kU"
   },
   "outputs": [],
   "source": [
    "def funkcja_10(a,b):\n",
    "    return sorted(list(set(a) - set(b)), key = a.count)"
   ]
  },
  {
   "cell_type": "markdown",
   "metadata": {
    "id": "5vdCZnNVk4kU"
   },
   "source": [
    "## Zadanie 11.\n",
    "\n",
    "Utworz funkcję, która przyjmie argument **`int`** *n* i obliczy *n-ta* liczbę ciagu Fibonacciego."
   ]
  },
  {
   "cell_type": "code",
   "execution_count": 529,
   "metadata": {
    "id": "tMRB6EuUk4kU"
   },
   "outputs": [],
   "source": [
    "def funkcja_11(n):\n",
    "    if n <= 0:\n",
    "        print(\"Błąd\")\n",
    "    elif n == 1:\n",
    "        return 0\n",
    "    elif n == 2:\n",
    "        return 1\n",
    "    else:\n",
    "        return funkcja_11(n-1) + funkcja_11(n-2)"
   ]
  },
  {
   "cell_type": "markdown",
   "metadata": {
    "id": "6pSRopPEk4kU"
   },
   "source": [
    "## Zadanie 12.\n",
    "\n",
    "Napisz funkcję, która przyjmie argumenty nazwane *imie* i *wzrost* a następnie utworzy wpis do globalnego słownika.\n",
    "Dodaj co najmniej 5 wpisów."
   ]
  },
  {
   "cell_type": "code",
   "execution_count": 95,
   "metadata": {
    "id": "FU8JVlVQk4kU"
   },
   "outputs": [
    {
     "name": "stdout",
     "output_type": "stream",
     "text": [
      "{'Adam': 178, 'Karolina': 165, 'Łukasz': 190, 'Mateusz': 185, 'Kaja': 175}\n"
     ]
    }
   ],
   "source": [
    "słownik = dict() #albo słownik = {}\n",
    "\n",
    "def funkcja_12(imię, wzrost):\n",
    "    słownik[imię] = wzrost\n",
    "\n",
    "funkcja_12(\"Adam\", 178)\n",
    "funkcja_12(\"Karolina\", 165)\n",
    "funkcja_12(\"Łukasz\", 190)\n",
    "funkcja_12(\"Mateusz\", 185)\n",
    "funkcja_12(\"Kaja\", 175)\n",
    "\n",
    "print(słownik)"
   ]
  },
  {
   "cell_type": "markdown",
   "metadata": {
    "id": "cFN1JF44k4kU"
   },
   "source": [
    "## Zadanie 13.\n",
    "\n",
    "Napisz funkcję, która przyjmie słownik mapujacy imiona na wzrost, a następnie zwróci listę zawierajaca imiona posortowane według wzrostu malejaco."
   ]
  },
  {
   "cell_type": "code",
   "execution_count": 88,
   "metadata": {
    "id": "mj6ieIFik4kV"
   },
   "outputs": [],
   "source": [
    "def funkcja_13(a):\n",
    "    słownik_posortowany = dict(sorted(a.items(), key=lambda item: item[1]))\n",
    "    imiona = []\n",
    "    for i in słownik_posortowany:\n",
    "        imiona.append(i)\n",
    "    return imiona"
   ]
  },
  {
   "cell_type": "markdown",
   "metadata": {
    "id": "6sQkTKm-k4kV"
   },
   "source": [
    "## Zadanie 14.\n",
    "\n",
    "Napisz (przy pomocy rekurencji) funkcję realizujaca potęgowanie. Funkcja przyjmuje dwie liczby całkowite, będace podstawa i wykładnikiem potęgi."
   ]
  },
  {
   "cell_type": "code",
   "execution_count": 630,
   "metadata": {
    "id": "CNPuQEp0k4kV"
   },
   "outputs": [],
   "source": [
    "def funkcja_14(a,b):\n",
    "    if b == 1:\n",
    "        return a\n",
    "    else:\n",
    "        return a * funkcja_14(a, b - 1)"
   ]
  },
  {
   "cell_type": "markdown",
   "metadata": {
    "id": "JT4Gmfybk4kW"
   },
   "source": [
    "## Zadanie 15.\n",
    "\n",
    "Napisz funkcję przyjmujaca jeden parametr **`list`** zawierajacy liczby całkowite i zwracajaca element, który pojawia się na liscie najczęciej."
   ]
  },
  {
   "cell_type": "code",
   "execution_count": 624,
   "metadata": {
    "id": "hMTKcqe7k4kW"
   },
   "outputs": [],
   "source": [
    "def funkcja_15(a):\n",
    "    return max(a, key = a.count)"
   ]
  },
  {
   "cell_type": "markdown",
   "metadata": {
    "id": "e_8BUYzEk4kW"
   },
   "source": [
    "# Materiały\n",
    "\n",
    "- https://try.jupyter.org\n",
    "- https://docs.python.org/3/tutorial/index.html\n",
    "- https://docs.python.org/3/tutorial/introduction.html\n",
    "- https://daringfireball.net/projects/markdown/syntax"
   ]
  }
 ],
 "metadata": {
  "colab": {
   "name": "Lekcja+9.+Python+-+wprowadzenie.ipynb",
   "provenance": []
  },
  "kernelspec": {
   "display_name": "Python 3 (ipykernel)",
   "language": "python",
   "name": "python3"
  },
  "language_info": {
   "codemirror_mode": {
    "name": "ipython",
    "version": 3
   },
   "file_extension": ".py",
   "mimetype": "text/x-python",
   "name": "python",
   "nbconvert_exporter": "python",
   "pygments_lexer": "ipython3",
   "version": "3.9.7"
  }
 },
 "nbformat": 4,
 "nbformat_minor": 1
}
