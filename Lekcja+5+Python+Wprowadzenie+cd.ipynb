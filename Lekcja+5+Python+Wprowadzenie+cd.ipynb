{
 "cells": [
  {
   "cell_type": "markdown",
   "metadata": {
    "id": "rgB62McVMa0y"
   },
   "source": [
    "# Zapis i odczyt"
   ]
  },
  {
   "cell_type": "markdown",
   "metadata": {
    "id": "5UIEBy7XMa0y"
   },
   "source": [
    "## Do / z pliku"
   ]
  },
  {
   "cell_type": "markdown",
   "metadata": {
    "id": "KhWqZyJSMa0y"
   },
   "source": [
    "### Tryby otwierania pliku\n",
    "\n",
    "Python ma kilka trybów otwarcia plików\n",
    "\n",
    "- **`r`** domyslny, otwieranie do odczytu\n",
    "- **`w`** otwieranie do zapisu (plik tworzony gdy nie istnieje, plik nadpisywany gdy istnieje)\n",
    "- **`x`** tworzy nowy plik (gdy plik istnieje funkcja zwraca bład)\n",
    "- **`a`** tryb dodawania zawartosci (plik tworzony gdy nie istnieje)\n",
    "- **`+`** otwarcie do zapisu i odczytu\n",
    "\n",
    "Tryb zapisu i odczytu danych\n",
    "- **`t`** domyslny, tryb tekstowy\n",
    "- **`b`** tryb binarny"
   ]
  },
  {
   "cell_type": "code",
   "execution_count": 2,
   "metadata": {
    "executionInfo": {
     "elapsed": 377,
     "status": "ok",
     "timestamp": 1627920420060,
     "user": {
      "displayName": "Mateusz Zimoch",
      "photoUrl": "https://lh3.googleusercontent.com/a-/AOh14GhLKHKJhMI_pTIoYkcl8z-E-V849Je8P3XxEzn2DQ=s64",
      "userId": "02738966002905530559"
     },
     "user_tz": -120
    },
    "id": "Ny-wCzQdMa0z"
   },
   "outputs": [],
   "source": [
    "plik = open('plik_nowy.txt', 'w')\n",
    "plik.write('nowy text')\n",
    "plik.close()"
   ]
  },
  {
   "cell_type": "code",
   "execution_count": 3,
   "metadata": {
    "executionInfo": {
     "elapsed": 66,
     "status": "ok",
     "timestamp": 1627920420064,
     "user": {
      "displayName": "Mateusz Zimoch",
      "photoUrl": "https://lh3.googleusercontent.com/a-/AOh14GhLKHKJhMI_pTIoYkcl8z-E-V849Je8P3XxEzn2DQ=s64",
      "userId": "02738966002905530559"
     },
     "user_tz": -120
    },
    "id": "5FwtDvlm4U2_"
   },
   "outputs": [],
   "source": [
    "plik = open('plik_nowy.txt', 'a')\n",
    "plik.write('nowy tekst')\n",
    "plik.close()"
   ]
  },
  {
   "cell_type": "code",
   "execution_count": 4,
   "metadata": {
    "colab": {
     "base_uri": "https://localhost:8080/"
    },
    "executionInfo": {
     "elapsed": 65,
     "status": "ok",
     "timestamp": 1627920420068,
     "user": {
      "displayName": "Mateusz Zimoch",
      "photoUrl": "https://lh3.googleusercontent.com/a-/AOh14GhLKHKJhMI_pTIoYkcl8z-E-V849Je8P3XxEzn2DQ=s64",
      "userId": "02738966002905530559"
     },
     "user_tz": -120
    },
    "id": "Khb92ckb4WTI",
    "outputId": "3d442228-fcf5-467f-a2db-999888f91d28"
   },
   "outputs": [
    {
     "name": "stdout",
     "output_type": "stream",
     "text": [
      "nowy textnowy tekst\n"
     ]
    }
   ],
   "source": [
    "plik = open('plik_nowy.txt', 'r')\n",
    "print(plik.read())\n",
    "plik.close()"
   ]
  },
  {
   "cell_type": "code",
   "execution_count": 134,
   "metadata": {
    "executionInfo": {
     "elapsed": 54,
     "status": "ok",
     "timestamp": 1627920420075,
     "user": {
      "displayName": "Mateusz Zimoch",
      "photoUrl": "https://lh3.googleusercontent.com/a-/AOh14GhLKHKJhMI_pTIoYkcl8z-E-V849Je8P3XxEzn2DQ=s64",
      "userId": "02738966002905530559"
     },
     "user_tz": -120
    },
    "id": "iV8bEuaRMa0z"
   },
   "outputs": [],
   "source": [
    "with open('plik_nowy2.txt', 'w') as plik:\n",
    "    plik.write('nowy text2')"
   ]
  },
  {
   "cell_type": "code",
   "execution_count": 135,
   "metadata": {
    "colab": {
     "base_uri": "https://localhost:8080/"
    },
    "executionInfo": {
     "elapsed": 50,
     "status": "ok",
     "timestamp": 1627920420077,
     "user": {
      "displayName": "Mateusz Zimoch",
      "photoUrl": "https://lh3.googleusercontent.com/a-/AOh14GhLKHKJhMI_pTIoYkcl8z-E-V849Je8P3XxEzn2DQ=s64",
      "userId": "02738966002905530559"
     },
     "user_tz": -120
    },
    "id": "7eX7cNd7Ma0z",
    "outputId": "70116778-4b65-4421-e943-4a459793633d"
   },
   "outputs": [
    {
     "name": "stdout",
     "output_type": "stream",
     "text": [
      "['nowy text2\\n', 'linia 2\\n', 'linia 3']\n",
      "nowy text2\n",
      "linia 2\n",
      "linia 3\n"
     ]
    }
   ],
   "source": [
    "with open('plik_nowy2.txt') as plik:\n",
    "    print(plik.readlines())\n",
    "\n",
    "with open('plik_nowy2.txt') as plik:\n",
    "    print(plik.read())"
   ]
  },
  {
   "cell_type": "markdown",
   "metadata": {
    "id": "UalA_m2bMa0z"
   },
   "source": [
    "## Od użytkownika"
   ]
  },
  {
   "cell_type": "code",
   "execution_count": 5,
   "metadata": {
    "colab": {
     "base_uri": "https://localhost:8080/"
    },
    "executionInfo": {
     "elapsed": 3030,
     "status": "ok",
     "timestamp": 1627320933683,
     "user": {
      "displayName": "Mateusz Zimoch",
      "photoUrl": "https://lh3.googleusercontent.com/a-/AOh14GhLKHKJhMI_pTIoYkcl8z-E-V849Je8P3XxEzn2DQ=s64",
      "userId": "02738966002905530559"
     },
     "user_tz": -120
    },
    "id": "9tqumzC3Ma0z",
    "outputId": "13fac7e0-f5dd-4e6e-b4f9-63dd5379550e"
   },
   "outputs": [
    {
     "name": "stdout",
     "output_type": "stream",
     "text": [
      "aaa\n"
     ]
    }
   ],
   "source": [
    "text = input()"
   ]
  },
  {
   "cell_type": "code",
   "execution_count": 6,
   "metadata": {
    "colab": {
     "base_uri": "https://localhost:8080/"
    },
    "executionInfo": {
     "elapsed": 228,
     "status": "ok",
     "timestamp": 1627320936103,
     "user": {
      "displayName": "Mateusz Zimoch",
      "photoUrl": "https://lh3.googleusercontent.com/a-/AOh14GhLKHKJhMI_pTIoYkcl8z-E-V849Je8P3XxEzn2DQ=s64",
      "userId": "02738966002905530559"
     },
     "user_tz": -120
    },
    "id": "yi0M4YZ4Ma00",
    "outputId": "6916c722-7726-4f6d-dcdd-a1d083382101"
   },
   "outputs": [
    {
     "name": "stdout",
     "output_type": "stream",
     "text": [
      "aaa\n"
     ]
    }
   ],
   "source": [
    "print(text)"
   ]
  },
  {
   "cell_type": "code",
   "execution_count": 7,
   "metadata": {},
   "outputs": [
    {
     "data": {
      "text/plain": [
       "12"
      ]
     },
     "execution_count": 7,
     "metadata": {},
     "output_type": "execute_result"
    }
   ],
   "source": [
    "'''\n",
    "def nazwa_funkcji(argumenty):\n",
    "    ciało_funkcji\n",
    "    return wartosc\n",
    "'''\n",
    "\n",
    "#lambda argument: ciało_funkcji(zwracane)\n",
    "\n",
    "dwukrotnosc = lambda x: 2*x\n",
    "\n",
    "dwukrotnosc(6)"
   ]
  },
  {
   "cell_type": "code",
   "execution_count": 8,
   "metadata": {},
   "outputs": [
    {
     "name": "stdout",
     "output_type": "stream",
     "text": [
      "Sverige\n",
      "Polska\n",
      "United States of America\n"
     ]
    }
   ],
   "source": [
    "PL = {'name' : 'Polska', 'area' : 312679, 'Population' : 38000000, 'PPP' : 34265}\n",
    "\n",
    "SE = {'name' : 'Sverige', 'area' : 450295, 'Population' : 10000000, 'PPP' : 54563}\n",
    "\n",
    "USA = {'name' : 'United States of America', 'area' : 9834000, 'Population' : 328000000, 'PPP' : 65298}\n",
    "\n",
    "dict_list = [PL, SE, USA]\n",
    "\n",
    "def sort_by(lista, value):\n",
    "    lista = sorted(lista, key=lambda x: x[value])\n",
    "    for element in lista:\n",
    "        print(element['name'])\n",
    "\n",
    "sort_by(dict_list, 'Population')"
   ]
  },
  {
   "cell_type": "markdown",
   "metadata": {
    "id": "ZTkTj9VQMa00"
   },
   "source": [
    "# Klasy w Pythonie"
   ]
  },
  {
   "cell_type": "code",
   "execution_count": 9,
   "metadata": {
    "executionInfo": {
     "elapsed": 250,
     "status": "ok",
     "timestamp": 1627921633547,
     "user": {
      "displayName": "Mateusz Zimoch",
      "photoUrl": "https://lh3.googleusercontent.com/a-/AOh14GhLKHKJhMI_pTIoYkcl8z-E-V849Je8P3XxEzn2DQ=s64",
      "userId": "02738966002905530559"
     },
     "user_tz": -120
    },
    "id": "B2iaYSlaMa00"
   },
   "outputs": [],
   "source": [
    "#class NazwaKlasy():\n",
    "#   wewnątrz klasy\n",
    "#   def __init__(self):\n",
    "#       #konstruktor\n",
    "\n",
    "\n",
    "class Klasa():\n",
    "    zmienna_11 = 1\n",
    "    zmienna_12 = 2\n",
    "    \n",
    "    def __init__(self, wartosc_zmiennej1, wartosc_zmiennej2=5):\n",
    "        self.zmienna_1 = wartosc_zmiennej1\n",
    "        self.zmienna_2 = wartosc_zmiennej2\n",
    "    \n",
    "    def funkcja(self):\n",
    "        print(\"przykładowy tekst\")"
   ]
  },
  {
   "cell_type": "code",
   "execution_count": 10,
   "metadata": {
    "colab": {
     "base_uri": "https://localhost:8080/"
    },
    "executionInfo": {
     "elapsed": 244,
     "status": "ok",
     "timestamp": 1627921677469,
     "user": {
      "displayName": "Mateusz Zimoch",
      "photoUrl": "https://lh3.googleusercontent.com/a-/AOh14GhLKHKJhMI_pTIoYkcl8z-E-V849Je8P3XxEzn2DQ=s64",
      "userId": "02738966002905530559"
     },
     "user_tz": -120
    },
    "id": "m0RB6ETTMa00",
    "outputId": "e8be64a0-fc4d-455e-a634-dc7e82ad0a17"
   },
   "outputs": [
    {
     "name": "stdout",
     "output_type": "stream",
     "text": [
      "przykładowy tekst\n"
     ]
    }
   ],
   "source": [
    "obiekt = Klasa(23)\n",
    "obiekt.funkcja()"
   ]
  },
  {
   "cell_type": "code",
   "execution_count": 9,
   "metadata": {
    "colab": {
     "base_uri": "https://localhost:8080/"
    },
    "executionInfo": {
     "elapsed": 243,
     "status": "ok",
     "timestamp": 1627921866590,
     "user": {
      "displayName": "Mateusz Zimoch",
      "photoUrl": "https://lh3.googleusercontent.com/a-/AOh14GhLKHKJhMI_pTIoYkcl8z-E-V849Je8P3XxEzn2DQ=s64",
      "userId": "02738966002905530559"
     },
     "user_tz": -120
    },
    "id": "bVr5yZWPMa00",
    "outputId": "2fb51ed0-55be-4a42-82f0-38c0e2dbe6da"
   },
   "outputs": [
    {
     "data": {
      "text/plain": [
       "23"
      ]
     },
     "execution_count": 9,
     "metadata": {},
     "output_type": "execute_result"
    }
   ],
   "source": [
    "obiekt.zmienna_1"
   ]
  },
  {
   "cell_type": "code",
   "execution_count": 10,
   "metadata": {
    "colab": {
     "base_uri": "https://localhost:8080/"
    },
    "executionInfo": {
     "elapsed": 18,
     "status": "ok",
     "timestamp": 1627921868604,
     "user": {
      "displayName": "Mateusz Zimoch",
      "photoUrl": "https://lh3.googleusercontent.com/a-/AOh14GhLKHKJhMI_pTIoYkcl8z-E-V849Je8P3XxEzn2DQ=s64",
      "userId": "02738966002905530559"
     },
     "user_tz": -120
    },
    "id": "TV1D7t2-rITa",
    "outputId": "7bd96795-d1f9-4a61-c62a-e1bb391d94d9"
   },
   "outputs": [
    {
     "data": {
      "text/plain": [
       "5"
      ]
     },
     "execution_count": 10,
     "metadata": {},
     "output_type": "execute_result"
    }
   ],
   "source": [
    "obiekt.zmienna_2"
   ]
  },
  {
   "cell_type": "code",
   "execution_count": 11,
   "metadata": {},
   "outputs": [
    {
     "data": {
      "text/plain": [
       "1"
      ]
     },
     "execution_count": 11,
     "metadata": {},
     "output_type": "execute_result"
    }
   ],
   "source": [
    "obiekt.zmienna_11"
   ]
  },
  {
   "cell_type": "code",
   "execution_count": 12,
   "metadata": {
    "colab": {
     "base_uri": "https://localhost:8080/"
    },
    "executionInfo": {
     "elapsed": 395,
     "status": "ok",
     "timestamp": 1627921875975,
     "user": {
      "displayName": "Mateusz Zimoch",
      "photoUrl": "https://lh3.googleusercontent.com/a-/AOh14GhLKHKJhMI_pTIoYkcl8z-E-V849Je8P3XxEzn2DQ=s64",
      "userId": "02738966002905530559"
     },
     "user_tz": -120
    },
    "id": "DmPqmlBjMa01",
    "outputId": "7244f283-3d5e-4c07-c56b-094b4c583f6c"
   },
   "outputs": [
    {
     "name": "stdout",
     "output_type": "stream",
     "text": [
      "56\n"
     ]
    }
   ],
   "source": [
    "obiekt_2 = Klasa(12, 56)\n",
    "print(obiekt_2.zmienna_2)"
   ]
  },
  {
   "cell_type": "code",
   "execution_count": 13,
   "metadata": {
    "colab": {
     "base_uri": "https://localhost:8080/"
    },
    "executionInfo": {
     "elapsed": 494,
     "status": "ok",
     "timestamp": 1627921645262,
     "user": {
      "displayName": "Mateusz Zimoch",
      "photoUrl": "https://lh3.googleusercontent.com/a-/AOh14GhLKHKJhMI_pTIoYkcl8z-E-V849Je8P3XxEzn2DQ=s64",
      "userId": "02738966002905530559"
     },
     "user_tz": -120
    },
    "id": "I5N7D69vrd1J",
    "outputId": "fffeabfb-9e51-444c-ac5f-731928ea6c42"
   },
   "outputs": [
    {
     "data": {
      "text/plain": [
       "2"
      ]
     },
     "execution_count": 13,
     "metadata": {},
     "output_type": "execute_result"
    }
   ],
   "source": [
    "obiekt_2.zmienna_12"
   ]
  },
  {
   "cell_type": "code",
   "execution_count": 14,
   "metadata": {
    "colab": {
     "base_uri": "https://localhost:8080/"
    },
    "executionInfo": {
     "elapsed": 233,
     "status": "ok",
     "timestamp": 1627921660109,
     "user": {
      "displayName": "Mateusz Zimoch",
      "photoUrl": "https://lh3.googleusercontent.com/a-/AOh14GhLKHKJhMI_pTIoYkcl8z-E-V849Je8P3XxEzn2DQ=s64",
      "userId": "02738966002905530559"
     },
     "user_tz": -120
    },
    "id": "S8vpmhffMa01",
    "outputId": "e5b5b27d-02a9-4112-f90c-ea5eaaf2175d"
   },
   "outputs": [
    {
     "name": "stdout",
     "output_type": "stream",
     "text": [
      "5\n",
      "-5\n"
     ]
    }
   ],
   "source": [
    "obiekt = Klasa(-1)\n",
    "obiekt.zmienna_1 = 5\n",
    "obiekt_2 = Klasa(-5)\n",
    "obiekt_2.zmienna_1\n",
    "print(obiekt.zmienna_1)\n",
    "print(obiekt_2.zmienna_1)"
   ]
  },
  {
   "cell_type": "code",
   "execution_count": 16,
   "metadata": {
    "scrolled": true
   },
   "outputs": [
    {
     "data": {
      "text/plain": [
       "['__class__',\n",
       " '__delattr__',\n",
       " '__dict__',\n",
       " '__dir__',\n",
       " '__doc__',\n",
       " '__eq__',\n",
       " '__format__',\n",
       " '__ge__',\n",
       " '__getattribute__',\n",
       " '__gt__',\n",
       " '__hash__',\n",
       " '__init__',\n",
       " '__init_subclass__',\n",
       " '__le__',\n",
       " '__lt__',\n",
       " '__module__',\n",
       " '__ne__',\n",
       " '__new__',\n",
       " '__reduce__',\n",
       " '__reduce_ex__',\n",
       " '__repr__',\n",
       " '__setattr__',\n",
       " '__sizeof__',\n",
       " '__str__',\n",
       " '__subclasshook__',\n",
       " '__weakref__',\n",
       " 'funkcja',\n",
       " 'zmienna_11',\n",
       " 'zmienna_12']"
      ]
     },
     "execution_count": 16,
     "metadata": {},
     "output_type": "execute_result"
    }
   ],
   "source": [
    "dir(Klasa)"
   ]
  },
  {
   "cell_type": "markdown",
   "metadata": {
    "id": "8dCqMFqZMa01"
   },
   "source": [
    "## Własciwosci i metody obiektów w Pythonie\n",
    "\n",
    "Różne typy obiektów w Pythonie maja różne atrybuty, które moga byc wywołane za pomoca ich nazw.\n",
    "Wywołanie atrybutu w Pythonie realizowane jest poprzez kropkę `.`\n",
    "Jeżeli atrybut jest wykonywalny, nazywany jest metoda.\n",
    "\n",
    "Funkcja wbudowana `dir()` może byc użyta do zwrócenia listy atrybutów danego obiektu."
   ]
  },
  {
   "cell_type": "code",
   "execution_count": 17,
   "metadata": {
    "colab": {
     "base_uri": "https://localhost:8080/"
    },
    "executionInfo": {
     "elapsed": 268,
     "status": "ok",
     "timestamp": 1627921967780,
     "user": {
      "displayName": "Mateusz Zimoch",
      "photoUrl": "https://lh3.googleusercontent.com/a-/AOh14GhLKHKJhMI_pTIoYkcl8z-E-V849Je8P3XxEzn2DQ=s64",
      "userId": "02738966002905530559"
     },
     "user_tz": -120
    },
    "id": "9zbgmkpPMa01",
    "outputId": "3be56b8c-ef73-4920-ccd6-725228cff290"
   },
   "outputs": [
    {
     "name": "stdout",
     "output_type": "stream",
     "text": [
      "przykładowy tekst\n"
     ]
    }
   ],
   "source": [
    "obiekt.funkcja()"
   ]
  },
  {
   "cell_type": "code",
   "execution_count": 23,
   "metadata": {
    "executionInfo": {
     "elapsed": 245,
     "status": "ok",
     "timestamp": 1627922155001,
     "user": {
      "displayName": "Mateusz Zimoch",
      "photoUrl": "https://lh3.googleusercontent.com/a-/AOh14GhLKHKJhMI_pTIoYkcl8z-E-V849Je8P3XxEzn2DQ=s64",
      "userId": "02738966002905530559"
     },
     "user_tz": -120
    },
    "id": "yS0dIghgMa02"
   },
   "outputs": [],
   "source": [
    "class Kalkulator():\n",
    "\n",
    "    def __init__(self, a, b):\n",
    "        self.a = a\n",
    "        self.b = b\n",
    "\n",
    "    def dodawanie(self):\n",
    "        return self.a + self.b\n",
    "\n",
    "    def odejmowanie(self):\n",
    "        return self.a - self.b"
   ]
  },
  {
   "cell_type": "code",
   "execution_count": 24,
   "metadata": {
    "colab": {
     "base_uri": "https://localhost:8080/"
    },
    "executionInfo": {
     "elapsed": 284,
     "status": "ok",
     "timestamp": 1627922205326,
     "user": {
      "displayName": "Mateusz Zimoch",
      "photoUrl": "https://lh3.googleusercontent.com/a-/AOh14GhLKHKJhMI_pTIoYkcl8z-E-V849Je8P3XxEzn2DQ=s64",
      "userId": "02738966002905530559"
     },
     "user_tz": -120
    },
    "id": "ZlTVw5IrMa02",
    "outputId": "017512a8-c6d3-429c-f271-c8967ddb927f"
   },
   "outputs": [
    {
     "name": "stdout",
     "output_type": "stream",
     "text": [
      "9\n",
      "-1\n"
     ]
    }
   ],
   "source": [
    "kalk = Kalkulator(4, 5)\n",
    "print(kalk.dodawanie())\n",
    "print(kalk.odejmowanie())"
   ]
  },
  {
   "cell_type": "markdown",
   "metadata": {
    "id": "DY-iVevpMa02"
   },
   "source": [
    "## Dziedziczenie i hierarchie klas w Pythonie\n",
    "\n",
    "W Pythonie możemy wprowadzac hierarchię klas, w postaci klas bazowych i klas potomnych.\n",
    "Pomaga to w ujednolicaniu interfejsu (atrybutów i metod) poszczególnych klas."
   ]
  },
  {
   "cell_type": "code",
   "execution_count": 25,
   "metadata": {
    "executionInfo": {
     "elapsed": 285,
     "status": "ok",
     "timestamp": 1627923206663,
     "user": {
      "displayName": "Mateusz Zimoch",
      "photoUrl": "https://lh3.googleusercontent.com/a-/AOh14GhLKHKJhMI_pTIoYkcl8z-E-V849Je8P3XxEzn2DQ=s64",
      "userId": "02738966002905530559"
     },
     "user_tz": -120
    },
    "id": "bbJvlIbBMa02"
   },
   "outputs": [],
   "source": [
    "class Bazowa:\n",
    "    def __init__(self, param1):\n",
    "        self.param1 = param1\n",
    "    \n",
    "    def wyswietl_param1(self):\n",
    "        print('Param1: ', self.param1)"
   ]
  },
  {
   "cell_type": "code",
   "execution_count": 26,
   "metadata": {
    "colab": {
     "base_uri": "https://localhost:8080/"
    },
    "executionInfo": {
     "elapsed": 344,
     "status": "ok",
     "timestamp": 1627923209105,
     "user": {
      "displayName": "Mateusz Zimoch",
      "photoUrl": "https://lh3.googleusercontent.com/a-/AOh14GhLKHKJhMI_pTIoYkcl8z-E-V849Je8P3XxEzn2DQ=s64",
      "userId": "02738966002905530559"
     },
     "user_tz": -120
    },
    "id": "q4VBiGRiw6CD",
    "outputId": "23f6427f-4511-43cd-e905-13744c294d5b"
   },
   "outputs": [
    {
     "name": "stdout",
     "output_type": "stream",
     "text": [
      "Param1:  15\n"
     ]
    }
   ],
   "source": [
    "obiekt = Bazowa(15)\n",
    "obiekt.wyswietl_param1()"
   ]
  },
  {
   "cell_type": "code",
   "execution_count": 27,
   "metadata": {
    "executionInfo": {
     "elapsed": 263,
     "status": "ok",
     "timestamp": 1627922716632,
     "user": {
      "displayName": "Mateusz Zimoch",
      "photoUrl": "https://lh3.googleusercontent.com/a-/AOh14GhLKHKJhMI_pTIoYkcl8z-E-V849Je8P3XxEzn2DQ=s64",
      "userId": "02738966002905530559"
     },
     "user_tz": -120
    },
    "id": "r39MpXE7Ma02"
   },
   "outputs": [],
   "source": [
    "class Pochodna(Bazowa):\n",
    "    def __init__(self, param1, param2):\n",
    "        super().__init__(param1)\n",
    "        self.param2 = param2\n",
    "\n",
    "    def wyswietl_param2(self):\n",
    "        print('Param2: ', self.param2)"
   ]
  },
  {
   "cell_type": "code",
   "execution_count": 28,
   "metadata": {
    "colab": {
     "base_uri": "https://localhost:8080/"
    },
    "executionInfo": {
     "elapsed": 299,
     "status": "ok",
     "timestamp": 1627922754729,
     "user": {
      "displayName": "Mateusz Zimoch",
      "photoUrl": "https://lh3.googleusercontent.com/a-/AOh14GhLKHKJhMI_pTIoYkcl8z-E-V849Je8P3XxEzn2DQ=s64",
      "userId": "02738966002905530559"
     },
     "user_tz": -120
    },
    "id": "T4bLcRD0Ma03",
    "outputId": "05b3d2f9-17e9-4581-e475-5d68dfcc14bd"
   },
   "outputs": [
    {
     "name": "stdout",
     "output_type": "stream",
     "text": [
      "Param1:  wartosc1\n",
      "Param2:  wartosc2\n"
     ]
    }
   ],
   "source": [
    "pochodna = Pochodna('wartosc1', 'wartosc2')\n",
    "pochodna.wyswietl_param1()\n",
    "pochodna.wyswietl_param2()"
   ]
  },
  {
   "cell_type": "code",
   "execution_count": 29,
   "metadata": {
    "colab": {
     "base_uri": "https://localhost:8080/"
    },
    "executionInfo": {
     "elapsed": 296,
     "status": "ok",
     "timestamp": 1627922772655,
     "user": {
      "displayName": "Mateusz Zimoch",
      "photoUrl": "https://lh3.googleusercontent.com/a-/AOh14GhLKHKJhMI_pTIoYkcl8z-E-V849Je8P3XxEzn2DQ=s64",
      "userId": "02738966002905530559"
     },
     "user_tz": -120
    },
    "id": "qO2m0BpVMa03",
    "outputId": "a230f18e-3ffd-42d0-8841-30b9db173c78"
   },
   "outputs": [
    {
     "name": "stdout",
     "output_type": "stream",
     "text": [
      "Param1:  5\n"
     ]
    }
   ],
   "source": [
    "bazowa = Bazowa(5)\n",
    "bazowa.wyswietl_param1()"
   ]
  },
  {
   "cell_type": "code",
   "execution_count": 30,
   "metadata": {
    "id": "Otj4_E79Ma03"
   },
   "outputs": [
    {
     "ename": "AttributeError",
     "evalue": "'Bazowa' object has no attribute 'wyswietl_param2'",
     "output_type": "error",
     "traceback": [
      "\u001b[1;31m---------------------------------------------------------------------------\u001b[0m",
      "\u001b[1;31mAttributeError\u001b[0m                            Traceback (most recent call last)",
      "\u001b[1;32m<ipython-input-30-01b082754d49>\u001b[0m in \u001b[0;36m<module>\u001b[1;34m\u001b[0m\n\u001b[1;32m----> 1\u001b[1;33m \u001b[0mbazowa\u001b[0m\u001b[1;33m.\u001b[0m\u001b[0mwyswietl_param2\u001b[0m\u001b[1;33m(\u001b[0m\u001b[1;33m)\u001b[0m\u001b[1;33m\u001b[0m\u001b[1;33m\u001b[0m\u001b[0m\n\u001b[0m",
      "\u001b[1;31mAttributeError\u001b[0m: 'Bazowa' object has no attribute 'wyswietl_param2'"
     ]
    }
   ],
   "source": [
    "bazowa.wyswietl_param2()"
   ]
  },
  {
   "cell_type": "code",
   "execution_count": 32,
   "metadata": {
    "executionInfo": {
     "elapsed": 344,
     "status": "ok",
     "timestamp": 1627923357891,
     "user": {
      "displayName": "Mateusz Zimoch",
      "photoUrl": "https://lh3.googleusercontent.com/a-/AOh14GhLKHKJhMI_pTIoYkcl8z-E-V849Je8P3XxEzn2DQ=s64",
      "userId": "02738966002905530559"
     },
     "user_tz": -120
    },
    "id": "faoZtbmYMa03"
   },
   "outputs": [],
   "source": [
    "class PochodnaInna(Pochodna):\n",
    "    def wyswietl_parametry(self):\n",
    "        self.wyswietl_param1()\n",
    "        self.wyswietl_param2()"
   ]
  },
  {
   "cell_type": "code",
   "execution_count": 33,
   "metadata": {
    "colab": {
     "base_uri": "https://localhost:8080/"
    },
    "executionInfo": {
     "elapsed": 712,
     "status": "ok",
     "timestamp": 1627923361113,
     "user": {
      "displayName": "Mateusz Zimoch",
      "photoUrl": "https://lh3.googleusercontent.com/a-/AOh14GhLKHKJhMI_pTIoYkcl8z-E-V849Je8P3XxEzn2DQ=s64",
      "userId": "02738966002905530559"
     },
     "user_tz": -120
    },
    "id": "oA-eWZxeMa04",
    "outputId": "e8179acd-6ab3-4d11-df90-932b4018cb54"
   },
   "outputs": [
    {
     "name": "stdout",
     "output_type": "stream",
     "text": [
      "Param1:  123\n",
      "Param2:  456\n"
     ]
    }
   ],
   "source": [
    "pochodna_inna = PochodnaInna(123, 456)\n",
    "pochodna_inna.wyswietl_parametry()"
   ]
  },
  {
   "cell_type": "markdown",
   "metadata": {
    "id": "7dtmHngwMa04"
   },
   "source": [
    "## Klasy abstrakcyjne\n",
    "\n",
    "W Pythonie (i wielu innych językach) mamy możliwosc stworzenia tzw. klas abstrakcyjnych.\n",
    "Sa to klasy, których obiektu nie da się utworzyc bezposrednio, a jedynie poprzez dziedziczenie i stworzenie obiektu klasy pochodnej."
   ]
  },
  {
   "cell_type": "code",
   "execution_count": 34,
   "metadata": {
    "executionInfo": {
     "elapsed": 284,
     "status": "ok",
     "timestamp": 1627923573482,
     "user": {
      "displayName": "Mateusz Zimoch",
      "photoUrl": "https://lh3.googleusercontent.com/a-/AOh14GhLKHKJhMI_pTIoYkcl8z-E-V849Je8P3XxEzn2DQ=s64",
      "userId": "02738966002905530559"
     },
     "user_tz": -120
    },
    "id": "987CEUd4Ma04"
   },
   "outputs": [],
   "source": [
    "from abc import ABC, abstractmethod"
   ]
  },
  {
   "cell_type": "code",
   "execution_count": 35,
   "metadata": {
    "executionInfo": {
     "elapsed": 249,
     "status": "ok",
     "timestamp": 1627923608621,
     "user": {
      "displayName": "Mateusz Zimoch",
      "photoUrl": "https://lh3.googleusercontent.com/a-/AOh14GhLKHKJhMI_pTIoYkcl8z-E-V849Je8P3XxEzn2DQ=s64",
      "userId": "02738966002905530559"
     },
     "user_tz": -120
    },
    "id": "L2jbnCPbMa04"
   },
   "outputs": [],
   "source": [
    "class Maszyna(ABC):\n",
    "    @abstractmethod\n",
    "    def typ():\n",
    "        pass"
   ]
  },
  {
   "cell_type": "code",
   "execution_count": 36,
   "metadata": {
    "colab": {
     "base_uri": "https://localhost:8080/",
     "height": 165
    },
    "executionInfo": {
     "elapsed": 447,
     "status": "error",
     "timestamp": 1627923611351,
     "user": {
      "displayName": "Mateusz Zimoch",
      "photoUrl": "https://lh3.googleusercontent.com/a-/AOh14GhLKHKJhMI_pTIoYkcl8z-E-V849Je8P3XxEzn2DQ=s64",
      "userId": "02738966002905530559"
     },
     "user_tz": -120
    },
    "id": "10Ez96c9Ma04",
    "outputId": "2c918a72-7ca0-4a3e-a8dd-652216007f23"
   },
   "outputs": [
    {
     "ename": "TypeError",
     "evalue": "Can't instantiate abstract class Maszyna with abstract methods typ",
     "output_type": "error",
     "traceback": [
      "\u001b[1;31m---------------------------------------------------------------------------\u001b[0m",
      "\u001b[1;31mTypeError\u001b[0m                                 Traceback (most recent call last)",
      "\u001b[1;32m<ipython-input-36-288e97088be2>\u001b[0m in \u001b[0;36m<module>\u001b[1;34m\u001b[0m\n\u001b[1;32m----> 1\u001b[1;33m \u001b[0mmaszyna1\u001b[0m \u001b[1;33m=\u001b[0m \u001b[0mMaszyna\u001b[0m\u001b[1;33m(\u001b[0m\u001b[1;33m)\u001b[0m\u001b[1;33m\u001b[0m\u001b[1;33m\u001b[0m\u001b[0m\n\u001b[0m",
      "\u001b[1;31mTypeError\u001b[0m: Can't instantiate abstract class Maszyna with abstract methods typ"
     ]
    }
   ],
   "source": [
    "maszyna1 = Maszyna()"
   ]
  },
  {
   "cell_type": "code",
   "execution_count": 37,
   "metadata": {
    "executionInfo": {
     "elapsed": 318,
     "status": "ok",
     "timestamp": 1627923645350,
     "user": {
      "displayName": "Mateusz Zimoch",
      "photoUrl": "https://lh3.googleusercontent.com/a-/AOh14GhLKHKJhMI_pTIoYkcl8z-E-V849Je8P3XxEzn2DQ=s64",
      "userId": "02738966002905530559"
     },
     "user_tz": -120
    },
    "id": "fRU00n5OMa04"
   },
   "outputs": [],
   "source": [
    "class Samochod(Maszyna):\n",
    "    def typ(self):\n",
    "        return 'samochod'"
   ]
  },
  {
   "cell_type": "code",
   "execution_count": 38,
   "metadata": {
    "executionInfo": {
     "elapsed": 275,
     "status": "ok",
     "timestamp": 1627923647000,
     "user": {
      "displayName": "Mateusz Zimoch",
      "photoUrl": "https://lh3.googleusercontent.com/a-/AOh14GhLKHKJhMI_pTIoYkcl8z-E-V849Je8P3XxEzn2DQ=s64",
      "userId": "02738966002905530559"
     },
     "user_tz": -120
    },
    "id": "_iEkhX0bMa05"
   },
   "outputs": [],
   "source": [
    "samochodzik = Samochod()"
   ]
  },
  {
   "cell_type": "code",
   "execution_count": 39,
   "metadata": {
    "colab": {
     "base_uri": "https://localhost:8080/",
     "height": 35
    },
    "executionInfo": {
     "elapsed": 25,
     "status": "ok",
     "timestamp": 1627923649058,
     "user": {
      "displayName": "Mateusz Zimoch",
      "photoUrl": "https://lh3.googleusercontent.com/a-/AOh14GhLKHKJhMI_pTIoYkcl8z-E-V849Je8P3XxEzn2DQ=s64",
      "userId": "02738966002905530559"
     },
     "user_tz": -120
    },
    "id": "E2rDozqaMa05",
    "outputId": "3b821137-44b1-44d7-81a3-ca2bf46c02f5"
   },
   "outputs": [
    {
     "data": {
      "text/plain": [
       "'samochod'"
      ]
     },
     "execution_count": 39,
     "metadata": {},
     "output_type": "execute_result"
    }
   ],
   "source": [
    "samochodzik.typ()"
   ]
  },
  {
   "cell_type": "markdown",
   "metadata": {
    "id": "NQv2HwU4Ma05"
   },
   "source": [
    "# Zadania"
   ]
  },
  {
   "cell_type": "markdown",
   "metadata": {
    "id": "Io8TSPEoMa05"
   },
   "source": [
    "Zadanka do poćwiczenia: http://sigmaquality.pl/uncategorized/100-zadan-z-petli-w-python-3/"
   ]
  },
  {
   "cell_type": "markdown",
   "metadata": {
    "id": "RWd1-qlUMa05"
   },
   "source": [
    "## Zadanie 1\n",
    "\n",
    "Stwórz klasę *Pamiętnik*, która zaimplementuje metody do odczytywania i dopisywania zawartosci. Zawartosc będzie przechowywana w pliku tekstowym."
   ]
  },
  {
   "cell_type": "code",
   "execution_count": 258,
   "metadata": {
    "id": "v5MA1s49Ma05"
   },
   "outputs": [],
   "source": [
    "class pamietnik():\n",
    "\n",
    "    def __init__(self):\n",
    "        pass\n",
    "        \n",
    "    def otwieranie_pliku(self, plik_tekstowy):\n",
    "        self.plik_tekstowy = plik_tekstowy\n",
    "        plik = open('plik.txt', 'a')\n",
    "        \n",
    "    def dopisywanie_zawartosci(self, zawartosc):\n",
    "        self.zawartosc = zawartosc\n",
    "        plik = open('plik.txt', 'a')\n",
    "        plik = plik.write(self.zawartosc)\n",
    "        \n",
    "aaa = pamietnik()\n",
    "aaa.otwieranie_pliku('plik.txt')\n",
    "aaa.dopisywanie_zawartosci('aaa')"
   ]
  },
  {
   "cell_type": "markdown",
   "metadata": {
    "id": "tc5o9PQ0Ma06"
   },
   "source": [
    "## Zadanie 2.\n",
    "\n",
    "Stwórz klasę *Trójkat*, w której konstruktor przyjmuje 3 argumenty, reprezentujace katy trójkata. Klasa implementuje metodę *sprawdz_katy*, która sprawdzi czy suma katow jest rowna 180."
   ]
  },
  {
   "cell_type": "code",
   "execution_count": 259,
   "metadata": {
    "id": "2gHWFLN5Ma06"
   },
   "outputs": [
    {
     "data": {
      "text/plain": [
       "True"
      ]
     },
     "execution_count": 259,
     "metadata": {},
     "output_type": "execute_result"
    }
   ],
   "source": [
    "class trojkat():\n",
    "    \n",
    "    def __init__(self, kat1, kat2, kat3):\n",
    "        self.kat1 = kat1\n",
    "        self.kat2 = kat2\n",
    "        self.kat3 = kat3\n",
    "\n",
    "    def sprawdz_katy(self):\n",
    "        if self.kat1 + self.kat2 + self.kat3 == 180:\n",
    "            return True\n",
    "        \n",
    "trojkat_1 = trojkat(60,60,60)\n",
    "trojkat_1.sprawdz_katy()"
   ]
  },
  {
   "cell_type": "markdown",
   "metadata": {
    "id": "iFUriPB9Ma06"
   },
   "source": [
    "## Zadanie 3.\n",
    "\n",
    "Stwórz klasę przyjmujaca w konstruktorze listę będaca kolejnymi wierszami piosenki.\n",
    "Klasa będzie mie metodę *spiewaj*, która wypisze wszystkie wiersze piosenki po kolei."
   ]
  },
  {
   "cell_type": "code",
   "execution_count": 260,
   "metadata": {
    "id": "D37Lj-A6Ma06"
   },
   "outputs": [
    {
     "name": "stdout",
     "output_type": "stream",
     "text": [
      "Wlazł kotek na płotek\n",
      "i mruga,\n",
      "ładna to piosenka,\n",
      "nie długa.\n",
      "Nie długa, nie krótka,\n",
      "lecz w sam raz,\n",
      "zaśpiewaj koteczku,\n",
      "jeszcze raz.\n"
     ]
    }
   ],
   "source": [
    "class klasa_3():\n",
    "    \n",
    "    def __init__(self,lista_wierszy):\n",
    "        self.lista_wierszy = lista_wierszy\n",
    "        \n",
    "    def spiewaj(self):\n",
    "        for i in self.lista_wierszy:\n",
    "            print(i)\n",
    "        \n",
    "tekst = ['Wlazł kotek na płotek', 'i mruga,', 'ładna to piosenka,', 'nie długa.', 'Nie długa, nie krótka,', 'lecz w sam raz,', 'zaśpiewaj koteczku,', 'jeszcze raz.']\n",
    "\n",
    "wlazl_kotek = klasa_3(tekst)\n",
    "wlazl_kotek.spiewaj()"
   ]
  },
  {
   "cell_type": "markdown",
   "metadata": {
    "id": "4TpTFk7XMa06"
   },
   "source": [
    "## Zadanie 4.\n",
    "\n",
    "Zaimplementuj klasę bazowa *Figura*. Klasa będzie miec metody obliczajace pole i obwod.\n",
    "Stworz klasy reprezentujace trójkat i prostokat, implementujace odpowiednio obie metody."
   ]
  },
  {
   "cell_type": "code",
   "execution_count": 261,
   "metadata": {
    "id": "A6uQoL9sMa06"
   },
   "outputs": [
    {
     "name": "stdout",
     "output_type": "stream",
     "text": [
      "Pole trójkąta wynosi: 75.0\n",
      "Obwód trójkąta wynosi: 60\n",
      "Pole prostokąta wynosi: 200\n",
      "Obwód trójkąta wynosi: 60\n"
     ]
    }
   ],
   "source": [
    "# Opcja 1 ze zmiennymi w konstruktorach\n",
    "\n",
    "class figura():\n",
    "    \n",
    "    def __init__ (self):\n",
    "        pass\n",
    "        \n",
    "    def pole(self):\n",
    "        pass\n",
    "        \n",
    "    def obwod(self):\n",
    "        pass\n",
    "        \n",
    "class trojkat(figura):\n",
    "    \n",
    "    def __init__(self, bok1, bok2, bok3, wysokosc_bok1):\n",
    "        self.bok1 = bok1\n",
    "        self.bok2 = bok2\n",
    "        self.bok3 = bok3\n",
    "        self.wysokosc_bok1 = wysokosc_bok1\n",
    "\n",
    "    def pole(self):\n",
    "        print(\"Pole trójkąta wynosi: \" + str(0.5 * self.bok1 * self.wysokosc_bok1))\n",
    "        \n",
    "    def obwod(self):\n",
    "        print(\"Obwód trójkąta wynosi: \" + str(self.bok1+self.bok2+self.bok3))\n",
    "        \n",
    "class prostokat(figura):\n",
    "    \n",
    "    def __init__(self, bok1, bok2):\n",
    "        self.bok1 = bok1\n",
    "        self.bok2 = bok2\n",
    "\n",
    "    def pole(self):\n",
    "        print(\"Pole prostokąta wynosi: \" + str(self.bok1*self.bok2))\n",
    "        \n",
    "    def obwod(self):\n",
    "        print(\"Obwód trójkąta wynosi: \" + str(2*self.bok1+2*self.bok2))\n",
    "        \n",
    "trojkat_1 = trojkat(10, 20, 30, 15)\n",
    "trojkat_1.pole()\n",
    "trojkat_1.obwod()\n",
    "\n",
    "prostokat_1 = prostokat(10, 20)\n",
    "prostokat_1.pole()\n",
    "prostokat_1.obwod()"
   ]
  },
  {
   "cell_type": "code",
   "execution_count": 262,
   "metadata": {},
   "outputs": [
    {
     "name": "stdout",
     "output_type": "stream",
     "text": [
      "Pole trójkąta wynosi: 75.0\n",
      "Obwód trójkąta wynosi: 60\n",
      "Pole prostokąta wynosi: 200\n",
      "Obwód trójkąta wynosi: 60\n"
     ]
    }
   ],
   "source": [
    "# Opcja 2 ze zmiennymi w funkcjach\n",
    "\n",
    "class figura():\n",
    "    \n",
    "    def __init__ (self):\n",
    "        pass\n",
    "        \n",
    "    def pole(self):\n",
    "        pass\n",
    "        \n",
    "    def obwod(self):\n",
    "        pass\n",
    "        \n",
    "class trojkat(figura):\n",
    "    \n",
    "    def __init__(self, bok1):\n",
    "        self.bok1 = bok1\n",
    "\n",
    "    def pole(self, bok2, bok3, wysokosc_bok1):\n",
    "        self.bok2 = bok2\n",
    "        self.bok3 = bok3\n",
    "        self.wysokosc_bok1 = wysokosc_bok1\n",
    "        print(\"Pole trójkąta wynosi: \" + str(0.5 * self.bok1 * self.wysokosc_bok1))\n",
    "        \n",
    "    def obwod(self, bok2, bok3):\n",
    "        self.bok2 = bok2\n",
    "        self.bok3 = bok3\n",
    "        print(\"Obwód trójkąta wynosi: \" + str(self.bok1+self.bok2+self.bok3))\n",
    "        \n",
    "class prostokat(figura):\n",
    "    \n",
    "    def __init__(self, bok1, bok2):\n",
    "        self.bok1 = bok1\n",
    "        self.bok2 = bok2\n",
    "\n",
    "    def pole(self):\n",
    "        print(\"Pole prostokąta wynosi: \" + str(self.bok1*self.bok2))\n",
    "        \n",
    "    def obwod(self):\n",
    "        print(\"Obwód trójkąta wynosi: \" + str(2*self.bok1+2*self.bok2))\n",
    "        \n",
    "trojkat_1 = trojkat(10)\n",
    "trojkat_1.pole(20, 30, 15)\n",
    "trojkat_1.obwod(20, 30)\n",
    "\n",
    "prostokat_1 = prostokat(10, 20)\n",
    "prostokat_1.pole()\n",
    "prostokat_1.obwod()"
   ]
  },
  {
   "cell_type": "markdown",
   "metadata": {
    "id": "6tiQHY7BMa07"
   },
   "source": [
    "## Zadanie 5.\n",
    "\n",
    "Stwórz klasę reprezentujaca linię prosta, która przymuje w konstruktorze współrzędne obu końców w układzie współrzędnych XY.\n",
    "Klasa implementuje metodę obliczaja długosc linii."
   ]
  },
  {
   "cell_type": "code",
   "execution_count": 256,
   "metadata": {
    "id": "gTxt8VNfMa07"
   },
   "outputs": [
    {
     "name": "stdout",
     "output_type": "stream",
     "text": [
      "Długość odcinka wynosi: 4.47213595499958\n"
     ]
    }
   ],
   "source": [
    "import math\n",
    "\n",
    "class klasa_5():\n",
    "    \n",
    "    def __init__ (self, poczatek, koniec):\n",
    "        self.poczatek = poczatek\n",
    "        self.koniec = koniec\n",
    "        \n",
    "    def dlugosc_odcinka(self):\n",
    "        dlugosc = math.sqrt((self.koniec[0]-self.poczatek[0])**2+(self.koniec[1]-self.poczatek[1])**2)\n",
    "        print(\"Długość odcinka wynosi: \" + str(dlugosc))\n",
    "        \n",
    "linia_1 = klasa_5((-2,-1),(0,3))\n",
    "linia_1.dlugosc_odcinka()"
   ]
  },
  {
   "cell_type": "markdown",
   "metadata": {
    "id": "EdYnr8a_Ma07"
   },
   "source": [
    "## Zadanie 6.\n",
    "\n",
    "Stwórz klasę reprezentujaca wielokat, i przyjmujaca w konstruktorze listę kolejnych linii (obiekty klasy z poprzedniego zadania), reprezentujacych kolejne boki wielokata.\n",
    "Klasa powinna sprawdzic czy dane sa poprawne (czy każda linia kończy się tam gdzie zaczyna następna).\n",
    "Klasa wielokata implementuje również metodę obliczajaca obwód."
   ]
  },
  {
   "cell_type": "code",
   "execution_count": 347,
   "metadata": {
    "id": "GSIE2mYkMa07"
   },
   "outputs": [
    {
     "ename": "TypeError",
     "evalue": "'klasa_5' object is not subscriptable",
     "output_type": "error",
     "traceback": [
      "\u001b[0;31m---------------------------------------------------------------------------\u001b[0m",
      "\u001b[0;31mTypeError\u001b[0m                                 Traceback (most recent call last)",
      "\u001b[0;32m/var/folders/gf/t0gbh7m514j9kjx2g299ch6h0000gn/T/ipykernel_46552/498994568.py\u001b[0m in \u001b[0;36m<module>\u001b[0;34m\u001b[0m\n\u001b[1;32m     27\u001b[0m \u001b[0mwielokat_1\u001b[0m \u001b[0;34m=\u001b[0m \u001b[0mwielokat\u001b[0m\u001b[0;34m(\u001b[0m\u001b[0modcinki_1\u001b[0m\u001b[0;34m)\u001b[0m\u001b[0;34m\u001b[0m\u001b[0;34m\u001b[0m\u001b[0m\n\u001b[1;32m     28\u001b[0m \u001b[0;31m# wielokat_1.__getitem__(linia_1)\u001b[0m\u001b[0;34m\u001b[0m\u001b[0;34m\u001b[0m\u001b[0m\n\u001b[0;32m---> 29\u001b[0;31m \u001b[0mwielokat_1\u001b[0m\u001b[0;34m.\u001b[0m\u001b[0mczy_wielokat\u001b[0m\u001b[0;34m(\u001b[0m\u001b[0;34m)\u001b[0m\u001b[0;34m\u001b[0m\u001b[0;34m\u001b[0m\u001b[0m\n\u001b[0m\u001b[1;32m     30\u001b[0m \u001b[0mwielokat_1\u001b[0m\u001b[0;34m.\u001b[0m\u001b[0mobwod\u001b[0m\u001b[0;34m(\u001b[0m\u001b[0;34m)\u001b[0m\u001b[0;34m\u001b[0m\u001b[0;34m\u001b[0m\u001b[0m\n",
      "\u001b[0;32m/var/folders/gf/t0gbh7m514j9kjx2g299ch6h0000gn/T/ipykernel_46552/498994568.py\u001b[0m in \u001b[0;36mczy_wielokat\u001b[0;34m(self)\u001b[0m\n\u001b[1;32m     12\u001b[0m     \u001b[0;32mdef\u001b[0m \u001b[0mczy_wielokat\u001b[0m\u001b[0;34m(\u001b[0m\u001b[0mself\u001b[0m\u001b[0;34m)\u001b[0m\u001b[0;34m:\u001b[0m\u001b[0;34m\u001b[0m\u001b[0;34m\u001b[0m\u001b[0m\n\u001b[1;32m     13\u001b[0m         \u001b[0;32mfor\u001b[0m \u001b[0mself\u001b[0m\u001b[0;34m.\u001b[0m\u001b[0mi\u001b[0m \u001b[0;32min\u001b[0m \u001b[0mself\u001b[0m\u001b[0;34m.\u001b[0m\u001b[0mlista_odcinkow\u001b[0m\u001b[0;34m:\u001b[0m\u001b[0;34m\u001b[0m\u001b[0;34m\u001b[0m\u001b[0m\n\u001b[0;32m---> 14\u001b[0;31m             \u001b[0;32mif\u001b[0m \u001b[0;34m(\u001b[0m\u001b[0mself\u001b[0m\u001b[0;34m.\u001b[0m\u001b[0mi\u001b[0m\u001b[0;34m[\u001b[0m\u001b[0;36m0\u001b[0m\u001b[0;34m]\u001b[0m \u001b[0;34m==\u001b[0m \u001b[0;34m(\u001b[0m\u001b[0mself\u001b[0m\u001b[0;34m.\u001b[0m\u001b[0mi\u001b[0m\u001b[0;34m-\u001b[0m\u001b[0;36m1\u001b[0m\u001b[0;34m)\u001b[0m\u001b[0;34m[\u001b[0m\u001b[0;36m1\u001b[0m\u001b[0;34m]\u001b[0m\u001b[0;34m)\u001b[0m \u001b[0;34m&\u001b[0m \u001b[0;34m(\u001b[0m\u001b[0mself\u001b[0m\u001b[0;34m.\u001b[0m\u001b[0mi\u001b[0m\u001b[0;34m[\u001b[0m\u001b[0;36m1\u001b[0m\u001b[0;34m]\u001b[0m \u001b[0;34m==\u001b[0m \u001b[0;34m(\u001b[0m\u001b[0mself\u001b[0m\u001b[0;34m.\u001b[0m\u001b[0mi\u001b[0m\u001b[0;34m+\u001b[0m\u001b[0;36m1\u001b[0m\u001b[0;34m)\u001b[0m\u001b[0;34m[\u001b[0m\u001b[0;36m0\u001b[0m\u001b[0;34m]\u001b[0m\u001b[0;34m)\u001b[0m\u001b[0;34m:\u001b[0m\u001b[0;34m\u001b[0m\u001b[0;34m\u001b[0m\u001b[0m\n\u001b[0m\u001b[1;32m     15\u001b[0m                 \u001b[0;32mreturn\u001b[0m \u001b[0;32mTrue\u001b[0m\u001b[0;34m\u001b[0m\u001b[0;34m\u001b[0m\u001b[0m\n\u001b[1;32m     16\u001b[0m         \u001b[0;32mreturn\u001b[0m \u001b[0;32mFalse\u001b[0m\u001b[0;34m\u001b[0m\u001b[0;34m\u001b[0m\u001b[0m\n",
      "\u001b[0;31mTypeError\u001b[0m: 'klasa_5' object is not subscriptable"
     ]
    }
   ],
   "source": [
    "import math\n",
    "\n",
    "class wielokat():\n",
    "    \n",
    "    def __init__(self, lista_odcinkow):\n",
    "        self.lista_odcinkow = lista_odcinkow\n",
    "#        self._vet = []\n",
    "        \n",
    "#    def __getitem__(self, key):\n",
    "#        return self._vet[key]\n",
    "        \n",
    "    def czy_wielokat(self):\n",
    "        for self.i in self.lista_odcinkow:\n",
    "            if (self.i[0] == (self.i-1)[1]) & (self.i[1] == (self.i+1)[0]):\n",
    "                return True\n",
    "        return False\n",
    "        \n",
    "    def obwod(self):\n",
    "        for self.i in self.lista_odcinkow:\n",
    "            print(sum(math.sqrt((self.i[1][0]-self.i[0][0])^2+(self.i[1][1]-self.i[0][1])^2)))\n",
    "                \n",
    "linia_1 = klasa_5((-2,-1),(0,3))\n",
    "linia_2 = klasa_5((0,3),(1,5))\n",
    "linia_3 = klasa_5((1,5),(3,-2))\n",
    "linia_4 = klasa_5((3,-2),(-2,-1))\n",
    "odcinki_1 = [linia_1, linia_2, linia_3, linia_4]\n",
    "wielokat_1 = wielokat(odcinki_1)\n",
    "# wielokat_1.__getitem__(linia_1)\n",
    "wielokat_1.czy_wielokat()\n",
    "wielokat_1.obwod()"
   ]
  },
  {
   "cell_type": "markdown",
   "metadata": {
    "id": "Y-x-qNp6Ma07"
   },
   "source": [
    "## Zadanie 7.\n",
    "\n",
    "Stwórz abstrakcyjna klasę bazowa reperzentujaca zwierze.\n",
    "Konstruktor klasy będzie przyjmowac parametr reprezentujacy imię zwierzęcia.\n",
    "Klasa będzie miec 2 metody.\n",
    "Jedna metoda *daj_glos* będzie abstrakcyjna.\n",
    "Druga metoda *powitanie* będzie wyswietlac napis, składajacy się z wartosci zwracanej przez *daj_glos*, z wyswietlenia imienia zwierzęcia oraz z wyswietlenia jakiego typu (atrybut typ dla klasy) jest zwierze."
   ]
  },
  {
   "cell_type": "code",
   "execution_count": 286,
   "metadata": {
    "id": "Rkwkh-MXMa08"
   },
   "outputs": [
    {
     "ename": "TypeError",
     "evalue": "Can't instantiate abstract class zwierze_bazowa with abstract method __init__",
     "output_type": "error",
     "traceback": [
      "\u001b[0;31m---------------------------------------------------------------------------\u001b[0m",
      "\u001b[0;31mTypeError\u001b[0m                                 Traceback (most recent call last)",
      "\u001b[0;32m/var/folders/gf/t0gbh7m514j9kjx2g299ch6h0000gn/T/ipykernel_46552/2435849649.py\u001b[0m in \u001b[0;36m<module>\u001b[0;34m\u001b[0m\n\u001b[1;32m     13\u001b[0m             \u001b[0mprint\u001b[0m\u001b[0;34m(\u001b[0m\u001b[0mstr\u001b[0m\u001b[0;34m(\u001b[0m\u001b[0mdaj_glos\u001b[0m\u001b[0;34m)\u001b[0m \u001b[0;34m+\u001b[0m \u001b[0mself\u001b[0m\u001b[0;34m.\u001b[0m\u001b[0mimie\u001b[0m \u001b[0;34m+\u001b[0m \u001b[0mstr\u001b[0m\u001b[0;34m(\u001b[0m\u001b[0mtyp\u001b[0m\u001b[0;34m(\u001b[0m\u001b[0;34m)\u001b[0m\u001b[0;34m)\u001b[0m\u001b[0;34m)\u001b[0m\u001b[0;34m\u001b[0m\u001b[0;34m\u001b[0m\u001b[0m\n\u001b[1;32m     14\u001b[0m \u001b[0;34m\u001b[0m\u001b[0m\n\u001b[0;32m---> 15\u001b[0;31m \u001b[0mkot\u001b[0m \u001b[0;34m=\u001b[0m \u001b[0mzwierze_bazowa\u001b[0m\u001b[0;34m(\u001b[0m\u001b[0;34m)\u001b[0m\u001b[0;34m\u001b[0m\u001b[0;34m\u001b[0m\u001b[0m\n\u001b[0m",
      "\u001b[0;31mTypeError\u001b[0m: Can't instantiate abstract class zwierze_bazowa with abstract method __init__"
     ]
    }
   ],
   "source": [
    "from abc import ABC, abstractmethod\n",
    "\n",
    "class zwierze_bazowa(ABC):\n",
    "    @abstractmethod\n",
    "\n",
    "    def __init__(self, imie):\n",
    "        self.imie = imie\n",
    "        \n",
    "    def daj_glos(ABC):\n",
    "        @abstractmethod\n",
    "    \n",
    "        def powitanie(self, daj_glos):\n",
    "            print(str(daj_glos) + self.imie + str(typ()))\n",
    "\n",
    "kot = zwierze_bazowa()"
   ]
  },
  {
   "cell_type": "markdown",
   "metadata": {
    "id": "24mXMCkfMa08"
   },
   "source": [
    "## Zadanie 8.\n",
    "\n",
    "Stwórz klasy potomne dla klasy bazowej zwierzęcia, implementujace reprezentujace psa i kota.\n",
    "W konstruktorze każdej z nich ustaw odpowiednio zmienna reprezentujaca typ zwierzęcia.\n",
    "Zaimplementuj odpowiednio metodę *daj_głos* w każdej z klas potomnych.\n",
    "Sprawdź, czy obiekty stworzone z klas *Pies* i *Kot* potrafia poprawnie się przywitac."
   ]
  },
  {
   "cell_type": "code",
   "execution_count": null,
   "metadata": {
    "id": "RXAOXPgwMa08"
   },
   "outputs": [],
   "source": []
  }
 ],
 "metadata": {
  "colab": {
   "name": "Lekcja+10.+Python+-+wprowadzenie_ZMODYFIKOWANE.ipynb",
   "provenance": []
  },
  "kernelspec": {
   "display_name": "Python 3 (ipykernel)",
   "language": "python",
   "name": "python3"
  },
  "language_info": {
   "codemirror_mode": {
    "name": "ipython",
    "version": 3
   },
   "file_extension": ".py",
   "mimetype": "text/x-python",
   "name": "python",
   "nbconvert_exporter": "python",
   "pygments_lexer": "ipython3",
   "version": "3.9.7"
  }
 },
 "nbformat": 4,
 "nbformat_minor": 1
}
