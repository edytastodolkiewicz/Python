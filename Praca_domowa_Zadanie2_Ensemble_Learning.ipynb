{
 "cells": [
  {
   "cell_type": "markdown",
   "metadata": {},
   "source": [
    "# Zadanie Domowe"
   ]
  },
  {
   "cell_type": "markdown",
   "metadata": {},
   "source": [
    "2. Klasyfikacja grzybów (https://archive.ics.uci.edu/ml/datasets/Mushroom)\n",
    "Przy użyciu danych mushrooms.csv zbuduj następujące modele: AdaBoost, XGBoost, LightGBM oraz CatBoost. Porównaj ich wyniki. Spróbuj ulepszyć wyniki każdego z wariantów poprzed dostrojenie parametrów - skorzystaj z dokumentacji wymienionych metod. "
   ]
  },
  {
   "cell_type": "code",
   "execution_count": 198,
   "metadata": {},
   "outputs": [],
   "source": [
    "import pandas as pd\n",
    "import numpy as np\n",
    "import matplotlib.pyplot as plt\n",
    "%matplotlib inline"
   ]
  },
  {
   "cell_type": "code",
   "execution_count": 199,
   "metadata": {},
   "outputs": [],
   "source": [
    "df = pd.read_csv(\"mushrooms.csv\")"
   ]
  },
  {
   "cell_type": "code",
   "execution_count": 200,
   "metadata": {},
   "outputs": [
    {
     "data": {
      "text/plain": [
       "(8124, 23)"
      ]
     },
     "execution_count": 200,
     "metadata": {},
     "output_type": "execute_result"
    }
   ],
   "source": [
    "df.shape"
   ]
  },
  {
   "cell_type": "code",
   "execution_count": 201,
   "metadata": {},
   "outputs": [
    {
     "data": {
      "text/plain": [
       "class                       0\n",
       "cap-shape                   0\n",
       "cap-surface                 0\n",
       "cap-color                   0\n",
       "bruises                     0\n",
       "odor                        0\n",
       "gill-attachment             0\n",
       "gill-spacing                0\n",
       "gill-size                   0\n",
       "gill-color                  0\n",
       "stalk-shape                 0\n",
       "stalk-root                  0\n",
       "stalk-surface-above-ring    0\n",
       "stalk-surface-below-ring    0\n",
       "stalk-color-above-ring      0\n",
       "stalk-color-below-ring      0\n",
       "veil-type                   0\n",
       "veil-color                  0\n",
       "ring-number                 0\n",
       "ring-type                   0\n",
       "spore-print-color           0\n",
       "population                  0\n",
       "habitat                     0\n",
       "dtype: int64"
      ]
     },
     "execution_count": 201,
     "metadata": {},
     "output_type": "execute_result"
    }
   ],
   "source": [
    "df.isna().sum()"
   ]
  },
  {
   "cell_type": "code",
   "execution_count": 202,
   "metadata": {},
   "outputs": [
    {
     "name": "stdout",
     "output_type": "stream",
     "text": [
      "<class 'pandas.core.frame.DataFrame'>\n",
      "RangeIndex: 8124 entries, 0 to 8123\n",
      "Data columns (total 23 columns):\n",
      " #   Column                    Non-Null Count  Dtype \n",
      "---  ------                    --------------  ----- \n",
      " 0   class                     8124 non-null   object\n",
      " 1   cap-shape                 8124 non-null   object\n",
      " 2   cap-surface               8124 non-null   object\n",
      " 3   cap-color                 8124 non-null   object\n",
      " 4   bruises                   8124 non-null   object\n",
      " 5   odor                      8124 non-null   object\n",
      " 6   gill-attachment           8124 non-null   object\n",
      " 7   gill-spacing              8124 non-null   object\n",
      " 8   gill-size                 8124 non-null   object\n",
      " 9   gill-color                8124 non-null   object\n",
      " 10  stalk-shape               8124 non-null   object\n",
      " 11  stalk-root                8124 non-null   object\n",
      " 12  stalk-surface-above-ring  8124 non-null   object\n",
      " 13  stalk-surface-below-ring  8124 non-null   object\n",
      " 14  stalk-color-above-ring    8124 non-null   object\n",
      " 15  stalk-color-below-ring    8124 non-null   object\n",
      " 16  veil-type                 8124 non-null   object\n",
      " 17  veil-color                8124 non-null   object\n",
      " 18  ring-number               8124 non-null   object\n",
      " 19  ring-type                 8124 non-null   object\n",
      " 20  spore-print-color         8124 non-null   object\n",
      " 21  population                8124 non-null   object\n",
      " 22  habitat                   8124 non-null   object\n",
      "dtypes: object(23)\n",
      "memory usage: 1.4+ MB\n"
     ]
    }
   ],
   "source": [
    "df.info()"
   ]
  },
  {
   "cell_type": "code",
   "execution_count": 203,
   "metadata": {},
   "outputs": [
    {
     "data": {
      "text/html": [
       "<div>\n",
       "<style scoped>\n",
       "    .dataframe tbody tr th:only-of-type {\n",
       "        vertical-align: middle;\n",
       "    }\n",
       "\n",
       "    .dataframe tbody tr th {\n",
       "        vertical-align: top;\n",
       "    }\n",
       "\n",
       "    .dataframe thead th {\n",
       "        text-align: right;\n",
       "    }\n",
       "</style>\n",
       "<table border=\"1\" class=\"dataframe\">\n",
       "  <thead>\n",
       "    <tr style=\"text-align: right;\">\n",
       "      <th></th>\n",
       "      <th>class</th>\n",
       "      <th>cap-shape</th>\n",
       "      <th>cap-surface</th>\n",
       "      <th>cap-color</th>\n",
       "      <th>bruises</th>\n",
       "      <th>odor</th>\n",
       "      <th>gill-attachment</th>\n",
       "      <th>gill-spacing</th>\n",
       "      <th>gill-size</th>\n",
       "      <th>gill-color</th>\n",
       "      <th>...</th>\n",
       "      <th>stalk-surface-below-ring</th>\n",
       "      <th>stalk-color-above-ring</th>\n",
       "      <th>stalk-color-below-ring</th>\n",
       "      <th>veil-type</th>\n",
       "      <th>veil-color</th>\n",
       "      <th>ring-number</th>\n",
       "      <th>ring-type</th>\n",
       "      <th>spore-print-color</th>\n",
       "      <th>population</th>\n",
       "      <th>habitat</th>\n",
       "    </tr>\n",
       "  </thead>\n",
       "  <tbody>\n",
       "    <tr>\n",
       "      <th>0</th>\n",
       "      <td>p</td>\n",
       "      <td>x</td>\n",
       "      <td>s</td>\n",
       "      <td>n</td>\n",
       "      <td>t</td>\n",
       "      <td>p</td>\n",
       "      <td>f</td>\n",
       "      <td>c</td>\n",
       "      <td>n</td>\n",
       "      <td>k</td>\n",
       "      <td>...</td>\n",
       "      <td>s</td>\n",
       "      <td>w</td>\n",
       "      <td>w</td>\n",
       "      <td>p</td>\n",
       "      <td>w</td>\n",
       "      <td>o</td>\n",
       "      <td>p</td>\n",
       "      <td>k</td>\n",
       "      <td>s</td>\n",
       "      <td>u</td>\n",
       "    </tr>\n",
       "    <tr>\n",
       "      <th>1</th>\n",
       "      <td>e</td>\n",
       "      <td>x</td>\n",
       "      <td>s</td>\n",
       "      <td>y</td>\n",
       "      <td>t</td>\n",
       "      <td>a</td>\n",
       "      <td>f</td>\n",
       "      <td>c</td>\n",
       "      <td>b</td>\n",
       "      <td>k</td>\n",
       "      <td>...</td>\n",
       "      <td>s</td>\n",
       "      <td>w</td>\n",
       "      <td>w</td>\n",
       "      <td>p</td>\n",
       "      <td>w</td>\n",
       "      <td>o</td>\n",
       "      <td>p</td>\n",
       "      <td>n</td>\n",
       "      <td>n</td>\n",
       "      <td>g</td>\n",
       "    </tr>\n",
       "    <tr>\n",
       "      <th>2</th>\n",
       "      <td>e</td>\n",
       "      <td>b</td>\n",
       "      <td>s</td>\n",
       "      <td>w</td>\n",
       "      <td>t</td>\n",
       "      <td>l</td>\n",
       "      <td>f</td>\n",
       "      <td>c</td>\n",
       "      <td>b</td>\n",
       "      <td>n</td>\n",
       "      <td>...</td>\n",
       "      <td>s</td>\n",
       "      <td>w</td>\n",
       "      <td>w</td>\n",
       "      <td>p</td>\n",
       "      <td>w</td>\n",
       "      <td>o</td>\n",
       "      <td>p</td>\n",
       "      <td>n</td>\n",
       "      <td>n</td>\n",
       "      <td>m</td>\n",
       "    </tr>\n",
       "    <tr>\n",
       "      <th>3</th>\n",
       "      <td>p</td>\n",
       "      <td>x</td>\n",
       "      <td>y</td>\n",
       "      <td>w</td>\n",
       "      <td>t</td>\n",
       "      <td>p</td>\n",
       "      <td>f</td>\n",
       "      <td>c</td>\n",
       "      <td>n</td>\n",
       "      <td>n</td>\n",
       "      <td>...</td>\n",
       "      <td>s</td>\n",
       "      <td>w</td>\n",
       "      <td>w</td>\n",
       "      <td>p</td>\n",
       "      <td>w</td>\n",
       "      <td>o</td>\n",
       "      <td>p</td>\n",
       "      <td>k</td>\n",
       "      <td>s</td>\n",
       "      <td>u</td>\n",
       "    </tr>\n",
       "    <tr>\n",
       "      <th>4</th>\n",
       "      <td>e</td>\n",
       "      <td>x</td>\n",
       "      <td>s</td>\n",
       "      <td>g</td>\n",
       "      <td>f</td>\n",
       "      <td>n</td>\n",
       "      <td>f</td>\n",
       "      <td>w</td>\n",
       "      <td>b</td>\n",
       "      <td>k</td>\n",
       "      <td>...</td>\n",
       "      <td>s</td>\n",
       "      <td>w</td>\n",
       "      <td>w</td>\n",
       "      <td>p</td>\n",
       "      <td>w</td>\n",
       "      <td>o</td>\n",
       "      <td>e</td>\n",
       "      <td>n</td>\n",
       "      <td>a</td>\n",
       "      <td>g</td>\n",
       "    </tr>\n",
       "  </tbody>\n",
       "</table>\n",
       "<p>5 rows × 23 columns</p>\n",
       "</div>"
      ],
      "text/plain": [
       "  class cap-shape cap-surface cap-color bruises odor gill-attachment  \\\n",
       "0     p         x           s         n       t    p               f   \n",
       "1     e         x           s         y       t    a               f   \n",
       "2     e         b           s         w       t    l               f   \n",
       "3     p         x           y         w       t    p               f   \n",
       "4     e         x           s         g       f    n               f   \n",
       "\n",
       "  gill-spacing gill-size gill-color  ... stalk-surface-below-ring  \\\n",
       "0            c         n          k  ...                        s   \n",
       "1            c         b          k  ...                        s   \n",
       "2            c         b          n  ...                        s   \n",
       "3            c         n          n  ...                        s   \n",
       "4            w         b          k  ...                        s   \n",
       "\n",
       "  stalk-color-above-ring stalk-color-below-ring veil-type veil-color  \\\n",
       "0                      w                      w         p          w   \n",
       "1                      w                      w         p          w   \n",
       "2                      w                      w         p          w   \n",
       "3                      w                      w         p          w   \n",
       "4                      w                      w         p          w   \n",
       "\n",
       "  ring-number ring-type spore-print-color population habitat  \n",
       "0           o         p                 k          s       u  \n",
       "1           o         p                 n          n       g  \n",
       "2           o         p                 n          n       m  \n",
       "3           o         p                 k          s       u  \n",
       "4           o         e                 n          a       g  \n",
       "\n",
       "[5 rows x 23 columns]"
      ]
     },
     "execution_count": 203,
     "metadata": {},
     "output_type": "execute_result"
    }
   ],
   "source": [
    "df.head()"
   ]
  },
  {
   "cell_type": "code",
   "execution_count": 204,
   "metadata": {},
   "outputs": [
    {
     "data": {
      "text/html": [
       "<div>\n",
       "<style scoped>\n",
       "    .dataframe tbody tr th:only-of-type {\n",
       "        vertical-align: middle;\n",
       "    }\n",
       "\n",
       "    .dataframe tbody tr th {\n",
       "        vertical-align: top;\n",
       "    }\n",
       "\n",
       "    .dataframe thead th {\n",
       "        text-align: right;\n",
       "    }\n",
       "</style>\n",
       "<table border=\"1\" class=\"dataframe\">\n",
       "  <thead>\n",
       "    <tr style=\"text-align: right;\">\n",
       "      <th></th>\n",
       "      <th>class</th>\n",
       "      <th>cap-shape</th>\n",
       "      <th>cap-surface</th>\n",
       "      <th>cap-color</th>\n",
       "      <th>bruises</th>\n",
       "      <th>odor</th>\n",
       "      <th>gill-attachment</th>\n",
       "      <th>gill-spacing</th>\n",
       "      <th>gill-size</th>\n",
       "      <th>gill-color</th>\n",
       "      <th>...</th>\n",
       "      <th>stalk-surface-below-ring</th>\n",
       "      <th>stalk-color-above-ring</th>\n",
       "      <th>stalk-color-below-ring</th>\n",
       "      <th>veil-type</th>\n",
       "      <th>veil-color</th>\n",
       "      <th>ring-number</th>\n",
       "      <th>ring-type</th>\n",
       "      <th>spore-print-color</th>\n",
       "      <th>population</th>\n",
       "      <th>habitat</th>\n",
       "    </tr>\n",
       "  </thead>\n",
       "  <tbody>\n",
       "    <tr>\n",
       "      <th>count</th>\n",
       "      <td>8124</td>\n",
       "      <td>8124</td>\n",
       "      <td>8124</td>\n",
       "      <td>8124</td>\n",
       "      <td>8124</td>\n",
       "      <td>8124</td>\n",
       "      <td>8124</td>\n",
       "      <td>8124</td>\n",
       "      <td>8124</td>\n",
       "      <td>8124</td>\n",
       "      <td>...</td>\n",
       "      <td>8124</td>\n",
       "      <td>8124</td>\n",
       "      <td>8124</td>\n",
       "      <td>8124</td>\n",
       "      <td>8124</td>\n",
       "      <td>8124</td>\n",
       "      <td>8124</td>\n",
       "      <td>8124</td>\n",
       "      <td>8124</td>\n",
       "      <td>8124</td>\n",
       "    </tr>\n",
       "    <tr>\n",
       "      <th>unique</th>\n",
       "      <td>2</td>\n",
       "      <td>6</td>\n",
       "      <td>4</td>\n",
       "      <td>10</td>\n",
       "      <td>2</td>\n",
       "      <td>9</td>\n",
       "      <td>2</td>\n",
       "      <td>2</td>\n",
       "      <td>2</td>\n",
       "      <td>12</td>\n",
       "      <td>...</td>\n",
       "      <td>4</td>\n",
       "      <td>9</td>\n",
       "      <td>9</td>\n",
       "      <td>1</td>\n",
       "      <td>4</td>\n",
       "      <td>3</td>\n",
       "      <td>5</td>\n",
       "      <td>9</td>\n",
       "      <td>6</td>\n",
       "      <td>7</td>\n",
       "    </tr>\n",
       "    <tr>\n",
       "      <th>top</th>\n",
       "      <td>e</td>\n",
       "      <td>x</td>\n",
       "      <td>y</td>\n",
       "      <td>n</td>\n",
       "      <td>f</td>\n",
       "      <td>n</td>\n",
       "      <td>f</td>\n",
       "      <td>c</td>\n",
       "      <td>b</td>\n",
       "      <td>b</td>\n",
       "      <td>...</td>\n",
       "      <td>s</td>\n",
       "      <td>w</td>\n",
       "      <td>w</td>\n",
       "      <td>p</td>\n",
       "      <td>w</td>\n",
       "      <td>o</td>\n",
       "      <td>p</td>\n",
       "      <td>w</td>\n",
       "      <td>v</td>\n",
       "      <td>d</td>\n",
       "    </tr>\n",
       "    <tr>\n",
       "      <th>freq</th>\n",
       "      <td>4208</td>\n",
       "      <td>3656</td>\n",
       "      <td>3244</td>\n",
       "      <td>2284</td>\n",
       "      <td>4748</td>\n",
       "      <td>3528</td>\n",
       "      <td>7914</td>\n",
       "      <td>6812</td>\n",
       "      <td>5612</td>\n",
       "      <td>1728</td>\n",
       "      <td>...</td>\n",
       "      <td>4936</td>\n",
       "      <td>4464</td>\n",
       "      <td>4384</td>\n",
       "      <td>8124</td>\n",
       "      <td>7924</td>\n",
       "      <td>7488</td>\n",
       "      <td>3968</td>\n",
       "      <td>2388</td>\n",
       "      <td>4040</td>\n",
       "      <td>3148</td>\n",
       "    </tr>\n",
       "  </tbody>\n",
       "</table>\n",
       "<p>4 rows × 23 columns</p>\n",
       "</div>"
      ],
      "text/plain": [
       "       class cap-shape cap-surface cap-color bruises  odor gill-attachment  \\\n",
       "count   8124      8124        8124      8124    8124  8124            8124   \n",
       "unique     2         6           4        10       2     9               2   \n",
       "top        e         x           y         n       f     n               f   \n",
       "freq    4208      3656        3244      2284    4748  3528            7914   \n",
       "\n",
       "       gill-spacing gill-size gill-color  ... stalk-surface-below-ring  \\\n",
       "count          8124      8124       8124  ...                     8124   \n",
       "unique            2         2         12  ...                        4   \n",
       "top               c         b          b  ...                        s   \n",
       "freq           6812      5612       1728  ...                     4936   \n",
       "\n",
       "       stalk-color-above-ring stalk-color-below-ring veil-type veil-color  \\\n",
       "count                    8124                   8124      8124       8124   \n",
       "unique                      9                      9         1          4   \n",
       "top                         w                      w         p          w   \n",
       "freq                     4464                   4384      8124       7924   \n",
       "\n",
       "       ring-number ring-type spore-print-color population habitat  \n",
       "count         8124      8124              8124       8124    8124  \n",
       "unique           3         5                 9          6       7  \n",
       "top              o         p                 w          v       d  \n",
       "freq          7488      3968              2388       4040    3148  \n",
       "\n",
       "[4 rows x 23 columns]"
      ]
     },
     "execution_count": 204,
     "metadata": {},
     "output_type": "execute_result"
    }
   ],
   "source": [
    "df.describe()"
   ]
  },
  {
   "cell_type": "code",
   "execution_count": 205,
   "metadata": {},
   "outputs": [],
   "source": [
    "features = df.drop(\"class\", axis = 1)\n",
    "features_dummies = pd.get_dummies(df.drop(\"class\", axis = 1))\n",
    "target = df[\"class\"]"
   ]
  },
  {
   "cell_type": "code",
   "execution_count": null,
   "metadata": {},
   "outputs": [],
   "source": []
  },
  {
   "cell_type": "code",
   "execution_count": 206,
   "metadata": {},
   "outputs": [
    {
     "data": {
      "text/plain": [
       "Index(['cap-shape_b', 'cap-shape_c', 'cap-shape_f', 'cap-shape_k',\n",
       "       'cap-shape_s', 'cap-shape_x', 'cap-surface_f', 'cap-surface_g',\n",
       "       'cap-surface_s', 'cap-surface_y',\n",
       "       ...\n",
       "       'population_s', 'population_v', 'population_y', 'habitat_d',\n",
       "       'habitat_g', 'habitat_l', 'habitat_m', 'habitat_p', 'habitat_u',\n",
       "       'habitat_w'],\n",
       "      dtype='object', length=117)"
      ]
     },
     "execution_count": 206,
     "metadata": {},
     "output_type": "execute_result"
    }
   ],
   "source": [
    "features_dummies.columns"
   ]
  },
  {
   "cell_type": "code",
   "execution_count": 207,
   "metadata": {},
   "outputs": [],
   "source": [
    "target = target.replace(('e', 'p'), (1, 0))"
   ]
  },
  {
   "cell_type": "code",
   "execution_count": 208,
   "metadata": {},
   "outputs": [
    {
     "data": {
      "text/plain": [
       "0       0\n",
       "1       1\n",
       "2       1\n",
       "3       0\n",
       "4       1\n",
       "       ..\n",
       "8119    1\n",
       "8120    1\n",
       "8121    1\n",
       "8122    0\n",
       "8123    1\n",
       "Name: class, Length: 8124, dtype: int64"
      ]
     },
     "execution_count": 208,
     "metadata": {},
     "output_type": "execute_result"
    }
   ],
   "source": [
    "target"
   ]
  },
  {
   "cell_type": "code",
   "execution_count": 209,
   "metadata": {},
   "outputs": [],
   "source": [
    "from sklearn.model_selection import train_test_split\n",
    "X_train, X_test, y_train, y_test = train_test_split(features_dummies, target, test_size = 0.8, random_state = 1, stratify = target)"
   ]
  },
  {
   "cell_type": "code",
   "execution_count": 210,
   "metadata": {},
   "outputs": [],
   "source": [
    "from sklearn import metrics\n",
    "from sklearn.metrics import classification_report"
   ]
  },
  {
   "cell_type": "code",
   "execution_count": 211,
   "metadata": {},
   "outputs": [],
   "source": [
    "def evaluate(prediction, y_test): \n",
    "    result = classification_report(y_test, prediction, output_dict = True)\n",
    "    f1 = result['1']['f1-score']\n",
    "    accuracy = result['accuracy']\n",
    "    performance_data= {'f1-score':round(f1, 4),\n",
    "                      'accuracy':round(accuracy, 4)}\n",
    "    return performance_data"
   ]
  },
  {
   "cell_type": "markdown",
   "metadata": {},
   "source": [
    "## Logistic Regression"
   ]
  },
  {
   "cell_type": "code",
   "execution_count": 162,
   "metadata": {},
   "outputs": [
    {
     "data": {
      "text/plain": [
       "{'f1-score': 0.9991, 'accuracy': 0.9991}"
      ]
     },
     "execution_count": 162,
     "metadata": {},
     "output_type": "execute_result"
    }
   ],
   "source": [
    "from sklearn.linear_model import LogisticRegression\n",
    "lr = LogisticRegression(random_state = 1)\n",
    "lr.fit(X_train, y_train)\n",
    "lr_pred = lr.predict(X_test)\n",
    "lr_pr = evaluate(lr_pred, y_test)\n",
    "lr_pr"
   ]
  },
  {
   "cell_type": "code",
   "execution_count": 163,
   "metadata": {},
   "outputs": [],
   "source": [
    "from sklearn.model_selection import KFold\n",
    "kf = KFold(n_splits = 5, shuffle = True, random_state = 1)"
   ]
  },
  {
   "cell_type": "code",
   "execution_count": 164,
   "metadata": {},
   "outputs": [
    {
     "name": "stdout",
     "output_type": "stream",
     "text": [
      "{'C': 100}\n"
     ]
    },
    {
     "data": {
      "text/plain": [
       "{'f1-score': 1.0, 'accuracy': 1.0}"
      ]
     },
     "execution_count": 164,
     "metadata": {},
     "output_type": "execute_result"
    }
   ],
   "source": [
    "# l2 regularization + CV\n",
    "from sklearn.model_selection import GridSearchCV\n",
    "lr2 = LogisticRegression(random_state = 1)\n",
    "lr2_cv = GridSearchCV(lr2, {'C':[0.001, 0.01, 0.1, 1, 10, 100, 1000]}, cv = kf)\n",
    "lr2_cv.fit(X_train, y_train)\n",
    "print(lr2_cv.best_params_)\n",
    "lr2_cv_pred = lr2_cv.predict(X_test)\n",
    "lr2_cv_pr = evaluate(lr2_cv_pred, y_test)\n",
    "lr2_cv_pr"
   ]
  },
  {
   "cell_type": "code",
   "execution_count": 165,
   "metadata": {},
   "outputs": [
    {
     "name": "stdout",
     "output_type": "stream",
     "text": [
      "{'C': 100}\n"
     ]
    },
    {
     "data": {
      "text/plain": [
       "{'f1-score': 1.0, 'accuracy': 1.0}"
      ]
     },
     "execution_count": 165,
     "metadata": {},
     "output_type": "execute_result"
    }
   ],
   "source": [
    "# l1 regularization + CV\n",
    "lr3 = LogisticRegression(solver = 'liblinear', penalty = 'l1', random_state = 1)\n",
    "lr3_cv = GridSearchCV(lr3, {'C':[0.001, 0.01, 0.1, 1, 10, 100, 1000]}, cv = kf)\n",
    "lr3_cv.fit(X_train, y_train)\n",
    "print(lr3_cv.best_params_)\n",
    "lr3_cv_pred = lr3_cv.predict(X_test)\n",
    "lr3_cv_pr = evaluate(lr3_cv_pred, y_test)\n",
    "lr3_cv_pr"
   ]
  },
  {
   "cell_type": "markdown",
   "metadata": {},
   "source": [
    "## Decision Tree"
   ]
  },
  {
   "cell_type": "code",
   "execution_count": 141,
   "metadata": {},
   "outputs": [
    {
     "data": {
      "text/plain": [
       "{'f1-score': 0.9996, 'accuracy': 0.9995}"
      ]
     },
     "execution_count": 141,
     "metadata": {},
     "output_type": "execute_result"
    }
   ],
   "source": [
    "from sklearn.tree import DecisionTreeClassifier\n",
    "dtree = DecisionTreeClassifier(random_state = 1)\n",
    "dtree.fit(X_train, y_train)\n",
    "dtree_pred = dtree.predict(X_test)\n",
    "dtree_pr = evaluate(dtree_pred, y_test)\n",
    "dtree_pr"
   ]
  },
  {
   "cell_type": "code",
   "execution_count": 142,
   "metadata": {},
   "outputs": [
    {
     "data": {
      "text/plain": [
       "{'f1-score': 1.0, 'accuracy': 1.0}"
      ]
     },
     "execution_count": 142,
     "metadata": {},
     "output_type": "execute_result"
    }
   ],
   "source": [
    "# Decision Tree + RandomizedSearchCV\n",
    "from sklearn.model_selection import RandomizedSearchCV\n",
    "param_rand = {'max_features' : ['auto', 'sqrt'],\n",
    "              'min_samples_leaf': [1, 2, 4],\n",
    "              'min_samples_split': [2, 5, 10],\n",
    "              'max_depth' : np.arange(10, 100, 10)}\n",
    "dt_random = RandomizedSearchCV(estimator = DecisionTreeClassifier(random_state = 1), param_distributions = param_rand, n_iter = 100,\n",
    "                               cv = kf, random_state = 1, n_jobs = -1)\n",
    "dt_random.fit(X_train, y_train)\n",
    "dt_random_pred = dt_random.predict(X_test)\n",
    "dt_random_pr = evaluate(dt_random_pred, y_test)\n",
    "dt_random_pr"
   ]
  },
  {
   "cell_type": "code",
   "execution_count": 143,
   "metadata": {},
   "outputs": [
    {
     "data": {
      "text/plain": [
       "{'max_depth': 20,\n",
       " 'max_features': 'auto',\n",
       " 'min_samples_leaf': 1,\n",
       " 'min_samples_split': 2}"
      ]
     },
     "execution_count": 143,
     "metadata": {},
     "output_type": "execute_result"
    }
   ],
   "source": [
    "dt_cv.best_params_"
   ]
  },
  {
   "cell_type": "code",
   "execution_count": 144,
   "metadata": {},
   "outputs": [
    {
     "data": {
      "text/plain": [
       "{'f1-score': 1.0, 'accuracy': 1.0}"
      ]
     },
     "execution_count": 144,
     "metadata": {},
     "output_type": "execute_result"
    }
   ],
   "source": [
    "# Decision Tree + GridSearchCV\n",
    "param_grid = {'max_features' : ['auto', 'sqrt'],\n",
    "              'min_samples_leaf': [1, 2, 4],\n",
    "              'min_samples_split': [2, 5, 10],\n",
    "              'max_depth' : np.arange(10, 100, 10)}\n",
    "dt_cv = GridSearchCV(estimator = DecisionTreeClassifier(random_state=1), param_grid = param_grid, cv = kf, n_jobs = -1)\n",
    "dt_cv.fit(X_train, y_train)\n",
    "dt_cv_pred = dt_cv.predict(X_test)\n",
    "dt_cv_pr = evaluate(dt_cv_pred, y_test)\n",
    "dt_cv_pr"
   ]
  },
  {
   "cell_type": "code",
   "execution_count": 145,
   "metadata": {},
   "outputs": [
    {
     "data": {
      "text/plain": [
       "{'min_samples_split': 2,\n",
       " 'min_samples_leaf': 1,\n",
       " 'max_features': 'sqrt',\n",
       " 'max_depth': 60}"
      ]
     },
     "execution_count": 145,
     "metadata": {},
     "output_type": "execute_result"
    }
   ],
   "source": [
    "dt_random.best_params_"
   ]
  },
  {
   "cell_type": "code",
   "execution_count": 146,
   "metadata": {},
   "outputs": [
    {
     "data": {
      "text/plain": [
       "{'f1-score': 0.9996, 'accuracy': 0.9995}"
      ]
     },
     "execution_count": 146,
     "metadata": {},
     "output_type": "execute_result"
    }
   ],
   "source": [
    "# Decision Tree + BC\n",
    "from sklearn.ensemble import BaggingClassifier\n",
    "dtree_bc = BaggingClassifier(DecisionTreeClassifier(random_state = 1), random_state = 1)\n",
    "dtree_bc.fit(X_train, y_train)\n",
    "dtree_bc_pred = dtree_bc.predict(X_test)\n",
    "dtree_bc_pr = evaluate(dtree_bc_pred, y_test)\n",
    "dtree_bc_pr"
   ]
  },
  {
   "cell_type": "markdown",
   "metadata": {},
   "source": [
    "## Random Forest"
   ]
  },
  {
   "cell_type": "code",
   "execution_count": 147,
   "metadata": {},
   "outputs": [
    {
     "data": {
      "text/plain": [
       "{'f1-score': 1.0, 'accuracy': 1.0}"
      ]
     },
     "execution_count": 147,
     "metadata": {},
     "output_type": "execute_result"
    }
   ],
   "source": [
    "from sklearn.ensemble import RandomForestClassifier\n",
    "rf = RandomForestClassifier(n_estimators = 100, random_state = 1)\n",
    "rf.fit(X_train, y_train)\n",
    "rf_pred = rf.predict(X_test)\n",
    "rf_pr = evaluate(rf_pred, y_test)\n",
    "rf_pr"
   ]
  },
  {
   "cell_type": "code",
   "execution_count": 148,
   "metadata": {},
   "outputs": [
    {
     "data": {
      "text/plain": [
       "{'f1-score': 1.0, 'accuracy': 1.0}"
      ]
     },
     "execution_count": 148,
     "metadata": {},
     "output_type": "execute_result"
    }
   ],
   "source": [
    "# Random Forest + RandomizedSearchCV\n",
    "param_rand = {'n_estimators': np.arange(100,800,100),\n",
    "              'max_features' : ['auto', 'sqrt'],\n",
    "              'min_samples_leaf': [1,2,4],\n",
    "              'min_samples_split': [2, 5, 10],\n",
    "              'max_depth' : np.arange(10,100,10)}\n",
    "rf_random = RandomizedSearchCV(estimator = RandomForestClassifier(random_state = 1), param_distributions = param_rand, n_iter = 100,\n",
    "                               cv = kf, random_state = 1, n_jobs = -1)\n",
    "rf_random.fit(X_train, y_train)\n",
    "rf_random_pred = rf_random.predict(X_test)\n",
    "rf_random_pr = evaluate(rf_random_pred, y_test)\n",
    "rf_random_pr"
   ]
  },
  {
   "cell_type": "code",
   "execution_count": 149,
   "metadata": {},
   "outputs": [
    {
     "data": {
      "text/plain": [
       "{'n_estimators': 100,\n",
       " 'min_samples_split': 5,\n",
       " 'min_samples_leaf': 1,\n",
       " 'max_features': 'auto',\n",
       " 'max_depth': 40}"
      ]
     },
     "execution_count": 149,
     "metadata": {},
     "output_type": "execute_result"
    }
   ],
   "source": [
    "rf_random.best_params_"
   ]
  },
  {
   "cell_type": "code",
   "execution_count": 150,
   "metadata": {},
   "outputs": [],
   "source": [
    "# Random Forest + GridSearchCV - zajmuje duuużo czasu\n",
    "# param_grid = {'n_estimators': np.arange(100,800,100),\n",
    "#              'max_features' : ['auto', 'sqrt'],\n",
    "#              'min_samples_leaf': [1,2,4],\n",
    "#              'min_samples_split': [2, 5, 10],\n",
    "#              'max_depth' : np.arange(10,100,10)}\n",
    "# rf_cv = GridSearchCV(estimator = RandomForestClassifier(random_state = 1), param_grid = param_grid,\n",
    "#                               cv = kf, n_jobs = -1)\n",
    "# rf_cv.fit(X_train, y_train)\n",
    "# rf_cv_pred = rf_cv.predict(X_test)\n",
    "# rf_cv_pr = evaluate(rf_cv_pred, y_test)\n",
    "# rf_cv_pr"
   ]
  },
  {
   "cell_type": "code",
   "execution_count": 151,
   "metadata": {},
   "outputs": [],
   "source": [
    "# rf_cv.best_params_"
   ]
  },
  {
   "cell_type": "markdown",
   "metadata": {},
   "source": [
    "## SVM"
   ]
  },
  {
   "cell_type": "code",
   "execution_count": 152,
   "metadata": {},
   "outputs": [
    {
     "data": {
      "text/plain": [
       "{'f1-score': 0.9991, 'accuracy': 0.9991}"
      ]
     },
     "execution_count": 152,
     "metadata": {},
     "output_type": "execute_result"
    }
   ],
   "source": [
    "from sklearn.svm import SVC\n",
    "svc = SVC(random_state = 1)\n",
    "svc.fit(X_train, y_train)\n",
    "svc_pred = svc.predict(X_test)\n",
    "svc_pr = evaluate(svc_pred, y_test)\n",
    "svc_pr"
   ]
  },
  {
   "cell_type": "code",
   "execution_count": 153,
   "metadata": {},
   "outputs": [
    {
     "name": "stdout",
     "output_type": "stream",
     "text": [
      "{'C': 1, 'gamma': 0.1}\n"
     ]
    },
    {
     "data": {
      "text/plain": [
       "{'f1-score': 1.0, 'accuracy': 1.0}"
      ]
     },
     "execution_count": 153,
     "metadata": {},
     "output_type": "execute_result"
    }
   ],
   "source": [
    "# 'rbf' + CV\n",
    "param_grid = {'gamma': [0.00001, 0.0001, 0.001, 0.01, 0.1, 1], 'C':[0.001, 0.01, 0.1, 1, 10, 100, 1000]}\n",
    "svc2 = SVC(random_state = 1)\n",
    "svc2_cv = GridSearchCV(svc2, param_grid)\n",
    "svc2_cv.fit(X_train, y_train)\n",
    "print(svc2_cv.best_params_)\n",
    "svc2_cv_pred = svc2_cv.predict(X_test)\n",
    "svc2_cv_pr = evaluate(svc2_cv_pred, y_test)\n",
    "svc2_cv_pr"
   ]
  },
  {
   "cell_type": "code",
   "execution_count": 154,
   "metadata": {},
   "outputs": [
    {
     "name": "stdout",
     "output_type": "stream",
     "text": [
      "{'C': 1}\n"
     ]
    },
    {
     "data": {
      "text/plain": [
       "{'f1-score': 1.0, 'accuracy': 1.0}"
      ]
     },
     "execution_count": 154,
     "metadata": {},
     "output_type": "execute_result"
    }
   ],
   "source": [
    "# 'linear' + CV\n",
    "svc3 = SVC(kernel = 'linear', random_state = 1)\n",
    "svc3_cv = GridSearchCV(svc3, {'C' : [0.001, 0.01, 0.1, 1, 10, 100, 1000]})\n",
    "svc3_cv.fit(X_train, y_train)\n",
    "print(svc3_cv.best_params_)\n",
    "svc3_cv_pred = svc3_cv.predict(X_test)\n",
    "svc3_cv_pr = evaluate(svc3_cv_pred, y_test)\n",
    "svc3_cv_pr"
   ]
  },
  {
   "cell_type": "code",
   "execution_count": 155,
   "metadata": {},
   "outputs": [
    {
     "name": "stdout",
     "output_type": "stream",
     "text": [
      "{'C': 0.001, 'gamma': 1}\n"
     ]
    },
    {
     "data": {
      "text/plain": [
       "{'f1-score': 1.0, 'accuracy': 1.0}"
      ]
     },
     "execution_count": 155,
     "metadata": {},
     "output_type": "execute_result"
    }
   ],
   "source": [
    "# 'poly' + CV\n",
    "param_grid = {'gamma': [0.00001, 0.0001, 0.001, 0.01, 0.1, 1], 'C':[0.001, 0.01, 0.1, 1, 10, 100, 1000]}\n",
    "svc4 = SVC(kernel = 'poly', random_state = 1)\n",
    "svc4_cv = GridSearchCV(svc4, param_grid)\n",
    "svc4_cv.fit(X_train, y_train)\n",
    "print(svc4_cv.best_params_)\n",
    "svc4_cv_pred = svc4_cv.predict(X_test)\n",
    "svc4_cv_pr = evaluate(svc4_cv_pred, y_test)\n",
    "svc4_cv_pr"
   ]
  },
  {
   "cell_type": "code",
   "execution_count": 156,
   "metadata": {},
   "outputs": [
    {
     "name": "stdout",
     "output_type": "stream",
     "text": [
      "{'C': 100, 'gamma': 0.01}\n"
     ]
    },
    {
     "data": {
      "text/plain": [
       "{'f1-score': 1.0, 'accuracy': 1.0}"
      ]
     },
     "execution_count": 156,
     "metadata": {},
     "output_type": "execute_result"
    }
   ],
   "source": [
    "# 'sigmoid' + CV\n",
    "param_grid = {'gamma': [0.00001, 0.0001, 0.001, 0.01, 0.1, 1], 'C':[0.001, 0.01, 0.1, 1, 10, 100, 1000]}\n",
    "svc5 = SVC(kernel = 'sigmoid', random_state = 1)\n",
    "svc5_cv = GridSearchCV(svc5, param_grid)\n",
    "svc5_cv.fit(X_train, y_train)\n",
    "print(svc5_cv.best_params_)\n",
    "svc5_cv_pred = svc5_cv.predict(X_test)\n",
    "svc5_cv_pr = evaluate(svc5_cv_pred, y_test)\n",
    "svc5_cv_pr"
   ]
  },
  {
   "cell_type": "code",
   "execution_count": 157,
   "metadata": {},
   "outputs": [
    {
     "name": "stdout",
     "output_type": "stream",
     "text": [
      "{'C': 0.001, 'gamma': 1, 'kernel': 'poly'}\n"
     ]
    },
    {
     "data": {
      "text/plain": [
       "{'f1-score': 1.0, 'accuracy': 1.0}"
      ]
     },
     "execution_count": 157,
     "metadata": {},
     "output_type": "execute_result"
    }
   ],
   "source": [
    "# all\n",
    "param_grid = {'gamma': [0.00001, 0.0001, 0.001, 0.01, 0.1, 1], 'C':[0.001, 0.01, 0.1, 1, 10, 100, 1000], 'kernel':['rbf','linear','poly','sigmoid']}\n",
    "svc_all_params = SVC(random_state = 1)\n",
    "svc_all_params_cv = GridSearchCV(svc_all_params, param_grid)\n",
    "clf = svc_all_params_cv.fit(X_train, y_train)\n",
    "print(svc_all_params_cv.best_params_)\n",
    "svc_all_params_cv_pred = svc_all_params_cv.predict(X_test)\n",
    "svc_all_params_cv_pr = evaluate(svc_all_params_cv_pred, y_test)\n",
    "svc_all_params_cv_pr"
   ]
  },
  {
   "cell_type": "markdown",
   "metadata": {},
   "source": [
    "## KNN"
   ]
  },
  {
   "cell_type": "code",
   "execution_count": 158,
   "metadata": {},
   "outputs": [
    {
     "data": {
      "text/plain": [
       "{'f1-score': 0.9997, 'accuracy': 0.9997}"
      ]
     },
     "execution_count": 158,
     "metadata": {},
     "output_type": "execute_result"
    }
   ],
   "source": [
    "from sklearn.neighbors import KNeighborsClassifier\n",
    "knn = KNeighborsClassifier(n_neighbors = 3)\n",
    "knn.fit(X_train, y_train)\n",
    "knn_pred = knn.predict(X_test)\n",
    "knn_pr = evaluate(knn_pred, y_test)\n",
    "knn_pr"
   ]
  },
  {
   "cell_type": "code",
   "execution_count": 159,
   "metadata": {},
   "outputs": [
    {
     "data": {
      "text/plain": [
       "{1: 1.0,\n",
       " 2: 1.0,\n",
       " 3: 0.9996923076923077,\n",
       " 4: 1.0,\n",
       " 5: 0.9986153846153846,\n",
       " 6: 0.9986153846153846,\n",
       " 7: 0.9981538461538462,\n",
       " 8: 0.9983076923076923,\n",
       " 9: 0.9981538461538462}"
      ]
     },
     "execution_count": 159,
     "metadata": {},
     "output_type": "execute_result"
    }
   ],
   "source": [
    "accuracies = {}\n",
    "for neighbor in np.arange(1, 10):\n",
    "    knn = KNeighborsClassifier(n_neighbors = neighbor)\n",
    "    knn.fit(X_train, y_train)\n",
    "    accuracies[neighbor] = knn.score(X_test, y_test)\n",
    "accuracies"
   ]
  },
  {
   "cell_type": "code",
   "execution_count": 160,
   "metadata": {},
   "outputs": [
    {
     "name": "stdout",
     "output_type": "stream",
     "text": [
      "{'n_neighbors': 2}\n"
     ]
    },
    {
     "data": {
      "text/plain": [
       "{'f1-score': 1.0, 'accuracy': 1.0}"
      ]
     },
     "execution_count": 160,
     "metadata": {},
     "output_type": "execute_result"
    }
   ],
   "source": [
    "# KNN + CV\n",
    "knn2 = KNeighborsClassifier()\n",
    "knn_cv = GridSearchCV(knn2, {'n_neighbors': np.arange(1,10)}, cv = kf)\n",
    "knn_cv.fit(X_train, y_train)\n",
    "print(knn_cv.best_params_)\n",
    "knn_cv_pred = knn_cv.predict(X_test)\n",
    "knn_cv_pr = evaluate(knn_cv_pred, y_test)\n",
    "knn_cv_pr"
   ]
  },
  {
   "cell_type": "code",
   "execution_count": 167,
   "metadata": {},
   "outputs": [
    {
     "data": {
      "text/html": [
       "<div>\n",
       "<style scoped>\n",
       "    .dataframe tbody tr th:only-of-type {\n",
       "        vertical-align: middle;\n",
       "    }\n",
       "\n",
       "    .dataframe tbody tr th {\n",
       "        vertical-align: top;\n",
       "    }\n",
       "\n",
       "    .dataframe thead th {\n",
       "        text-align: right;\n",
       "    }\n",
       "</style>\n",
       "<table border=\"1\" class=\"dataframe\">\n",
       "  <thead>\n",
       "    <tr style=\"text-align: right;\">\n",
       "      <th></th>\n",
       "      <th>Model</th>\n",
       "      <th>F1-score</th>\n",
       "      <th>Accuracy</th>\n",
       "    </tr>\n",
       "  </thead>\n",
       "  <tbody>\n",
       "    <tr>\n",
       "      <th>0</th>\n",
       "      <td>Logistic Regression</td>\n",
       "      <td>0.9991</td>\n",
       "      <td>0.9991</td>\n",
       "    </tr>\n",
       "    <tr>\n",
       "      <th>1</th>\n",
       "      <td>Logistic Regression - l2 regularization + CV</td>\n",
       "      <td>1.0000</td>\n",
       "      <td>1.0000</td>\n",
       "    </tr>\n",
       "    <tr>\n",
       "      <th>2</th>\n",
       "      <td>Logistic Regression - l1 regularization + CV</td>\n",
       "      <td>1.0000</td>\n",
       "      <td>1.0000</td>\n",
       "    </tr>\n",
       "    <tr>\n",
       "      <th>3</th>\n",
       "      <td>Decision Tree</td>\n",
       "      <td>0.9996</td>\n",
       "      <td>0.9995</td>\n",
       "    </tr>\n",
       "    <tr>\n",
       "      <th>4</th>\n",
       "      <td>Decision Tree + RandomizedSearchCV</td>\n",
       "      <td>1.0000</td>\n",
       "      <td>1.0000</td>\n",
       "    </tr>\n",
       "    <tr>\n",
       "      <th>5</th>\n",
       "      <td>Decision Tree + GridSearchCV</td>\n",
       "      <td>1.0000</td>\n",
       "      <td>1.0000</td>\n",
       "    </tr>\n",
       "    <tr>\n",
       "      <th>6</th>\n",
       "      <td>Decision Tree + BC</td>\n",
       "      <td>0.9996</td>\n",
       "      <td>0.9995</td>\n",
       "    </tr>\n",
       "    <tr>\n",
       "      <th>7</th>\n",
       "      <td>Random Forest</td>\n",
       "      <td>1.0000</td>\n",
       "      <td>1.0000</td>\n",
       "    </tr>\n",
       "    <tr>\n",
       "      <th>8</th>\n",
       "      <td>Random Forest + RandomizedSearchCV</td>\n",
       "      <td>1.0000</td>\n",
       "      <td>1.0000</td>\n",
       "    </tr>\n",
       "    <tr>\n",
       "      <th>9</th>\n",
       "      <td>SVM rbf</td>\n",
       "      <td>0.9991</td>\n",
       "      <td>0.9991</td>\n",
       "    </tr>\n",
       "    <tr>\n",
       "      <th>10</th>\n",
       "      <td>SVM rbf + CV</td>\n",
       "      <td>1.0000</td>\n",
       "      <td>1.0000</td>\n",
       "    </tr>\n",
       "    <tr>\n",
       "      <th>11</th>\n",
       "      <td>SVM linear + CV</td>\n",
       "      <td>1.0000</td>\n",
       "      <td>1.0000</td>\n",
       "    </tr>\n",
       "    <tr>\n",
       "      <th>12</th>\n",
       "      <td>SVM poly + CV</td>\n",
       "      <td>1.0000</td>\n",
       "      <td>1.0000</td>\n",
       "    </tr>\n",
       "    <tr>\n",
       "      <th>13</th>\n",
       "      <td>SVM sigmoid + CV</td>\n",
       "      <td>1.0000</td>\n",
       "      <td>1.0000</td>\n",
       "    </tr>\n",
       "    <tr>\n",
       "      <th>14</th>\n",
       "      <td>SVM all params CV</td>\n",
       "      <td>1.0000</td>\n",
       "      <td>1.0000</td>\n",
       "    </tr>\n",
       "    <tr>\n",
       "      <th>15</th>\n",
       "      <td>KNN</td>\n",
       "      <td>0.9997</td>\n",
       "      <td>0.9997</td>\n",
       "    </tr>\n",
       "    <tr>\n",
       "      <th>16</th>\n",
       "      <td>KNN + CV</td>\n",
       "      <td>1.0000</td>\n",
       "      <td>1.0000</td>\n",
       "    </tr>\n",
       "  </tbody>\n",
       "</table>\n",
       "</div>"
      ],
      "text/plain": [
       "                                           Model  F1-score  Accuracy\n",
       "0                            Logistic Regression    0.9991    0.9991\n",
       "1   Logistic Regression - l2 regularization + CV    1.0000    1.0000\n",
       "2   Logistic Regression - l1 regularization + CV    1.0000    1.0000\n",
       "3                                  Decision Tree    0.9996    0.9995\n",
       "4             Decision Tree + RandomizedSearchCV    1.0000    1.0000\n",
       "5                   Decision Tree + GridSearchCV    1.0000    1.0000\n",
       "6                             Decision Tree + BC    0.9996    0.9995\n",
       "7                                  Random Forest    1.0000    1.0000\n",
       "8             Random Forest + RandomizedSearchCV    1.0000    1.0000\n",
       "9                                        SVM rbf    0.9991    0.9991\n",
       "10                                  SVM rbf + CV    1.0000    1.0000\n",
       "11                               SVM linear + CV    1.0000    1.0000\n",
       "12                                 SVM poly + CV    1.0000    1.0000\n",
       "13                              SVM sigmoid + CV    1.0000    1.0000\n",
       "14                             SVM all params CV    1.0000    1.0000\n",
       "15                                           KNN    0.9997    0.9997\n",
       "16                                      KNN + CV    1.0000    1.0000"
      ]
     },
     "execution_count": 167,
     "metadata": {},
     "output_type": "execute_result"
    }
   ],
   "source": [
    "prediction_data = {'Model':['Logistic Regression', 'Logistic Regression - l2 regularization + CV', 'Logistic Regression - l1 regularization + CV', 'Decision Tree', 'Decision Tree + RandomizedSearchCV', 'Decision Tree + GridSearchCV', 'Decision Tree + BC', 'Random Forest', 'Random Forest + RandomizedSearchCV', 'SVM rbf', 'SVM rbf + CV', 'SVM linear + CV', 'SVM poly + CV', 'SVM sigmoid + CV', 'SVM all params CV','KNN', 'KNN + CV'],\n",
    "                   'F1-score':[lr_pr['f1-score'], lr2_cv_pr['f1-score'], lr3_cv_pr['f1-score'], dtree_pr['f1-score'], dt_random_pr['f1-score'], dt_cv_pr['f1-score'], dtree_bc_pr['f1-score'], rf_pr['f1-score'], rf_random_pr['f1-score'], svc_pr['f1-score'], svc2_cv_pr['f1-score'], svc3_cv_pr['f1-score'], svc4_cv_pr['f1-score'], svc5_cv_pr['f1-score'], svc_all_params_cv_pr['f1-score'], knn_pr['f1-score'], knn_cv_pr['f1-score']],\n",
    "                   'Accuracy':[lr_pr['accuracy'], lr2_cv_pr['accuracy'], lr3_cv_pr['accuracy'], dtree_pr['accuracy'], dt_random_pr['accuracy'], dt_cv_pr['accuracy'], dtree_bc_pr['accuracy'], rf_pr['accuracy'], rf_random_pr['accuracy'], svc_pr['accuracy'], svc2_cv_pr['accuracy'], svc3_cv_pr['accuracy'], svc4_cv_pr['accuracy'], svc5_cv_pr['accuracy'], svc_all_params_cv_pr['accuracy'], knn_pr['accuracy'], knn_cv_pr['accuracy']]\n",
    "                    }\n",
    " \n",
    "prediction_table = pd.DataFrame(prediction_data)\n",
    "prediction_table"
   ]
  },
  {
   "cell_type": "markdown",
   "metadata": {},
   "source": [
    "## AdaBoost"
   ]
  },
  {
   "cell_type": "code",
   "execution_count": 168,
   "metadata": {},
   "outputs": [
    {
     "data": {
      "text/plain": [
       "1.0"
      ]
     },
     "execution_count": 168,
     "metadata": {},
     "output_type": "execute_result"
    }
   ],
   "source": [
    "from sklearn.ensemble import AdaBoostClassifier\n",
    "ada = AdaBoostClassifier(random_state = 1)\n",
    "ada.fit(X_train, y_train)\n",
    "ada.score(X_test,y_test)"
   ]
  },
  {
   "cell_type": "code",
   "execution_count": 169,
   "metadata": {},
   "outputs": [
    {
     "data": {
      "text/plain": [
       "{1: 0.8856923076923077,\n",
       " 2: 0.8856923076923077,\n",
       " 3: 0.939076923076923,\n",
       " 4: 0.9578461538461538,\n",
       " 5: 0.9670769230769231,\n",
       " 6: 0.9515384615384616,\n",
       " 7: 0.9781538461538462,\n",
       " 8: 0.9823076923076923,\n",
       " 9: 0.9949230769230769}"
      ]
     },
     "execution_count": 169,
     "metadata": {},
     "output_type": "execute_result"
    }
   ],
   "source": [
    "accuracies = {}\n",
    "for n_estimators in np.arange(1, 10):\n",
    "    ada = AdaBoostClassifier(random_state = 1, n_estimators = n_estimators)\n",
    "    ada.fit(X_train, y_train)\n",
    "    accuracies[n_estimators] = ada.score(X_test, y_test)\n",
    "accuracies"
   ]
  },
  {
   "cell_type": "markdown",
   "metadata": {},
   "source": [
    "## Gradient Boosting"
   ]
  },
  {
   "cell_type": "code",
   "execution_count": 170,
   "metadata": {},
   "outputs": [
    {
     "data": {
      "text/plain": [
       "0.9969230769230769"
      ]
     },
     "execution_count": 170,
     "metadata": {},
     "output_type": "execute_result"
    }
   ],
   "source": [
    "from sklearn.ensemble import GradientBoostingClassifier\n",
    "gbc = GradientBoostingClassifier(learning_rate = 0.01 , random_state = 1)\n",
    "gbc.fit(X_train, y_train)\n",
    "gbc.score(X_test,y_test)"
   ]
  },
  {
   "cell_type": "code",
   "execution_count": 180,
   "metadata": {},
   "outputs": [
    {
     "data": {
      "text/plain": [
       "{0.01: 0.9969230769230769, 0.1: 0.9990769230769231, 0.3: 1.0, 0.5: 1.0}"
      ]
     },
     "execution_count": 180,
     "metadata": {},
     "output_type": "execute_result"
    }
   ],
   "source": [
    "accuracies = {}\n",
    "for learning_rate in [0.01,0.1,0.3,0.5]:\n",
    "    gbc = GradientBoostingClassifier(random_state = 1, learning_rate = learning_rate)\n",
    "    gbc.fit(X_train, y_train)\n",
    "    accuracies[learning_rate] = gbc.score(X_test, y_test)\n",
    "accuracies"
   ]
  },
  {
   "cell_type": "markdown",
   "metadata": {},
   "source": [
    "## XGBoost"
   ]
  },
  {
   "cell_type": "code",
   "execution_count": 549,
   "metadata": {},
   "outputs": [
    {
     "name": "stdout",
     "output_type": "stream",
     "text": [
      "Requirement already satisfied: xgboost in /Users/edytastodolkiewicz/opt/anaconda3/lib/python3.9/site-packages (1.6.2)\r\n",
      "Requirement already satisfied: scipy in /Users/edytastodolkiewicz/opt/anaconda3/lib/python3.9/site-packages (from xgboost) (1.7.1)\r\n",
      "Requirement already satisfied: numpy in /Users/edytastodolkiewicz/opt/anaconda3/lib/python3.9/site-packages (from xgboost) (1.20.3)\r\n"
     ]
    }
   ],
   "source": [
    "!pip install xgboost"
   ]
  },
  {
   "cell_type": "code",
   "execution_count": 181,
   "metadata": {},
   "outputs": [
    {
     "data": {
      "text/plain": [
       "0.9969230769230769"
      ]
     },
     "execution_count": 181,
     "metadata": {},
     "output_type": "execute_result"
    }
   ],
   "source": [
    "import xgboost as xgb\n",
    "xgbc = xgb.XGBClassifier(random_state = 1,learning_rate = 0.01)\n",
    "xgbc.fit(X_train, y_train)\n",
    "xgbc.score(X_test, y_test)"
   ]
  },
  {
   "cell_type": "code",
   "execution_count": 182,
   "metadata": {},
   "outputs": [
    {
     "data": {
      "text/plain": [
       "{0.01: 0.9969230769230769,\n",
       " 0.1: 0.9990769230769231,\n",
       " 0.3: 0.9990769230769231,\n",
       " 0.5: 0.9990769230769231}"
      ]
     },
     "execution_count": 182,
     "metadata": {},
     "output_type": "execute_result"
    }
   ],
   "source": [
    "accuracies = {}\n",
    "for learning_rate in [0.01,0.1,0.3,0.5]:\n",
    "    xgbc = xgb.XGBClassifier(random_state = 1, learning_rate = learning_rate)\n",
    "    xgbc.fit(X_train, y_train)\n",
    "    accuracies[learning_rate] = xgbc.score(X_test, y_test)\n",
    "accuracies"
   ]
  },
  {
   "cell_type": "code",
   "execution_count": 176,
   "metadata": {},
   "outputs": [
    {
     "name": "stdout",
     "output_type": "stream",
     "text": [
      "   train-auc-mean  train-auc-std  test-auc-mean  test-auc-std\n",
      "0        0.986594       0.000814       0.986061      0.002084\n",
      "1        0.997903       0.000227       0.997836      0.000314\n",
      "2        0.998389       0.000528       0.998272      0.000173\n",
      "3        0.998764       0.000233       0.998736      0.000433\n",
      "4        0.998774       0.000225       0.998766      0.000452\n"
     ]
    }
   ],
   "source": [
    "# xgboost cross-validation\n",
    "dmatrix = xgb.DMatrix(data = features_dummies, label = target)\n",
    "params = {\"objective\":\"reg:logistic\", \"max_depth\":3}\n",
    "cv_results = xgb.cv(dtrain=dmatrix, params=params, \n",
    "                  nfold=3, num_boost_round=5, \n",
    "                  metrics=\"auc\", as_pandas=True, seed=123)\n",
    "print(cv_results)"
   ]
  },
  {
   "cell_type": "markdown",
   "metadata": {},
   "source": [
    "## LightGBM"
   ]
  },
  {
   "cell_type": "code",
   "execution_count": 212,
   "metadata": {},
   "outputs": [
    {
     "name": "stdout",
     "output_type": "stream",
     "text": [
      "Requirement already satisfied: lightgbm in /Users/edytastodolkiewicz/opt/anaconda3/lib/python3.9/site-packages (3.2.1)\n",
      "Requirement already satisfied: numpy in /Users/edytastodolkiewicz/opt/anaconda3/lib/python3.9/site-packages (from lightgbm) (1.20.3)\n",
      "Requirement already satisfied: scipy in /Users/edytastodolkiewicz/opt/anaconda3/lib/python3.9/site-packages (from lightgbm) (1.7.1)\n",
      "Requirement already satisfied: scikit-learn!=0.22.0 in /Users/edytastodolkiewicz/opt/anaconda3/lib/python3.9/site-packages (from lightgbm) (0.24.2)\n",
      "Requirement already satisfied: wheel in /Users/edytastodolkiewicz/opt/anaconda3/lib/python3.9/site-packages (from lightgbm) (0.37.0)\n",
      "Requirement already satisfied: threadpoolctl>=2.0.0 in /Users/edytastodolkiewicz/opt/anaconda3/lib/python3.9/site-packages (from scikit-learn!=0.22.0->lightgbm) (2.2.0)\n",
      "Requirement already satisfied: joblib>=0.11 in /Users/edytastodolkiewicz/opt/anaconda3/lib/python3.9/site-packages (from scikit-learn!=0.22.0->lightgbm) (1.1.0)\n",
      "\n",
      "\u001b[1m[\u001b[0m\u001b[34;49mnotice\u001b[0m\u001b[1;39;49m]\u001b[0m\u001b[39;49m A new release of pip available: \u001b[0m\u001b[31;49m22.3\u001b[0m\u001b[39;49m -> \u001b[0m\u001b[32;49m22.3.1\u001b[0m\n",
      "\u001b[1m[\u001b[0m\u001b[34;49mnotice\u001b[0m\u001b[1;39;49m]\u001b[0m\u001b[39;49m To update, run: \u001b[0m\u001b[32;49mpip install --upgrade pip\u001b[0m\n"
     ]
    }
   ],
   "source": [
    "!pip install lightgbm"
   ]
  },
  {
   "cell_type": "code",
   "execution_count": 213,
   "metadata": {},
   "outputs": [],
   "source": [
    "import lightgbm as lgb"
   ]
  },
  {
   "cell_type": "code",
   "execution_count": 214,
   "metadata": {},
   "outputs": [
    {
     "name": "stdout",
     "output_type": "stream",
     "text": [
      "[LightGBM] [Warning] Auto-choosing row-wise multi-threading, the overhead of testing was 0.002388 seconds.\n",
      "You can set `force_row_wise=true` to remove the overhead.\n",
      "And if memory is not enough, you can set `force_col_wise=true`.\n",
      "[LightGBM] [Info] Total Bins 180\n",
      "[LightGBM] [Info] Number of data points in the train set: 1624, number of used features: 90\n",
      "[LightGBM] [Info] Start training from score 0.517857\n",
      "[LightGBM] [Warning] No further splits with positive gain, best gain: -inf\n",
      "[LightGBM] [Warning] No further splits with positive gain, best gain: -inf\n",
      "[LightGBM] [Warning] No further splits with positive gain, best gain: -inf\n",
      "[LightGBM] [Warning] No further splits with positive gain, best gain: -inf\n",
      "[LightGBM] [Warning] No further splits with positive gain, best gain: -inf\n",
      "[LightGBM] [Warning] No further splits with positive gain, best gain: -inf\n",
      "[LightGBM] [Warning] No further splits with positive gain, best gain: -inf\n",
      "[LightGBM] [Warning] No further splits with positive gain, best gain: -inf\n",
      "[LightGBM] [Warning] No further splits with positive gain, best gain: -inf\n",
      "[LightGBM] [Warning] No further splits with positive gain, best gain: -inf\n",
      "[LightGBM] [Warning] No further splits with positive gain, best gain: -inf\n",
      "[LightGBM] [Warning] No further splits with positive gain, best gain: -inf\n",
      "[LightGBM] [Warning] No further splits with positive gain, best gain: -inf\n",
      "[LightGBM] [Warning] No further splits with positive gain, best gain: -inf\n",
      "[LightGBM] [Warning] No further splits with positive gain, best gain: -inf\n",
      "[LightGBM] [Warning] No further splits with positive gain, best gain: -inf\n",
      "[LightGBM] [Warning] No further splits with positive gain, best gain: -inf\n",
      "[LightGBM] [Warning] No further splits with positive gain, best gain: -inf\n",
      "[LightGBM] [Warning] No further splits with positive gain, best gain: -inf\n",
      "[LightGBM] [Warning] No further splits with positive gain, best gain: -inf\n",
      "[LightGBM] [Warning] No further splits with positive gain, best gain: -inf\n",
      "[LightGBM] [Warning] No further splits with positive gain, best gain: -inf\n",
      "[LightGBM] [Warning] No further splits with positive gain, best gain: -inf\n",
      "[LightGBM] [Warning] No further splits with positive gain, best gain: -inf\n",
      "[LightGBM] [Warning] No further splits with positive gain, best gain: -inf\n",
      "[LightGBM] [Warning] No further splits with positive gain, best gain: -inf\n",
      "[LightGBM] [Warning] No further splits with positive gain, best gain: -inf\n",
      "[LightGBM] [Warning] No further splits with positive gain, best gain: -inf\n",
      "[LightGBM] [Warning] No further splits with positive gain, best gain: -inf\n",
      "[LightGBM] [Warning] No further splits with positive gain, best gain: -inf\n",
      "[LightGBM] [Warning] No further splits with positive gain, best gain: -inf\n",
      "[LightGBM] [Warning] No further splits with positive gain, best gain: -inf\n",
      "[LightGBM] [Warning] No further splits with positive gain, best gain: -inf\n",
      "[LightGBM] [Warning] No further splits with positive gain, best gain: -inf\n",
      "[LightGBM] [Warning] No further splits with positive gain, best gain: -inf\n",
      "[LightGBM] [Warning] No further splits with positive gain, best gain: -inf\n",
      "[LightGBM] [Warning] No further splits with positive gain, best gain: -inf\n",
      "[LightGBM] [Warning] No further splits with positive gain, best gain: -inf\n",
      "[LightGBM] [Warning] No further splits with positive gain, best gain: -inf\n",
      "[LightGBM] [Warning] No further splits with positive gain, best gain: -inf\n",
      "[LightGBM] [Warning] No further splits with positive gain, best gain: -inf\n",
      "[LightGBM] [Warning] No further splits with positive gain, best gain: -inf\n",
      "[LightGBM] [Warning] No further splits with positive gain, best gain: -inf\n",
      "[LightGBM] [Warning] No further splits with positive gain, best gain: -inf\n",
      "[LightGBM] [Warning] No further splits with positive gain, best gain: -inf\n",
      "[LightGBM] [Warning] No further splits with positive gain, best gain: -inf\n",
      "[LightGBM] [Warning] No further splits with positive gain, best gain: -inf\n",
      "[LightGBM] [Warning] No further splits with positive gain, best gain: -inf\n",
      "[LightGBM] [Warning] No further splits with positive gain, best gain: -inf\n",
      "[LightGBM] [Warning] No further splits with positive gain, best gain: -inf\n",
      "[LightGBM] [Warning] No further splits with positive gain, best gain: -inf\n",
      "[LightGBM] [Warning] No further splits with positive gain, best gain: -inf\n",
      "[LightGBM] [Warning] No further splits with positive gain, best gain: -inf\n",
      "[LightGBM] [Warning] No further splits with positive gain, best gain: -inf\n",
      "[LightGBM] [Warning] No further splits with positive gain, best gain: -inf\n",
      "[LightGBM] [Warning] No further splits with positive gain, best gain: -inf\n",
      "[LightGBM] [Warning] No further splits with positive gain, best gain: -inf\n",
      "[LightGBM] [Warning] No further splits with positive gain, best gain: -inf\n",
      "[LightGBM] [Warning] No further splits with positive gain, best gain: -inf\n",
      "[LightGBM] [Warning] No further splits with positive gain, best gain: -inf\n",
      "[LightGBM] [Warning] No further splits with positive gain, best gain: -inf\n",
      "[LightGBM] [Warning] No further splits with positive gain, best gain: -inf\n",
      "[LightGBM] [Warning] No further splits with positive gain, best gain: -inf\n",
      "[LightGBM] [Warning] No further splits with positive gain, best gain: -inf\n",
      "[LightGBM] [Warning] No further splits with positive gain, best gain: -inf\n",
      "[LightGBM] [Warning] No further splits with positive gain, best gain: -inf\n",
      "[LightGBM] [Warning] No further splits with positive gain, best gain: -inf\n",
      "[LightGBM] [Warning] No further splits with positive gain, best gain: -inf\n",
      "[LightGBM] [Warning] No further splits with positive gain, best gain: -inf\n",
      "[LightGBM] [Warning] No further splits with positive gain, best gain: -inf\n",
      "[LightGBM] [Warning] No further splits with positive gain, best gain: -inf\n",
      "[LightGBM] [Warning] No further splits with positive gain, best gain: -inf\n",
      "[LightGBM] [Warning] No further splits with positive gain, best gain: -inf\n",
      "[LightGBM] [Warning] No further splits with positive gain, best gain: -inf\n",
      "[LightGBM] [Warning] No further splits with positive gain, best gain: -inf\n",
      "[LightGBM] [Warning] No further splits with positive gain, best gain: -inf\n",
      "[LightGBM] [Warning] No further splits with positive gain, best gain: -inf\n",
      "[LightGBM] [Warning] No further splits with positive gain, best gain: -inf\n",
      "[LightGBM] [Warning] No further splits with positive gain, best gain: -inf\n",
      "[LightGBM] [Warning] No further splits with positive gain, best gain: -inf\n",
      "[LightGBM] [Warning] No further splits with positive gain, best gain: -inf\n",
      "[LightGBM] [Warning] No further splits with positive gain, best gain: -inf\n",
      "[LightGBM] [Warning] No further splits with positive gain, best gain: -inf\n",
      "[LightGBM] [Warning] No further splits with positive gain, best gain: -inf\n",
      "[LightGBM] [Warning] No further splits with positive gain, best gain: -inf\n",
      "[LightGBM] [Warning] No further splits with positive gain, best gain: -inf\n",
      "[LightGBM] [Warning] No further splits with positive gain, best gain: -inf\n",
      "[LightGBM] [Warning] No further splits with positive gain, best gain: -inf\n",
      "[LightGBM] [Warning] No further splits with positive gain, best gain: -inf\n",
      "[LightGBM] [Warning] No further splits with positive gain, best gain: -inf\n",
      "[LightGBM] [Warning] No further splits with positive gain, best gain: -inf\n",
      "[LightGBM] [Warning] No further splits with positive gain, best gain: -inf\n",
      "[LightGBM] [Warning] No further splits with positive gain, best gain: -inf\n",
      "[LightGBM] [Warning] No further splits with positive gain, best gain: -inf\n",
      "[LightGBM] [Warning] No further splits with positive gain, best gain: -inf\n",
      "[LightGBM] [Warning] No further splits with positive gain, best gain: -inf\n",
      "[LightGBM] [Warning] No further splits with positive gain, best gain: -inf\n",
      "[LightGBM] [Warning] No further splits with positive gain, best gain: -inf\n",
      "[LightGBM] [Warning] No further splits with positive gain, best gain: -inf\n",
      "[LightGBM] [Warning] No further splits with positive gain, best gain: -inf\n",
      "0.18017085907975922\n"
     ]
    }
   ],
   "source": [
    "train_data = lgb.Dataset(X_train, label = y_train)\n",
    "#define parameters\n",
    "params = {'learning_rate':0.001}\n",
    "model = lgb.train(params, train_data, 100) \n",
    "y_pred = model.predict(X_test)\n",
    "for i in range(0, 6500):\n",
    "    if y_pred[i] >= 0.5:\n",
    "        y_pred[i] = 1\n",
    "    else: \n",
    "        y_pred[i] = 0\n",
    "y_pred = pd.DataFrame(y_pred)\n",
    "from sklearn.metrics import mean_squared_error\n",
    "print(mean_squared_error(y_pred, y_test)**0.5)"
   ]
  },
  {
   "cell_type": "code",
   "execution_count": 215,
   "metadata": {},
   "outputs": [
    {
     "data": {
      "text/plain": [
       "1.0"
      ]
     },
     "execution_count": 215,
     "metadata": {},
     "output_type": "execute_result"
    }
   ],
   "source": [
    "from lightgbm import LGBMClassifier\n",
    "model = LGBMClassifier()\n",
    "model.fit(X_train, y_train)\n",
    "model.score(X_test, y_test)"
   ]
  },
  {
   "cell_type": "markdown",
   "metadata": {},
   "source": [
    "## CatBoost"
   ]
  },
  {
   "cell_type": "code",
   "execution_count": 38,
   "metadata": {},
   "outputs": [
    {
     "name": "stdout",
     "output_type": "stream",
     "text": [
      "Collecting catboost\n",
      "  Downloading catboost-1.1-cp39-none-macosx_10_6_universal2.whl (22.0 MB)\n",
      "\u001b[2K     \u001b[90m━━━━━━━━━━━━━━━━━━━━━━━━━━━━━━━━━━━━━━━━\u001b[0m \u001b[32m22.0/22.0 MB\u001b[0m \u001b[31m6.9 MB/s\u001b[0m eta \u001b[36m0:00:00\u001b[0m00:01\u001b[0m00:01\u001b[0m\n",
      "\u001b[?25hRequirement already satisfied: pandas>=0.24.0 in /Users/edytastodolkiewicz/opt/anaconda3/lib/python3.9/site-packages (from catboost) (1.3.4)\n",
      "Collecting graphviz\n",
      "  Using cached graphviz-0.20.1-py3-none-any.whl (47 kB)\n",
      "Requirement already satisfied: scipy in /Users/edytastodolkiewicz/opt/anaconda3/lib/python3.9/site-packages (from catboost) (1.7.1)\n",
      "Collecting plotly\n",
      "  Downloading plotly-5.11.0-py2.py3-none-any.whl (15.3 MB)\n",
      "\u001b[2K     \u001b[90m━━━━━━━━━━━━━━━━━━━━━━━━━━━━━━━━━━━━━━━━\u001b[0m \u001b[32m15.3/15.3 MB\u001b[0m \u001b[31m3.4 MB/s\u001b[0m eta \u001b[36m0:00:00\u001b[0m00:01\u001b[0m00:01\u001b[0m\n",
      "\u001b[?25hRequirement already satisfied: matplotlib in /Users/edytastodolkiewicz/opt/anaconda3/lib/python3.9/site-packages (from catboost) (3.4.3)\n",
      "Requirement already satisfied: six in /Users/edytastodolkiewicz/opt/anaconda3/lib/python3.9/site-packages (from catboost) (1.16.0)\n",
      "Requirement already satisfied: numpy>=1.16.0 in /Users/edytastodolkiewicz/opt/anaconda3/lib/python3.9/site-packages (from catboost) (1.20.3)\n",
      "Requirement already satisfied: python-dateutil>=2.7.3 in /Users/edytastodolkiewicz/opt/anaconda3/lib/python3.9/site-packages (from pandas>=0.24.0->catboost) (2.8.2)\n",
      "Requirement already satisfied: pytz>=2017.3 in /Users/edytastodolkiewicz/opt/anaconda3/lib/python3.9/site-packages (from pandas>=0.24.0->catboost) (2021.3)\n",
      "Requirement already satisfied: kiwisolver>=1.0.1 in /Users/edytastodolkiewicz/opt/anaconda3/lib/python3.9/site-packages (from matplotlib->catboost) (1.3.1)\n",
      "Requirement already satisfied: cycler>=0.10 in /Users/edytastodolkiewicz/opt/anaconda3/lib/python3.9/site-packages (from matplotlib->catboost) (0.10.0)\n",
      "Requirement already satisfied: pillow>=6.2.0 in /Users/edytastodolkiewicz/opt/anaconda3/lib/python3.9/site-packages (from matplotlib->catboost) (8.4.0)\n",
      "Requirement already satisfied: pyparsing>=2.2.1 in /Users/edytastodolkiewicz/opt/anaconda3/lib/python3.9/site-packages (from matplotlib->catboost) (3.0.4)\n",
      "Collecting tenacity>=6.2.0\n",
      "  Using cached tenacity-8.1.0-py3-none-any.whl (23 kB)\n",
      "Installing collected packages: tenacity, graphviz, plotly, catboost\n",
      "Successfully installed catboost-1.1 graphviz-0.20.1 plotly-5.11.0 tenacity-8.1.0\n"
     ]
    }
   ],
   "source": [
    "!pip install catboost"
   ]
  },
  {
   "cell_type": "code",
   "execution_count": 216,
   "metadata": {},
   "outputs": [
    {
     "name": "stderr",
     "output_type": "stream",
     "text": [
      "/var/folders/gf/t0gbh7m514j9kjx2g299ch6h0000gn/T/ipykernel_89169/2126895021.py:3: DeprecationWarning: `np.float` is a deprecated alias for the builtin `float`. To silence this warning, use `float` by itself. Doing this will not modify any behavior and is safe. If you specifically wanted the numpy scalar type, use `np.float64` here.\n",
      "Deprecated in NumPy 1.20; for more details and guidance: https://numpy.org/devdocs/release/1.20.0-notes.html#deprecations\n",
      "  categorical_features_indices = np.where(df.dtypes != np.float)[0]\n"
     ]
    },
    {
     "name": "stdout",
     "output_type": "stream",
     "text": [
      "Learning rate set to 0.035721\n",
      "0:\tlearn: 0.6111615\ttest: 0.6126876\tbest: 0.6126876 (0)\ttotal: 22.1ms\tremaining: 22s\n",
      "1:\tlearn: 0.5356613\ttest: 0.5372831\tbest: 0.5372831 (1)\ttotal: 27.1ms\tremaining: 13.5s\n",
      "2:\tlearn: 0.4801153\ttest: 0.4827737\tbest: 0.4827737 (2)\ttotal: 31.7ms\tremaining: 10.6s\n",
      "3:\tlearn: 0.4294016\ttest: 0.4322028\tbest: 0.4322028 (3)\ttotal: 35.4ms\tremaining: 8.81s\n",
      "4:\tlearn: 0.3695427\ttest: 0.3722865\tbest: 0.3722865 (4)\ttotal: 42.1ms\tremaining: 8.38s\n",
      "5:\tlearn: 0.3262883\ttest: 0.3292413\tbest: 0.3292413 (5)\ttotal: 46.8ms\tremaining: 7.76s\n",
      "6:\tlearn: 0.2869234\ttest: 0.2897918\tbest: 0.2897918 (6)\ttotal: 53.7ms\tremaining: 7.61s\n",
      "7:\tlearn: 0.2652624\ttest: 0.2679422\tbest: 0.2679422 (7)\ttotal: 55.6ms\tremaining: 6.89s\n",
      "8:\tlearn: 0.2354376\ttest: 0.2382833\tbest: 0.2382833 (8)\ttotal: 60ms\tremaining: 6.61s\n",
      "9:\tlearn: 0.2127208\ttest: 0.2151849\tbest: 0.2151849 (9)\ttotal: 62.2ms\tremaining: 6.16s\n",
      "10:\tlearn: 0.1909506\ttest: 0.1933360\tbest: 0.1933360 (10)\ttotal: 65ms\tremaining: 5.85s\n",
      "11:\tlearn: 0.1668312\ttest: 0.1691252\tbest: 0.1691252 (11)\ttotal: 67.7ms\tremaining: 5.57s\n",
      "12:\tlearn: 0.1438055\ttest: 0.1462045\tbest: 0.1462045 (12)\ttotal: 72.6ms\tremaining: 5.51s\n",
      "13:\tlearn: 0.1259792\ttest: 0.1282645\tbest: 0.1282645 (13)\ttotal: 75.1ms\tremaining: 5.29s\n",
      "14:\tlearn: 0.1132661\ttest: 0.1154974\tbest: 0.1154974 (14)\ttotal: 78.8ms\tremaining: 5.18s\n",
      "15:\tlearn: 0.1017416\ttest: 0.1040407\tbest: 0.1040407 (15)\ttotal: 81.1ms\tremaining: 4.99s\n",
      "16:\tlearn: 0.0910800\ttest: 0.0931461\tbest: 0.0931461 (16)\ttotal: 84.5ms\tremaining: 4.89s\n",
      "17:\tlearn: 0.0801747\ttest: 0.0822100\tbest: 0.0822100 (17)\ttotal: 86.7ms\tremaining: 4.73s\n",
      "18:\tlearn: 0.0708579\ttest: 0.0728764\tbest: 0.0728764 (18)\ttotal: 90ms\tremaining: 4.65s\n",
      "19:\tlearn: 0.0641223\ttest: 0.0659921\tbest: 0.0659921 (19)\ttotal: 92.1ms\tremaining: 4.51s\n",
      "20:\tlearn: 0.0571449\ttest: 0.0590566\tbest: 0.0590566 (20)\ttotal: 94.2ms\tremaining: 4.39s\n",
      "21:\tlearn: 0.0522781\ttest: 0.0541066\tbest: 0.0541066 (21)\ttotal: 96.1ms\tremaining: 4.27s\n",
      "22:\tlearn: 0.0495575\ttest: 0.0513550\tbest: 0.0513550 (22)\ttotal: 98.2ms\tremaining: 4.17s\n",
      "23:\tlearn: 0.0463090\ttest: 0.0480304\tbest: 0.0480304 (23)\ttotal: 100ms\tremaining: 4.07s\n",
      "24:\tlearn: 0.0435417\ttest: 0.0452395\tbest: 0.0452395 (24)\ttotal: 102ms\tremaining: 3.98s\n",
      "25:\tlearn: 0.0398825\ttest: 0.0414891\tbest: 0.0414891 (25)\ttotal: 104ms\tremaining: 3.89s\n",
      "26:\tlearn: 0.0370364\ttest: 0.0385449\tbest: 0.0385449 (26)\ttotal: 109ms\tremaining: 3.92s\n",
      "27:\tlearn: 0.0346576\ttest: 0.0361225\tbest: 0.0361225 (27)\ttotal: 111ms\tremaining: 3.84s\n",
      "28:\tlearn: 0.0318898\ttest: 0.0332751\tbest: 0.0332751 (28)\ttotal: 113ms\tremaining: 3.77s\n",
      "29:\tlearn: 0.0307397\ttest: 0.0321246\tbest: 0.0321246 (29)\ttotal: 114ms\tremaining: 3.7s\n",
      "30:\tlearn: 0.0291704\ttest: 0.0305291\tbest: 0.0305291 (30)\ttotal: 116ms\tremaining: 3.63s\n",
      "31:\tlearn: 0.0274712\ttest: 0.0287542\tbest: 0.0287542 (31)\ttotal: 118ms\tremaining: 3.57s\n",
      "32:\tlearn: 0.0253842\ttest: 0.0266009\tbest: 0.0266009 (32)\ttotal: 120ms\tremaining: 3.51s\n",
      "33:\tlearn: 0.0235478\ttest: 0.0247100\tbest: 0.0247100 (33)\ttotal: 122ms\tremaining: 3.45s\n",
      "34:\tlearn: 0.0229460\ttest: 0.0241125\tbest: 0.0241125 (34)\ttotal: 123ms\tremaining: 3.4s\n",
      "35:\tlearn: 0.0226163\ttest: 0.0238462\tbest: 0.0238462 (35)\ttotal: 125ms\tremaining: 3.35s\n",
      "36:\tlearn: 0.0224013\ttest: 0.0236175\tbest: 0.0236175 (36)\ttotal: 127ms\tremaining: 3.31s\n",
      "37:\tlearn: 0.0218518\ttest: 0.0230253\tbest: 0.0230253 (37)\ttotal: 129ms\tremaining: 3.26s\n",
      "38:\tlearn: 0.0213347\ttest: 0.0224938\tbest: 0.0224938 (38)\ttotal: 131ms\tremaining: 3.22s\n",
      "39:\tlearn: 0.0211408\ttest: 0.0222640\tbest: 0.0222640 (39)\ttotal: 132ms\tremaining: 3.18s\n",
      "40:\tlearn: 0.0197130\ttest: 0.0207947\tbest: 0.0207947 (40)\ttotal: 134ms\tremaining: 3.14s\n",
      "41:\tlearn: 0.0193864\ttest: 0.0205176\tbest: 0.0205176 (41)\ttotal: 136ms\tremaining: 3.1s\n",
      "42:\tlearn: 0.0188612\ttest: 0.0199670\tbest: 0.0199670 (42)\ttotal: 138ms\tremaining: 3.06s\n",
      "43:\tlearn: 0.0186625\ttest: 0.0197546\tbest: 0.0197546 (43)\ttotal: 139ms\tremaining: 3.03s\n",
      "44:\tlearn: 0.0186227\ttest: 0.0197073\tbest: 0.0197073 (44)\ttotal: 141ms\tremaining: 3s\n",
      "45:\tlearn: 0.0183495\ttest: 0.0194134\tbest: 0.0194134 (45)\ttotal: 143ms\tremaining: 2.96s\n",
      "46:\tlearn: 0.0171895\ttest: 0.0182206\tbest: 0.0182206 (46)\ttotal: 146ms\tremaining: 2.95s\n",
      "47:\tlearn: 0.0170005\ttest: 0.0180980\tbest: 0.0180980 (47)\ttotal: 148ms\tremaining: 2.92s\n",
      "48:\tlearn: 0.0161463\ttest: 0.0172218\tbest: 0.0172218 (48)\ttotal: 149ms\tremaining: 2.9s\n",
      "49:\tlearn: 0.0155539\ttest: 0.0166005\tbest: 0.0166005 (49)\ttotal: 151ms\tremaining: 2.87s\n",
      "50:\tlearn: 0.0154532\ttest: 0.0164852\tbest: 0.0164852 (50)\ttotal: 153ms\tremaining: 2.84s\n",
      "51:\tlearn: 0.0151591\ttest: 0.0162000\tbest: 0.0162000 (51)\ttotal: 156ms\tremaining: 2.83s\n",
      "52:\tlearn: 0.0151086\ttest: 0.0161478\tbest: 0.0161478 (52)\ttotal: 158ms\tremaining: 2.82s\n",
      "53:\tlearn: 0.0148069\ttest: 0.0158537\tbest: 0.0158537 (53)\ttotal: 162ms\tremaining: 2.83s\n",
      "54:\tlearn: 0.0145397\ttest: 0.0155945\tbest: 0.0155945 (54)\ttotal: 164ms\tremaining: 2.81s\n",
      "55:\tlearn: 0.0144025\ttest: 0.0154519\tbest: 0.0154519 (55)\ttotal: 166ms\tremaining: 2.8s\n",
      "56:\tlearn: 0.0143056\ttest: 0.0153278\tbest: 0.0153278 (56)\ttotal: 169ms\tremaining: 2.79s\n",
      "57:\tlearn: 0.0142884\ttest: 0.0153077\tbest: 0.0153077 (57)\ttotal: 170ms\tremaining: 2.77s\n",
      "58:\tlearn: 0.0140907\ttest: 0.0151043\tbest: 0.0151043 (58)\ttotal: 173ms\tremaining: 2.76s\n",
      "59:\tlearn: 0.0140061\ttest: 0.0150182\tbest: 0.0150182 (59)\ttotal: 178ms\tremaining: 2.8s\n",
      "60:\tlearn: 0.0136635\ttest: 0.0146603\tbest: 0.0146603 (60)\ttotal: 183ms\tremaining: 2.82s\n",
      "61:\tlearn: 0.0136109\ttest: 0.0145967\tbest: 0.0145967 (61)\ttotal: 188ms\tremaining: 2.84s\n",
      "62:\tlearn: 0.0134725\ttest: 0.0144506\tbest: 0.0144506 (62)\ttotal: 193ms\tremaining: 2.87s\n",
      "63:\tlearn: 0.0134450\ttest: 0.0144263\tbest: 0.0144263 (63)\ttotal: 199ms\tremaining: 2.91s\n",
      "64:\tlearn: 0.0133706\ttest: 0.0143351\tbest: 0.0143351 (64)\ttotal: 203ms\tremaining: 2.92s\n",
      "65:\tlearn: 0.0133531\ttest: 0.0143157\tbest: 0.0143157 (65)\ttotal: 205ms\tremaining: 2.9s\n",
      "66:\tlearn: 0.0132649\ttest: 0.0142194\tbest: 0.0142194 (66)\ttotal: 209ms\tremaining: 2.91s\n",
      "67:\tlearn: 0.0127595\ttest: 0.0136919\tbest: 0.0136919 (67)\ttotal: 213ms\tremaining: 2.91s\n",
      "68:\tlearn: 0.0126231\ttest: 0.0135287\tbest: 0.0135287 (68)\ttotal: 216ms\tremaining: 2.92s\n",
      "69:\tlearn: 0.0125822\ttest: 0.0134774\tbest: 0.0134774 (69)\ttotal: 228ms\tremaining: 3.03s\n",
      "70:\tlearn: 0.0123708\ttest: 0.0132588\tbest: 0.0132588 (70)\ttotal: 232ms\tremaining: 3.04s\n",
      "71:\tlearn: 0.0123611\ttest: 0.0132457\tbest: 0.0132457 (71)\ttotal: 235ms\tremaining: 3.03s\n",
      "72:\tlearn: 0.0120834\ttest: 0.0129629\tbest: 0.0129629 (72)\ttotal: 239ms\tremaining: 3.03s\n",
      "73:\tlearn: 0.0120333\ttest: 0.0129008\tbest: 0.0129008 (73)\ttotal: 242ms\tremaining: 3.03s\n",
      "74:\tlearn: 0.0120286\ttest: 0.0128956\tbest: 0.0128956 (74)\ttotal: 246ms\tremaining: 3.03s\n",
      "75:\tlearn: 0.0119187\ttest: 0.0127996\tbest: 0.0127996 (75)\ttotal: 249ms\tremaining: 3.02s\n",
      "76:\tlearn: 0.0118595\ttest: 0.0127347\tbest: 0.0127347 (76)\ttotal: 251ms\tremaining: 3.01s\n",
      "77:\tlearn: 0.0117689\ttest: 0.0126391\tbest: 0.0126391 (77)\ttotal: 254ms\tremaining: 3s\n",
      "78:\tlearn: 0.0117260\ttest: 0.0125934\tbest: 0.0125934 (78)\ttotal: 257ms\tremaining: 3s\n",
      "79:\tlearn: 0.0116521\ttest: 0.0125041\tbest: 0.0125041 (79)\ttotal: 260ms\tremaining: 2.99s\n",
      "80:\tlearn: 0.0116166\ttest: 0.0124635\tbest: 0.0124635 (80)\ttotal: 263ms\tremaining: 2.99s\n",
      "81:\tlearn: 0.0115771\ttest: 0.0124276\tbest: 0.0124276 (81)\ttotal: 266ms\tremaining: 2.98s\n",
      "82:\tlearn: 0.0112205\ttest: 0.0120621\tbest: 0.0120621 (82)\ttotal: 269ms\tremaining: 2.97s\n",
      "83:\tlearn: 0.0108776\ttest: 0.0116905\tbest: 0.0116905 (83)\ttotal: 272ms\tremaining: 2.96s\n",
      "84:\tlearn: 0.0108271\ttest: 0.0116434\tbest: 0.0116434 (84)\ttotal: 274ms\tremaining: 2.95s\n",
      "85:\tlearn: 0.0107924\ttest: 0.0116194\tbest: 0.0116194 (85)\ttotal: 277ms\tremaining: 2.94s\n",
      "86:\tlearn: 0.0107170\ttest: 0.0115411\tbest: 0.0115411 (86)\ttotal: 279ms\tremaining: 2.93s\n",
      "87:\tlearn: 0.0106235\ttest: 0.0114458\tbest: 0.0114458 (87)\ttotal: 282ms\tremaining: 2.92s\n",
      "88:\tlearn: 0.0105582\ttest: 0.0113805\tbest: 0.0113805 (88)\ttotal: 284ms\tremaining: 2.91s\n",
      "89:\tlearn: 0.0104469\ttest: 0.0112601\tbest: 0.0112601 (89)\ttotal: 287ms\tremaining: 2.9s\n",
      "90:\tlearn: 0.0103227\ttest: 0.0111403\tbest: 0.0111403 (90)\ttotal: 290ms\tremaining: 2.9s\n",
      "91:\tlearn: 0.0099463\ttest: 0.0107983\tbest: 0.0107983 (91)\ttotal: 292ms\tremaining: 2.88s\n",
      "92:\tlearn: 0.0098288\ttest: 0.0106666\tbest: 0.0106666 (92)\ttotal: 295ms\tremaining: 2.87s\n",
      "93:\tlearn: 0.0097332\ttest: 0.0105773\tbest: 0.0105773 (93)\ttotal: 297ms\tremaining: 2.87s\n",
      "94:\tlearn: 0.0096876\ttest: 0.0105276\tbest: 0.0105276 (94)\ttotal: 300ms\tremaining: 2.86s\n",
      "95:\tlearn: 0.0095855\ttest: 0.0104155\tbest: 0.0104155 (95)\ttotal: 303ms\tremaining: 2.85s\n",
      "96:\tlearn: 0.0094947\ttest: 0.0103270\tbest: 0.0103270 (96)\ttotal: 305ms\tremaining: 2.84s\n",
      "97:\tlearn: 0.0094275\ttest: 0.0102768\tbest: 0.0102768 (97)\ttotal: 308ms\tremaining: 2.83s\n",
      "98:\tlearn: 0.0091819\ttest: 0.0100280\tbest: 0.0100280 (98)\ttotal: 310ms\tremaining: 2.82s\n",
      "99:\tlearn: 0.0090782\ttest: 0.0099458\tbest: 0.0099458 (99)\ttotal: 312ms\tremaining: 2.81s\n",
      "100:\tlearn: 0.0089606\ttest: 0.0098275\tbest: 0.0098275 (100)\ttotal: 314ms\tremaining: 2.79s\n",
      "101:\tlearn: 0.0088859\ttest: 0.0097765\tbest: 0.0097765 (101)\ttotal: 317ms\tremaining: 2.79s\n",
      "102:\tlearn: 0.0087225\ttest: 0.0096058\tbest: 0.0096058 (102)\ttotal: 319ms\tremaining: 2.78s\n",
      "103:\tlearn: 0.0085495\ttest: 0.0094160\tbest: 0.0094160 (103)\ttotal: 323ms\tremaining: 2.78s\n",
      "104:\tlearn: 0.0085009\ttest: 0.0093620\tbest: 0.0093620 (104)\ttotal: 325ms\tremaining: 2.77s\n",
      "105:\tlearn: 0.0084397\ttest: 0.0093098\tbest: 0.0093098 (105)\ttotal: 328ms\tremaining: 2.77s\n",
      "106:\tlearn: 0.0082494\ttest: 0.0091621\tbest: 0.0091621 (106)\ttotal: 331ms\tremaining: 2.76s\n"
     ]
    },
    {
     "name": "stdout",
     "output_type": "stream",
     "text": [
      "107:\tlearn: 0.0081694\ttest: 0.0090851\tbest: 0.0090851 (107)\ttotal: 334ms\tremaining: 2.76s\n",
      "108:\tlearn: 0.0080847\ttest: 0.0089943\tbest: 0.0089943 (108)\ttotal: 337ms\tremaining: 2.75s\n",
      "109:\tlearn: 0.0080545\ttest: 0.0089582\tbest: 0.0089582 (109)\ttotal: 341ms\tremaining: 2.76s\n",
      "110:\tlearn: 0.0080306\ttest: 0.0089306\tbest: 0.0089306 (110)\ttotal: 343ms\tremaining: 2.75s\n",
      "111:\tlearn: 0.0079581\ttest: 0.0088498\tbest: 0.0088498 (111)\ttotal: 347ms\tremaining: 2.75s\n",
      "112:\tlearn: 0.0079581\ttest: 0.0088498\tbest: 0.0088498 (112)\ttotal: 349ms\tremaining: 2.74s\n",
      "113:\tlearn: 0.0078781\ttest: 0.0087771\tbest: 0.0087771 (113)\ttotal: 351ms\tremaining: 2.73s\n",
      "114:\tlearn: 0.0076328\ttest: 0.0085132\tbest: 0.0085132 (114)\ttotal: 354ms\tremaining: 2.72s\n",
      "115:\tlearn: 0.0075302\ttest: 0.0084065\tbest: 0.0084065 (115)\ttotal: 356ms\tremaining: 2.71s\n",
      "116:\tlearn: 0.0073231\ttest: 0.0082188\tbest: 0.0082188 (116)\ttotal: 359ms\tremaining: 2.71s\n",
      "117:\tlearn: 0.0071980\ttest: 0.0080868\tbest: 0.0080868 (117)\ttotal: 362ms\tremaining: 2.71s\n",
      "118:\tlearn: 0.0071980\ttest: 0.0080868\tbest: 0.0080868 (118)\ttotal: 364ms\tremaining: 2.7s\n",
      "119:\tlearn: 0.0071461\ttest: 0.0080395\tbest: 0.0080395 (119)\ttotal: 368ms\tremaining: 2.7s\n",
      "120:\tlearn: 0.0070269\ttest: 0.0079120\tbest: 0.0079120 (120)\ttotal: 371ms\tremaining: 2.69s\n",
      "121:\tlearn: 0.0069929\ttest: 0.0078762\tbest: 0.0078762 (121)\ttotal: 373ms\tremaining: 2.69s\n",
      "122:\tlearn: 0.0069185\ttest: 0.0078090\tbest: 0.0078090 (122)\ttotal: 376ms\tremaining: 2.68s\n",
      "123:\tlearn: 0.0066544\ttest: 0.0075393\tbest: 0.0075393 (123)\ttotal: 378ms\tremaining: 2.67s\n",
      "124:\tlearn: 0.0065514\ttest: 0.0074354\tbest: 0.0074354 (124)\ttotal: 383ms\tremaining: 2.68s\n",
      "125:\tlearn: 0.0065514\ttest: 0.0074354\tbest: 0.0074354 (125)\ttotal: 385ms\tremaining: 2.67s\n",
      "126:\tlearn: 0.0064160\ttest: 0.0073064\tbest: 0.0073064 (126)\ttotal: 391ms\tremaining: 2.69s\n",
      "127:\tlearn: 0.0063134\ttest: 0.0071928\tbest: 0.0071928 (127)\ttotal: 395ms\tremaining: 2.69s\n",
      "128:\tlearn: 0.0061938\ttest: 0.0071004\tbest: 0.0071004 (128)\ttotal: 399ms\tremaining: 2.69s\n",
      "129:\tlearn: 0.0060491\ttest: 0.0069439\tbest: 0.0069439 (129)\ttotal: 402ms\tremaining: 2.69s\n",
      "130:\tlearn: 0.0060302\ttest: 0.0069220\tbest: 0.0069220 (130)\ttotal: 405ms\tremaining: 2.68s\n",
      "131:\tlearn: 0.0060165\ttest: 0.0069046\tbest: 0.0069046 (131)\ttotal: 407ms\tremaining: 2.67s\n",
      "132:\tlearn: 0.0059978\ttest: 0.0068812\tbest: 0.0068812 (132)\ttotal: 409ms\tremaining: 2.67s\n",
      "133:\tlearn: 0.0059454\ttest: 0.0068241\tbest: 0.0068241 (133)\ttotal: 411ms\tremaining: 2.66s\n",
      "134:\tlearn: 0.0057708\ttest: 0.0066768\tbest: 0.0066768 (134)\ttotal: 413ms\tremaining: 2.65s\n",
      "135:\tlearn: 0.0057056\ttest: 0.0066320\tbest: 0.0066320 (135)\ttotal: 415ms\tremaining: 2.64s\n",
      "136:\tlearn: 0.0056638\ttest: 0.0065936\tbest: 0.0065936 (136)\ttotal: 418ms\tremaining: 2.63s\n",
      "137:\tlearn: 0.0056343\ttest: 0.0065645\tbest: 0.0065645 (137)\ttotal: 420ms\tremaining: 2.62s\n",
      "138:\tlearn: 0.0054362\ttest: 0.0063625\tbest: 0.0063625 (138)\ttotal: 422ms\tremaining: 2.61s\n",
      "139:\tlearn: 0.0053661\ttest: 0.0062902\tbest: 0.0062902 (139)\ttotal: 425ms\tremaining: 2.61s\n",
      "140:\tlearn: 0.0053485\ttest: 0.0062777\tbest: 0.0062777 (140)\ttotal: 429ms\tremaining: 2.61s\n",
      "141:\tlearn: 0.0053139\ttest: 0.0062334\tbest: 0.0062334 (141)\ttotal: 432ms\tremaining: 2.61s\n",
      "142:\tlearn: 0.0052693\ttest: 0.0061813\tbest: 0.0061813 (142)\ttotal: 435ms\tremaining: 2.61s\n",
      "143:\tlearn: 0.0051366\ttest: 0.0060514\tbest: 0.0060514 (143)\ttotal: 438ms\tremaining: 2.6s\n",
      "144:\tlearn: 0.0050382\ttest: 0.0059434\tbest: 0.0059434 (144)\ttotal: 441ms\tremaining: 2.6s\n",
      "145:\tlearn: 0.0050010\ttest: 0.0059011\tbest: 0.0059011 (145)\ttotal: 445ms\tremaining: 2.6s\n",
      "146:\tlearn: 0.0049723\ttest: 0.0058644\tbest: 0.0058644 (146)\ttotal: 448ms\tremaining: 2.6s\n",
      "147:\tlearn: 0.0049394\ttest: 0.0058210\tbest: 0.0058210 (147)\ttotal: 451ms\tremaining: 2.6s\n",
      "148:\tlearn: 0.0049314\ttest: 0.0058088\tbest: 0.0058088 (148)\ttotal: 454ms\tremaining: 2.59s\n",
      "149:\tlearn: 0.0048609\ttest: 0.0057333\tbest: 0.0057333 (149)\ttotal: 457ms\tremaining: 2.59s\n",
      "150:\tlearn: 0.0048369\ttest: 0.0057008\tbest: 0.0057008 (150)\ttotal: 460ms\tremaining: 2.58s\n",
      "151:\tlearn: 0.0047906\ttest: 0.0056516\tbest: 0.0056516 (151)\ttotal: 463ms\tremaining: 2.58s\n",
      "152:\tlearn: 0.0047472\ttest: 0.0056033\tbest: 0.0056033 (152)\ttotal: 469ms\tremaining: 2.6s\n",
      "153:\tlearn: 0.0046165\ttest: 0.0054673\tbest: 0.0054673 (153)\ttotal: 480ms\tremaining: 2.64s\n",
      "154:\tlearn: 0.0044898\ttest: 0.0053541\tbest: 0.0053541 (154)\ttotal: 484ms\tremaining: 2.64s\n",
      "155:\tlearn: 0.0044897\ttest: 0.0053540\tbest: 0.0053540 (155)\ttotal: 490ms\tremaining: 2.65s\n",
      "156:\tlearn: 0.0044072\ttest: 0.0052640\tbest: 0.0052640 (156)\ttotal: 496ms\tremaining: 2.66s\n",
      "157:\tlearn: 0.0043819\ttest: 0.0052355\tbest: 0.0052355 (157)\ttotal: 499ms\tremaining: 2.66s\n",
      "158:\tlearn: 0.0041926\ttest: 0.0050388\tbest: 0.0050388 (158)\ttotal: 503ms\tremaining: 2.66s\n",
      "159:\tlearn: 0.0041572\ttest: 0.0049967\tbest: 0.0049967 (159)\ttotal: 508ms\tremaining: 2.67s\n",
      "160:\tlearn: 0.0040698\ttest: 0.0049312\tbest: 0.0049312 (160)\ttotal: 528ms\tremaining: 2.75s\n",
      "161:\tlearn: 0.0040380\ttest: 0.0048920\tbest: 0.0048920 (161)\ttotal: 531ms\tremaining: 2.75s\n",
      "162:\tlearn: 0.0040371\ttest: 0.0048903\tbest: 0.0048903 (162)\ttotal: 534ms\tremaining: 2.74s\n",
      "163:\tlearn: 0.0040214\ttest: 0.0048716\tbest: 0.0048716 (163)\ttotal: 538ms\tremaining: 2.74s\n",
      "164:\tlearn: 0.0040201\ttest: 0.0048690\tbest: 0.0048690 (164)\ttotal: 542ms\tremaining: 2.74s\n",
      "165:\tlearn: 0.0040108\ttest: 0.0048555\tbest: 0.0048555 (165)\ttotal: 547ms\tremaining: 2.75s\n",
      "166:\tlearn: 0.0040040\ttest: 0.0048475\tbest: 0.0048475 (166)\ttotal: 553ms\tremaining: 2.76s\n",
      "167:\tlearn: 0.0039433\ttest: 0.0047803\tbest: 0.0047803 (167)\ttotal: 555ms\tremaining: 2.75s\n",
      "168:\tlearn: 0.0039433\ttest: 0.0047803\tbest: 0.0047803 (168)\ttotal: 558ms\tremaining: 2.74s\n",
      "169:\tlearn: 0.0039300\ttest: 0.0047609\tbest: 0.0047609 (169)\ttotal: 560ms\tremaining: 2.74s\n",
      "170:\tlearn: 0.0038637\ttest: 0.0046876\tbest: 0.0046876 (170)\ttotal: 564ms\tremaining: 2.73s\n",
      "171:\tlearn: 0.0038508\ttest: 0.0046683\tbest: 0.0046683 (171)\ttotal: 567ms\tremaining: 2.73s\n",
      "172:\tlearn: 0.0038207\ttest: 0.0046354\tbest: 0.0046354 (172)\ttotal: 570ms\tremaining: 2.72s\n",
      "173:\tlearn: 0.0038190\ttest: 0.0046329\tbest: 0.0046329 (173)\ttotal: 573ms\tremaining: 2.72s\n",
      "174:\tlearn: 0.0037791\ttest: 0.0045877\tbest: 0.0045877 (174)\ttotal: 577ms\tremaining: 2.72s\n",
      "175:\tlearn: 0.0037791\ttest: 0.0045877\tbest: 0.0045877 (174)\ttotal: 581ms\tremaining: 2.72s\n",
      "176:\tlearn: 0.0037791\ttest: 0.0045877\tbest: 0.0045877 (176)\ttotal: 587ms\tremaining: 2.73s\n",
      "177:\tlearn: 0.0037729\ttest: 0.0045777\tbest: 0.0045777 (177)\ttotal: 589ms\tremaining: 2.72s\n",
      "178:\tlearn: 0.0037729\ttest: 0.0045777\tbest: 0.0045777 (178)\ttotal: 591ms\tremaining: 2.71s\n",
      "179:\tlearn: 0.0037586\ttest: 0.0045607\tbest: 0.0045607 (179)\ttotal: 595ms\tremaining: 2.71s\n",
      "180:\tlearn: 0.0037343\ttest: 0.0045339\tbest: 0.0045339 (180)\ttotal: 598ms\tremaining: 2.7s\n",
      "181:\tlearn: 0.0037173\ttest: 0.0045144\tbest: 0.0045144 (181)\ttotal: 601ms\tremaining: 2.7s\n",
      "182:\tlearn: 0.0036981\ttest: 0.0044944\tbest: 0.0044944 (182)\ttotal: 604ms\tremaining: 2.7s\n",
      "183:\tlearn: 0.0035993\ttest: 0.0043807\tbest: 0.0043807 (183)\ttotal: 606ms\tremaining: 2.69s\n",
      "184:\tlearn: 0.0035748\ttest: 0.0043498\tbest: 0.0043498 (184)\ttotal: 608ms\tremaining: 2.68s\n",
      "185:\tlearn: 0.0035279\ttest: 0.0043153\tbest: 0.0043153 (185)\ttotal: 610ms\tremaining: 2.67s\n",
      "186:\tlearn: 0.0035279\ttest: 0.0043152\tbest: 0.0043152 (186)\ttotal: 612ms\tremaining: 2.66s\n",
      "187:\tlearn: 0.0035070\ttest: 0.0042943\tbest: 0.0042943 (187)\ttotal: 614ms\tremaining: 2.65s\n",
      "188:\tlearn: 0.0035070\ttest: 0.0042943\tbest: 0.0042943 (188)\ttotal: 616ms\tremaining: 2.65s\n",
      "189:\tlearn: 0.0035070\ttest: 0.0042943\tbest: 0.0042943 (189)\ttotal: 618ms\tremaining: 2.63s\n",
      "190:\tlearn: 0.0034610\ttest: 0.0042455\tbest: 0.0042455 (190)\ttotal: 620ms\tremaining: 2.63s\n",
      "191:\tlearn: 0.0034440\ttest: 0.0042254\tbest: 0.0042254 (191)\ttotal: 623ms\tremaining: 2.62s\n",
      "192:\tlearn: 0.0034060\ttest: 0.0041798\tbest: 0.0041798 (192)\ttotal: 625ms\tremaining: 2.61s\n",
      "193:\tlearn: 0.0033943\ttest: 0.0041651\tbest: 0.0041651 (193)\ttotal: 627ms\tremaining: 2.61s\n",
      "194:\tlearn: 0.0033806\ttest: 0.0041465\tbest: 0.0041465 (194)\ttotal: 630ms\tremaining: 2.6s\n",
      "195:\tlearn: 0.0033697\ttest: 0.0041310\tbest: 0.0041310 (195)\ttotal: 632ms\tremaining: 2.59s\n",
      "196:\tlearn: 0.0033167\ttest: 0.0040806\tbest: 0.0040806 (196)\ttotal: 634ms\tremaining: 2.59s\n",
      "197:\tlearn: 0.0033167\ttest: 0.0040806\tbest: 0.0040806 (196)\ttotal: 636ms\tremaining: 2.58s\n",
      "198:\tlearn: 0.0032503\ttest: 0.0040070\tbest: 0.0040070 (198)\ttotal: 638ms\tremaining: 2.57s\n",
      "199:\tlearn: 0.0031860\ttest: 0.0039408\tbest: 0.0039408 (199)\ttotal: 640ms\tremaining: 2.56s\n",
      "200:\tlearn: 0.0031663\ttest: 0.0039139\tbest: 0.0039139 (200)\ttotal: 642ms\tremaining: 2.55s\n",
      "201:\tlearn: 0.0031638\ttest: 0.0039088\tbest: 0.0039088 (201)\ttotal: 644ms\tremaining: 2.54s\n",
      "202:\tlearn: 0.0031230\ttest: 0.0038617\tbest: 0.0038617 (202)\ttotal: 646ms\tremaining: 2.54s\n",
      "203:\tlearn: 0.0031230\ttest: 0.0038617\tbest: 0.0038617 (203)\ttotal: 648ms\tremaining: 2.53s\n",
      "204:\tlearn: 0.0031126\ttest: 0.0038531\tbest: 0.0038531 (204)\ttotal: 650ms\tremaining: 2.52s\n",
      "205:\tlearn: 0.0031126\ttest: 0.0038531\tbest: 0.0038531 (205)\ttotal: 652ms\tremaining: 2.51s\n",
      "206:\tlearn: 0.0030935\ttest: 0.0038349\tbest: 0.0038349 (206)\ttotal: 654ms\tremaining: 2.5s\n",
      "207:\tlearn: 0.0030823\ttest: 0.0038215\tbest: 0.0038215 (207)\ttotal: 656ms\tremaining: 2.5s\n",
      "208:\tlearn: 0.0030714\ttest: 0.0038096\tbest: 0.0038096 (208)\ttotal: 658ms\tremaining: 2.49s\n",
      "209:\tlearn: 0.0030714\ttest: 0.0038096\tbest: 0.0038096 (209)\ttotal: 659ms\tremaining: 2.48s\n",
      "210:\tlearn: 0.0030454\ttest: 0.0037872\tbest: 0.0037872 (210)\ttotal: 661ms\tremaining: 2.47s\n",
      "211:\tlearn: 0.0030231\ttest: 0.0037612\tbest: 0.0037612 (211)\ttotal: 663ms\tremaining: 2.46s\n",
      "212:\tlearn: 0.0030231\ttest: 0.0037612\tbest: 0.0037612 (212)\ttotal: 664ms\tremaining: 2.46s\n",
      "213:\tlearn: 0.0030041\ttest: 0.0037393\tbest: 0.0037393 (213)\ttotal: 667ms\tremaining: 2.45s\n",
      "214:\tlearn: 0.0030041\ttest: 0.0037393\tbest: 0.0037393 (214)\ttotal: 669ms\tremaining: 2.44s\n",
      "215:\tlearn: 0.0029740\ttest: 0.0037069\tbest: 0.0037069 (215)\ttotal: 671ms\tremaining: 2.43s\n",
      "216:\tlearn: 0.0029497\ttest: 0.0036790\tbest: 0.0036790 (216)\ttotal: 673ms\tremaining: 2.43s\n",
      "217:\tlearn: 0.0029356\ttest: 0.0036634\tbest: 0.0036634 (217)\ttotal: 675ms\tremaining: 2.42s\n",
      "218:\tlearn: 0.0029347\ttest: 0.0036620\tbest: 0.0036620 (218)\ttotal: 676ms\tremaining: 2.41s\n",
      "219:\tlearn: 0.0029234\ttest: 0.0036492\tbest: 0.0036492 (219)\ttotal: 678ms\tremaining: 2.4s\n",
      "220:\tlearn: 0.0029083\ttest: 0.0036352\tbest: 0.0036352 (220)\ttotal: 680ms\tremaining: 2.4s\n",
      "221:\tlearn: 0.0029083\ttest: 0.0036351\tbest: 0.0036351 (221)\ttotal: 682ms\tremaining: 2.39s\n",
      "222:\tlearn: 0.0029082\ttest: 0.0036350\tbest: 0.0036350 (222)\ttotal: 684ms\tremaining: 2.38s\n",
      "223:\tlearn: 0.0028991\ttest: 0.0036303\tbest: 0.0036303 (223)\ttotal: 686ms\tremaining: 2.38s\n",
      "224:\tlearn: 0.0028991\ttest: 0.0036303\tbest: 0.0036303 (223)\ttotal: 687ms\tremaining: 2.37s\n",
      "225:\tlearn: 0.0028990\ttest: 0.0036303\tbest: 0.0036303 (225)\ttotal: 689ms\tremaining: 2.36s\n",
      "226:\tlearn: 0.0028990\ttest: 0.0036303\tbest: 0.0036303 (226)\ttotal: 691ms\tremaining: 2.35s\n",
      "227:\tlearn: 0.0028990\ttest: 0.0036303\tbest: 0.0036303 (227)\ttotal: 694ms\tremaining: 2.35s\n"
     ]
    },
    {
     "name": "stdout",
     "output_type": "stream",
     "text": [
      "228:\tlearn: 0.0028264\ttest: 0.0035808\tbest: 0.0035808 (228)\ttotal: 700ms\tremaining: 2.35s\n",
      "229:\tlearn: 0.0028264\ttest: 0.0035808\tbest: 0.0035808 (229)\ttotal: 702ms\tremaining: 2.35s\n",
      "230:\tlearn: 0.0028131\ttest: 0.0035669\tbest: 0.0035669 (230)\ttotal: 705ms\tremaining: 2.35s\n",
      "231:\tlearn: 0.0028083\ttest: 0.0035626\tbest: 0.0035626 (231)\ttotal: 708ms\tremaining: 2.34s\n",
      "232:\tlearn: 0.0028083\ttest: 0.0035626\tbest: 0.0035626 (232)\ttotal: 710ms\tremaining: 2.34s\n",
      "233:\tlearn: 0.0028083\ttest: 0.0035626\tbest: 0.0035626 (233)\ttotal: 712ms\tremaining: 2.33s\n",
      "234:\tlearn: 0.0028083\ttest: 0.0035626\tbest: 0.0035626 (233)\ttotal: 713ms\tremaining: 2.32s\n",
      "235:\tlearn: 0.0028083\ttest: 0.0035626\tbest: 0.0035626 (235)\ttotal: 715ms\tremaining: 2.31s\n",
      "236:\tlearn: 0.0027673\ttest: 0.0035246\tbest: 0.0035246 (236)\ttotal: 721ms\tremaining: 2.32s\n",
      "237:\tlearn: 0.0027674\ttest: 0.0035246\tbest: 0.0035246 (237)\ttotal: 724ms\tremaining: 2.32s\n",
      "238:\tlearn: 0.0027673\ttest: 0.0035246\tbest: 0.0035246 (238)\ttotal: 725ms\tremaining: 2.31s\n",
      "239:\tlearn: 0.0027673\ttest: 0.0035246\tbest: 0.0035246 (239)\ttotal: 728ms\tremaining: 2.31s\n",
      "240:\tlearn: 0.0027673\ttest: 0.0035246\tbest: 0.0035246 (240)\ttotal: 734ms\tremaining: 2.31s\n",
      "241:\tlearn: 0.0027673\ttest: 0.0035246\tbest: 0.0035246 (241)\ttotal: 747ms\tremaining: 2.34s\n",
      "242:\tlearn: 0.0027673\ttest: 0.0035246\tbest: 0.0035246 (242)\ttotal: 752ms\tremaining: 2.34s\n",
      "243:\tlearn: 0.0027440\ttest: 0.0035049\tbest: 0.0035049 (243)\ttotal: 754ms\tremaining: 2.33s\n",
      "244:\tlearn: 0.0027440\ttest: 0.0035049\tbest: 0.0035049 (244)\ttotal: 755ms\tremaining: 2.33s\n",
      "245:\tlearn: 0.0027357\ttest: 0.0034952\tbest: 0.0034952 (245)\ttotal: 758ms\tremaining: 2.32s\n",
      "246:\tlearn: 0.0027357\ttest: 0.0034951\tbest: 0.0034951 (246)\ttotal: 760ms\tremaining: 2.32s\n",
      "247:\tlearn: 0.0026901\ttest: 0.0034528\tbest: 0.0034528 (247)\ttotal: 763ms\tremaining: 2.31s\n",
      "248:\tlearn: 0.0026901\ttest: 0.0034528\tbest: 0.0034528 (248)\ttotal: 764ms\tremaining: 2.31s\n",
      "249:\tlearn: 0.0026901\ttest: 0.0034528\tbest: 0.0034528 (249)\ttotal: 766ms\tremaining: 2.3s\n",
      "250:\tlearn: 0.0026901\ttest: 0.0034528\tbest: 0.0034528 (250)\ttotal: 769ms\tremaining: 2.29s\n",
      "251:\tlearn: 0.0026799\ttest: 0.0034393\tbest: 0.0034393 (251)\ttotal: 771ms\tremaining: 2.29s\n",
      "252:\tlearn: 0.0026662\ttest: 0.0034198\tbest: 0.0034198 (252)\ttotal: 777ms\tremaining: 2.29s\n",
      "253:\tlearn: 0.0026661\ttest: 0.0034198\tbest: 0.0034198 (253)\ttotal: 782ms\tremaining: 2.3s\n",
      "254:\tlearn: 0.0026661\ttest: 0.0034198\tbest: 0.0034198 (254)\ttotal: 784ms\tremaining: 2.29s\n",
      "255:\tlearn: 0.0026662\ttest: 0.0034198\tbest: 0.0034198 (255)\ttotal: 786ms\tremaining: 2.28s\n",
      "256:\tlearn: 0.0026661\ttest: 0.0034198\tbest: 0.0034198 (256)\ttotal: 794ms\tremaining: 2.29s\n",
      "257:\tlearn: 0.0026661\ttest: 0.0034198\tbest: 0.0034198 (257)\ttotal: 801ms\tremaining: 2.3s\n",
      "258:\tlearn: 0.0026661\ttest: 0.0034198\tbest: 0.0034198 (258)\ttotal: 851ms\tremaining: 2.43s\n",
      "259:\tlearn: 0.0026661\ttest: 0.0034198\tbest: 0.0034198 (259)\ttotal: 865ms\tremaining: 2.46s\n",
      "260:\tlearn: 0.0026535\ttest: 0.0034027\tbest: 0.0034027 (260)\ttotal: 894ms\tremaining: 2.53s\n",
      "261:\tlearn: 0.0026535\ttest: 0.0034027\tbest: 0.0034027 (261)\ttotal: 897ms\tremaining: 2.53s\n",
      "262:\tlearn: 0.0026535\ttest: 0.0034027\tbest: 0.0034027 (262)\ttotal: 930ms\tremaining: 2.6s\n",
      "263:\tlearn: 0.0026535\ttest: 0.0034027\tbest: 0.0034027 (262)\ttotal: 942ms\tremaining: 2.63s\n",
      "264:\tlearn: 0.0026535\ttest: 0.0034026\tbest: 0.0034026 (264)\ttotal: 950ms\tremaining: 2.63s\n",
      "265:\tlearn: 0.0026535\ttest: 0.0034026\tbest: 0.0034026 (264)\ttotal: 954ms\tremaining: 2.63s\n",
      "266:\tlearn: 0.0026535\ttest: 0.0034026\tbest: 0.0034026 (266)\ttotal: 960ms\tremaining: 2.63s\n",
      "267:\tlearn: 0.0026535\ttest: 0.0034026\tbest: 0.0034026 (267)\ttotal: 964ms\tremaining: 2.63s\n",
      "268:\tlearn: 0.0026535\ttest: 0.0034026\tbest: 0.0034026 (268)\ttotal: 967ms\tremaining: 2.63s\n",
      "269:\tlearn: 0.0026535\ttest: 0.0034026\tbest: 0.0034026 (269)\ttotal: 969ms\tremaining: 2.62s\n",
      "270:\tlearn: 0.0026535\ttest: 0.0034026\tbest: 0.0034026 (270)\ttotal: 972ms\tremaining: 2.61s\n",
      "271:\tlearn: 0.0026534\ttest: 0.0034026\tbest: 0.0034026 (271)\ttotal: 977ms\tremaining: 2.61s\n",
      "272:\tlearn: 0.0026534\ttest: 0.0034026\tbest: 0.0034026 (272)\ttotal: 984ms\tremaining: 2.62s\n",
      "273:\tlearn: 0.0026534\ttest: 0.0034025\tbest: 0.0034025 (273)\ttotal: 989ms\tremaining: 2.62s\n",
      "274:\tlearn: 0.0026535\ttest: 0.0034025\tbest: 0.0034025 (274)\ttotal: 991ms\tremaining: 2.61s\n",
      "275:\tlearn: 0.0026534\ttest: 0.0034025\tbest: 0.0034025 (275)\ttotal: 996ms\tremaining: 2.61s\n",
      "276:\tlearn: 0.0026535\ttest: 0.0034025\tbest: 0.0034025 (276)\ttotal: 999ms\tremaining: 2.61s\n",
      "277:\tlearn: 0.0026535\ttest: 0.0034025\tbest: 0.0034025 (277)\ttotal: 1s\tremaining: 2.6s\n",
      "278:\tlearn: 0.0026535\ttest: 0.0034025\tbest: 0.0034025 (278)\ttotal: 1s\tremaining: 2.6s\n",
      "279:\tlearn: 0.0026535\ttest: 0.0034025\tbest: 0.0034025 (279)\ttotal: 1.01s\tremaining: 2.59s\n",
      "280:\tlearn: 0.0026534\ttest: 0.0034025\tbest: 0.0034025 (280)\ttotal: 1.01s\tremaining: 2.59s\n",
      "281:\tlearn: 0.0026534\ttest: 0.0034025\tbest: 0.0034025 (281)\ttotal: 1.01s\tremaining: 2.58s\n",
      "282:\tlearn: 0.0026534\ttest: 0.0034025\tbest: 0.0034025 (282)\ttotal: 1.02s\tremaining: 2.58s\n",
      "283:\tlearn: 0.0026534\ttest: 0.0034025\tbest: 0.0034025 (283)\ttotal: 1.02s\tremaining: 2.57s\n",
      "284:\tlearn: 0.0026534\ttest: 0.0034025\tbest: 0.0034025 (284)\ttotal: 1.02s\tremaining: 2.57s\n",
      "285:\tlearn: 0.0026534\ttest: 0.0034025\tbest: 0.0034025 (285)\ttotal: 1.03s\tremaining: 2.56s\n",
      "286:\tlearn: 0.0026534\ttest: 0.0034025\tbest: 0.0034025 (286)\ttotal: 1.03s\tremaining: 2.56s\n",
      "287:\tlearn: 0.0026534\ttest: 0.0034025\tbest: 0.0034025 (287)\ttotal: 1.04s\tremaining: 2.57s\n",
      "288:\tlearn: 0.0026534\ttest: 0.0034025\tbest: 0.0034025 (288)\ttotal: 1.04s\tremaining: 2.57s\n",
      "289:\tlearn: 0.0026534\ttest: 0.0034024\tbest: 0.0034024 (289)\ttotal: 1.05s\tremaining: 2.56s\n",
      "290:\tlearn: 0.0026534\ttest: 0.0034024\tbest: 0.0034024 (290)\ttotal: 1.17s\tremaining: 2.86s\n",
      "291:\tlearn: 0.0026534\ttest: 0.0034024\tbest: 0.0034024 (291)\ttotal: 1.18s\tremaining: 2.85s\n",
      "292:\tlearn: 0.0026534\ttest: 0.0034024\tbest: 0.0034024 (292)\ttotal: 1.18s\tremaining: 2.85s\n",
      "293:\tlearn: 0.0026534\ttest: 0.0034024\tbest: 0.0034024 (293)\ttotal: 1.19s\tremaining: 2.85s\n",
      "294:\tlearn: 0.0026534\ttest: 0.0034024\tbest: 0.0034024 (294)\ttotal: 1.19s\tremaining: 2.84s\n",
      "295:\tlearn: 0.0026534\ttest: 0.0034023\tbest: 0.0034023 (295)\ttotal: 1.19s\tremaining: 2.83s\n",
      "296:\tlearn: 0.0026534\ttest: 0.0034023\tbest: 0.0034023 (296)\ttotal: 1.19s\tremaining: 2.82s\n",
      "297:\tlearn: 0.0026534\ttest: 0.0034023\tbest: 0.0034023 (297)\ttotal: 1.19s\tremaining: 2.81s\n",
      "298:\tlearn: 0.0026534\ttest: 0.0034023\tbest: 0.0034023 (298)\ttotal: 1.2s\tremaining: 2.81s\n",
      "299:\tlearn: 0.0026534\ttest: 0.0034023\tbest: 0.0034023 (299)\ttotal: 1.2s\tremaining: 2.8s\n",
      "300:\tlearn: 0.0026534\ttest: 0.0034023\tbest: 0.0034023 (300)\ttotal: 1.2s\tremaining: 2.79s\n",
      "301:\tlearn: 0.0026534\ttest: 0.0034023\tbest: 0.0034023 (301)\ttotal: 1.21s\tremaining: 2.79s\n",
      "302:\tlearn: 0.0026534\ttest: 0.0034023\tbest: 0.0034023 (302)\ttotal: 1.21s\tremaining: 2.78s\n",
      "303:\tlearn: 0.0026534\ttest: 0.0034023\tbest: 0.0034023 (303)\ttotal: 1.21s\tremaining: 2.77s\n",
      "304:\tlearn: 0.0026534\ttest: 0.0034023\tbest: 0.0034023 (304)\ttotal: 1.21s\tremaining: 2.76s\n",
      "305:\tlearn: 0.0026534\ttest: 0.0034023\tbest: 0.0034023 (305)\ttotal: 1.22s\tremaining: 2.76s\n",
      "306:\tlearn: 0.0026534\ttest: 0.0034022\tbest: 0.0034022 (306)\ttotal: 1.22s\tremaining: 2.76s\n",
      "307:\tlearn: 0.0026534\ttest: 0.0034022\tbest: 0.0034022 (307)\ttotal: 1.22s\tremaining: 2.75s\n",
      "308:\tlearn: 0.0026533\ttest: 0.0034022\tbest: 0.0034022 (308)\ttotal: 1.23s\tremaining: 2.74s\n",
      "309:\tlearn: 0.0026534\ttest: 0.0034022\tbest: 0.0034022 (309)\ttotal: 1.23s\tremaining: 2.73s\n",
      "310:\tlearn: 0.0026534\ttest: 0.0034021\tbest: 0.0034021 (310)\ttotal: 1.23s\tremaining: 2.73s\n",
      "311:\tlearn: 0.0026533\ttest: 0.0034021\tbest: 0.0034021 (311)\ttotal: 1.23s\tremaining: 2.72s\n",
      "312:\tlearn: 0.0026534\ttest: 0.0034021\tbest: 0.0034021 (312)\ttotal: 1.24s\tremaining: 2.71s\n",
      "313:\tlearn: 0.0026533\ttest: 0.0034021\tbest: 0.0034021 (313)\ttotal: 1.24s\tremaining: 2.71s\n",
      "314:\tlearn: 0.0026533\ttest: 0.0034021\tbest: 0.0034021 (313)\ttotal: 1.24s\tremaining: 2.7s\n",
      "315:\tlearn: 0.0026533\ttest: 0.0034021\tbest: 0.0034021 (313)\ttotal: 1.24s\tremaining: 2.69s\n",
      "316:\tlearn: 0.0026533\ttest: 0.0034021\tbest: 0.0034021 (313)\ttotal: 1.25s\tremaining: 2.69s\n",
      "317:\tlearn: 0.0026533\ttest: 0.0034021\tbest: 0.0034021 (313)\ttotal: 1.25s\tremaining: 2.68s\n",
      "318:\tlearn: 0.0026533\ttest: 0.0034021\tbest: 0.0034021 (313)\ttotal: 1.25s\tremaining: 2.67s\n",
      "319:\tlearn: 0.0026533\ttest: 0.0034021\tbest: 0.0034021 (313)\ttotal: 1.25s\tremaining: 2.66s\n",
      "320:\tlearn: 0.0026533\ttest: 0.0034021\tbest: 0.0034021 (313)\ttotal: 1.25s\tremaining: 2.65s\n",
      "321:\tlearn: 0.0026533\ttest: 0.0034021\tbest: 0.0034021 (313)\ttotal: 1.26s\tremaining: 2.65s\n",
      "322:\tlearn: 0.0026533\ttest: 0.0034021\tbest: 0.0034021 (313)\ttotal: 1.26s\tremaining: 2.64s\n",
      "323:\tlearn: 0.0026533\ttest: 0.0034021\tbest: 0.0034021 (313)\ttotal: 1.26s\tremaining: 2.63s\n",
      "324:\tlearn: 0.0026533\ttest: 0.0034021\tbest: 0.0034021 (313)\ttotal: 1.26s\tremaining: 2.62s\n",
      "325:\tlearn: 0.0026533\ttest: 0.0034021\tbest: 0.0034021 (313)\ttotal: 1.26s\tremaining: 2.61s\n",
      "326:\tlearn: 0.0026533\ttest: 0.0034021\tbest: 0.0034021 (313)\ttotal: 1.26s\tremaining: 2.6s\n",
      "327:\tlearn: 0.0026533\ttest: 0.0034021\tbest: 0.0034021 (313)\ttotal: 1.27s\tremaining: 2.6s\n",
      "328:\tlearn: 0.0026533\ttest: 0.0034021\tbest: 0.0034021 (313)\ttotal: 1.27s\tremaining: 2.59s\n",
      "329:\tlearn: 0.0026533\ttest: 0.0034021\tbest: 0.0034021 (313)\ttotal: 1.27s\tremaining: 2.58s\n",
      "330:\tlearn: 0.0026533\ttest: 0.0034021\tbest: 0.0034021 (313)\ttotal: 1.27s\tremaining: 2.58s\n",
      "331:\tlearn: 0.0026533\ttest: 0.0034021\tbest: 0.0034021 (313)\ttotal: 1.28s\tremaining: 2.57s\n",
      "332:\tlearn: 0.0026533\ttest: 0.0034021\tbest: 0.0034021 (313)\ttotal: 1.28s\tremaining: 2.57s\n",
      "333:\tlearn: 0.0026533\ttest: 0.0034021\tbest: 0.0034021 (313)\ttotal: 1.28s\tremaining: 2.56s\n",
      "334:\tlearn: 0.0026533\ttest: 0.0034021\tbest: 0.0034021 (313)\ttotal: 1.29s\tremaining: 2.55s\n",
      "335:\tlearn: 0.0026533\ttest: 0.0034021\tbest: 0.0034021 (313)\ttotal: 1.29s\tremaining: 2.55s\n",
      "336:\tlearn: 0.0026533\ttest: 0.0034021\tbest: 0.0034021 (313)\ttotal: 1.29s\tremaining: 2.54s\n",
      "337:\tlearn: 0.0026533\ttest: 0.0034021\tbest: 0.0034021 (313)\ttotal: 1.29s\tremaining: 2.54s\n",
      "338:\tlearn: 0.0026533\ttest: 0.0034021\tbest: 0.0034021 (313)\ttotal: 1.3s\tremaining: 2.53s\n",
      "339:\tlearn: 0.0026533\ttest: 0.0034021\tbest: 0.0034021 (313)\ttotal: 1.3s\tremaining: 2.53s\n",
      "340:\tlearn: 0.0026533\ttest: 0.0034021\tbest: 0.0034021 (313)\ttotal: 1.3s\tremaining: 2.52s\n",
      "341:\tlearn: 0.0026533\ttest: 0.0034021\tbest: 0.0034021 (313)\ttotal: 1.31s\tremaining: 2.52s\n",
      "342:\tlearn: 0.0026533\ttest: 0.0034021\tbest: 0.0034021 (313)\ttotal: 1.31s\tremaining: 2.51s\n",
      "343:\tlearn: 0.0026533\ttest: 0.0034021\tbest: 0.0034021 (313)\ttotal: 1.31s\tremaining: 2.5s\n",
      "344:\tlearn: 0.0026533\ttest: 0.0034021\tbest: 0.0034021 (313)\ttotal: 1.32s\tremaining: 2.5s\n",
      "345:\tlearn: 0.0026533\ttest: 0.0034021\tbest: 0.0034021 (313)\ttotal: 1.32s\tremaining: 2.5s\n",
      "346:\tlearn: 0.0026533\ttest: 0.0034021\tbest: 0.0034021 (313)\ttotal: 1.32s\tremaining: 2.49s\n",
      "347:\tlearn: 0.0026533\ttest: 0.0034021\tbest: 0.0034021 (313)\ttotal: 1.32s\tremaining: 2.48s\n",
      "348:\tlearn: 0.0026533\ttest: 0.0034021\tbest: 0.0034021 (313)\ttotal: 1.33s\tremaining: 2.48s\n",
      "349:\tlearn: 0.0026533\ttest: 0.0034021\tbest: 0.0034021 (313)\ttotal: 1.33s\tremaining: 2.47s\n"
     ]
    },
    {
     "name": "stdout",
     "output_type": "stream",
     "text": [
      "350:\tlearn: 0.0026533\ttest: 0.0034021\tbest: 0.0034021 (313)\ttotal: 1.33s\tremaining: 2.47s\n",
      "351:\tlearn: 0.0026533\ttest: 0.0034021\tbest: 0.0034021 (313)\ttotal: 1.34s\tremaining: 2.46s\n",
      "352:\tlearn: 0.0026533\ttest: 0.0034021\tbest: 0.0034021 (313)\ttotal: 1.34s\tremaining: 2.46s\n",
      "353:\tlearn: 0.0026533\ttest: 0.0034021\tbest: 0.0034021 (313)\ttotal: 1.34s\tremaining: 2.45s\n",
      "354:\tlearn: 0.0026533\ttest: 0.0034021\tbest: 0.0034021 (313)\ttotal: 1.34s\tremaining: 2.44s\n",
      "355:\tlearn: 0.0026533\ttest: 0.0034021\tbest: 0.0034021 (313)\ttotal: 1.35s\tremaining: 2.44s\n",
      "356:\tlearn: 0.0026533\ttest: 0.0034021\tbest: 0.0034021 (313)\ttotal: 1.35s\tremaining: 2.44s\n",
      "357:\tlearn: 0.0026533\ttest: 0.0034021\tbest: 0.0034021 (313)\ttotal: 1.35s\tremaining: 2.43s\n",
      "358:\tlearn: 0.0026533\ttest: 0.0034021\tbest: 0.0034021 (313)\ttotal: 1.36s\tremaining: 2.42s\n",
      "359:\tlearn: 0.0026533\ttest: 0.0034021\tbest: 0.0034021 (313)\ttotal: 1.36s\tremaining: 2.42s\n",
      "360:\tlearn: 0.0026533\ttest: 0.0034021\tbest: 0.0034021 (313)\ttotal: 1.36s\tremaining: 2.41s\n",
      "361:\tlearn: 0.0026533\ttest: 0.0034021\tbest: 0.0034021 (313)\ttotal: 1.37s\tremaining: 2.41s\n",
      "362:\tlearn: 0.0026533\ttest: 0.0034021\tbest: 0.0034021 (313)\ttotal: 1.37s\tremaining: 2.4s\n",
      "363:\tlearn: 0.0026533\ttest: 0.0034021\tbest: 0.0034021 (313)\ttotal: 1.37s\tremaining: 2.39s\n",
      "364:\tlearn: 0.0026533\ttest: 0.0034021\tbest: 0.0034021 (313)\ttotal: 1.37s\tremaining: 2.39s\n",
      "365:\tlearn: 0.0026533\ttest: 0.0034021\tbest: 0.0034021 (313)\ttotal: 1.38s\tremaining: 2.38s\n",
      "366:\tlearn: 0.0026533\ttest: 0.0034021\tbest: 0.0034021 (313)\ttotal: 1.38s\tremaining: 2.38s\n",
      "367:\tlearn: 0.0026533\ttest: 0.0034021\tbest: 0.0034021 (313)\ttotal: 1.38s\tremaining: 2.37s\n",
      "368:\tlearn: 0.0026533\ttest: 0.0034021\tbest: 0.0034021 (313)\ttotal: 1.38s\tremaining: 2.37s\n",
      "369:\tlearn: 0.0026533\ttest: 0.0034021\tbest: 0.0034021 (313)\ttotal: 1.4s\tremaining: 2.38s\n",
      "370:\tlearn: 0.0026533\ttest: 0.0034021\tbest: 0.0034021 (313)\ttotal: 1.41s\tremaining: 2.38s\n",
      "371:\tlearn: 0.0026533\ttest: 0.0034021\tbest: 0.0034021 (313)\ttotal: 1.41s\tremaining: 2.38s\n",
      "372:\tlearn: 0.0026533\ttest: 0.0034021\tbest: 0.0034021 (313)\ttotal: 1.41s\tremaining: 2.37s\n",
      "373:\tlearn: 0.0026533\ttest: 0.0034021\tbest: 0.0034021 (313)\ttotal: 1.41s\tremaining: 2.37s\n",
      "374:\tlearn: 0.0026533\ttest: 0.0034021\tbest: 0.0034021 (313)\ttotal: 1.52s\tremaining: 2.53s\n",
      "375:\tlearn: 0.0026533\ttest: 0.0034021\tbest: 0.0034021 (313)\ttotal: 1.52s\tremaining: 2.53s\n",
      "376:\tlearn: 0.0026533\ttest: 0.0034021\tbest: 0.0034021 (313)\ttotal: 1.52s\tremaining: 2.52s\n",
      "377:\tlearn: 0.0026533\ttest: 0.0034021\tbest: 0.0034021 (313)\ttotal: 1.53s\tremaining: 2.51s\n",
      "378:\tlearn: 0.0026533\ttest: 0.0034021\tbest: 0.0034021 (313)\ttotal: 1.53s\tremaining: 2.51s\n",
      "379:\tlearn: 0.0026533\ttest: 0.0034021\tbest: 0.0034021 (313)\ttotal: 1.53s\tremaining: 2.5s\n",
      "380:\tlearn: 0.0026533\ttest: 0.0034021\tbest: 0.0034021 (313)\ttotal: 1.53s\tremaining: 2.49s\n",
      "381:\tlearn: 0.0026533\ttest: 0.0034021\tbest: 0.0034021 (313)\ttotal: 1.54s\tremaining: 2.48s\n",
      "382:\tlearn: 0.0026533\ttest: 0.0034021\tbest: 0.0034021 (313)\ttotal: 1.54s\tremaining: 2.48s\n",
      "383:\tlearn: 0.0026533\ttest: 0.0034021\tbest: 0.0034021 (313)\ttotal: 1.54s\tremaining: 2.47s\n",
      "384:\tlearn: 0.0026533\ttest: 0.0034021\tbest: 0.0034021 (313)\ttotal: 1.54s\tremaining: 2.46s\n",
      "385:\tlearn: 0.0026533\ttest: 0.0034021\tbest: 0.0034021 (313)\ttotal: 1.54s\tremaining: 2.46s\n",
      "386:\tlearn: 0.0026533\ttest: 0.0034021\tbest: 0.0034021 (313)\ttotal: 1.54s\tremaining: 2.45s\n",
      "387:\tlearn: 0.0026533\ttest: 0.0034021\tbest: 0.0034021 (313)\ttotal: 1.55s\tremaining: 2.44s\n",
      "388:\tlearn: 0.0026533\ttest: 0.0034021\tbest: 0.0034021 (313)\ttotal: 1.55s\tremaining: 2.43s\n",
      "389:\tlearn: 0.0026533\ttest: 0.0034021\tbest: 0.0034021 (313)\ttotal: 1.55s\tremaining: 2.42s\n",
      "390:\tlearn: 0.0026533\ttest: 0.0034021\tbest: 0.0034021 (313)\ttotal: 1.55s\tremaining: 2.42s\n",
      "391:\tlearn: 0.0026533\ttest: 0.0034021\tbest: 0.0034021 (313)\ttotal: 1.55s\tremaining: 2.41s\n",
      "392:\tlearn: 0.0026533\ttest: 0.0034021\tbest: 0.0034021 (313)\ttotal: 1.55s\tremaining: 2.4s\n",
      "393:\tlearn: 0.0026533\ttest: 0.0034021\tbest: 0.0034021 (313)\ttotal: 1.55s\tremaining: 2.39s\n",
      "394:\tlearn: 0.0026533\ttest: 0.0034021\tbest: 0.0034021 (313)\ttotal: 1.56s\tremaining: 2.39s\n",
      "395:\tlearn: 0.0026533\ttest: 0.0034021\tbest: 0.0034021 (313)\ttotal: 1.56s\tremaining: 2.38s\n",
      "396:\tlearn: 0.0026533\ttest: 0.0034021\tbest: 0.0034021 (313)\ttotal: 1.56s\tremaining: 2.37s\n",
      "397:\tlearn: 0.0026533\ttest: 0.0034021\tbest: 0.0034021 (313)\ttotal: 1.57s\tremaining: 2.37s\n",
      "398:\tlearn: 0.0026533\ttest: 0.0034021\tbest: 0.0034021 (313)\ttotal: 1.57s\tremaining: 2.36s\n",
      "399:\tlearn: 0.0026533\ttest: 0.0034021\tbest: 0.0034021 (313)\ttotal: 1.57s\tremaining: 2.36s\n",
      "400:\tlearn: 0.0026533\ttest: 0.0034021\tbest: 0.0034021 (313)\ttotal: 1.57s\tremaining: 2.35s\n",
      "401:\tlearn: 0.0026533\ttest: 0.0034021\tbest: 0.0034021 (313)\ttotal: 1.57s\tremaining: 2.34s\n",
      "402:\tlearn: 0.0026533\ttest: 0.0034021\tbest: 0.0034021 (313)\ttotal: 1.58s\tremaining: 2.34s\n",
      "403:\tlearn: 0.0026533\ttest: 0.0034021\tbest: 0.0034021 (313)\ttotal: 1.58s\tremaining: 2.33s\n",
      "404:\tlearn: 0.0026533\ttest: 0.0034021\tbest: 0.0034021 (313)\ttotal: 1.58s\tremaining: 2.33s\n",
      "405:\tlearn: 0.0026533\ttest: 0.0034021\tbest: 0.0034021 (313)\ttotal: 1.59s\tremaining: 2.32s\n",
      "406:\tlearn: 0.0026533\ttest: 0.0034021\tbest: 0.0034021 (313)\ttotal: 1.59s\tremaining: 2.32s\n",
      "407:\tlearn: 0.0026533\ttest: 0.0034021\tbest: 0.0034021 (313)\ttotal: 1.59s\tremaining: 2.31s\n",
      "408:\tlearn: 0.0026533\ttest: 0.0034021\tbest: 0.0034021 (313)\ttotal: 1.6s\tremaining: 2.31s\n",
      "409:\tlearn: 0.0026533\ttest: 0.0034021\tbest: 0.0034021 (313)\ttotal: 1.6s\tremaining: 2.31s\n",
      "410:\tlearn: 0.0026533\ttest: 0.0034021\tbest: 0.0034021 (313)\ttotal: 1.6s\tremaining: 2.3s\n",
      "411:\tlearn: 0.0026533\ttest: 0.0034021\tbest: 0.0034021 (313)\ttotal: 1.61s\tremaining: 2.29s\n",
      "412:\tlearn: 0.0026533\ttest: 0.0034021\tbest: 0.0034021 (313)\ttotal: 1.61s\tremaining: 2.29s\n",
      "413:\tlearn: 0.0026533\ttest: 0.0034021\tbest: 0.0034021 (313)\ttotal: 1.61s\tremaining: 2.28s\n",
      "414:\tlearn: 0.0026533\ttest: 0.0034021\tbest: 0.0034021 (313)\ttotal: 1.61s\tremaining: 2.27s\n",
      "415:\tlearn: 0.0026533\ttest: 0.0034021\tbest: 0.0034021 (313)\ttotal: 1.61s\tremaining: 2.27s\n",
      "416:\tlearn: 0.0026533\ttest: 0.0034021\tbest: 0.0034021 (313)\ttotal: 1.62s\tremaining: 2.26s\n",
      "417:\tlearn: 0.0026533\ttest: 0.0034021\tbest: 0.0034021 (313)\ttotal: 1.62s\tremaining: 2.25s\n",
      "418:\tlearn: 0.0026533\ttest: 0.0034021\tbest: 0.0034021 (313)\ttotal: 1.62s\tremaining: 2.25s\n",
      "419:\tlearn: 0.0026533\ttest: 0.0034021\tbest: 0.0034021 (313)\ttotal: 1.62s\tremaining: 2.24s\n",
      "420:\tlearn: 0.0026533\ttest: 0.0034021\tbest: 0.0034021 (313)\ttotal: 1.62s\tremaining: 2.23s\n",
      "421:\tlearn: 0.0026533\ttest: 0.0034021\tbest: 0.0034021 (313)\ttotal: 1.63s\tremaining: 2.23s\n",
      "422:\tlearn: 0.0026533\ttest: 0.0034021\tbest: 0.0034021 (313)\ttotal: 1.63s\tremaining: 2.22s\n",
      "423:\tlearn: 0.0026533\ttest: 0.0034021\tbest: 0.0034021 (313)\ttotal: 1.63s\tremaining: 2.21s\n",
      "424:\tlearn: 0.0026533\ttest: 0.0034021\tbest: 0.0034021 (313)\ttotal: 1.63s\tremaining: 2.21s\n",
      "425:\tlearn: 0.0026533\ttest: 0.0034021\tbest: 0.0034021 (313)\ttotal: 1.63s\tremaining: 2.2s\n",
      "426:\tlearn: 0.0026533\ttest: 0.0034021\tbest: 0.0034021 (313)\ttotal: 1.63s\tremaining: 2.19s\n",
      "427:\tlearn: 0.0026533\ttest: 0.0034021\tbest: 0.0034021 (313)\ttotal: 1.64s\tremaining: 2.19s\n",
      "428:\tlearn: 0.0026533\ttest: 0.0034021\tbest: 0.0034021 (313)\ttotal: 1.64s\tremaining: 2.18s\n",
      "429:\tlearn: 0.0026533\ttest: 0.0034021\tbest: 0.0034021 (313)\ttotal: 1.64s\tremaining: 2.17s\n",
      "430:\tlearn: 0.0026533\ttest: 0.0034021\tbest: 0.0034021 (313)\ttotal: 1.64s\tremaining: 2.17s\n",
      "431:\tlearn: 0.0026533\ttest: 0.0034021\tbest: 0.0034021 (313)\ttotal: 1.64s\tremaining: 2.16s\n",
      "432:\tlearn: 0.0026533\ttest: 0.0034021\tbest: 0.0034021 (313)\ttotal: 1.64s\tremaining: 2.15s\n",
      "433:\tlearn: 0.0026533\ttest: 0.0034021\tbest: 0.0034021 (313)\ttotal: 1.64s\tremaining: 2.15s\n",
      "434:\tlearn: 0.0026533\ttest: 0.0034021\tbest: 0.0034021 (313)\ttotal: 1.65s\tremaining: 2.14s\n",
      "435:\tlearn: 0.0026533\ttest: 0.0034021\tbest: 0.0034021 (313)\ttotal: 1.65s\tremaining: 2.13s\n",
      "436:\tlearn: 0.0026533\ttest: 0.0034021\tbest: 0.0034021 (313)\ttotal: 1.65s\tremaining: 2.12s\n",
      "437:\tlearn: 0.0026533\ttest: 0.0034021\tbest: 0.0034021 (313)\ttotal: 1.65s\tremaining: 2.12s\n",
      "438:\tlearn: 0.0026533\ttest: 0.0034021\tbest: 0.0034021 (313)\ttotal: 1.65s\tremaining: 2.11s\n",
      "439:\tlearn: 0.0026533\ttest: 0.0034021\tbest: 0.0034021 (313)\ttotal: 1.65s\tremaining: 2.1s\n",
      "440:\tlearn: 0.0026533\ttest: 0.0034021\tbest: 0.0034021 (313)\ttotal: 1.65s\tremaining: 2.1s\n",
      "441:\tlearn: 0.0026533\ttest: 0.0034021\tbest: 0.0034021 (313)\ttotal: 1.65s\tremaining: 2.09s\n",
      "442:\tlearn: 0.0026533\ttest: 0.0034021\tbest: 0.0034021 (313)\ttotal: 1.66s\tremaining: 2.08s\n",
      "443:\tlearn: 0.0026533\ttest: 0.0034021\tbest: 0.0034021 (313)\ttotal: 1.66s\tremaining: 2.08s\n",
      "444:\tlearn: 0.0026533\ttest: 0.0034021\tbest: 0.0034021 (313)\ttotal: 1.66s\tremaining: 2.07s\n",
      "445:\tlearn: 0.0026533\ttest: 0.0034021\tbest: 0.0034021 (313)\ttotal: 1.66s\tremaining: 2.06s\n",
      "446:\tlearn: 0.0026533\ttest: 0.0034021\tbest: 0.0034021 (313)\ttotal: 1.66s\tremaining: 2.06s\n",
      "447:\tlearn: 0.0026533\ttest: 0.0034021\tbest: 0.0034021 (313)\ttotal: 1.66s\tremaining: 2.05s\n",
      "448:\tlearn: 0.0026533\ttest: 0.0034021\tbest: 0.0034021 (313)\ttotal: 1.66s\tremaining: 2.04s\n",
      "449:\tlearn: 0.0026533\ttest: 0.0034021\tbest: 0.0034021 (313)\ttotal: 1.67s\tremaining: 2.04s\n",
      "450:\tlearn: 0.0026533\ttest: 0.0034021\tbest: 0.0034021 (313)\ttotal: 1.67s\tremaining: 2.03s\n",
      "451:\tlearn: 0.0026533\ttest: 0.0034021\tbest: 0.0034021 (313)\ttotal: 1.67s\tremaining: 2.02s\n",
      "452:\tlearn: 0.0026533\ttest: 0.0034021\tbest: 0.0034021 (313)\ttotal: 1.67s\tremaining: 2.02s\n",
      "453:\tlearn: 0.0026533\ttest: 0.0034021\tbest: 0.0034021 (313)\ttotal: 1.67s\tremaining: 2.01s\n",
      "454:\tlearn: 0.0026533\ttest: 0.0034021\tbest: 0.0034021 (313)\ttotal: 1.67s\tremaining: 2s\n",
      "455:\tlearn: 0.0026533\ttest: 0.0034021\tbest: 0.0034021 (313)\ttotal: 1.67s\tremaining: 2s\n",
      "456:\tlearn: 0.0026533\ttest: 0.0034021\tbest: 0.0034021 (313)\ttotal: 1.67s\tremaining: 1.99s\n",
      "457:\tlearn: 0.0026533\ttest: 0.0034021\tbest: 0.0034021 (313)\ttotal: 1.68s\tremaining: 1.98s\n",
      "458:\tlearn: 0.0026533\ttest: 0.0034021\tbest: 0.0034021 (313)\ttotal: 1.68s\tremaining: 1.98s\n",
      "459:\tlearn: 0.0026533\ttest: 0.0034021\tbest: 0.0034021 (313)\ttotal: 1.68s\tremaining: 1.97s\n",
      "460:\tlearn: 0.0026533\ttest: 0.0034021\tbest: 0.0034021 (313)\ttotal: 1.68s\tremaining: 1.96s\n",
      "461:\tlearn: 0.0026533\ttest: 0.0034021\tbest: 0.0034021 (313)\ttotal: 1.68s\tremaining: 1.96s\n",
      "462:\tlearn: 0.0026533\ttest: 0.0034021\tbest: 0.0034021 (313)\ttotal: 1.68s\tremaining: 1.95s\n",
      "463:\tlearn: 0.0026533\ttest: 0.0034021\tbest: 0.0034021 (313)\ttotal: 1.68s\tremaining: 1.95s\n",
      "464:\tlearn: 0.0026533\ttest: 0.0034021\tbest: 0.0034021 (313)\ttotal: 1.69s\tremaining: 1.94s\n",
      "465:\tlearn: 0.0026533\ttest: 0.0034021\tbest: 0.0034021 (313)\ttotal: 1.69s\tremaining: 1.93s\n",
      "466:\tlearn: 0.0026533\ttest: 0.0034021\tbest: 0.0034021 (313)\ttotal: 1.69s\tremaining: 1.93s\n"
     ]
    },
    {
     "name": "stdout",
     "output_type": "stream",
     "text": [
      "467:\tlearn: 0.0026533\ttest: 0.0034021\tbest: 0.0034021 (313)\ttotal: 1.69s\tremaining: 1.92s\n",
      "468:\tlearn: 0.0026533\ttest: 0.0034021\tbest: 0.0034021 (313)\ttotal: 1.69s\tremaining: 1.92s\n",
      "469:\tlearn: 0.0026533\ttest: 0.0034021\tbest: 0.0034021 (313)\ttotal: 1.7s\tremaining: 1.91s\n",
      "470:\tlearn: 0.0026533\ttest: 0.0034021\tbest: 0.0034021 (313)\ttotal: 1.7s\tremaining: 1.91s\n",
      "471:\tlearn: 0.0026533\ttest: 0.0034021\tbest: 0.0034021 (313)\ttotal: 1.7s\tremaining: 1.9s\n",
      "472:\tlearn: 0.0026533\ttest: 0.0034021\tbest: 0.0034021 (313)\ttotal: 1.7s\tremaining: 1.89s\n",
      "473:\tlearn: 0.0026533\ttest: 0.0034021\tbest: 0.0034021 (313)\ttotal: 1.7s\tremaining: 1.89s\n",
      "474:\tlearn: 0.0026533\ttest: 0.0034021\tbest: 0.0034021 (313)\ttotal: 1.7s\tremaining: 1.88s\n",
      "475:\tlearn: 0.0026533\ttest: 0.0034021\tbest: 0.0034021 (313)\ttotal: 1.7s\tremaining: 1.88s\n",
      "476:\tlearn: 0.0026533\ttest: 0.0034021\tbest: 0.0034021 (313)\ttotal: 1.71s\tremaining: 1.87s\n",
      "477:\tlearn: 0.0026533\ttest: 0.0034021\tbest: 0.0034021 (313)\ttotal: 1.71s\tremaining: 1.86s\n",
      "478:\tlearn: 0.0026533\ttest: 0.0034021\tbest: 0.0034021 (313)\ttotal: 1.71s\tremaining: 1.86s\n",
      "479:\tlearn: 0.0026533\ttest: 0.0034021\tbest: 0.0034021 (313)\ttotal: 1.71s\tremaining: 1.86s\n",
      "480:\tlearn: 0.0026533\ttest: 0.0034021\tbest: 0.0034021 (313)\ttotal: 1.72s\tremaining: 1.85s\n",
      "481:\tlearn: 0.0026533\ttest: 0.0034021\tbest: 0.0034021 (313)\ttotal: 1.72s\tremaining: 1.85s\n",
      "482:\tlearn: 0.0026533\ttest: 0.0034021\tbest: 0.0034021 (313)\ttotal: 1.72s\tremaining: 1.84s\n",
      "483:\tlearn: 0.0026533\ttest: 0.0034021\tbest: 0.0034021 (313)\ttotal: 1.72s\tremaining: 1.83s\n",
      "484:\tlearn: 0.0026533\ttest: 0.0034021\tbest: 0.0034021 (313)\ttotal: 1.72s\tremaining: 1.83s\n",
      "485:\tlearn: 0.0026533\ttest: 0.0034021\tbest: 0.0034021 (313)\ttotal: 1.72s\tremaining: 1.82s\n",
      "486:\tlearn: 0.0026533\ttest: 0.0034021\tbest: 0.0034021 (313)\ttotal: 1.73s\tremaining: 1.82s\n",
      "487:\tlearn: 0.0026533\ttest: 0.0034021\tbest: 0.0034021 (313)\ttotal: 1.73s\tremaining: 1.81s\n",
      "488:\tlearn: 0.0026533\ttest: 0.0034021\tbest: 0.0034021 (313)\ttotal: 1.73s\tremaining: 1.81s\n",
      "489:\tlearn: 0.0026533\ttest: 0.0034021\tbest: 0.0034021 (313)\ttotal: 1.73s\tremaining: 1.8s\n",
      "490:\tlearn: 0.0026533\ttest: 0.0034021\tbest: 0.0034021 (313)\ttotal: 1.73s\tremaining: 1.8s\n",
      "491:\tlearn: 0.0026533\ttest: 0.0034021\tbest: 0.0034021 (313)\ttotal: 1.73s\tremaining: 1.79s\n",
      "492:\tlearn: 0.0026533\ttest: 0.0034021\tbest: 0.0034021 (313)\ttotal: 1.74s\tremaining: 1.78s\n",
      "493:\tlearn: 0.0026533\ttest: 0.0034021\tbest: 0.0034021 (313)\ttotal: 1.74s\tremaining: 1.78s\n",
      "494:\tlearn: 0.0026533\ttest: 0.0034021\tbest: 0.0034021 (313)\ttotal: 1.74s\tremaining: 1.77s\n",
      "495:\tlearn: 0.0026533\ttest: 0.0034021\tbest: 0.0034021 (313)\ttotal: 1.74s\tremaining: 1.77s\n",
      "496:\tlearn: 0.0026533\ttest: 0.0034021\tbest: 0.0034021 (313)\ttotal: 1.74s\tremaining: 1.76s\n",
      "497:\tlearn: 0.0026533\ttest: 0.0034021\tbest: 0.0034021 (313)\ttotal: 1.74s\tremaining: 1.76s\n",
      "498:\tlearn: 0.0026533\ttest: 0.0034021\tbest: 0.0034021 (313)\ttotal: 1.75s\tremaining: 1.75s\n",
      "499:\tlearn: 0.0026533\ttest: 0.0034021\tbest: 0.0034021 (313)\ttotal: 1.75s\tremaining: 1.75s\n",
      "500:\tlearn: 0.0026533\ttest: 0.0034021\tbest: 0.0034021 (313)\ttotal: 1.75s\tremaining: 1.74s\n",
      "501:\tlearn: 0.0026533\ttest: 0.0034021\tbest: 0.0034021 (313)\ttotal: 1.75s\tremaining: 1.74s\n",
      "502:\tlearn: 0.0026533\ttest: 0.0034021\tbest: 0.0034021 (313)\ttotal: 1.75s\tremaining: 1.73s\n",
      "503:\tlearn: 0.0026533\ttest: 0.0034021\tbest: 0.0034021 (313)\ttotal: 1.75s\tremaining: 1.73s\n",
      "504:\tlearn: 0.0026533\ttest: 0.0034021\tbest: 0.0034021 (313)\ttotal: 1.76s\tremaining: 1.72s\n",
      "505:\tlearn: 0.0026533\ttest: 0.0034021\tbest: 0.0034021 (313)\ttotal: 1.76s\tremaining: 1.72s\n",
      "506:\tlearn: 0.0026533\ttest: 0.0034021\tbest: 0.0034021 (313)\ttotal: 1.76s\tremaining: 1.71s\n",
      "507:\tlearn: 0.0026533\ttest: 0.0034021\tbest: 0.0034021 (313)\ttotal: 1.76s\tremaining: 1.71s\n",
      "508:\tlearn: 0.0026533\ttest: 0.0034021\tbest: 0.0034021 (313)\ttotal: 1.77s\tremaining: 1.7s\n",
      "509:\tlearn: 0.0026533\ttest: 0.0034021\tbest: 0.0034021 (313)\ttotal: 1.77s\tremaining: 1.7s\n",
      "510:\tlearn: 0.0026533\ttest: 0.0034021\tbest: 0.0034021 (313)\ttotal: 1.77s\tremaining: 1.69s\n",
      "511:\tlearn: 0.0026533\ttest: 0.0034021\tbest: 0.0034021 (313)\ttotal: 1.77s\tremaining: 1.69s\n",
      "512:\tlearn: 0.0026533\ttest: 0.0034021\tbest: 0.0034021 (313)\ttotal: 1.77s\tremaining: 1.68s\n",
      "513:\tlearn: 0.0026533\ttest: 0.0034021\tbest: 0.0034021 (313)\ttotal: 1.77s\tremaining: 1.68s\n",
      "514:\tlearn: 0.0026533\ttest: 0.0034021\tbest: 0.0034021 (313)\ttotal: 1.78s\tremaining: 1.67s\n",
      "515:\tlearn: 0.0026533\ttest: 0.0034021\tbest: 0.0034021 (313)\ttotal: 1.78s\tremaining: 1.67s\n",
      "516:\tlearn: 0.0026533\ttest: 0.0034021\tbest: 0.0034021 (313)\ttotal: 1.78s\tremaining: 1.66s\n",
      "517:\tlearn: 0.0026533\ttest: 0.0034021\tbest: 0.0034021 (313)\ttotal: 1.79s\tremaining: 1.66s\n",
      "518:\tlearn: 0.0026533\ttest: 0.0034021\tbest: 0.0034021 (313)\ttotal: 1.79s\tremaining: 1.66s\n",
      "519:\tlearn: 0.0026533\ttest: 0.0034021\tbest: 0.0034021 (313)\ttotal: 1.79s\tremaining: 1.65s\n",
      "520:\tlearn: 0.0026533\ttest: 0.0034021\tbest: 0.0034021 (313)\ttotal: 1.79s\tremaining: 1.65s\n",
      "521:\tlearn: 0.0026533\ttest: 0.0034021\tbest: 0.0034021 (313)\ttotal: 1.79s\tremaining: 1.64s\n",
      "522:\tlearn: 0.0026533\ttest: 0.0034021\tbest: 0.0034021 (313)\ttotal: 1.8s\tremaining: 1.64s\n",
      "523:\tlearn: 0.0026533\ttest: 0.0034021\tbest: 0.0034021 (313)\ttotal: 1.8s\tremaining: 1.63s\n",
      "524:\tlearn: 0.0026533\ttest: 0.0034021\tbest: 0.0034021 (313)\ttotal: 1.8s\tremaining: 1.63s\n",
      "525:\tlearn: 0.0026533\ttest: 0.0034021\tbest: 0.0034021 (313)\ttotal: 1.8s\tremaining: 1.63s\n",
      "526:\tlearn: 0.0026533\ttest: 0.0034021\tbest: 0.0034021 (313)\ttotal: 1.8s\tremaining: 1.62s\n",
      "527:\tlearn: 0.0026533\ttest: 0.0034021\tbest: 0.0034021 (313)\ttotal: 1.81s\tremaining: 1.62s\n",
      "528:\tlearn: 0.0026533\ttest: 0.0034021\tbest: 0.0034021 (313)\ttotal: 1.81s\tremaining: 1.61s\n",
      "529:\tlearn: 0.0026533\ttest: 0.0034021\tbest: 0.0034021 (313)\ttotal: 1.81s\tremaining: 1.61s\n",
      "530:\tlearn: 0.0026533\ttest: 0.0034021\tbest: 0.0034021 (313)\ttotal: 1.81s\tremaining: 1.6s\n",
      "531:\tlearn: 0.0026533\ttest: 0.0034021\tbest: 0.0034021 (313)\ttotal: 1.82s\tremaining: 1.6s\n",
      "532:\tlearn: 0.0026533\ttest: 0.0034021\tbest: 0.0034021 (313)\ttotal: 1.82s\tremaining: 1.6s\n",
      "533:\tlearn: 0.0026533\ttest: 0.0034021\tbest: 0.0034021 (313)\ttotal: 1.83s\tremaining: 1.59s\n",
      "534:\tlearn: 0.0026533\ttest: 0.0034021\tbest: 0.0034021 (313)\ttotal: 1.83s\tremaining: 1.59s\n",
      "535:\tlearn: 0.0026533\ttest: 0.0034021\tbest: 0.0034021 (313)\ttotal: 1.83s\tremaining: 1.58s\n",
      "536:\tlearn: 0.0026533\ttest: 0.0034021\tbest: 0.0034021 (313)\ttotal: 1.83s\tremaining: 1.58s\n",
      "537:\tlearn: 0.0026533\ttest: 0.0034021\tbest: 0.0034021 (313)\ttotal: 1.83s\tremaining: 1.57s\n",
      "538:\tlearn: 0.0026533\ttest: 0.0034021\tbest: 0.0034021 (313)\ttotal: 1.85s\tremaining: 1.58s\n",
      "539:\tlearn: 0.0026533\ttest: 0.0034021\tbest: 0.0034021 (313)\ttotal: 1.85s\tremaining: 1.58s\n",
      "540:\tlearn: 0.0026533\ttest: 0.0034021\tbest: 0.0034021 (313)\ttotal: 1.85s\tremaining: 1.57s\n",
      "541:\tlearn: 0.0026533\ttest: 0.0034021\tbest: 0.0034021 (313)\ttotal: 1.86s\tremaining: 1.57s\n",
      "542:\tlearn: 0.0026533\ttest: 0.0034021\tbest: 0.0034021 (313)\ttotal: 1.86s\tremaining: 1.57s\n",
      "543:\tlearn: 0.0026533\ttest: 0.0034021\tbest: 0.0034021 (313)\ttotal: 1.86s\tremaining: 1.56s\n",
      "544:\tlearn: 0.0026533\ttest: 0.0034021\tbest: 0.0034021 (313)\ttotal: 1.86s\tremaining: 1.56s\n",
      "545:\tlearn: 0.0026533\ttest: 0.0034021\tbest: 0.0034021 (313)\ttotal: 1.87s\tremaining: 1.55s\n",
      "546:\tlearn: 0.0026533\ttest: 0.0034021\tbest: 0.0034021 (313)\ttotal: 1.87s\tremaining: 1.55s\n",
      "547:\tlearn: 0.0026533\ttest: 0.0034021\tbest: 0.0034021 (313)\ttotal: 1.87s\tremaining: 1.55s\n",
      "548:\tlearn: 0.0026533\ttest: 0.0034021\tbest: 0.0034021 (313)\ttotal: 1.88s\tremaining: 1.54s\n",
      "549:\tlearn: 0.0026533\ttest: 0.0034021\tbest: 0.0034021 (313)\ttotal: 1.88s\tremaining: 1.54s\n",
      "550:\tlearn: 0.0026533\ttest: 0.0034021\tbest: 0.0034021 (313)\ttotal: 1.88s\tremaining: 1.53s\n",
      "551:\tlearn: 0.0026533\ttest: 0.0034021\tbest: 0.0034021 (313)\ttotal: 1.89s\tremaining: 1.53s\n",
      "552:\tlearn: 0.0026533\ttest: 0.0034021\tbest: 0.0034021 (313)\ttotal: 1.89s\tremaining: 1.53s\n",
      "553:\tlearn: 0.0026533\ttest: 0.0034021\tbest: 0.0034021 (313)\ttotal: 1.89s\tremaining: 1.52s\n",
      "554:\tlearn: 0.0026533\ttest: 0.0034021\tbest: 0.0034021 (313)\ttotal: 1.9s\tremaining: 1.52s\n",
      "555:\tlearn: 0.0026533\ttest: 0.0034021\tbest: 0.0034021 (313)\ttotal: 1.9s\tremaining: 1.52s\n",
      "556:\tlearn: 0.0026533\ttest: 0.0034021\tbest: 0.0034021 (313)\ttotal: 1.9s\tremaining: 1.51s\n",
      "557:\tlearn: 0.0026533\ttest: 0.0034021\tbest: 0.0034021 (313)\ttotal: 1.91s\tremaining: 1.51s\n",
      "558:\tlearn: 0.0026533\ttest: 0.0034021\tbest: 0.0034021 (313)\ttotal: 1.91s\tremaining: 1.51s\n",
      "559:\tlearn: 0.0026533\ttest: 0.0034021\tbest: 0.0034021 (313)\ttotal: 1.91s\tremaining: 1.5s\n",
      "560:\tlearn: 0.0026533\ttest: 0.0034021\tbest: 0.0034021 (313)\ttotal: 1.92s\tremaining: 1.5s\n",
      "561:\tlearn: 0.0026533\ttest: 0.0034021\tbest: 0.0034021 (313)\ttotal: 1.93s\tremaining: 1.5s\n",
      "562:\tlearn: 0.0026533\ttest: 0.0034021\tbest: 0.0034021 (313)\ttotal: 1.93s\tremaining: 1.5s\n",
      "563:\tlearn: 0.0026533\ttest: 0.0034021\tbest: 0.0034021 (313)\ttotal: 1.93s\tremaining: 1.49s\n",
      "564:\tlearn: 0.0026533\ttest: 0.0034021\tbest: 0.0034021 (313)\ttotal: 1.93s\tremaining: 1.49s\n",
      "565:\tlearn: 0.0026533\ttest: 0.0034021\tbest: 0.0034021 (313)\ttotal: 1.94s\tremaining: 1.48s\n",
      "566:\tlearn: 0.0026533\ttest: 0.0034021\tbest: 0.0034021 (313)\ttotal: 1.94s\tremaining: 1.48s\n",
      "567:\tlearn: 0.0026533\ttest: 0.0034021\tbest: 0.0034021 (313)\ttotal: 1.94s\tremaining: 1.48s\n",
      "568:\tlearn: 0.0026533\ttest: 0.0034021\tbest: 0.0034021 (313)\ttotal: 1.94s\tremaining: 1.47s\n",
      "569:\tlearn: 0.0026533\ttest: 0.0034021\tbest: 0.0034021 (313)\ttotal: 1.95s\tremaining: 1.47s\n",
      "570:\tlearn: 0.0026533\ttest: 0.0034021\tbest: 0.0034021 (313)\ttotal: 1.95s\tremaining: 1.47s\n",
      "571:\tlearn: 0.0026533\ttest: 0.0034021\tbest: 0.0034021 (313)\ttotal: 1.95s\tremaining: 1.46s\n",
      "572:\tlearn: 0.0026533\ttest: 0.0034021\tbest: 0.0034021 (313)\ttotal: 1.96s\tremaining: 1.46s\n",
      "573:\tlearn: 0.0026533\ttest: 0.0034021\tbest: 0.0034021 (313)\ttotal: 1.96s\tremaining: 1.45s\n",
      "574:\tlearn: 0.0026533\ttest: 0.0034021\tbest: 0.0034021 (313)\ttotal: 1.96s\tremaining: 1.45s\n",
      "575:\tlearn: 0.0026533\ttest: 0.0034021\tbest: 0.0034021 (313)\ttotal: 1.96s\tremaining: 1.44s\n",
      "576:\tlearn: 0.0026533\ttest: 0.0034021\tbest: 0.0034021 (313)\ttotal: 1.97s\tremaining: 1.44s\n",
      "577:\tlearn: 0.0026533\ttest: 0.0034021\tbest: 0.0034021 (313)\ttotal: 1.97s\tremaining: 1.44s\n",
      "578:\tlearn: 0.0026533\ttest: 0.0034021\tbest: 0.0034021 (313)\ttotal: 1.97s\tremaining: 1.43s\n",
      "579:\tlearn: 0.0026533\ttest: 0.0034021\tbest: 0.0034021 (313)\ttotal: 1.98s\tremaining: 1.43s\n",
      "580:\tlearn: 0.0026533\ttest: 0.0034021\tbest: 0.0034021 (313)\ttotal: 1.98s\tremaining: 1.43s\n",
      "581:\tlearn: 0.0026533\ttest: 0.0034021\tbest: 0.0034021 (313)\ttotal: 1.98s\tremaining: 1.42s\n",
      "582:\tlearn: 0.0026533\ttest: 0.0034021\tbest: 0.0034021 (313)\ttotal: 1.99s\tremaining: 1.42s\n",
      "583:\tlearn: 0.0026533\ttest: 0.0034021\tbest: 0.0034021 (313)\ttotal: 1.99s\tremaining: 1.42s\n",
      "584:\tlearn: 0.0026533\ttest: 0.0034021\tbest: 0.0034021 (313)\ttotal: 1.99s\tremaining: 1.41s\n",
      "585:\tlearn: 0.0026533\ttest: 0.0034021\tbest: 0.0034021 (313)\ttotal: 2s\tremaining: 1.41s\n",
      "586:\tlearn: 0.0026533\ttest: 0.0034021\tbest: 0.0034021 (313)\ttotal: 2s\tremaining: 1.41s\n",
      "587:\tlearn: 0.0026533\ttest: 0.0034021\tbest: 0.0034021 (313)\ttotal: 2s\tremaining: 1.4s\n",
      "588:\tlearn: 0.0026533\ttest: 0.0034021\tbest: 0.0034021 (313)\ttotal: 2s\tremaining: 1.4s\n",
      "589:\tlearn: 0.0026533\ttest: 0.0034021\tbest: 0.0034021 (313)\ttotal: 2.01s\tremaining: 1.39s\n",
      "590:\tlearn: 0.0026533\ttest: 0.0034021\tbest: 0.0034021 (313)\ttotal: 2.01s\tremaining: 1.39s\n",
      "591:\tlearn: 0.0026533\ttest: 0.0034021\tbest: 0.0034021 (313)\ttotal: 2.01s\tremaining: 1.39s\n",
      "592:\tlearn: 0.0026533\ttest: 0.0034021\tbest: 0.0034021 (313)\ttotal: 2.02s\tremaining: 1.38s\n",
      "593:\tlearn: 0.0026533\ttest: 0.0034021\tbest: 0.0034021 (313)\ttotal: 2.02s\tremaining: 1.38s\n"
     ]
    },
    {
     "name": "stdout",
     "output_type": "stream",
     "text": [
      "594:\tlearn: 0.0026533\ttest: 0.0034021\tbest: 0.0034021 (313)\ttotal: 2.02s\tremaining: 1.38s\n",
      "595:\tlearn: 0.0026533\ttest: 0.0034021\tbest: 0.0034021 (313)\ttotal: 2.02s\tremaining: 1.37s\n",
      "596:\tlearn: 0.0026533\ttest: 0.0034021\tbest: 0.0034021 (313)\ttotal: 2.03s\tremaining: 1.37s\n",
      "597:\tlearn: 0.0026533\ttest: 0.0034021\tbest: 0.0034021 (313)\ttotal: 2.03s\tremaining: 1.37s\n",
      "598:\tlearn: 0.0026533\ttest: 0.0034021\tbest: 0.0034021 (313)\ttotal: 2.04s\tremaining: 1.36s\n",
      "599:\tlearn: 0.0026533\ttest: 0.0034021\tbest: 0.0034021 (313)\ttotal: 2.04s\tremaining: 1.36s\n",
      "600:\tlearn: 0.0026533\ttest: 0.0034021\tbest: 0.0034021 (313)\ttotal: 2.04s\tremaining: 1.35s\n",
      "601:\tlearn: 0.0026533\ttest: 0.0034021\tbest: 0.0034021 (313)\ttotal: 2.04s\tremaining: 1.35s\n",
      "602:\tlearn: 0.0026533\ttest: 0.0034021\tbest: 0.0034021 (313)\ttotal: 2.05s\tremaining: 1.35s\n",
      "603:\tlearn: 0.0026533\ttest: 0.0034021\tbest: 0.0034021 (313)\ttotal: 2.05s\tremaining: 1.34s\n",
      "604:\tlearn: 0.0026533\ttest: 0.0034021\tbest: 0.0034021 (313)\ttotal: 2.05s\tremaining: 1.34s\n",
      "605:\tlearn: 0.0026533\ttest: 0.0034021\tbest: 0.0034021 (313)\ttotal: 2.05s\tremaining: 1.33s\n",
      "606:\tlearn: 0.0026533\ttest: 0.0034021\tbest: 0.0034021 (313)\ttotal: 2.06s\tremaining: 1.33s\n",
      "607:\tlearn: 0.0026533\ttest: 0.0034021\tbest: 0.0034021 (313)\ttotal: 2.06s\tremaining: 1.33s\n",
      "608:\tlearn: 0.0026533\ttest: 0.0034021\tbest: 0.0034021 (313)\ttotal: 2.06s\tremaining: 1.32s\n",
      "609:\tlearn: 0.0026533\ttest: 0.0034021\tbest: 0.0034021 (313)\ttotal: 2.07s\tremaining: 1.32s\n",
      "610:\tlearn: 0.0026533\ttest: 0.0034021\tbest: 0.0034021 (313)\ttotal: 2.07s\tremaining: 1.32s\n",
      "611:\tlearn: 0.0026533\ttest: 0.0034021\tbest: 0.0034021 (313)\ttotal: 2.07s\tremaining: 1.31s\n",
      "612:\tlearn: 0.0026533\ttest: 0.0034021\tbest: 0.0034021 (313)\ttotal: 2.07s\tremaining: 1.31s\n",
      "613:\tlearn: 0.0026533\ttest: 0.0034021\tbest: 0.0034021 (313)\ttotal: 2.08s\tremaining: 1.31s\n",
      "614:\tlearn: 0.0026533\ttest: 0.0034021\tbest: 0.0034021 (313)\ttotal: 2.08s\tremaining: 1.3s\n",
      "615:\tlearn: 0.0026533\ttest: 0.0034021\tbest: 0.0034021 (313)\ttotal: 2.09s\tremaining: 1.3s\n",
      "616:\tlearn: 0.0026533\ttest: 0.0034021\tbest: 0.0034021 (313)\ttotal: 2.09s\tremaining: 1.3s\n",
      "617:\tlearn: 0.0026533\ttest: 0.0034021\tbest: 0.0034021 (313)\ttotal: 2.09s\tremaining: 1.29s\n",
      "618:\tlearn: 0.0026533\ttest: 0.0034021\tbest: 0.0034021 (313)\ttotal: 2.09s\tremaining: 1.29s\n",
      "619:\tlearn: 0.0026533\ttest: 0.0034021\tbest: 0.0034021 (313)\ttotal: 2.1s\tremaining: 1.28s\n",
      "620:\tlearn: 0.0026533\ttest: 0.0034021\tbest: 0.0034021 (313)\ttotal: 2.1s\tremaining: 1.28s\n",
      "621:\tlearn: 0.0026533\ttest: 0.0034021\tbest: 0.0034021 (313)\ttotal: 2.1s\tremaining: 1.28s\n",
      "622:\tlearn: 0.0026533\ttest: 0.0034021\tbest: 0.0034021 (313)\ttotal: 2.1s\tremaining: 1.27s\n",
      "623:\tlearn: 0.0026533\ttest: 0.0034021\tbest: 0.0034021 (313)\ttotal: 2.1s\tremaining: 1.27s\n",
      "624:\tlearn: 0.0026533\ttest: 0.0034021\tbest: 0.0034021 (313)\ttotal: 2.11s\tremaining: 1.26s\n",
      "625:\tlearn: 0.0026533\ttest: 0.0034021\tbest: 0.0034021 (313)\ttotal: 2.11s\tremaining: 1.26s\n",
      "626:\tlearn: 0.0026533\ttest: 0.0034021\tbest: 0.0034021 (313)\ttotal: 2.11s\tremaining: 1.26s\n",
      "627:\tlearn: 0.0026533\ttest: 0.0034021\tbest: 0.0034021 (313)\ttotal: 2.11s\tremaining: 1.25s\n",
      "628:\tlearn: 0.0026533\ttest: 0.0034021\tbest: 0.0034021 (313)\ttotal: 2.12s\tremaining: 1.25s\n",
      "629:\tlearn: 0.0026533\ttest: 0.0034021\tbest: 0.0034021 (313)\ttotal: 2.12s\tremaining: 1.24s\n",
      "630:\tlearn: 0.0026533\ttest: 0.0034021\tbest: 0.0034021 (313)\ttotal: 2.12s\tremaining: 1.24s\n",
      "631:\tlearn: 0.0026533\ttest: 0.0034021\tbest: 0.0034021 (313)\ttotal: 2.12s\tremaining: 1.24s\n",
      "632:\tlearn: 0.0026533\ttest: 0.0034021\tbest: 0.0034021 (313)\ttotal: 2.13s\tremaining: 1.23s\n",
      "633:\tlearn: 0.0026533\ttest: 0.0034021\tbest: 0.0034021 (313)\ttotal: 2.13s\tremaining: 1.23s\n",
      "634:\tlearn: 0.0026533\ttest: 0.0034021\tbest: 0.0034021 (313)\ttotal: 2.13s\tremaining: 1.22s\n",
      "635:\tlearn: 0.0026533\ttest: 0.0034021\tbest: 0.0034021 (313)\ttotal: 2.13s\tremaining: 1.22s\n",
      "636:\tlearn: 0.0026533\ttest: 0.0034021\tbest: 0.0034021 (313)\ttotal: 2.14s\tremaining: 1.22s\n",
      "637:\tlearn: 0.0026533\ttest: 0.0034021\tbest: 0.0034021 (313)\ttotal: 2.14s\tremaining: 1.21s\n",
      "638:\tlearn: 0.0026533\ttest: 0.0034021\tbest: 0.0034021 (313)\ttotal: 2.14s\tremaining: 1.21s\n",
      "639:\tlearn: 0.0026533\ttest: 0.0034021\tbest: 0.0034021 (313)\ttotal: 2.14s\tremaining: 1.2s\n",
      "640:\tlearn: 0.0026533\ttest: 0.0034021\tbest: 0.0034021 (313)\ttotal: 2.14s\tremaining: 1.2s\n",
      "641:\tlearn: 0.0026533\ttest: 0.0034021\tbest: 0.0034021 (313)\ttotal: 2.15s\tremaining: 1.2s\n",
      "642:\tlearn: 0.0026533\ttest: 0.0034021\tbest: 0.0034021 (313)\ttotal: 2.15s\tremaining: 1.19s\n",
      "643:\tlearn: 0.0026533\ttest: 0.0034021\tbest: 0.0034021 (313)\ttotal: 2.15s\tremaining: 1.19s\n",
      "644:\tlearn: 0.0026533\ttest: 0.0034021\tbest: 0.0034021 (313)\ttotal: 2.15s\tremaining: 1.19s\n",
      "645:\tlearn: 0.0026533\ttest: 0.0034021\tbest: 0.0034021 (313)\ttotal: 2.16s\tremaining: 1.18s\n",
      "646:\tlearn: 0.0026533\ttest: 0.0034021\tbest: 0.0034021 (313)\ttotal: 2.16s\tremaining: 1.18s\n",
      "647:\tlearn: 0.0026533\ttest: 0.0034021\tbest: 0.0034021 (313)\ttotal: 2.16s\tremaining: 1.17s\n",
      "648:\tlearn: 0.0026533\ttest: 0.0034021\tbest: 0.0034021 (313)\ttotal: 2.16s\tremaining: 1.17s\n",
      "649:\tlearn: 0.0026533\ttest: 0.0034021\tbest: 0.0034021 (313)\ttotal: 2.17s\tremaining: 1.17s\n",
      "650:\tlearn: 0.0026533\ttest: 0.0034021\tbest: 0.0034021 (313)\ttotal: 2.17s\tremaining: 1.16s\n",
      "651:\tlearn: 0.0026533\ttest: 0.0034021\tbest: 0.0034021 (313)\ttotal: 2.17s\tremaining: 1.16s\n",
      "652:\tlearn: 0.0026533\ttest: 0.0034021\tbest: 0.0034021 (313)\ttotal: 2.17s\tremaining: 1.15s\n",
      "653:\tlearn: 0.0026533\ttest: 0.0034021\tbest: 0.0034021 (313)\ttotal: 2.17s\tremaining: 1.15s\n",
      "654:\tlearn: 0.0026533\ttest: 0.0034021\tbest: 0.0034021 (313)\ttotal: 2.18s\tremaining: 1.15s\n",
      "655:\tlearn: 0.0026533\ttest: 0.0034021\tbest: 0.0034021 (313)\ttotal: 2.18s\tremaining: 1.14s\n",
      "656:\tlearn: 0.0026533\ttest: 0.0034021\tbest: 0.0034021 (313)\ttotal: 2.18s\tremaining: 1.14s\n",
      "657:\tlearn: 0.0026533\ttest: 0.0034021\tbest: 0.0034021 (313)\ttotal: 2.18s\tremaining: 1.14s\n",
      "658:\tlearn: 0.0026533\ttest: 0.0034021\tbest: 0.0034021 (313)\ttotal: 2.19s\tremaining: 1.13s\n",
      "659:\tlearn: 0.0026533\ttest: 0.0034021\tbest: 0.0034021 (313)\ttotal: 2.19s\tremaining: 1.13s\n",
      "660:\tlearn: 0.0026533\ttest: 0.0034021\tbest: 0.0034021 (313)\ttotal: 2.19s\tremaining: 1.12s\n",
      "661:\tlearn: 0.0026533\ttest: 0.0034021\tbest: 0.0034021 (313)\ttotal: 2.19s\tremaining: 1.12s\n",
      "662:\tlearn: 0.0026533\ttest: 0.0034021\tbest: 0.0034021 (313)\ttotal: 2.2s\tremaining: 1.12s\n",
      "663:\tlearn: 0.0026533\ttest: 0.0034021\tbest: 0.0034021 (313)\ttotal: 2.2s\tremaining: 1.11s\n",
      "664:\tlearn: 0.0026533\ttest: 0.0034021\tbest: 0.0034021 (313)\ttotal: 2.2s\tremaining: 1.11s\n",
      "665:\tlearn: 0.0026533\ttest: 0.0034021\tbest: 0.0034021 (313)\ttotal: 2.2s\tremaining: 1.1s\n",
      "666:\tlearn: 0.0026533\ttest: 0.0034021\tbest: 0.0034021 (313)\ttotal: 2.21s\tremaining: 1.1s\n",
      "667:\tlearn: 0.0026533\ttest: 0.0034021\tbest: 0.0034021 (313)\ttotal: 2.21s\tremaining: 1.1s\n",
      "668:\tlearn: 0.0026533\ttest: 0.0034021\tbest: 0.0034021 (313)\ttotal: 2.21s\tremaining: 1.09s\n",
      "669:\tlearn: 0.0026533\ttest: 0.0034021\tbest: 0.0034021 (313)\ttotal: 2.22s\tremaining: 1.09s\n",
      "670:\tlearn: 0.0026533\ttest: 0.0034021\tbest: 0.0034021 (313)\ttotal: 2.22s\tremaining: 1.09s\n",
      "671:\tlearn: 0.0026533\ttest: 0.0034021\tbest: 0.0034021 (313)\ttotal: 2.22s\tremaining: 1.08s\n",
      "672:\tlearn: 0.0026533\ttest: 0.0034021\tbest: 0.0034021 (313)\ttotal: 2.22s\tremaining: 1.08s\n",
      "673:\tlearn: 0.0026533\ttest: 0.0034021\tbest: 0.0034021 (313)\ttotal: 2.23s\tremaining: 1.08s\n",
      "674:\tlearn: 0.0026533\ttest: 0.0034021\tbest: 0.0034021 (313)\ttotal: 2.23s\tremaining: 1.07s\n",
      "675:\tlearn: 0.0026533\ttest: 0.0034021\tbest: 0.0034021 (313)\ttotal: 2.23s\tremaining: 1.07s\n",
      "676:\tlearn: 0.0026533\ttest: 0.0034021\tbest: 0.0034021 (313)\ttotal: 2.23s\tremaining: 1.06s\n",
      "677:\tlearn: 0.0026533\ttest: 0.0034021\tbest: 0.0034021 (313)\ttotal: 2.23s\tremaining: 1.06s\n",
      "678:\tlearn: 0.0026533\ttest: 0.0034021\tbest: 0.0034021 (313)\ttotal: 2.24s\tremaining: 1.06s\n",
      "679:\tlearn: 0.0026533\ttest: 0.0034021\tbest: 0.0034021 (313)\ttotal: 2.24s\tremaining: 1.05s\n",
      "680:\tlearn: 0.0026533\ttest: 0.0034021\tbest: 0.0034021 (313)\ttotal: 2.24s\tremaining: 1.05s\n",
      "681:\tlearn: 0.0026533\ttest: 0.0034021\tbest: 0.0034021 (313)\ttotal: 2.25s\tremaining: 1.05s\n",
      "682:\tlearn: 0.0026533\ttest: 0.0034021\tbest: 0.0034021 (313)\ttotal: 2.25s\tremaining: 1.04s\n",
      "683:\tlearn: 0.0026533\ttest: 0.0034021\tbest: 0.0034021 (313)\ttotal: 2.25s\tremaining: 1.04s\n",
      "684:\tlearn: 0.0026533\ttest: 0.0034021\tbest: 0.0034021 (313)\ttotal: 2.25s\tremaining: 1.04s\n",
      "685:\tlearn: 0.0026533\ttest: 0.0034021\tbest: 0.0034021 (313)\ttotal: 2.26s\tremaining: 1.03s\n",
      "686:\tlearn: 0.0026533\ttest: 0.0034021\tbest: 0.0034021 (313)\ttotal: 2.26s\tremaining: 1.03s\n",
      "687:\tlearn: 0.0026533\ttest: 0.0034021\tbest: 0.0034021 (313)\ttotal: 2.26s\tremaining: 1.03s\n",
      "688:\tlearn: 0.0026533\ttest: 0.0034021\tbest: 0.0034021 (313)\ttotal: 2.27s\tremaining: 1.02s\n",
      "689:\tlearn: 0.0026533\ttest: 0.0034021\tbest: 0.0034021 (313)\ttotal: 2.27s\tremaining: 1.02s\n",
      "690:\tlearn: 0.0026533\ttest: 0.0034021\tbest: 0.0034021 (313)\ttotal: 2.27s\tremaining: 1.02s\n",
      "691:\tlearn: 0.0026533\ttest: 0.0034021\tbest: 0.0034021 (313)\ttotal: 2.27s\tremaining: 1.01s\n",
      "692:\tlearn: 0.0026533\ttest: 0.0034021\tbest: 0.0034021 (313)\ttotal: 2.28s\tremaining: 1.01s\n",
      "693:\tlearn: 0.0026533\ttest: 0.0034021\tbest: 0.0034021 (313)\ttotal: 2.28s\tremaining: 1.01s\n",
      "694:\tlearn: 0.0026533\ttest: 0.0034021\tbest: 0.0034021 (313)\ttotal: 2.29s\tremaining: 1s\n",
      "695:\tlearn: 0.0026533\ttest: 0.0034021\tbest: 0.0034021 (313)\ttotal: 2.29s\tremaining: 999ms\n",
      "696:\tlearn: 0.0026533\ttest: 0.0034021\tbest: 0.0034021 (313)\ttotal: 2.29s\tremaining: 995ms\n",
      "697:\tlearn: 0.0026533\ttest: 0.0034021\tbest: 0.0034021 (313)\ttotal: 2.29s\tremaining: 993ms\n",
      "698:\tlearn: 0.0026533\ttest: 0.0034021\tbest: 0.0034021 (313)\ttotal: 2.3s\tremaining: 989ms\n",
      "699:\tlearn: 0.0026533\ttest: 0.0034021\tbest: 0.0034021 (313)\ttotal: 2.3s\tremaining: 985ms\n",
      "700:\tlearn: 0.0026533\ttest: 0.0034021\tbest: 0.0034021 (313)\ttotal: 2.3s\tremaining: 981ms\n",
      "701:\tlearn: 0.0026533\ttest: 0.0034021\tbest: 0.0034021 (313)\ttotal: 2.3s\tremaining: 977ms\n",
      "702:\tlearn: 0.0026533\ttest: 0.0034021\tbest: 0.0034021 (313)\ttotal: 2.3s\tremaining: 974ms\n",
      "703:\tlearn: 0.0026533\ttest: 0.0034021\tbest: 0.0034021 (313)\ttotal: 2.31s\tremaining: 970ms\n",
      "704:\tlearn: 0.0026533\ttest: 0.0034021\tbest: 0.0034021 (313)\ttotal: 2.31s\tremaining: 967ms\n",
      "705:\tlearn: 0.0026533\ttest: 0.0034021\tbest: 0.0034021 (313)\ttotal: 2.31s\tremaining: 964ms\n",
      "706:\tlearn: 0.0026533\ttest: 0.0034021\tbest: 0.0034021 (313)\ttotal: 2.31s\tremaining: 960ms\n",
      "707:\tlearn: 0.0026533\ttest: 0.0034021\tbest: 0.0034021 (313)\ttotal: 2.32s\tremaining: 956ms\n",
      "708:\tlearn: 0.0026533\ttest: 0.0034021\tbest: 0.0034021 (313)\ttotal: 2.32s\tremaining: 952ms\n",
      "709:\tlearn: 0.0026533\ttest: 0.0034021\tbest: 0.0034021 (313)\ttotal: 2.32s\tremaining: 949ms\n",
      "710:\tlearn: 0.0026533\ttest: 0.0034021\tbest: 0.0034021 (313)\ttotal: 2.33s\tremaining: 945ms\n",
      "711:\tlearn: 0.0026533\ttest: 0.0034021\tbest: 0.0034021 (313)\ttotal: 2.33s\tremaining: 941ms\n",
      "712:\tlearn: 0.0026533\ttest: 0.0034021\tbest: 0.0034021 (313)\ttotal: 2.33s\tremaining: 937ms\n",
      "713:\tlearn: 0.0026533\ttest: 0.0034021\tbest: 0.0034021 (313)\ttotal: 2.33s\tremaining: 933ms\n",
      "714:\tlearn: 0.0026533\ttest: 0.0034021\tbest: 0.0034021 (313)\ttotal: 2.33s\tremaining: 930ms\n",
      "715:\tlearn: 0.0026533\ttest: 0.0034021\tbest: 0.0034021 (313)\ttotal: 2.33s\tremaining: 926ms\n",
      "716:\tlearn: 0.0026533\ttest: 0.0034021\tbest: 0.0034021 (313)\ttotal: 2.34s\tremaining: 922ms\n",
      "717:\tlearn: 0.0026533\ttest: 0.0034021\tbest: 0.0034021 (313)\ttotal: 2.34s\tremaining: 919ms\n",
      "718:\tlearn: 0.0026533\ttest: 0.0034021\tbest: 0.0034021 (313)\ttotal: 2.34s\tremaining: 915ms\n",
      "719:\tlearn: 0.0026533\ttest: 0.0034021\tbest: 0.0034021 (313)\ttotal: 2.34s\tremaining: 912ms\n",
      "720:\tlearn: 0.0026533\ttest: 0.0034021\tbest: 0.0034021 (313)\ttotal: 2.35s\tremaining: 908ms\n",
      "721:\tlearn: 0.0026533\ttest: 0.0034021\tbest: 0.0034021 (313)\ttotal: 2.35s\tremaining: 905ms\n",
      "722:\tlearn: 0.0026533\ttest: 0.0034021\tbest: 0.0034021 (313)\ttotal: 2.35s\tremaining: 902ms\n",
      "723:\tlearn: 0.0026533\ttest: 0.0034021\tbest: 0.0034021 (313)\ttotal: 2.36s\tremaining: 899ms\n",
      "724:\tlearn: 0.0026533\ttest: 0.0034021\tbest: 0.0034021 (313)\ttotal: 2.36s\tremaining: 895ms\n",
      "725:\tlearn: 0.0026533\ttest: 0.0034021\tbest: 0.0034021 (313)\ttotal: 2.36s\tremaining: 891ms\n",
      "726:\tlearn: 0.0026533\ttest: 0.0034021\tbest: 0.0034021 (313)\ttotal: 2.36s\tremaining: 887ms\n"
     ]
    },
    {
     "name": "stdout",
     "output_type": "stream",
     "text": [
      "727:\tlearn: 0.0026533\ttest: 0.0034021\tbest: 0.0034021 (313)\ttotal: 2.36s\tremaining: 883ms\n",
      "728:\tlearn: 0.0026533\ttest: 0.0034021\tbest: 0.0034021 (313)\ttotal: 2.37s\tremaining: 880ms\n",
      "729:\tlearn: 0.0026533\ttest: 0.0034021\tbest: 0.0034021 (313)\ttotal: 2.37s\tremaining: 876ms\n",
      "730:\tlearn: 0.0026533\ttest: 0.0034021\tbest: 0.0034021 (313)\ttotal: 2.37s\tremaining: 872ms\n",
      "731:\tlearn: 0.0026533\ttest: 0.0034021\tbest: 0.0034021 (313)\ttotal: 2.37s\tremaining: 869ms\n",
      "732:\tlearn: 0.0026533\ttest: 0.0034021\tbest: 0.0034021 (313)\ttotal: 2.38s\tremaining: 866ms\n",
      "733:\tlearn: 0.0026533\ttest: 0.0034021\tbest: 0.0034021 (313)\ttotal: 2.38s\tremaining: 863ms\n",
      "734:\tlearn: 0.0026533\ttest: 0.0034021\tbest: 0.0034021 (313)\ttotal: 2.38s\tremaining: 859ms\n",
      "735:\tlearn: 0.0026533\ttest: 0.0034021\tbest: 0.0034021 (313)\ttotal: 2.38s\tremaining: 856ms\n",
      "736:\tlearn: 0.0026533\ttest: 0.0034021\tbest: 0.0034021 (313)\ttotal: 2.39s\tremaining: 852ms\n",
      "737:\tlearn: 0.0026533\ttest: 0.0034021\tbest: 0.0034021 (313)\ttotal: 2.39s\tremaining: 850ms\n",
      "738:\tlearn: 0.0026533\ttest: 0.0034021\tbest: 0.0034021 (313)\ttotal: 2.4s\tremaining: 846ms\n",
      "739:\tlearn: 0.0026533\ttest: 0.0034021\tbest: 0.0034021 (313)\ttotal: 2.4s\tremaining: 843ms\n",
      "740:\tlearn: 0.0026533\ttest: 0.0034021\tbest: 0.0034021 (313)\ttotal: 2.4s\tremaining: 839ms\n",
      "741:\tlearn: 0.0026533\ttest: 0.0034021\tbest: 0.0034021 (313)\ttotal: 2.4s\tremaining: 836ms\n",
      "742:\tlearn: 0.0026533\ttest: 0.0034021\tbest: 0.0034021 (313)\ttotal: 2.41s\tremaining: 833ms\n",
      "743:\tlearn: 0.0026533\ttest: 0.0034021\tbest: 0.0034021 (313)\ttotal: 2.41s\tremaining: 830ms\n",
      "744:\tlearn: 0.0026533\ttest: 0.0034021\tbest: 0.0034021 (313)\ttotal: 2.41s\tremaining: 826ms\n",
      "745:\tlearn: 0.0026533\ttest: 0.0034021\tbest: 0.0034021 (313)\ttotal: 2.42s\tremaining: 823ms\n",
      "746:\tlearn: 0.0026533\ttest: 0.0034021\tbest: 0.0034021 (313)\ttotal: 2.42s\tremaining: 819ms\n",
      "747:\tlearn: 0.0026533\ttest: 0.0034021\tbest: 0.0034021 (313)\ttotal: 2.42s\tremaining: 816ms\n",
      "748:\tlearn: 0.0026533\ttest: 0.0034021\tbest: 0.0034021 (313)\ttotal: 2.42s\tremaining: 813ms\n",
      "749:\tlearn: 0.0026533\ttest: 0.0034021\tbest: 0.0034021 (313)\ttotal: 2.43s\tremaining: 809ms\n",
      "750:\tlearn: 0.0026533\ttest: 0.0034021\tbest: 0.0034021 (313)\ttotal: 2.43s\tremaining: 805ms\n",
      "751:\tlearn: 0.0026533\ttest: 0.0034021\tbest: 0.0034021 (313)\ttotal: 2.43s\tremaining: 802ms\n",
      "752:\tlearn: 0.0026533\ttest: 0.0034021\tbest: 0.0034021 (313)\ttotal: 2.44s\tremaining: 800ms\n",
      "753:\tlearn: 0.0026533\ttest: 0.0034021\tbest: 0.0034021 (313)\ttotal: 2.44s\tremaining: 796ms\n",
      "754:\tlearn: 0.0026533\ttest: 0.0034021\tbest: 0.0034021 (313)\ttotal: 2.44s\tremaining: 792ms\n",
      "755:\tlearn: 0.0026533\ttest: 0.0034021\tbest: 0.0034021 (313)\ttotal: 2.44s\tremaining: 788ms\n",
      "756:\tlearn: 0.0026533\ttest: 0.0034021\tbest: 0.0034021 (313)\ttotal: 2.44s\tremaining: 785ms\n",
      "757:\tlearn: 0.0026533\ttest: 0.0034021\tbest: 0.0034021 (313)\ttotal: 2.45s\tremaining: 782ms\n",
      "758:\tlearn: 0.0026533\ttest: 0.0034021\tbest: 0.0034021 (313)\ttotal: 2.45s\tremaining: 778ms\n",
      "759:\tlearn: 0.0026533\ttest: 0.0034021\tbest: 0.0034021 (313)\ttotal: 2.45s\tremaining: 775ms\n",
      "760:\tlearn: 0.0026533\ttest: 0.0034021\tbest: 0.0034021 (313)\ttotal: 2.45s\tremaining: 771ms\n",
      "761:\tlearn: 0.0026533\ttest: 0.0034021\tbest: 0.0034021 (313)\ttotal: 2.46s\tremaining: 767ms\n",
      "762:\tlearn: 0.0026533\ttest: 0.0034021\tbest: 0.0034021 (313)\ttotal: 2.46s\tremaining: 763ms\n",
      "763:\tlearn: 0.0026533\ttest: 0.0034021\tbest: 0.0034021 (313)\ttotal: 2.46s\tremaining: 760ms\n",
      "764:\tlearn: 0.0026533\ttest: 0.0034021\tbest: 0.0034021 (313)\ttotal: 2.46s\tremaining: 756ms\n",
      "765:\tlearn: 0.0026533\ttest: 0.0034021\tbest: 0.0034021 (313)\ttotal: 2.46s\tremaining: 753ms\n",
      "766:\tlearn: 0.0026533\ttest: 0.0034021\tbest: 0.0034021 (313)\ttotal: 2.47s\tremaining: 749ms\n",
      "767:\tlearn: 0.0026533\ttest: 0.0034021\tbest: 0.0034021 (313)\ttotal: 2.47s\tremaining: 745ms\n",
      "768:\tlearn: 0.0026533\ttest: 0.0034021\tbest: 0.0034021 (313)\ttotal: 2.47s\tremaining: 742ms\n",
      "769:\tlearn: 0.0026533\ttest: 0.0034021\tbest: 0.0034021 (313)\ttotal: 2.47s\tremaining: 738ms\n",
      "770:\tlearn: 0.0026533\ttest: 0.0034021\tbest: 0.0034021 (313)\ttotal: 2.47s\tremaining: 734ms\n",
      "771:\tlearn: 0.0026533\ttest: 0.0034021\tbest: 0.0034021 (313)\ttotal: 2.48s\tremaining: 732ms\n",
      "772:\tlearn: 0.0026533\ttest: 0.0034021\tbest: 0.0034021 (313)\ttotal: 2.48s\tremaining: 729ms\n",
      "773:\tlearn: 0.0026533\ttest: 0.0034021\tbest: 0.0034021 (313)\ttotal: 2.48s\tremaining: 725ms\n",
      "774:\tlearn: 0.0026533\ttest: 0.0034021\tbest: 0.0034021 (313)\ttotal: 2.48s\tremaining: 722ms\n",
      "775:\tlearn: 0.0026533\ttest: 0.0034021\tbest: 0.0034021 (313)\ttotal: 2.49s\tremaining: 718ms\n",
      "776:\tlearn: 0.0026533\ttest: 0.0034021\tbest: 0.0034021 (313)\ttotal: 2.49s\tremaining: 716ms\n",
      "777:\tlearn: 0.0026533\ttest: 0.0034021\tbest: 0.0034021 (313)\ttotal: 2.5s\tremaining: 712ms\n",
      "778:\tlearn: 0.0026533\ttest: 0.0034021\tbest: 0.0034021 (313)\ttotal: 2.5s\tremaining: 709ms\n",
      "779:\tlearn: 0.0026533\ttest: 0.0034021\tbest: 0.0034021 (313)\ttotal: 2.5s\tremaining: 705ms\n",
      "780:\tlearn: 0.0026533\ttest: 0.0034021\tbest: 0.0034021 (313)\ttotal: 2.5s\tremaining: 702ms\n",
      "781:\tlearn: 0.0026533\ttest: 0.0034021\tbest: 0.0034021 (313)\ttotal: 2.51s\tremaining: 699ms\n",
      "782:\tlearn: 0.0026533\ttest: 0.0034021\tbest: 0.0034021 (313)\ttotal: 2.51s\tremaining: 696ms\n",
      "783:\tlearn: 0.0026533\ttest: 0.0034021\tbest: 0.0034021 (313)\ttotal: 2.51s\tremaining: 693ms\n",
      "784:\tlearn: 0.0026533\ttest: 0.0034021\tbest: 0.0034021 (313)\ttotal: 2.52s\tremaining: 689ms\n",
      "785:\tlearn: 0.0026533\ttest: 0.0034021\tbest: 0.0034021 (313)\ttotal: 2.52s\tremaining: 687ms\n",
      "786:\tlearn: 0.0026533\ttest: 0.0034021\tbest: 0.0034021 (313)\ttotal: 2.53s\tremaining: 684ms\n",
      "787:\tlearn: 0.0026533\ttest: 0.0034021\tbest: 0.0034021 (313)\ttotal: 2.53s\tremaining: 681ms\n",
      "788:\tlearn: 0.0026533\ttest: 0.0034021\tbest: 0.0034021 (313)\ttotal: 2.65s\tremaining: 708ms\n",
      "789:\tlearn: 0.0026533\ttest: 0.0034021\tbest: 0.0034021 (313)\ttotal: 2.65s\tremaining: 704ms\n",
      "790:\tlearn: 0.0026533\ttest: 0.0034021\tbest: 0.0034021 (313)\ttotal: 2.65s\tremaining: 701ms\n",
      "791:\tlearn: 0.0026533\ttest: 0.0034021\tbest: 0.0034021 (313)\ttotal: 2.65s\tremaining: 697ms\n",
      "792:\tlearn: 0.0026533\ttest: 0.0034021\tbest: 0.0034021 (313)\ttotal: 2.66s\tremaining: 694ms\n",
      "793:\tlearn: 0.0026533\ttest: 0.0034021\tbest: 0.0034021 (313)\ttotal: 2.66s\tremaining: 690ms\n",
      "794:\tlearn: 0.0026533\ttest: 0.0034021\tbest: 0.0034021 (313)\ttotal: 2.66s\tremaining: 687ms\n",
      "795:\tlearn: 0.0026533\ttest: 0.0034021\tbest: 0.0034021 (313)\ttotal: 2.67s\tremaining: 683ms\n",
      "796:\tlearn: 0.0026533\ttest: 0.0034021\tbest: 0.0034021 (313)\ttotal: 2.67s\tremaining: 680ms\n",
      "797:\tlearn: 0.0026533\ttest: 0.0034021\tbest: 0.0034021 (313)\ttotal: 2.67s\tremaining: 676ms\n",
      "798:\tlearn: 0.0026533\ttest: 0.0034021\tbest: 0.0034021 (313)\ttotal: 2.67s\tremaining: 672ms\n",
      "799:\tlearn: 0.0026533\ttest: 0.0034021\tbest: 0.0034021 (313)\ttotal: 2.68s\tremaining: 669ms\n",
      "800:\tlearn: 0.0026533\ttest: 0.0034021\tbest: 0.0034021 (313)\ttotal: 2.68s\tremaining: 666ms\n",
      "801:\tlearn: 0.0026533\ttest: 0.0034021\tbest: 0.0034021 (313)\ttotal: 2.68s\tremaining: 663ms\n",
      "802:\tlearn: 0.0026533\ttest: 0.0034021\tbest: 0.0034021 (313)\ttotal: 2.69s\tremaining: 660ms\n",
      "803:\tlearn: 0.0026533\ttest: 0.0034021\tbest: 0.0034021 (313)\ttotal: 2.69s\tremaining: 657ms\n",
      "804:\tlearn: 0.0026533\ttest: 0.0034021\tbest: 0.0034021 (313)\ttotal: 2.7s\tremaining: 653ms\n",
      "805:\tlearn: 0.0026533\ttest: 0.0034021\tbest: 0.0034021 (313)\ttotal: 2.7s\tremaining: 650ms\n",
      "806:\tlearn: 0.0026533\ttest: 0.0034021\tbest: 0.0034021 (313)\ttotal: 2.71s\tremaining: 647ms\n",
      "807:\tlearn: 0.0026533\ttest: 0.0034021\tbest: 0.0034021 (313)\ttotal: 2.71s\tremaining: 644ms\n",
      "808:\tlearn: 0.0026533\ttest: 0.0034021\tbest: 0.0034021 (313)\ttotal: 2.71s\tremaining: 640ms\n",
      "809:\tlearn: 0.0026533\ttest: 0.0034021\tbest: 0.0034021 (313)\ttotal: 2.72s\tremaining: 637ms\n",
      "810:\tlearn: 0.0026533\ttest: 0.0034021\tbest: 0.0034021 (313)\ttotal: 2.72s\tremaining: 634ms\n",
      "811:\tlearn: 0.0026533\ttest: 0.0034021\tbest: 0.0034021 (313)\ttotal: 2.72s\tremaining: 630ms\n",
      "812:\tlearn: 0.0026533\ttest: 0.0034021\tbest: 0.0034021 (313)\ttotal: 2.72s\tremaining: 626ms\n",
      "813:\tlearn: 0.0026533\ttest: 0.0034021\tbest: 0.0034021 (313)\ttotal: 2.73s\tremaining: 623ms\n",
      "814:\tlearn: 0.0026533\ttest: 0.0034021\tbest: 0.0034021 (313)\ttotal: 2.73s\tremaining: 620ms\n",
      "815:\tlearn: 0.0026533\ttest: 0.0034021\tbest: 0.0034021 (313)\ttotal: 2.73s\tremaining: 616ms\n",
      "816:\tlearn: 0.0026533\ttest: 0.0034021\tbest: 0.0034021 (313)\ttotal: 2.73s\tremaining: 613ms\n",
      "817:\tlearn: 0.0026533\ttest: 0.0034021\tbest: 0.0034021 (313)\ttotal: 2.74s\tremaining: 609ms\n",
      "818:\tlearn: 0.0026533\ttest: 0.0034021\tbest: 0.0034021 (313)\ttotal: 2.74s\tremaining: 605ms\n",
      "819:\tlearn: 0.0026533\ttest: 0.0034021\tbest: 0.0034021 (313)\ttotal: 2.74s\tremaining: 602ms\n",
      "820:\tlearn: 0.0026533\ttest: 0.0034021\tbest: 0.0034021 (313)\ttotal: 2.74s\tremaining: 598ms\n",
      "821:\tlearn: 0.0026533\ttest: 0.0034021\tbest: 0.0034021 (313)\ttotal: 2.75s\tremaining: 595ms\n",
      "822:\tlearn: 0.0026533\ttest: 0.0034021\tbest: 0.0034021 (313)\ttotal: 2.75s\tremaining: 591ms\n",
      "823:\tlearn: 0.0026533\ttest: 0.0034021\tbest: 0.0034021 (313)\ttotal: 2.75s\tremaining: 587ms\n",
      "824:\tlearn: 0.0026533\ttest: 0.0034021\tbest: 0.0034021 (313)\ttotal: 2.75s\tremaining: 583ms\n",
      "825:\tlearn: 0.0026533\ttest: 0.0034021\tbest: 0.0034021 (313)\ttotal: 2.75s\tremaining: 580ms\n",
      "826:\tlearn: 0.0026533\ttest: 0.0034021\tbest: 0.0034021 (313)\ttotal: 2.75s\tremaining: 576ms\n",
      "827:\tlearn: 0.0026533\ttest: 0.0034021\tbest: 0.0034021 (313)\ttotal: 2.75s\tremaining: 572ms\n",
      "828:\tlearn: 0.0026533\ttest: 0.0034021\tbest: 0.0034021 (313)\ttotal: 2.75s\tremaining: 568ms\n",
      "829:\tlearn: 0.0026533\ttest: 0.0034021\tbest: 0.0034021 (313)\ttotal: 2.76s\tremaining: 565ms\n",
      "830:\tlearn: 0.0026533\ttest: 0.0034021\tbest: 0.0034021 (313)\ttotal: 2.76s\tremaining: 561ms\n",
      "831:\tlearn: 0.0026533\ttest: 0.0034021\tbest: 0.0034021 (313)\ttotal: 2.76s\tremaining: 558ms\n",
      "832:\tlearn: 0.0026533\ttest: 0.0034021\tbest: 0.0034021 (313)\ttotal: 2.76s\tremaining: 554ms\n",
      "833:\tlearn: 0.0026533\ttest: 0.0034021\tbest: 0.0034021 (313)\ttotal: 2.77s\tremaining: 550ms\n",
      "834:\tlearn: 0.0026533\ttest: 0.0034021\tbest: 0.0034021 (313)\ttotal: 2.77s\tremaining: 547ms\n",
      "835:\tlearn: 0.0026533\ttest: 0.0034021\tbest: 0.0034021 (313)\ttotal: 2.77s\tremaining: 544ms\n",
      "836:\tlearn: 0.0026533\ttest: 0.0034021\tbest: 0.0034021 (313)\ttotal: 2.77s\tremaining: 541ms\n",
      "837:\tlearn: 0.0026533\ttest: 0.0034021\tbest: 0.0034021 (313)\ttotal: 2.78s\tremaining: 537ms\n",
      "838:\tlearn: 0.0026533\ttest: 0.0034021\tbest: 0.0034021 (313)\ttotal: 2.78s\tremaining: 533ms\n",
      "839:\tlearn: 0.0026533\ttest: 0.0034021\tbest: 0.0034021 (313)\ttotal: 2.78s\tremaining: 530ms\n",
      "840:\tlearn: 0.0026533\ttest: 0.0034021\tbest: 0.0034021 (313)\ttotal: 2.79s\tremaining: 527ms\n",
      "841:\tlearn: 0.0026533\ttest: 0.0034021\tbest: 0.0034021 (313)\ttotal: 2.79s\tremaining: 523ms\n",
      "842:\tlearn: 0.0026533\ttest: 0.0034021\tbest: 0.0034021 (313)\ttotal: 2.79s\tremaining: 520ms\n",
      "843:\tlearn: 0.0026533\ttest: 0.0034021\tbest: 0.0034021 (313)\ttotal: 2.79s\tremaining: 517ms\n",
      "844:\tlearn: 0.0026533\ttest: 0.0034021\tbest: 0.0034021 (313)\ttotal: 2.8s\tremaining: 514ms\n",
      "845:\tlearn: 0.0026533\ttest: 0.0034021\tbest: 0.0034021 (313)\ttotal: 2.8s\tremaining: 510ms\n"
     ]
    },
    {
     "name": "stdout",
     "output_type": "stream",
     "text": [
      "846:\tlearn: 0.0026533\ttest: 0.0034021\tbest: 0.0034021 (313)\ttotal: 2.81s\tremaining: 507ms\n",
      "847:\tlearn: 0.0026533\ttest: 0.0034021\tbest: 0.0034021 (313)\ttotal: 2.81s\tremaining: 504ms\n",
      "848:\tlearn: 0.0026533\ttest: 0.0034021\tbest: 0.0034021 (313)\ttotal: 2.81s\tremaining: 500ms\n",
      "849:\tlearn: 0.0026533\ttest: 0.0034021\tbest: 0.0034021 (313)\ttotal: 2.81s\tremaining: 497ms\n",
      "850:\tlearn: 0.0026533\ttest: 0.0034021\tbest: 0.0034021 (313)\ttotal: 2.82s\tremaining: 493ms\n",
      "851:\tlearn: 0.0026533\ttest: 0.0034021\tbest: 0.0034021 (313)\ttotal: 2.82s\tremaining: 490ms\n",
      "852:\tlearn: 0.0026533\ttest: 0.0034021\tbest: 0.0034021 (313)\ttotal: 2.82s\tremaining: 486ms\n",
      "853:\tlearn: 0.0026533\ttest: 0.0034021\tbest: 0.0034021 (313)\ttotal: 2.82s\tremaining: 483ms\n",
      "854:\tlearn: 0.0026533\ttest: 0.0034021\tbest: 0.0034021 (313)\ttotal: 2.83s\tremaining: 479ms\n",
      "855:\tlearn: 0.0026533\ttest: 0.0034021\tbest: 0.0034021 (313)\ttotal: 2.83s\tremaining: 476ms\n",
      "856:\tlearn: 0.0026533\ttest: 0.0034021\tbest: 0.0034021 (313)\ttotal: 2.83s\tremaining: 472ms\n",
      "857:\tlearn: 0.0026533\ttest: 0.0034021\tbest: 0.0034021 (313)\ttotal: 2.83s\tremaining: 469ms\n",
      "858:\tlearn: 0.0026533\ttest: 0.0034021\tbest: 0.0034021 (313)\ttotal: 2.84s\tremaining: 466ms\n",
      "859:\tlearn: 0.0026533\ttest: 0.0034021\tbest: 0.0034021 (313)\ttotal: 2.84s\tremaining: 462ms\n",
      "860:\tlearn: 0.0026533\ttest: 0.0034021\tbest: 0.0034021 (313)\ttotal: 2.84s\tremaining: 458ms\n",
      "861:\tlearn: 0.0026533\ttest: 0.0034021\tbest: 0.0034021 (313)\ttotal: 2.84s\tremaining: 455ms\n",
      "862:\tlearn: 0.0026533\ttest: 0.0034021\tbest: 0.0034021 (313)\ttotal: 2.84s\tremaining: 451ms\n",
      "863:\tlearn: 0.0026533\ttest: 0.0034021\tbest: 0.0034021 (313)\ttotal: 2.85s\tremaining: 448ms\n",
      "864:\tlearn: 0.0026533\ttest: 0.0034021\tbest: 0.0034021 (313)\ttotal: 2.85s\tremaining: 445ms\n",
      "865:\tlearn: 0.0026533\ttest: 0.0034021\tbest: 0.0034021 (313)\ttotal: 2.85s\tremaining: 441ms\n",
      "866:\tlearn: 0.0026533\ttest: 0.0034021\tbest: 0.0034021 (313)\ttotal: 2.85s\tremaining: 438ms\n",
      "867:\tlearn: 0.0026533\ttest: 0.0034021\tbest: 0.0034021 (313)\ttotal: 2.86s\tremaining: 434ms\n",
      "868:\tlearn: 0.0026533\ttest: 0.0034021\tbest: 0.0034021 (313)\ttotal: 2.86s\tremaining: 431ms\n",
      "869:\tlearn: 0.0026533\ttest: 0.0034021\tbest: 0.0034021 (313)\ttotal: 2.86s\tremaining: 428ms\n",
      "870:\tlearn: 0.0026533\ttest: 0.0034021\tbest: 0.0034021 (313)\ttotal: 2.87s\tremaining: 424ms\n",
      "871:\tlearn: 0.0026533\ttest: 0.0034021\tbest: 0.0034021 (313)\ttotal: 2.87s\tremaining: 421ms\n",
      "872:\tlearn: 0.0026533\ttest: 0.0034021\tbest: 0.0034021 (313)\ttotal: 2.87s\tremaining: 417ms\n",
      "873:\tlearn: 0.0026533\ttest: 0.0034021\tbest: 0.0034021 (313)\ttotal: 2.87s\tremaining: 414ms\n",
      "874:\tlearn: 0.0026533\ttest: 0.0034021\tbest: 0.0034021 (313)\ttotal: 2.88s\tremaining: 411ms\n",
      "875:\tlearn: 0.0026533\ttest: 0.0034021\tbest: 0.0034021 (313)\ttotal: 2.88s\tremaining: 407ms\n",
      "876:\tlearn: 0.0026533\ttest: 0.0034021\tbest: 0.0034021 (313)\ttotal: 2.88s\tremaining: 404ms\n",
      "877:\tlearn: 0.0026533\ttest: 0.0034021\tbest: 0.0034021 (313)\ttotal: 2.88s\tremaining: 400ms\n",
      "878:\tlearn: 0.0026533\ttest: 0.0034021\tbest: 0.0034021 (313)\ttotal: 2.88s\tremaining: 397ms\n",
      "879:\tlearn: 0.0026533\ttest: 0.0034021\tbest: 0.0034021 (313)\ttotal: 2.88s\tremaining: 393ms\n",
      "880:\tlearn: 0.0026533\ttest: 0.0034021\tbest: 0.0034021 (313)\ttotal: 2.88s\tremaining: 390ms\n",
      "881:\tlearn: 0.0026533\ttest: 0.0034021\tbest: 0.0034021 (313)\ttotal: 2.89s\tremaining: 387ms\n",
      "882:\tlearn: 0.0026533\ttest: 0.0034021\tbest: 0.0034021 (313)\ttotal: 2.89s\tremaining: 383ms\n",
      "883:\tlearn: 0.0026533\ttest: 0.0034021\tbest: 0.0034021 (313)\ttotal: 2.89s\tremaining: 380ms\n",
      "884:\tlearn: 0.0026533\ttest: 0.0034021\tbest: 0.0034021 (313)\ttotal: 2.9s\tremaining: 376ms\n",
      "885:\tlearn: 0.0026533\ttest: 0.0034021\tbest: 0.0034021 (313)\ttotal: 2.9s\tremaining: 373ms\n",
      "886:\tlearn: 0.0026533\ttest: 0.0034021\tbest: 0.0034021 (313)\ttotal: 2.9s\tremaining: 370ms\n",
      "887:\tlearn: 0.0026533\ttest: 0.0034021\tbest: 0.0034021 (313)\ttotal: 2.9s\tremaining: 366ms\n",
      "888:\tlearn: 0.0026533\ttest: 0.0034021\tbest: 0.0034021 (313)\ttotal: 2.91s\tremaining: 363ms\n",
      "889:\tlearn: 0.0026533\ttest: 0.0034021\tbest: 0.0034021 (313)\ttotal: 2.91s\tremaining: 359ms\n",
      "890:\tlearn: 0.0026533\ttest: 0.0034021\tbest: 0.0034021 (313)\ttotal: 2.91s\tremaining: 356ms\n",
      "891:\tlearn: 0.0026533\ttest: 0.0034021\tbest: 0.0034021 (313)\ttotal: 2.91s\tremaining: 353ms\n",
      "892:\tlearn: 0.0026533\ttest: 0.0034021\tbest: 0.0034021 (313)\ttotal: 2.91s\tremaining: 349ms\n",
      "893:\tlearn: 0.0026533\ttest: 0.0034021\tbest: 0.0034021 (313)\ttotal: 2.92s\tremaining: 346ms\n",
      "894:\tlearn: 0.0026533\ttest: 0.0034021\tbest: 0.0034021 (313)\ttotal: 2.92s\tremaining: 343ms\n",
      "895:\tlearn: 0.0026533\ttest: 0.0034021\tbest: 0.0034021 (313)\ttotal: 2.92s\tremaining: 339ms\n",
      "896:\tlearn: 0.0026533\ttest: 0.0034021\tbest: 0.0034021 (313)\ttotal: 2.93s\tremaining: 336ms\n",
      "897:\tlearn: 0.0026533\ttest: 0.0034021\tbest: 0.0034021 (313)\ttotal: 2.93s\tremaining: 333ms\n",
      "898:\tlearn: 0.0026533\ttest: 0.0034021\tbest: 0.0034021 (313)\ttotal: 2.93s\tremaining: 329ms\n",
      "899:\tlearn: 0.0026533\ttest: 0.0034021\tbest: 0.0034021 (313)\ttotal: 2.94s\tremaining: 326ms\n",
      "900:\tlearn: 0.0026533\ttest: 0.0034021\tbest: 0.0034021 (313)\ttotal: 2.94s\tremaining: 323ms\n",
      "901:\tlearn: 0.0026533\ttest: 0.0034021\tbest: 0.0034021 (313)\ttotal: 2.94s\tremaining: 320ms\n",
      "902:\tlearn: 0.0026533\ttest: 0.0034021\tbest: 0.0034021 (313)\ttotal: 2.95s\tremaining: 317ms\n",
      "903:\tlearn: 0.0026533\ttest: 0.0034021\tbest: 0.0034021 (313)\ttotal: 2.95s\tremaining: 313ms\n",
      "904:\tlearn: 0.0026533\ttest: 0.0034021\tbest: 0.0034021 (313)\ttotal: 2.95s\tremaining: 310ms\n",
      "905:\tlearn: 0.0026533\ttest: 0.0034021\tbest: 0.0034021 (313)\ttotal: 2.96s\tremaining: 307ms\n",
      "906:\tlearn: 0.0026533\ttest: 0.0034021\tbest: 0.0034021 (313)\ttotal: 2.96s\tremaining: 303ms\n",
      "907:\tlearn: 0.0026533\ttest: 0.0034021\tbest: 0.0034021 (313)\ttotal: 2.96s\tremaining: 300ms\n",
      "908:\tlearn: 0.0026533\ttest: 0.0034021\tbest: 0.0034021 (313)\ttotal: 2.96s\tremaining: 297ms\n",
      "909:\tlearn: 0.0026533\ttest: 0.0034021\tbest: 0.0034021 (313)\ttotal: 2.96s\tremaining: 293ms\n",
      "910:\tlearn: 0.0026533\ttest: 0.0034021\tbest: 0.0034021 (313)\ttotal: 2.96s\tremaining: 290ms\n",
      "911:\tlearn: 0.0026533\ttest: 0.0034021\tbest: 0.0034021 (313)\ttotal: 2.97s\tremaining: 286ms\n",
      "912:\tlearn: 0.0026533\ttest: 0.0034021\tbest: 0.0034021 (313)\ttotal: 2.97s\tremaining: 283ms\n",
      "913:\tlearn: 0.0026533\ttest: 0.0034021\tbest: 0.0034021 (313)\ttotal: 2.97s\tremaining: 280ms\n",
      "914:\tlearn: 0.0026533\ttest: 0.0034021\tbest: 0.0034021 (313)\ttotal: 2.98s\tremaining: 276ms\n",
      "915:\tlearn: 0.0026533\ttest: 0.0034021\tbest: 0.0034021 (313)\ttotal: 2.98s\tremaining: 273ms\n",
      "916:\tlearn: 0.0026533\ttest: 0.0034021\tbest: 0.0034021 (313)\ttotal: 2.98s\tremaining: 270ms\n",
      "917:\tlearn: 0.0026533\ttest: 0.0034021\tbest: 0.0034021 (313)\ttotal: 2.98s\tremaining: 266ms\n",
      "918:\tlearn: 0.0026533\ttest: 0.0034021\tbest: 0.0034021 (313)\ttotal: 2.98s\tremaining: 263ms\n",
      "919:\tlearn: 0.0026533\ttest: 0.0034021\tbest: 0.0034021 (313)\ttotal: 2.99s\tremaining: 260ms\n",
      "920:\tlearn: 0.0026533\ttest: 0.0034021\tbest: 0.0034021 (313)\ttotal: 2.99s\tremaining: 257ms\n",
      "921:\tlearn: 0.0026533\ttest: 0.0034021\tbest: 0.0034021 (313)\ttotal: 2.99s\tremaining: 253ms\n",
      "922:\tlearn: 0.0026533\ttest: 0.0034021\tbest: 0.0034021 (313)\ttotal: 3s\tremaining: 250ms\n",
      "923:\tlearn: 0.0026533\ttest: 0.0034021\tbest: 0.0034021 (313)\ttotal: 3s\tremaining: 247ms\n",
      "924:\tlearn: 0.0026533\ttest: 0.0034021\tbest: 0.0034021 (313)\ttotal: 3s\tremaining: 243ms\n",
      "925:\tlearn: 0.0026533\ttest: 0.0034021\tbest: 0.0034021 (313)\ttotal: 3s\tremaining: 240ms\n",
      "926:\tlearn: 0.0026533\ttest: 0.0034021\tbest: 0.0034021 (313)\ttotal: 3s\tremaining: 237ms\n",
      "927:\tlearn: 0.0026533\ttest: 0.0034021\tbest: 0.0034021 (313)\ttotal: 3.01s\tremaining: 233ms\n",
      "928:\tlearn: 0.0026533\ttest: 0.0034021\tbest: 0.0034021 (313)\ttotal: 3.01s\tremaining: 230ms\n",
      "929:\tlearn: 0.0026533\ttest: 0.0034021\tbest: 0.0034021 (313)\ttotal: 3.01s\tremaining: 227ms\n",
      "930:\tlearn: 0.0026533\ttest: 0.0034021\tbest: 0.0034021 (313)\ttotal: 3.01s\tremaining: 223ms\n",
      "931:\tlearn: 0.0026533\ttest: 0.0034021\tbest: 0.0034021 (313)\ttotal: 3.02s\tremaining: 220ms\n",
      "932:\tlearn: 0.0026533\ttest: 0.0034021\tbest: 0.0034021 (313)\ttotal: 3.02s\tremaining: 217ms\n",
      "933:\tlearn: 0.0026533\ttest: 0.0034021\tbest: 0.0034021 (313)\ttotal: 3.02s\tremaining: 214ms\n",
      "934:\tlearn: 0.0026533\ttest: 0.0034021\tbest: 0.0034021 (313)\ttotal: 3.02s\tremaining: 210ms\n",
      "935:\tlearn: 0.0026533\ttest: 0.0034021\tbest: 0.0034021 (313)\ttotal: 3.02s\tremaining: 207ms\n",
      "936:\tlearn: 0.0026533\ttest: 0.0034021\tbest: 0.0034021 (313)\ttotal: 3.03s\tremaining: 204ms\n",
      "937:\tlearn: 0.0026533\ttest: 0.0034021\tbest: 0.0034021 (313)\ttotal: 3.03s\tremaining: 200ms\n",
      "938:\tlearn: 0.0026533\ttest: 0.0034021\tbest: 0.0034021 (313)\ttotal: 3.03s\tremaining: 197ms\n",
      "939:\tlearn: 0.0026533\ttest: 0.0034021\tbest: 0.0034021 (313)\ttotal: 3.03s\tremaining: 194ms\n",
      "940:\tlearn: 0.0026533\ttest: 0.0034021\tbest: 0.0034021 (313)\ttotal: 3.03s\tremaining: 190ms\n",
      "941:\tlearn: 0.0026533\ttest: 0.0034021\tbest: 0.0034021 (313)\ttotal: 3.03s\tremaining: 187ms\n",
      "942:\tlearn: 0.0026533\ttest: 0.0034021\tbest: 0.0034021 (313)\ttotal: 3.04s\tremaining: 183ms\n",
      "943:\tlearn: 0.0026533\ttest: 0.0034021\tbest: 0.0034021 (313)\ttotal: 3.04s\tremaining: 180ms\n",
      "944:\tlearn: 0.0026533\ttest: 0.0034021\tbest: 0.0034021 (313)\ttotal: 3.04s\tremaining: 177ms\n",
      "945:\tlearn: 0.0026533\ttest: 0.0034021\tbest: 0.0034021 (313)\ttotal: 3.04s\tremaining: 174ms\n",
      "946:\tlearn: 0.0026533\ttest: 0.0034021\tbest: 0.0034021 (313)\ttotal: 3.04s\tremaining: 170ms\n",
      "947:\tlearn: 0.0026533\ttest: 0.0034021\tbest: 0.0034021 (313)\ttotal: 3.04s\tremaining: 167ms\n",
      "948:\tlearn: 0.0026533\ttest: 0.0034021\tbest: 0.0034021 (313)\ttotal: 3.04s\tremaining: 164ms\n",
      "949:\tlearn: 0.0026533\ttest: 0.0034021\tbest: 0.0034021 (313)\ttotal: 3.04s\tremaining: 160ms\n",
      "950:\tlearn: 0.0026533\ttest: 0.0034021\tbest: 0.0034021 (313)\ttotal: 3.05s\tremaining: 157ms\n",
      "951:\tlearn: 0.0026533\ttest: 0.0034021\tbest: 0.0034021 (313)\ttotal: 3.05s\tremaining: 154ms\n",
      "952:\tlearn: 0.0026533\ttest: 0.0034021\tbest: 0.0034021 (313)\ttotal: 3.05s\tremaining: 151ms\n",
      "953:\tlearn: 0.0026533\ttest: 0.0034021\tbest: 0.0034021 (313)\ttotal: 3.05s\tremaining: 147ms\n",
      "954:\tlearn: 0.0026533\ttest: 0.0034021\tbest: 0.0034021 (313)\ttotal: 3.06s\tremaining: 144ms\n",
      "955:\tlearn: 0.0026533\ttest: 0.0034021\tbest: 0.0034021 (313)\ttotal: 3.06s\tremaining: 141ms\n",
      "956:\tlearn: 0.0026533\ttest: 0.0034021\tbest: 0.0034021 (313)\ttotal: 3.06s\tremaining: 137ms\n",
      "957:\tlearn: 0.0026533\ttest: 0.0034021\tbest: 0.0034021 (313)\ttotal: 3.06s\tremaining: 134ms\n",
      "958:\tlearn: 0.0026533\ttest: 0.0034021\tbest: 0.0034021 (313)\ttotal: 3.06s\tremaining: 131ms\n",
      "959:\tlearn: 0.0026533\ttest: 0.0034021\tbest: 0.0034021 (313)\ttotal: 3.06s\tremaining: 128ms\n",
      "960:\tlearn: 0.0026533\ttest: 0.0034021\tbest: 0.0034021 (313)\ttotal: 3.06s\tremaining: 124ms\n",
      "961:\tlearn: 0.0026533\ttest: 0.0034021\tbest: 0.0034021 (313)\ttotal: 3.07s\tremaining: 121ms\n",
      "962:\tlearn: 0.0026533\ttest: 0.0034021\tbest: 0.0034021 (313)\ttotal: 3.07s\tremaining: 118ms\n",
      "963:\tlearn: 0.0026533\ttest: 0.0034021\tbest: 0.0034021 (313)\ttotal: 3.07s\tremaining: 115ms\n",
      "964:\tlearn: 0.0026533\ttest: 0.0034021\tbest: 0.0034021 (313)\ttotal: 3.07s\tremaining: 111ms\n",
      "965:\tlearn: 0.0026533\ttest: 0.0034021\tbest: 0.0034021 (313)\ttotal: 3.07s\tremaining: 108ms\n",
      "966:\tlearn: 0.0026533\ttest: 0.0034021\tbest: 0.0034021 (313)\ttotal: 3.07s\tremaining: 105ms\n",
      "967:\tlearn: 0.0026533\ttest: 0.0034021\tbest: 0.0034021 (313)\ttotal: 3.07s\tremaining: 102ms\n",
      "968:\tlearn: 0.0026533\ttest: 0.0034021\tbest: 0.0034021 (313)\ttotal: 3.08s\tremaining: 98.4ms\n",
      "969:\tlearn: 0.0026533\ttest: 0.0034021\tbest: 0.0034021 (313)\ttotal: 3.08s\tremaining: 95.2ms\n",
      "970:\tlearn: 0.0026533\ttest: 0.0034021\tbest: 0.0034021 (313)\ttotal: 3.08s\tremaining: 92ms\n",
      "971:\tlearn: 0.0026533\ttest: 0.0034021\tbest: 0.0034021 (313)\ttotal: 3.08s\tremaining: 88.8ms\n",
      "972:\tlearn: 0.0026533\ttest: 0.0034021\tbest: 0.0034021 (313)\ttotal: 3.08s\tremaining: 85.5ms\n",
      "973:\tlearn: 0.0026533\ttest: 0.0034021\tbest: 0.0034021 (313)\ttotal: 3.08s\tremaining: 82.3ms\n",
      "974:\tlearn: 0.0026533\ttest: 0.0034021\tbest: 0.0034021 (313)\ttotal: 3.08s\tremaining: 79.1ms\n",
      "975:\tlearn: 0.0026533\ttest: 0.0034021\tbest: 0.0034021 (313)\ttotal: 3.09s\tremaining: 75.9ms\n",
      "976:\tlearn: 0.0026533\ttest: 0.0034021\tbest: 0.0034021 (313)\ttotal: 3.09s\tremaining: 72.7ms\n",
      "977:\tlearn: 0.0026533\ttest: 0.0034021\tbest: 0.0034021 (313)\ttotal: 3.09s\tremaining: 69.5ms\n",
      "978:\tlearn: 0.0026533\ttest: 0.0034021\tbest: 0.0034021 (313)\ttotal: 3.09s\tremaining: 66.3ms\n",
      "979:\tlearn: 0.0026533\ttest: 0.0034021\tbest: 0.0034021 (313)\ttotal: 3.09s\tremaining: 63.1ms\n",
      "980:\tlearn: 0.0026533\ttest: 0.0034021\tbest: 0.0034021 (313)\ttotal: 3.09s\tremaining: 59.9ms\n",
      "981:\tlearn: 0.0026533\ttest: 0.0034021\tbest: 0.0034021 (313)\ttotal: 3.1s\tremaining: 56.8ms\n",
      "982:\tlearn: 0.0026533\ttest: 0.0034021\tbest: 0.0034021 (313)\ttotal: 3.1s\tremaining: 53.6ms\n",
      "983:\tlearn: 0.0026533\ttest: 0.0034021\tbest: 0.0034021 (313)\ttotal: 3.1s\tremaining: 50.4ms\n",
      "984:\tlearn: 0.0026533\ttest: 0.0034021\tbest: 0.0034021 (313)\ttotal: 3.1s\tremaining: 47.2ms\n",
      "985:\tlearn: 0.0026533\ttest: 0.0034021\tbest: 0.0034021 (313)\ttotal: 3.1s\tremaining: 44ms\n",
      "986:\tlearn: 0.0026533\ttest: 0.0034021\tbest: 0.0034021 (313)\ttotal: 3.1s\tremaining: 40.9ms\n",
      "987:\tlearn: 0.0026533\ttest: 0.0034021\tbest: 0.0034021 (313)\ttotal: 3.1s\tremaining: 37.7ms\n",
      "988:\tlearn: 0.0026533\ttest: 0.0034021\tbest: 0.0034021 (313)\ttotal: 3.1s\tremaining: 34.5ms\n",
      "989:\tlearn: 0.0026533\ttest: 0.0034021\tbest: 0.0034021 (313)\ttotal: 3.11s\tremaining: 31.4ms\n",
      "990:\tlearn: 0.0026533\ttest: 0.0034021\tbest: 0.0034021 (313)\ttotal: 3.11s\tremaining: 28.2ms\n",
      "991:\tlearn: 0.0026533\ttest: 0.0034021\tbest: 0.0034021 (313)\ttotal: 3.11s\tremaining: 25.1ms\n",
      "992:\tlearn: 0.0026533\ttest: 0.0034021\tbest: 0.0034021 (313)\ttotal: 3.11s\tremaining: 21.9ms\n",
      "993:\tlearn: 0.0026533\ttest: 0.0034021\tbest: 0.0034021 (313)\ttotal: 3.11s\tremaining: 18.8ms\n",
      "994:\tlearn: 0.0026533\ttest: 0.0034021\tbest: 0.0034021 (313)\ttotal: 3.11s\tremaining: 15.7ms\n",
      "995:\tlearn: 0.0026533\ttest: 0.0034021\tbest: 0.0034021 (313)\ttotal: 3.12s\tremaining: 12.5ms\n",
      "996:\tlearn: 0.0026533\ttest: 0.0034021\tbest: 0.0034021 (313)\ttotal: 3.12s\tremaining: 9.38ms\n",
      "997:\tlearn: 0.0026533\ttest: 0.0034021\tbest: 0.0034021 (313)\ttotal: 3.12s\tremaining: 6.25ms\n",
      "998:\tlearn: 0.0026533\ttest: 0.0034021\tbest: 0.0034021 (313)\ttotal: 3.12s\tremaining: 3.12ms\n",
      "999:\tlearn: 0.0026533\ttest: 0.0034021\tbest: 0.0034021 (313)\ttotal: 3.12s\tremaining: 0us\n",
      "\n",
      "bestTest = 0.003402102644\n",
      "bestIteration = 313\n",
      "\n",
      "Shrink model to first 314 iterations.\n"
     ]
    },
    {
     "data": {
      "text/plain": [
       "0.9995384615384615"
      ]
     },
     "execution_count": 216,
     "metadata": {},
     "output_type": "execute_result"
    }
   ],
   "source": [
    "from catboost import CatBoostClassifier\n",
    "model = CatBoostClassifier()\n",
    "categorical_features_indices = np.where(df.dtypes != np.float)[0]\n",
    "model.fit(X_train, y_train, cat_features=([ 0,  1, 2, 3, 4, 10]), eval_set=(X_test, y_test))\n",
    "model.score(X_test, y_test)"
   ]
  },
  {
   "cell_type": "code",
   "execution_count": null,
   "metadata": {},
   "outputs": [],
   "source": []
  }
 ],
 "metadata": {
  "kernelspec": {
   "display_name": "Python 3 (ipykernel)",
   "language": "python",
   "name": "python3"
  },
  "language_info": {
   "codemirror_mode": {
    "name": "ipython",
    "version": 3
   },
   "file_extension": ".py",
   "mimetype": "text/x-python",
   "name": "python",
   "nbconvert_exporter": "python",
   "pygments_lexer": "ipython3",
   "version": "3.9.7"
  }
 },
 "nbformat": 4,
 "nbformat_minor": 4
}
